{
  "nbformat": 4,
  "nbformat_minor": 0,
  "metadata": {
    "colab": {
      "name": "MIT Movie - 3d - ELMO BiLSTM.ipynb",
      "provenance": [],
      "collapsed_sections": [],
      "toc_visible": true
    },
    "kernelspec": {
      "name": "python3",
      "display_name": "Python 3"
    },
    "accelerator": "GPU"
  },
  "cells": [
    {
      "cell_type": "markdown",
      "metadata": {
        "id": "sKnP8vgFATXa"
      },
      "source": [
        "# MIT Movie Dataset - ELMO Models"
      ]
    },
    {
      "cell_type": "markdown",
      "metadata": {
        "id": "AS10qkCNAZy4"
      },
      "source": [
        "This notebook contains the code to train the ELMO model on the MIT movie dataset. \n",
        "\n",
        "For a brief overview of ELMO please visit: https://www.analyticsvidhya.com/blog/2019/03/learn-to-use-elmo-to-extract-features-from-text/\n",
        "\n",
        "\n",
        "This model and the code to construct the model was based on the blog post: https://www.depends-on-the-definition.com/named-entity-recognition-with-residual-lstm-and-elmo/\n"
      ]
    },
    {
      "cell_type": "code",
      "metadata": {
        "id": "cbOScSTvT4Xv",
        "colab": {
          "base_uri": "https://localhost:8080/"
        },
        "outputId": "2d389cb3-3986-4398-e0ba-42d1ad5729b3"
      },
      "source": [
        "import pandas as pd\n",
        "import numpy as np\n",
        "\n",
        "# Run this cell to mount your Google Drive.\n",
        "from google.colab import drive\n",
        "drive.mount('/content/drive')"
      ],
      "execution_count": null,
      "outputs": [
        {
          "output_type": "stream",
          "text": [
            "Drive already mounted at /content/drive; to attempt to forcibly remount, call drive.mount(\"/content/drive\", force_remount=True).\n"
          ],
          "name": "stdout"
        }
      ]
    },
    {
      "cell_type": "code",
      "metadata": {
        "id": "TiLm9AsmT5p4",
        "colab": {
          "base_uri": "https://localhost:8080/",
          "height": 35
        },
        "outputId": "6f857aa2-9a0c-4281-c8dd-65b3d71f564b"
      },
      "source": [
        "import os\n",
        "\n",
        "os.chdir('/content/drive/My Drive/Colab Notebooks/DAAN888/data')\n",
        "#os.chdir('/content/drive/My Drive/DAAN888/data')\n",
        "os.getcwd()"
      ],
      "execution_count": null,
      "outputs": [
        {
          "output_type": "execute_result",
          "data": {
            "application/vnd.google.colaboratory.intrinsic+json": {
              "type": "string"
            },
            "text/plain": [
              "'/content/drive/My Drive/Colab Notebooks/DAAN888/data'"
            ]
          },
          "metadata": {
            "tags": []
          },
          "execution_count": 84
        }
      ]
    },
    {
      "cell_type": "code",
      "metadata": {
        "id": "Q1beqHJdL3fr"
      },
      "source": [
        "model_dir = '/content/drive/My Drive/Colab Notebooks/DAAN888/models/'\n",
        "data_dir = '/content/drive/My Drive/Colab Notebooks/DAAN888/data/'\n",
        "\n",
        "#model_dir = '/content/drive/My Drive/DAAN888/models/'\n",
        "#data_dir = '/content/drive/My Drive/DAAN888/data/'"
      ],
      "execution_count": null,
      "outputs": []
    },
    {
      "cell_type": "code",
      "metadata": {
        "id": "90fS--3dT_yf"
      },
      "source": [
        "#%tensorflow_version 1.14.0\n",
        "%tensorflow_version 1.x"
      ],
      "execution_count": null,
      "outputs": []
    },
    {
      "cell_type": "code",
      "metadata": {
        "id": "BiKsdIoasHHF",
        "colab": {
          "base_uri": "https://localhost:8080/"
        },
        "outputId": "8af3b439-1f8a-4477-9e2e-9d6000f151f7"
      },
      "source": [
        "import tensorflow as tf\n",
        "print(tf.__version__)\n",
        "print(tf.keras.__version__)"
      ],
      "execution_count": null,
      "outputs": [
        {
          "output_type": "stream",
          "text": [
            "1.15.2\n",
            "2.2.4-tf\n"
          ],
          "name": "stdout"
        }
      ]
    },
    {
      "cell_type": "markdown",
      "metadata": {
        "id": "Gk_fLg1UK9eG"
      },
      "source": [
        "### Load Data"
      ]
    },
    {
      "cell_type": "code",
      "metadata": {
        "id": "OZWo5BEDL6e3"
      },
      "source": [
        "import pickle \n",
        "\n",
        "with open('mitmovie.pickle', 'rb') as handle:\n",
        "    dataset = pickle.load(handle)"
      ],
      "execution_count": null,
      "outputs": []
    },
    {
      "cell_type": "code",
      "metadata": {
        "id": "B9E1XnTAL8rl",
        "colab": {
          "base_uri": "https://localhost:8080/"
        },
        "outputId": "99da118e-7e78-4752-c773-a6ce1586c38b"
      },
      "source": [
        "dataset.keys()"
      ],
      "execution_count": null,
      "outputs": [
        {
          "output_type": "execute_result",
          "data": {
            "text/plain": [
              "dict_keys(['train_tokens', 'train_labels', 'test_tokens', 'test_labels'])"
            ]
          },
          "metadata": {
            "tags": []
          },
          "execution_count": 89
        }
      ]
    },
    {
      "cell_type": "code",
      "metadata": {
        "id": "3PkraerUMOlV",
        "colab": {
          "base_uri": "https://localhost:8080/"
        },
        "outputId": "af401d0c-ca66-4613-fa5a-b26a3b2b8eee"
      },
      "source": [
        "dataset['train_tokens'][0]"
      ],
      "execution_count": null,
      "outputs": [
        {
          "output_type": "execute_result",
          "data": {
            "text/plain": [
              "['what', 'movies', 'star', 'bruce', 'willis']"
            ]
          },
          "metadata": {
            "tags": []
          },
          "execution_count": 90
        }
      ]
    },
    {
      "cell_type": "code",
      "metadata": {
        "id": "Ar3SUQQyL-8E",
        "colab": {
          "base_uri": "https://localhost:8080/"
        },
        "outputId": "cf02a3b2-d59d-4ba1-92b2-3c4ff004c628"
      },
      "source": [
        "# first row in train set\n",
        "list(zip(dataset['train_tokens'][0], dataset['train_labels'][0]))"
      ],
      "execution_count": null,
      "outputs": [
        {
          "output_type": "execute_result",
          "data": {
            "text/plain": [
              "[('what', 'O'),\n",
              " ('movies', 'O'),\n",
              " ('star', 'O'),\n",
              " ('bruce', 'B-ACTOR'),\n",
              " ('willis', 'I-ACTOR')]"
            ]
          },
          "metadata": {
            "tags": []
          },
          "execution_count": 91
        }
      ]
    },
    {
      "cell_type": "markdown",
      "metadata": {
        "id": "YEVSuheCM15T"
      },
      "source": [
        "### Pad Tokens"
      ]
    },
    {
      "cell_type": "code",
      "metadata": {
        "id": "ce9Y6Q3OM4Rl"
      },
      "source": [
        "# maximum number of tokens in a doc\n",
        "# The largest query in MIT Movie dataset has 47 words \n",
        "max_len = 50"
      ],
      "execution_count": null,
      "outputs": []
    },
    {
      "cell_type": "code",
      "metadata": {
        "id": "ZNirrE5PVRbf"
      },
      "source": [
        "new_X = []\n",
        "for seq in dataset['train_tokens']:\n",
        "    new_seq = []\n",
        "    for i in range(max_len):\n",
        "        try:\n",
        "            new_seq.append(seq[i])\n",
        "        except:\n",
        "            new_seq.append(\"__PAD__\")\n",
        "    new_X.append(new_seq)\n",
        "    \n",
        "x_train = np.array(new_X)"
      ],
      "execution_count": null,
      "outputs": []
    },
    {
      "cell_type": "code",
      "metadata": {
        "id": "5Hby6_HIveJ_"
      },
      "source": [
        "new_X = []\n",
        "for seq in dataset['test_tokens']:\n",
        "    new_seq = []\n",
        "    for i in range(max_len):\n",
        "        try:\n",
        "            new_seq.append(seq[i])\n",
        "        except:\n",
        "            new_seq.append(\"__PAD__\")\n",
        "    new_X.append(new_seq)\n",
        "    \n",
        "x_test = np.array(new_X)"
      ],
      "execution_count": null,
      "outputs": []
    },
    {
      "cell_type": "code",
      "metadata": {
        "id": "KInF6c__VU2a",
        "colab": {
          "base_uri": "https://localhost:8080/"
        },
        "outputId": "dd0b7bcf-99c7-4226-fbb3-c335621d3a8f"
      },
      "source": [
        "print(x_train[0])"
      ],
      "execution_count": null,
      "outputs": [
        {
          "output_type": "stream",
          "text": [
            "['what' 'movies' 'star' 'bruce' 'willis' '__PAD__' '__PAD__' '__PAD__'\n",
            " '__PAD__' '__PAD__' '__PAD__' '__PAD__' '__PAD__' '__PAD__' '__PAD__'\n",
            " '__PAD__' '__PAD__' '__PAD__' '__PAD__' '__PAD__' '__PAD__' '__PAD__'\n",
            " '__PAD__' '__PAD__' '__PAD__' '__PAD__' '__PAD__' '__PAD__' '__PAD__'\n",
            " '__PAD__' '__PAD__' '__PAD__' '__PAD__' '__PAD__' '__PAD__' '__PAD__'\n",
            " '__PAD__' '__PAD__' '__PAD__' '__PAD__' '__PAD__' '__PAD__' '__PAD__'\n",
            " '__PAD__' '__PAD__' '__PAD__' '__PAD__' '__PAD__' '__PAD__' '__PAD__']\n"
          ],
          "name": "stdout"
        }
      ]
    },
    {
      "cell_type": "code",
      "metadata": {
        "id": "YS3nv1KTvlr7",
        "colab": {
          "base_uri": "https://localhost:8080/"
        },
        "outputId": "bdfbcd08-b82d-42a9-bf3f-2379fc04306d"
      },
      "source": [
        "len(x_train), len(x_test)"
      ],
      "execution_count": null,
      "outputs": [
        {
          "output_type": "execute_result",
          "data": {
            "text/plain": [
              "(9775, 2443)"
            ]
          },
          "metadata": {
            "tags": []
          },
          "execution_count": 96
        }
      ]
    },
    {
      "cell_type": "markdown",
      "metadata": {
        "id": "ziTmuUAnLG2M"
      },
      "source": [
        "### Encode the Labels"
      ]
    },
    {
      "cell_type": "code",
      "metadata": {
        "id": "oJmA32BbMbip"
      },
      "source": [
        "labels_stretched = [label for doc in dataset['train_labels'] for label in doc]"
      ],
      "execution_count": null,
      "outputs": []
    },
    {
      "cell_type": "code",
      "metadata": {
        "id": "JOnRPDbxU-PN",
        "colab": {
          "base_uri": "https://localhost:8080/"
        },
        "outputId": "6ca4fb3a-5ee7-4bf2-e0de-d1ca71b9b5b7"
      },
      "source": [
        "# encoding is to get an integer for each tag\n",
        "tag2idx = {t: i for i, t in enumerate(np.unique(labels_stretched))}\n",
        "tag2idx"
      ],
      "execution_count": null,
      "outputs": [
        {
          "output_type": "execute_result",
          "data": {
            "text/plain": [
              "{'B-ACTOR': 0,\n",
              " 'B-CHARACTER': 1,\n",
              " 'B-DIRECTOR': 2,\n",
              " 'B-GENRE': 3,\n",
              " 'B-PLOT': 4,\n",
              " 'B-RATING': 5,\n",
              " 'B-RATINGS_AVERAGE': 6,\n",
              " 'B-REVIEW': 7,\n",
              " 'B-SONG': 8,\n",
              " 'B-TITLE': 9,\n",
              " 'B-TRAILER': 10,\n",
              " 'B-YEAR': 11,\n",
              " 'I-ACTOR': 12,\n",
              " 'I-CHARACTER': 13,\n",
              " 'I-DIRECTOR': 14,\n",
              " 'I-GENRE': 15,\n",
              " 'I-PLOT': 16,\n",
              " 'I-RATING': 17,\n",
              " 'I-RATINGS_AVERAGE': 18,\n",
              " 'I-REVIEW': 19,\n",
              " 'I-SONG': 20,\n",
              " 'I-TITLE': 21,\n",
              " 'I-TRAILER': 22,\n",
              " 'I-YEAR': 23,\n",
              " 'O': 24}"
            ]
          },
          "metadata": {
            "tags": []
          },
          "execution_count": 98
        }
      ]
    },
    {
      "cell_type": "code",
      "metadata": {
        "id": "kgmZN804-Gws"
      },
      "source": [
        "idx2tag = {i: t for t,i in tag2idx.items()}"
      ],
      "execution_count": null,
      "outputs": []
    },
    {
      "cell_type": "code",
      "metadata": {
        "id": "OKmCnKFVVY3M"
      },
      "source": [
        "y_train = [[tag2idx[t] for t in doc] for doc in dataset['train_labels']]\n",
        "y_test = [[tag2idx[t] for t in doc] for doc in dataset['test_labels']]"
      ],
      "execution_count": null,
      "outputs": []
    },
    {
      "cell_type": "code",
      "metadata": {
        "id": "7z2MiqnAOAjd",
        "colab": {
          "base_uri": "https://localhost:8080/"
        },
        "outputId": "82f90212-f7e1-409e-e722-9242e759576b"
      },
      "source": [
        "y_train[0]"
      ],
      "execution_count": null,
      "outputs": [
        {
          "output_type": "execute_result",
          "data": {
            "text/plain": [
              "[24, 24, 24, 0, 12]"
            ]
          },
          "metadata": {
            "tags": []
          },
          "execution_count": 101
        }
      ]
    },
    {
      "cell_type": "code",
      "metadata": {
        "id": "15nJT-UVVdEh"
      },
      "source": [
        "from keras.preprocessing.sequence import pad_sequences\n",
        "\n",
        "y_train = pad_sequences(maxlen=max_len, sequences=y_train, padding=\"post\", value=tag2idx[\"O\"])\n",
        "y_test = pad_sequences(maxlen=max_len, sequences=y_test, padding=\"post\", value=tag2idx[\"O\"])"
      ],
      "execution_count": null,
      "outputs": []
    },
    {
      "cell_type": "code",
      "metadata": {
        "id": "blN6rKo_wLqe",
        "colab": {
          "base_uri": "https://localhost:8080/"
        },
        "outputId": "8a097a3d-3307-4d13-f866-438b874c5835"
      },
      "source": [
        "y_train[0]"
      ],
      "execution_count": null,
      "outputs": [
        {
          "output_type": "execute_result",
          "data": {
            "text/plain": [
              "array([24, 24, 24,  0, 12, 24, 24, 24, 24, 24, 24, 24, 24, 24, 24, 24, 24,\n",
              "       24, 24, 24, 24, 24, 24, 24, 24, 24, 24, 24, 24, 24, 24, 24, 24, 24,\n",
              "       24, 24, 24, 24, 24, 24, 24, 24, 24, 24, 24, 24, 24, 24, 24, 24],\n",
              "      dtype=int32)"
            ]
          },
          "metadata": {
            "tags": []
          },
          "execution_count": 103
        }
      ]
    },
    {
      "cell_type": "code",
      "metadata": {
        "id": "N23r9SXTu4fB",
        "colab": {
          "base_uri": "https://localhost:8080/"
        },
        "outputId": "99f60e72-51e8-4cef-fc4d-9afb9c62df11"
      },
      "source": [
        "# resulting encoding of the labels\n",
        "y_train.shape, y_test.shape"
      ],
      "execution_count": null,
      "outputs": [
        {
          "output_type": "execute_result",
          "data": {
            "text/plain": [
              "((9775, 50), (2443, 50))"
            ]
          },
          "metadata": {
            "tags": []
          },
          "execution_count": 104
        }
      ]
    },
    {
      "cell_type": "code",
      "metadata": {
        "id": "IqfxDkmhfyqi",
        "colab": {
          "base_uri": "https://localhost:8080/"
        },
        "outputId": "185ddf18-f2e2-4d83-ae18-383325c165f9"
      },
      "source": [
        "# length comparison to original dataset\n",
        "len(dataset['train_labels']), len(dataset['test_labels'])"
      ],
      "execution_count": null,
      "outputs": [
        {
          "output_type": "execute_result",
          "data": {
            "text/plain": [
              "(9775, 2443)"
            ]
          },
          "metadata": {
            "tags": []
          },
          "execution_count": 105
        }
      ]
    },
    {
      "cell_type": "code",
      "metadata": {
        "id": "YfGIlcEVDJ3x"
      },
      "source": [
        "# reshape the targets\n",
        "\n",
        "y_train = y_train.reshape(y_train.shape[0], y_train.shape[1], 1)\n",
        "y_test = y_test.reshape(y_test.shape[0], y_test.shape[1], 1)"
      ],
      "execution_count": null,
      "outputs": []
    },
    {
      "cell_type": "code",
      "metadata": {
        "id": "2B-_uSX-C4Ma",
        "colab": {
          "base_uri": "https://localhost:8080/"
        },
        "outputId": "c53b5b54-282c-4749-b4fd-8fabaf29521a"
      },
      "source": [
        "y_train.shape, y_test.shape"
      ],
      "execution_count": null,
      "outputs": [
        {
          "output_type": "execute_result",
          "data": {
            "text/plain": [
              "((9775, 50, 1), (2443, 50, 1))"
            ]
          },
          "metadata": {
            "tags": []
          },
          "execution_count": 107
        }
      ]
    },
    {
      "cell_type": "markdown",
      "metadata": {
        "id": "qYlUIydNOr9K"
      },
      "source": [
        "## Baseline NN Model"
      ]
    },
    {
      "cell_type": "code",
      "metadata": {
        "id": "WzcnAP9zVzac"
      },
      "source": [
        "import tensorflow_hub as hub\n",
        "from keras import backend as K"
      ],
      "execution_count": null,
      "outputs": []
    },
    {
      "cell_type": "code",
      "metadata": {
        "id": "P2n6YcM9rJeI"
      },
      "source": [
        "K.clear_session()\n",
        "\n",
        "sess = tf.Session()\n",
        "K.set_session(sess)"
      ],
      "execution_count": null,
      "outputs": []
    },
    {
      "cell_type": "code",
      "metadata": {
        "id": "cb0klwSH2Yr2"
      },
      "source": [
        "batch_size = 32"
      ],
      "execution_count": null,
      "outputs": []
    },
    {
      "cell_type": "code",
      "metadata": {
        "id": "WItmRdmlhokr",
        "colab": {
          "base_uri": "https://localhost:8080/"
        },
        "outputId": "dc9ca954-7755-4c2a-cf86-617f3b861bae"
      },
      "source": [
        "# trim train set to be divisible by batch_size\n",
        "remainder = y_train.shape[0] % batch_size\n",
        "cutoff = y_train.shape[0] - remainder\n",
        "\n",
        "train_limit = cutoff - batch_size*10 # take 10 batches to validate on\n",
        "\n",
        "x_final_train = x_train[0:train_limit]\n",
        "y_final_train = y_train[0:train_limit]\n",
        "\n",
        "x_val = x_train[train_limit:cutoff]\n",
        "y_val = y_train[train_limit:cutoff]\n",
        "\n",
        "\n",
        "len(x_final_train), y_final_train.shape, len(x_val), y_val.shape"
      ],
      "execution_count": null,
      "outputs": [
        {
          "output_type": "execute_result",
          "data": {
            "text/plain": [
              "(9440, (9440, 50, 1), 320, (320, 50, 1))"
            ]
          },
          "metadata": {
            "tags": []
          },
          "execution_count": 29
        }
      ]
    },
    {
      "cell_type": "markdown",
      "metadata": {
        "id": "3OqaR5Sa1PG3"
      },
      "source": [
        "### Train the model"
      ]
    },
    {
      "cell_type": "code",
      "metadata": {
        "id": "OdVNRblcqrrV"
      },
      "source": [
        "# retrieve elmo word embeddings\n",
        "# https://tfhub.dev/google/elmo/3\n",
        "\n",
        "elmo_model = hub.Module(\"https://tfhub.dev/google/elmo/3\", trainable=True)\n",
        "sess.run(tf.global_variables_initializer())\n",
        "sess.run(tf.tables_initializer())"
      ],
      "execution_count": null,
      "outputs": []
    },
    {
      "cell_type": "code",
      "metadata": {
        "id": "taA8cK4mVICX"
      },
      "source": [
        "def ElmoEmbedding(x):\n",
        "    return elmo_model(inputs={\n",
        "                            \"tokens\": tf.squeeze(tf.cast(x, tf.string)), # passing the pretokenized words to the model\n",
        "                            \"sequence_len\": tf.constant(batch_size*[max_len])\n",
        "                      },\n",
        "                      signature=\"tokens\",\n",
        "                      as_dict=True)[\"elmo\"]"
      ],
      "execution_count": null,
      "outputs": []
    },
    {
      "cell_type": "code",
      "metadata": {
        "id": "8kVkq0R4VvS3"
      },
      "source": [
        "num_labels = len(tag2idx.keys())"
      ],
      "execution_count": null,
      "outputs": []
    },
    {
      "cell_type": "code",
      "metadata": {
        "id": "aUAzV7gzeDv4"
      },
      "source": [
        "model_name = 'mitmovie_elmo/elmo_NN_5epochs'"
      ],
      "execution_count": null,
      "outputs": []
    },
    {
      "cell_type": "code",
      "metadata": {
        "id": "EFqWjvyl1vS3"
      },
      "source": [
        "from keras.models import Model, Input\n",
        "from keras.layers.merge import add\n",
        "from keras.layers import Dropout, Embedding, Dense, Lambda\n",
        "import keras.layers as layers\n",
        "from keras.engine import Layer\n",
        "\n",
        "# Function to build model\n",
        "def build_model():\n",
        "\n",
        "  input_text = Input(shape=(max_len,), dtype=tf.string)\n",
        "\n",
        "  embedding = Lambda(ElmoEmbedding, output_shape=(None, 1024))(input_text)\n",
        "  dense = layers.Dense(256, activation='relu')(embedding)\n",
        "  drop = Dropout(rate = 0.35)(dense)\n",
        "  out = Dense(num_labels, activation=\"softmax\")(drop)\n",
        "  \n",
        "  model = Model(input_text, out)\n",
        "\n",
        "  model.compile(optimizer=\"adam\", \n",
        "              loss=\"sparse_categorical_crossentropy\", \n",
        "              metrics=[\"accuracy\"])\n",
        "  \n",
        "  model.summary() # print model summary\n",
        "\n",
        "  return model"
      ],
      "execution_count": null,
      "outputs": []
    },
    {
      "cell_type": "code",
      "metadata": {
        "id": "1RqBe1wB2e4P",
        "colab": {
          "base_uri": "https://localhost:8080/"
        },
        "outputId": "7f83e4d1-2ec1-49d6-f89c-09d1fda5094a"
      },
      "source": [
        "model = build_model()"
      ],
      "execution_count": null,
      "outputs": [
        {
          "output_type": "stream",
          "text": [
            "INFO:tensorflow:Saver not created because there are no variables in the graph to restore\n"
          ],
          "name": "stdout"
        },
        {
          "output_type": "stream",
          "text": [
            "INFO:tensorflow:Saver not created because there are no variables in the graph to restore\n"
          ],
          "name": "stderr"
        },
        {
          "output_type": "stream",
          "text": [
            "WARNING:tensorflow:From /tensorflow-1.15.2/python3.6/tensorflow_core/python/ops/resource_variable_ops.py:1630: calling BaseResourceVariable.__init__ (from tensorflow.python.ops.resource_variable_ops) with constraint is deprecated and will be removed in a future version.\n",
            "Instructions for updating:\n",
            "If using Keras pass *_constraint arguments to layers.\n"
          ],
          "name": "stdout"
        },
        {
          "output_type": "stream",
          "text": [
            "WARNING:tensorflow:From /tensorflow-1.15.2/python3.6/tensorflow_core/python/ops/resource_variable_ops.py:1630: calling BaseResourceVariable.__init__ (from tensorflow.python.ops.resource_variable_ops) with constraint is deprecated and will be removed in a future version.\n",
            "Instructions for updating:\n",
            "If using Keras pass *_constraint arguments to layers.\n"
          ],
          "name": "stderr"
        },
        {
          "output_type": "stream",
          "text": [
            "Model: \"model_1\"\n",
            "_________________________________________________________________\n",
            "Layer (type)                 Output Shape              Param #   \n",
            "=================================================================\n",
            "input_1 (InputLayer)         (None, 50)                0         \n",
            "_________________________________________________________________\n",
            "lambda_1 (Lambda)            (None, None, 1024)        0         \n",
            "_________________________________________________________________\n",
            "dense_1 (Dense)              (None, None, 256)         262400    \n",
            "_________________________________________________________________\n",
            "dropout_1 (Dropout)          (None, None, 256)         0         \n",
            "_________________________________________________________________\n",
            "dense_2 (Dense)              (None, None, 25)          6425      \n",
            "=================================================================\n",
            "Total params: 268,825\n",
            "Trainable params: 268,825\n",
            "Non-trainable params: 0\n",
            "_________________________________________________________________\n"
          ],
          "name": "stdout"
        }
      ]
    },
    {
      "cell_type": "code",
      "metadata": {
        "id": "ccmRdtyYu3ET",
        "colab": {
          "base_uri": "https://localhost:8080/"
        },
        "outputId": "51e04042-cdba-49df-8d15-eca635e34dbc"
      },
      "source": [
        "history = model.fit(x_final_train, y_final_train, \n",
        "                    validation_data = (x_val, y_val), \n",
        "                    batch_size = batch_size, \n",
        "                    epochs = 5)"
      ],
      "execution_count": null,
      "outputs": [
        {
          "output_type": "stream",
          "text": [
            "WARNING:tensorflow:From /tensorflow-1.15.2/python3.6/tensorflow_core/python/ops/math_grad.py:1424: where (from tensorflow.python.ops.array_ops) is deprecated and will be removed in a future version.\n",
            "Instructions for updating:\n",
            "Use tf.where in 2.0, which has the same broadcast rule as np.where\n"
          ],
          "name": "stdout"
        },
        {
          "output_type": "stream",
          "text": [
            "WARNING:tensorflow:From /tensorflow-1.15.2/python3.6/tensorflow_core/python/ops/math_grad.py:1424: where (from tensorflow.python.ops.array_ops) is deprecated and will be removed in a future version.\n",
            "Instructions for updating:\n",
            "Use tf.where in 2.0, which has the same broadcast rule as np.where\n"
          ],
          "name": "stderr"
        },
        {
          "output_type": "stream",
          "text": [
            "WARNING:tensorflow:From /tensorflow-1.15.2/python3.6/keras/backend/tensorflow_backend.py:422: The name tf.global_variables is deprecated. Please use tf.compat.v1.global_variables instead.\n",
            "\n"
          ],
          "name": "stdout"
        },
        {
          "output_type": "stream",
          "text": [
            "WARNING:tensorflow:From /tensorflow-1.15.2/python3.6/keras/backend/tensorflow_backend.py:422: The name tf.global_variables is deprecated. Please use tf.compat.v1.global_variables instead.\n",
            "\n"
          ],
          "name": "stderr"
        },
        {
          "output_type": "stream",
          "text": [
            "WARNING:tensorflow:From /tensorflow-1.15.2/python3.6/keras/backend/tensorflow_backend.py:431: The name tf.is_variable_initialized is deprecated. Please use tf.compat.v1.is_variable_initialized instead.\n",
            "\n"
          ],
          "name": "stdout"
        },
        {
          "output_type": "stream",
          "text": [
            "WARNING:tensorflow:From /tensorflow-1.15.2/python3.6/keras/backend/tensorflow_backend.py:431: The name tf.is_variable_initialized is deprecated. Please use tf.compat.v1.is_variable_initialized instead.\n",
            "\n"
          ],
          "name": "stderr"
        },
        {
          "output_type": "stream",
          "text": [
            "Train on 9440 samples, validate on 320 samples\n",
            "Epoch 1/5\n",
            "9440/9440 [==============================] - 69s 7ms/step - loss: 0.1565 - accuracy: 0.9602 - val_loss: 0.1194 - val_accuracy: 0.9653\n",
            "Epoch 2/5\n",
            "9440/9440 [==============================] - 63s 7ms/step - loss: 0.0800 - accuracy: 0.9778 - val_loss: 0.1032 - val_accuracy: 0.9708\n",
            "Epoch 3/5\n",
            "9440/9440 [==============================] - 62s 7ms/step - loss: 0.0685 - accuracy: 0.9809 - val_loss: 0.1025 - val_accuracy: 0.9725\n",
            "Epoch 4/5\n",
            "9440/9440 [==============================] - 63s 7ms/step - loss: 0.0625 - accuracy: 0.9825 - val_loss: 0.0993 - val_accuracy: 0.9731\n",
            "Epoch 5/5\n",
            "9440/9440 [==============================] - 63s 7ms/step - loss: 0.0571 - accuracy: 0.9837 - val_loss: 0.1001 - val_accuracy: 0.9740\n"
          ],
          "name": "stdout"
        }
      ]
    },
    {
      "cell_type": "code",
      "metadata": {
        "id": "XdoOPFi56Qgc"
      },
      "source": [
        "model.save_weights(model_dir + model_name + '.h5')"
      ],
      "execution_count": null,
      "outputs": []
    },
    {
      "cell_type": "code",
      "metadata": {
        "id": "dbrzLR-nNX_W",
        "colab": {
          "base_uri": "https://localhost:8080/"
        },
        "outputId": "3b3cbc88-b0ef-4c97-a9ab-13b1cc349647"
      },
      "source": [
        "print(history.history.keys())"
      ],
      "execution_count": null,
      "outputs": [
        {
          "output_type": "stream",
          "text": [
            "dict_keys(['val_loss', 'val_accuracy', 'loss', 'accuracy'])\n"
          ],
          "name": "stdout"
        }
      ]
    },
    {
      "cell_type": "code",
      "metadata": {
        "id": "TC0vd3QTvGdF",
        "colab": {
          "base_uri": "https://localhost:8080/",
          "height": 227
        },
        "outputId": "15025a4d-8fb3-4ec1-f0e0-7693ed9a1eba"
      },
      "source": [
        "# plot model fitting results\n",
        "import matplotlib.pyplot as plt\n",
        "#%matplotlib inline\n",
        "\n",
        "fig = plt.figure(figsize = (10,3))\n",
        "\n",
        "acc = history.history['accuracy']\n",
        "val_acc = history.history['val_accuracy']\n",
        "\n",
        "epochs = range(1, len(acc) + 1)\n",
        "\n",
        "plt.subplot(1,2,1)\n",
        "plt.plot(epochs, acc, 'bo', label='Training acc')\n",
        "plt.plot(epochs, val_acc, 'b', label='Validation acc')\n",
        "plt.xlabel('Epochs')\n",
        "plt.ylabel('Acc')\n",
        "plt.legend()\n",
        "\n",
        "plt.subplot(1,2,2)\n",
        "loss = history.history['loss']\n",
        "val_loss = history.history['val_loss']\n",
        "plt.plot(epochs, loss, 'ro', label='Training loss')\n",
        "plt.plot(epochs, val_loss, 'r', label='Validation loss')\n",
        "plt.xlabel('Epochs')\n",
        "plt.ylabel('Loss')\n",
        "plt.legend()\n",
        "\n",
        "plt.show()\n",
        "fig.savefig(model_dir + model_name + '.png', dpi=400, bbox_inches='tight')"
      ],
      "execution_count": null,
      "outputs": [
        {
          "output_type": "display_data",
          "data": {
            "image/png": "[encoded data removed]",
            "text/plain": [
              "<Figure size 720x216 with 2 Axes>"
            ]
          },
          "metadata": {
            "tags": [],
            "needs_background": "light"
          }
        }
      ]
    },
    {
      "cell_type": "markdown",
      "metadata": {
        "id": "Jtxgx8c6-PFC"
      },
      "source": [
        "### Evaluate the model"
      ]
    },
    {
      "cell_type": "code",
      "metadata": {
        "id": "iVMB84jMZPch",
        "colab": {
          "base_uri": "https://localhost:8080/"
        },
        "outputId": "0f047c9d-bb40-4656-98c2-e86d9fc01d73"
      },
      "source": [
        "print('Original test set shape:', x_test.shape)\n",
        "# how many rows we need extra so that model is divisible by 32\n",
        "additional_rows = batch_size - x_test.shape[0] % batch_size\n",
        "x_eval = np.append(x_test, x_test[0:additional_rows], axis=0)\n",
        "print('Eval test set shape:', x_eval.shape)"
      ],
      "execution_count": null,
      "outputs": [
        {
          "output_type": "stream",
          "text": [
            "Original test set shape: (2443, 50)\n",
            "Eval test set shape: (2464, 50)\n"
          ],
          "name": "stdout"
        }
      ]
    },
    {
      "cell_type": "code",
      "metadata": {
        "id": "fg7NhMljAs3-",
        "colab": {
          "base_uri": "https://localhost:8080/"
        },
        "outputId": "681c3b41-f4d2-425d-f3d7-b1e5b0f4afe1"
      },
      "source": [
        "model = build_model()\n",
        "\n",
        "# must initialize the model first, then load the weights\n",
        "model.load_weights(model_dir + model_name + '.h5')"
      ],
      "execution_count": null,
      "outputs": [
        {
          "output_type": "stream",
          "text": [
            "INFO:tensorflow:Saver not created because there are no variables in the graph to restore\n"
          ],
          "name": "stdout"
        },
        {
          "output_type": "stream",
          "text": [
            "INFO:tensorflow:Saver not created because there are no variables in the graph to restore\n"
          ],
          "name": "stderr"
        },
        {
          "output_type": "stream",
          "text": [
            "Model: \"model_2\"\n",
            "_________________________________________________________________\n",
            "Layer (type)                 Output Shape              Param #   \n",
            "=================================================================\n",
            "input_2 (InputLayer)         (None, 50)                0         \n",
            "_________________________________________________________________\n",
            "lambda_2 (Lambda)            (None, None, 1024)        0         \n",
            "_________________________________________________________________\n",
            "dense_3 (Dense)              (None, None, 256)         262400    \n",
            "_________________________________________________________________\n",
            "dropout_2 (Dropout)          (None, None, 256)         0         \n",
            "_________________________________________________________________\n",
            "dense_4 (Dense)              (None, None, 25)          6425      \n",
            "=================================================================\n",
            "Total params: 268,825\n",
            "Trainable params: 268,825\n",
            "Non-trainable params: 0\n",
            "_________________________________________________________________\n"
          ],
          "name": "stdout"
        }
      ]
    },
    {
      "cell_type": "code",
      "metadata": {
        "id": "XnpWIcJb_Da7",
        "colab": {
          "base_uri": "https://localhost:8080/"
        },
        "outputId": "d5fb02ee-93df-4256-a92a-4980d4a23e77"
      },
      "source": [
        "preds = model.predict(x_eval, batch_size=batch_size)\n",
        "preds.shape"
      ],
      "execution_count": null,
      "outputs": [
        {
          "output_type": "execute_result",
          "data": {
            "text/plain": [
              "(2464, 50, 25)"
            ]
          },
          "metadata": {
            "tags": []
          },
          "execution_count": 42
        }
      ]
    },
    {
      "cell_type": "code",
      "metadata": {
        "id": "yaOI8Z82_XaF"
      },
      "source": [
        "preds = np.argmax(preds, axis=-1)"
      ],
      "execution_count": null,
      "outputs": []
    },
    {
      "cell_type": "code",
      "metadata": {
        "id": "K2NjpXIV_wFp",
        "colab": {
          "base_uri": "https://localhost:8080/"
        },
        "outputId": "86a4274a-5a49-49be-a43f-c74641c334f2"
      },
      "source": [
        "print('Initial preds shape:', preds.shape)\n",
        "preds = preds[0:x_test.shape[0]]\n",
        "print('Trimmed to original preds shape:', preds.shape)"
      ],
      "execution_count": null,
      "outputs": [
        {
          "output_type": "stream",
          "text": [
            "Initial preds shape: (2464, 50)\n",
            "Trimmed to original preds shape: (2443, 50)\n"
          ],
          "name": "stdout"
        }
      ]
    },
    {
      "cell_type": "code",
      "metadata": {
        "id": "A2q3zdGQAGSD"
      },
      "source": [
        "# trim the length of docs back to the number of words to predict\n",
        "trim_preds = []\n",
        "for i, doc in enumerate(dataset['test_tokens']):\n",
        "  trim_preds.append(preds[i][0:len(doc)])  "
      ],
      "execution_count": null,
      "outputs": []
    },
    {
      "cell_type": "code",
      "metadata": {
        "id": "3cy-7hg8g1ns",
        "colab": {
          "base_uri": "https://localhost:8080/"
        },
        "outputId": "61245d24-1026-44bf-d8b6-0d9311ecf98d"
      },
      "source": [
        "[idx2tag[pred] for pred in trim_preds[0]]"
      ],
      "execution_count": null,
      "outputs": [
        {
          "output_type": "execute_result",
          "data": {
            "text/plain": [
              "['O', 'O', 'O', 'O', 'B-GENRE', 'I-GENRE', 'O', 'O', 'O']"
            ]
          },
          "metadata": {
            "tags": []
          },
          "execution_count": 46
        }
      ]
    },
    {
      "cell_type": "code",
      "metadata": {
        "id": "3yRnOmvfg7lw",
        "colab": {
          "base_uri": "https://localhost:8080/"
        },
        "outputId": "4b41e37e-e775-463b-a1e5-9986440bd17d"
      },
      "source": [
        "dataset['test_labels'][0]"
      ],
      "execution_count": null,
      "outputs": [
        {
          "output_type": "execute_result",
          "data": {
            "text/plain": [
              "['O', 'O', 'O', 'O', 'B-GENRE', 'I-GENRE', 'O', 'B-YEAR', 'I-YEAR']"
            ]
          },
          "metadata": {
            "tags": []
          },
          "execution_count": 47
        }
      ]
    },
    {
      "cell_type": "code",
      "metadata": {
        "id": "V0mOnKbPAUFn"
      },
      "source": [
        "preds_stretched = [idx2tag[label] for doc in trim_preds for label in doc]\n",
        "trues_stretched = [label for doc in dataset['test_labels'] for label in doc]"
      ],
      "execution_count": null,
      "outputs": []
    },
    {
      "cell_type": "code",
      "metadata": {
        "id": "qzqYVijlcB_N",
        "colab": {
          "base_uri": "https://localhost:8080/"
        },
        "outputId": "fe15a6ea-5ab0-4175-ea1c-0f7d79f72079"
      },
      "source": [
        "from sklearn.metrics import classification_report\n",
        "\n",
        "\n",
        "#f = open(model_dir + model_name  + '_class_report_test.txt', 'w') \n",
        "\n",
        "class_report = classification_report(trues_stretched, preds_stretched)\n",
        "#print(class_report, file=f ) \n",
        "\n",
        "#f.close() \n",
        "\n",
        "\n",
        "print(class_report)"
      ],
      "execution_count": null,
      "outputs": [
        {
          "output_type": "stream",
          "text": [
            "/usr/local/lib/python3.6/dist-packages/sklearn/metrics/_classification.py:1272: UndefinedMetricWarning: Precision and F-score are ill-defined and being set to 0.0 in labels with no predicted samples. Use `zero_division` parameter to control this behavior.\n",
            "  _warn_prf(average, modifier, msg_start, len(result))\n"
          ],
          "name": "stderr"
        },
        {
          "output_type": "stream",
          "text": [
            "                   precision    recall  f1-score   support\n",
            "\n",
            "          B-ACTOR       0.82      0.93      0.87       812\n",
            "      B-CHARACTER       0.74      0.26      0.38        90\n",
            "       B-DIRECTOR       0.86      0.77      0.81       456\n",
            "          B-GENRE       0.90      0.95      0.92      1117\n",
            "           B-PLOT       0.67      0.63      0.65       491\n",
            "         B-RATING       0.97      0.97      0.97       500\n",
            "B-RATINGS_AVERAGE       0.92      0.89      0.91       451\n",
            "         B-REVIEW       0.36      0.14      0.21        56\n",
            "           B-SONG       0.67      0.48      0.56        54\n",
            "          B-TITLE       0.70      0.71      0.70       562\n",
            "        B-TRAILER       0.81      0.70      0.75        30\n",
            "           B-YEAR       0.95      0.94      0.95       720\n",
            "          I-ACTOR       0.87      0.89      0.88       862\n",
            "      I-CHARACTER       0.75      0.08      0.14        75\n",
            "       I-DIRECTOR       0.84      0.83      0.83       496\n",
            "          I-GENRE       0.92      0.65      0.76       222\n",
            "           I-PLOT       0.62      0.53      0.57       496\n",
            "         I-RATING       0.98      0.88      0.93       226\n",
            "I-RATINGS_AVERAGE       0.89      0.85      0.87       403\n",
            "         I-REVIEW       0.75      0.07      0.12        45\n",
            "           I-SONG       0.76      0.45      0.56       119\n",
            "          I-TITLE       0.78      0.71      0.74       856\n",
            "        I-TRAILER       0.00      0.00      0.00         8\n",
            "           I-YEAR       0.97      0.97      0.97       610\n",
            "                O       0.95      0.98      0.96     14929\n",
            "\n",
            "         accuracy                           0.91     24686\n",
            "        macro avg       0.78      0.65      0.68     24686\n",
            "     weighted avg       0.91      0.91      0.90     24686\n",
            "\n"
          ],
          "name": "stdout"
        }
      ]
    },
    {
      "cell_type": "markdown",
      "metadata": {
        "id": "a9pPh9IThks3"
      },
      "source": [
        "## Elmo + BiLSTM"
      ]
    },
    {
      "cell_type": "code",
      "metadata": {
        "id": "NeYRHcXY2KxZ"
      },
      "source": [
        "import tensorflow_hub as hub\n",
        "from keras import backend as K"
      ],
      "execution_count": null,
      "outputs": []
    },
    {
      "cell_type": "code",
      "metadata": {
        "id": "56NX5lvu6ypu"
      },
      "source": [
        "K.clear_session()\n",
        "\n",
        "sess = tf.Session()\n",
        "K.set_session(sess)"
      ],
      "execution_count": null,
      "outputs": []
    },
    {
      "cell_type": "code",
      "metadata": {
        "id": "XZhfUD6L2d37"
      },
      "source": [
        "batch_size = 32\n",
        "num_labels = len(tag2idx.keys())"
      ],
      "execution_count": null,
      "outputs": []
    },
    {
      "cell_type": "code",
      "metadata": {
        "id": "tfQZAUmj2NKC",
        "colab": {
          "base_uri": "https://localhost:8080/"
        },
        "outputId": "a0b71b41-f56a-4893-819f-3d742b6ae772"
      },
      "source": [
        "# trim train set to be divisible by batch_size\n",
        "remainder = y_train.shape[0] % batch_size\n",
        "cutoff = y_train.shape[0] - remainder\n",
        "\n",
        "train_limit = cutoff - batch_size*50 # take 100 batches to validate on\n",
        "\n",
        "x_final_train = x_train[0:train_limit]\n",
        "y_final_train = y_train[0:train_limit]\n",
        "\n",
        "x_val = x_train[train_limit:cutoff]\n",
        "y_val = y_train[train_limit:cutoff]\n",
        "\n",
        "\n",
        "len(x_final_train), y_final_train.shape # , len(x_val), y_val.shape"
      ],
      "execution_count": null,
      "outputs": [
        {
          "output_type": "execute_result",
          "data": {
            "text/plain": [
              "(8160, (8160, 50, 1))"
            ]
          },
          "metadata": {
            "tags": []
          },
          "execution_count": 63
        }
      ]
    },
    {
      "cell_type": "markdown",
      "metadata": {
        "id": "2BGtcZUk1kik"
      },
      "source": [
        "### Train the model"
      ]
    },
    {
      "cell_type": "code",
      "metadata": {
        "id": "tPhNsd-p27Cc"
      },
      "source": [
        "model_name = 'mitmovie_elmo/elmo_biLSTM_5epochs'"
      ],
      "execution_count": null,
      "outputs": []
    },
    {
      "cell_type": "code",
      "metadata": {
        "id": "jeiA_aOP6vbI"
      },
      "source": [
        "# retrieve elmo word embeddings\n",
        "# https://tfhub.dev/google/elmo/3\n",
        "\n",
        "elmo_model = hub.Module(\"https://tfhub.dev/google/elmo/3\", trainable=True)\n",
        "sess.run(tf.global_variables_initializer())\n",
        "sess.run(tf.tables_initializer())"
      ],
      "execution_count": null,
      "outputs": []
    },
    {
      "cell_type": "code",
      "metadata": {
        "id": "SeEVkAX4623V"
      },
      "source": [
        "def ElmoEmbedding(x):\n",
        "    return elmo_model(inputs={\n",
        "                            \"tokens\": tf.squeeze(tf.cast(x, tf.string)), # passing the pretokenized words to the model\n",
        "                            \"sequence_len\": tf.constant(batch_size*[max_len])\n",
        "                      },\n",
        "                      signature=\"tokens\",\n",
        "                      as_dict=True)[\"elmo\"]"
      ],
      "execution_count": null,
      "outputs": []
    },
    {
      "cell_type": "code",
      "metadata": {
        "id": "5qjhuqEclUqo"
      },
      "source": [
        "from keras.models import Model, Input\n",
        "from keras.layers.merge import add\n",
        "from keras.layers import LSTM, Dropout, Embedding, Dense, TimeDistributed, Dropout, Bidirectional, Lambda\n",
        "import keras.layers as layers\n",
        "from keras.engine import Layer\n",
        "\n",
        "\n",
        "# Function to build model\n",
        "def build_model():\n",
        "\n",
        "  input_text = Input(shape=(max_len,), dtype=tf.string)\n",
        "\n",
        "  embedding = Lambda(ElmoEmbedding, output_shape=(None, 1024))(input_text)\n",
        "\n",
        "  x = Bidirectional(LSTM(units=512, return_sequences=True,\n",
        "                      recurrent_dropout=0.2, dropout=0.2))(embedding)\n",
        "\n",
        "  x_rnn = Bidirectional(LSTM(units=512, return_sequences=True,\n",
        "                          recurrent_dropout=0.2, dropout=0.2))(x)\n",
        "\n",
        "  x = add([x, x_rnn])  # residual connection to the first biLSTM\n",
        "\n",
        "  out = TimeDistributed(Dense(num_labels, activation=\"softmax\"))(x)\n",
        "\n",
        "  model = Model(input_text, out)\n",
        "\n",
        "  model.compile(optimizer=\"adam\", \n",
        "              loss=\"sparse_categorical_crossentropy\", \n",
        "              metrics=[\"accuracy\"])\n",
        "  \n",
        "  model.summary() # print model summary\n",
        "\n",
        "  return model"
      ],
      "execution_count": null,
      "outputs": []
    },
    {
      "cell_type": "code",
      "metadata": {
        "id": "AnkqUjztsKVj",
        "colab": {
          "base_uri": "https://localhost:8080/"
        },
        "outputId": "cbdb3e74-6221-4b18-999e-8440a906838f"
      },
      "source": [
        "model = build_model()"
      ],
      "execution_count": null,
      "outputs": [
        {
          "output_type": "stream",
          "text": [
            "INFO:tensorflow:Saver not created because there are no variables in the graph to restore\n"
          ],
          "name": "stdout"
        },
        {
          "output_type": "stream",
          "text": [
            "INFO:tensorflow:Saver not created because there are no variables in the graph to restore\n"
          ],
          "name": "stderr"
        },
        {
          "output_type": "stream",
          "text": [
            "Model: \"model_1\"\n",
            "__________________________________________________________________________________________________\n",
            "Layer (type)                    Output Shape         Param #     Connected to                     \n",
            "==================================================================================================\n",
            "input_1 (InputLayer)            (None, 50)           0                                            \n",
            "__________________________________________________________________________________________________\n",
            "lambda_1 (Lambda)               (None, None, 1024)   0           input_1[0][0]                    \n",
            "__________________________________________________________________________________________________\n",
            "bidirectional_1 (Bidirectional) (None, None, 1024)   6295552     lambda_1[0][0]                   \n",
            "__________________________________________________________________________________________________\n",
            "bidirectional_2 (Bidirectional) (None, None, 1024)   6295552     bidirectional_1[0][0]            \n",
            "__________________________________________________________________________________________________\n",
            "add_1 (Add)                     (None, None, 1024)   0           bidirectional_1[0][0]            \n",
            "                                                                 bidirectional_2[0][0]            \n",
            "__________________________________________________________________________________________________\n",
            "time_distributed_1 (TimeDistrib (None, None, 25)     25625       add_1[0][0]                      \n",
            "==================================================================================================\n",
            "Total params: 12,616,729\n",
            "Trainable params: 12,616,729\n",
            "Non-trainable params: 0\n",
            "__________________________________________________________________________________________________\n"
          ],
          "name": "stdout"
        }
      ]
    },
    {
      "cell_type": "code",
      "metadata": {
        "id": "sJ0jWX2OjP9Z",
        "colab": {
          "base_uri": "https://localhost:8080/",
          "height": 644
        },
        "outputId": "79d3894b-9a73-4481-e506-65a007362b79"
      },
      "source": [
        "from keras.utils.vis_utils import plot_model\n",
        "plot_model(model, show_shapes=True)"
      ],
      "execution_count": null,
      "outputs": [
        {
          "output_type": "execute_result",
          "data": {
            "image/png": "[encoded data removed]",
            "text/plain": [
              "<IPython.core.display.Image object>"
            ]
          },
          "metadata": {
            "tags": []
          },
          "execution_count": 117
        }
      ]
    },
    {
      "cell_type": "code",
      "metadata": {
        "id": "E8WJrh2el_h7",
        "colab": {
          "base_uri": "https://localhost:8080/"
        },
        "outputId": "ccbede52-d048-4501-b1f9-8940339705fb"
      },
      "source": [
        "history = model.fit(x_final_train, y_final_train, \n",
        "                    validation_data = (x_val, y_val), \n",
        "                    batch_size = batch_size, \n",
        "                    epochs = 5)"
      ],
      "execution_count": null,
      "outputs": [
        {
          "output_type": "stream",
          "text": [
            "Train on 8160 samples, validate on 1600 samples\n",
            "Epoch 1/5\n",
            "8160/8160 [==============================] - 81s 10ms/step - loss: 0.1308 - accuracy: 0.9664 - val_loss: 0.0477 - val_accuracy: 0.9865\n",
            "Epoch 2/5\n",
            "8160/8160 [==============================] - 79s 10ms/step - loss: 0.0569 - accuracy: 0.9841 - val_loss: 0.0502 - val_accuracy: 0.9855\n",
            "Epoch 3/5\n",
            "8160/8160 [==============================] - 80s 10ms/step - loss: 0.0460 - accuracy: 0.9868 - val_loss: 0.0408 - val_accuracy: 0.9890\n",
            "Epoch 4/5\n",
            "8160/8160 [==============================] - 80s 10ms/step - loss: 0.0385 - accuracy: 0.9889 - val_loss: 0.0392 - val_accuracy: 0.9895\n",
            "Epoch 5/5\n",
            "8160/8160 [==============================] - 80s 10ms/step - loss: 0.0326 - accuracy: 0.9900 - val_loss: 0.0407 - val_accuracy: 0.9891\n"
          ],
          "name": "stdout"
        }
      ]
    },
    {
      "cell_type": "code",
      "metadata": {
        "id": "j2QlFXPvmgJA"
      },
      "source": [
        "model.save_weights(model_dir + model_name + '.h5')"
      ],
      "execution_count": null,
      "outputs": []
    },
    {
      "cell_type": "code",
      "metadata": {
        "id": "5nXKHuUBnKvC",
        "colab": {
          "base_uri": "https://localhost:8080/",
          "height": 224
        },
        "outputId": "4b7b81dd-0e83-4f57-8760-7e254615454a"
      },
      "source": [
        "# plot model fitting results\n",
        "import matplotlib.pyplot as plt\n",
        "#%matplotlib inline\n",
        "\n",
        "fig = plt.figure(figsize = (10,3))\n",
        "\n",
        "acc = history.history['accuracy']\n",
        "val_acc = history.history['val_accuracy']\n",
        "\n",
        "epochs = range(1, len(acc) + 1)\n",
        "\n",
        "plt.subplot(1,2,1)\n",
        "plt.plot(epochs, acc, 'bo', label='Training acc')\n",
        "plt.plot(epochs, val_acc, 'b', label='Validation acc')\n",
        "plt.xlabel('Epochs')\n",
        "plt.ylabel('Acc')\n",
        "plt.legend()\n",
        "\n",
        "plt.subplot(1,2,2)\n",
        "loss = history.history['loss']\n",
        "val_loss = history.history['val_loss']\n",
        "plt.plot(epochs, loss, 'ro', label='Training loss')\n",
        "plt.plot(epochs, val_loss, 'r', label='Validation loss')\n",
        "plt.xlabel('Epochs')\n",
        "plt.ylabel('Loss')\n",
        "plt.legend()\n",
        "\n",
        "plt.show()\n",
        "fig.savefig(model_dir + model_name + '.png', dpi=400, bbox_inches='tight')"
      ],
      "execution_count": null,
      "outputs": [
        {
          "output_type": "display_data",
          "data": {
            "image/png": "[encoded data removed]",
            "text/plain": [
              "<Figure size 720x216 with 2 Axes>"
            ]
          },
          "metadata": {
            "tags": [],
            "needs_background": "light"
          }
        }
      ]
    },
    {
      "cell_type": "markdown",
      "metadata": {
        "id": "AGKsj3t2nXIX"
      },
      "source": [
        "### Evaluate the model"
      ]
    },
    {
      "cell_type": "code",
      "metadata": {
        "id": "aUTbTIgjvVTI",
        "colab": {
          "base_uri": "https://localhost:8080/"
        },
        "outputId": "bec0b8c7-1bbd-4ada-e70d-1d83230b4412"
      },
      "source": [
        "print('Original test set shape:', x_test.shape)\n",
        "# how many rows we need extra so that model is divisible by 32\n",
        "additional_rows = batch_size - x_test.shape[0] % batch_size\n",
        "x_eval = np.append(x_test, x_test[0:additional_rows], axis=0)\n",
        "print('Eval test set shape:', x_eval.shape)"
      ],
      "execution_count": null,
      "outputs": [
        {
          "output_type": "stream",
          "text": [
            "Original test set shape: (2443, 50)\n",
            "Eval test set shape: (2464, 50)\n"
          ],
          "name": "stdout"
        }
      ]
    },
    {
      "cell_type": "code",
      "metadata": {
        "id": "oMt9LZzSnaDy",
        "colab": {
          "base_uri": "https://localhost:8080/"
        },
        "outputId": "1687e1bb-3cf1-466d-a209-2530966fbd42"
      },
      "source": [
        "model = build_model()\n",
        "\n",
        "# must initialize the model first, then load the weights\n",
        "model.load_weights(model_dir + model_name + '.h5')"
      ],
      "execution_count": null,
      "outputs": [
        {
          "output_type": "stream",
          "text": [
            "INFO:tensorflow:Saver not created because there are no variables in the graph to restore\n"
          ],
          "name": "stdout"
        },
        {
          "output_type": "stream",
          "text": [
            "INFO:tensorflow:Saver not created because there are no variables in the graph to restore\n"
          ],
          "name": "stderr"
        },
        {
          "output_type": "stream",
          "text": [
            "Model: \"model_2\"\n",
            "__________________________________________________________________________________________________\n",
            "Layer (type)                    Output Shape         Param #     Connected to                     \n",
            "==================================================================================================\n",
            "input_2 (InputLayer)            (None, 50)           0                                            \n",
            "__________________________________________________________________________________________________\n",
            "lambda_2 (Lambda)               (None, None, 1024)   0           input_2[0][0]                    \n",
            "__________________________________________________________________________________________________\n",
            "bidirectional_3 (Bidirectional) (None, None, 1024)   6295552     lambda_2[0][0]                   \n",
            "__________________________________________________________________________________________________\n",
            "bidirectional_4 (Bidirectional) (None, None, 1024)   6295552     bidirectional_3[0][0]            \n",
            "__________________________________________________________________________________________________\n",
            "add_2 (Add)                     (None, None, 1024)   0           bidirectional_3[0][0]            \n",
            "                                                                 bidirectional_4[0][0]            \n",
            "__________________________________________________________________________________________________\n",
            "time_distributed_2 (TimeDistrib (None, None, 25)     25625       add_2[0][0]                      \n",
            "==================================================================================================\n",
            "Total params: 12,616,729\n",
            "Trainable params: 12,616,729\n",
            "Non-trainable params: 0\n",
            "__________________________________________________________________________________________________\n"
          ],
          "name": "stdout"
        }
      ]
    },
    {
      "cell_type": "code",
      "metadata": {
        "id": "bqHG3mOyneh6"
      },
      "source": [
        "preds = model.predict(x_eval, batch_size=batch_size)\n",
        "preds = np.argmax(preds, axis=-1)"
      ],
      "execution_count": null,
      "outputs": []
    },
    {
      "cell_type": "code",
      "metadata": {
        "id": "EMmkF7A0nz6i",
        "colab": {
          "base_uri": "https://localhost:8080/"
        },
        "outputId": "d6a2594c-ccfd-43ed-e67b-b13f4bb8459a"
      },
      "source": [
        "print('Initial preds shape:', preds.shape)\n",
        "preds = preds[0:x_test.shape[0]]\n",
        "print('Trimmed to original preds shape:', preds.shape)"
      ],
      "execution_count": null,
      "outputs": [
        {
          "output_type": "stream",
          "text": [
            "Initial preds shape: (2464, 50)\n",
            "Trimmed to original preds shape: (2443, 50)\n"
          ],
          "name": "stdout"
        }
      ]
    },
    {
      "cell_type": "code",
      "metadata": {
        "id": "uEobncyVn5D-"
      },
      "source": [
        "# trim the length of docs back to the number of words to predict\n",
        "trim_preds = []\n",
        "for i, doc in enumerate(dataset['test_tokens']):\n",
        "  trim_preds.append(preds[i][0:len(doc)])  "
      ],
      "execution_count": null,
      "outputs": []
    },
    {
      "cell_type": "code",
      "metadata": {
        "id": "cy9F-UNdn9N-",
        "colab": {
          "base_uri": "https://localhost:8080/"
        },
        "outputId": "dfc5dfe1-fd8e-4417-8637-1f9750441cf1"
      },
      "source": [
        "preds_stretched = [idx2tag[label] for doc in trim_preds for label in doc]\n",
        "trues_stretched = [label for doc in dataset['test_labels'] for label in doc]\n",
        "\n",
        "len(preds_stretched), len(trues_stretched)"
      ],
      "execution_count": null,
      "outputs": [
        {
          "output_type": "execute_result",
          "data": {
            "text/plain": [
              "(24686, 24686)"
            ]
          },
          "metadata": {
            "tags": []
          },
          "execution_count": 77
        }
      ]
    },
    {
      "cell_type": "code",
      "metadata": {
        "id": "nVY6gedZoCqW",
        "colab": {
          "base_uri": "https://localhost:8080/"
        },
        "outputId": "2c7f9ed3-1012-4992-cd2b-6037cf42cfe8"
      },
      "source": [
        "from sklearn.metrics import classification_report\n",
        "\n",
        "\n",
        "f = open(model_dir + model_name  + '_class_report_test.txt', 'w') \n",
        "\n",
        "class_report = classification_report(trues_stretched, preds_stretched)\n",
        "print(class_report, file=f ) \n",
        "\n",
        "f.close() \n",
        "\n",
        "\n",
        "print(class_report)"
      ],
      "execution_count": null,
      "outputs": [
        {
          "output_type": "stream",
          "text": [
            "/usr/local/lib/python3.6/dist-packages/sklearn/metrics/_classification.py:1272: UndefinedMetricWarning: Precision and F-score are ill-defined and being set to 0.0 in labels with no predicted samples. Use `zero_division` parameter to control this behavior.\n",
            "  _warn_prf(average, modifier, msg_start, len(result))\n"
          ],
          "name": "stderr"
        },
        {
          "output_type": "stream",
          "text": [
            "                   precision    recall  f1-score   support\n",
            "\n",
            "          B-ACTOR       0.89      0.92      0.90       812\n",
            "      B-CHARACTER       0.61      0.52      0.56        90\n",
            "       B-DIRECTOR       0.89      0.84      0.86       456\n",
            "          B-GENRE       0.93      0.95      0.94      1117\n",
            "           B-PLOT       0.74      0.70      0.72       491\n",
            "         B-RATING       0.98      0.97      0.97       500\n",
            "B-RATINGS_AVERAGE       0.94      0.91      0.92       451\n",
            "         B-REVIEW       0.38      0.27      0.32        56\n",
            "           B-SONG       0.83      0.63      0.72        54\n",
            "          B-TITLE       0.90      0.80      0.84       562\n",
            "        B-TRAILER       0.79      0.63      0.70        30\n",
            "           B-YEAR       0.96      0.94      0.95       720\n",
            "          I-ACTOR       0.87      0.90      0.88       862\n",
            "      I-CHARACTER       0.51      0.41      0.46        75\n",
            "       I-DIRECTOR       0.83      0.88      0.85       496\n",
            "          I-GENRE       0.90      0.73      0.80       222\n",
            "           I-PLOT       0.77      0.64      0.70       496\n",
            "         I-RATING       0.97      0.88      0.93       226\n",
            "I-RATINGS_AVERAGE       0.86      0.89      0.88       403\n",
            "         I-REVIEW       0.56      0.11      0.19        45\n",
            "           I-SONG       0.90      0.66      0.76       119\n",
            "          I-TITLE       0.90      0.86      0.88       856\n",
            "        I-TRAILER       0.00      0.00      0.00         8\n",
            "           I-YEAR       0.98      0.97      0.97       610\n",
            "                O       0.96      0.98      0.97     14929\n",
            "\n",
            "         accuracy                           0.93     24686\n",
            "        macro avg       0.79      0.72      0.75     24686\n",
            "     weighted avg       0.93      0.93      0.93     24686\n",
            "\n"
          ],
          "name": "stdout"
        }
      ]
    },
    {
      "cell_type": "code",
      "metadata": {
        "id": "2hoM4-_ydHrK",
        "colab": {
          "base_uri": "https://localhost:8080/"
        },
        "outputId": "6603ef02-4f4e-4a89-cb87-25e5242cab65"
      },
      "source": [
        "!pip install seqeval"
      ],
      "execution_count": null,
      "outputs": [
        {
          "output_type": "stream",
          "text": [
            "Collecting seqeval\n",
            "\u001b[?25l  Downloading https://files.pythonhosted.org/packages/9d/2d/233c79d5b4e5ab1dbf111242299153f3caddddbb691219f363ad55ce783d/seqeval-1.2.2.tar.gz (43kB)\n",
            "\r\u001b[K     |███████▌                        | 10kB 16.6MB/s eta 0:00:01\r\u001b[K     |███████████████                 | 20kB 6.7MB/s eta 0:00:01\r\u001b[K     |██████████████████████▌         | 30kB 5.8MB/s eta 0:00:01\r\u001b[K     |██████████████████████████████  | 40kB 6.1MB/s eta 0:00:01\r\u001b[K     |████████████████████████████████| 51kB 4.1MB/s \n",
            "\u001b[?25hRequirement already satisfied: numpy>=1.14.0 in /usr/local/lib/python3.6/dist-packages (from seqeval) (1.18.5)\n",
            "Requirement already satisfied: scikit-learn>=0.21.3 in /usr/local/lib/python3.6/dist-packages (from seqeval) (0.22.2.post1)\n",
            "Requirement already satisfied: scipy>=0.17.0 in /usr/local/lib/python3.6/dist-packages (from scikit-learn>=0.21.3->seqeval) (1.4.1)\n",
            "Requirement already satisfied: joblib>=0.11 in /usr/local/lib/python3.6/dist-packages (from scikit-learn>=0.21.3->seqeval) (0.17.0)\n",
            "Building wheels for collected packages: seqeval\n",
            "  Building wheel for seqeval (setup.py) ... \u001b[?25l\u001b[?25hdone\n",
            "  Created wheel for seqeval: filename=seqeval-1.2.2-cp36-none-any.whl size=16171 sha256=ed9ad171137876d5187c0575f345d9692d796b9ebef982ff00df6ee6dfcf65f9\n",
            "  Stored in directory: /root/.cache/pip/wheels/52/df/1b/45d75646c37428f7e626214704a0e35bd3cfc32eda37e59e5f\n",
            "Successfully built seqeval\n",
            "Installing collected packages: seqeval\n",
            "Successfully installed seqeval-1.2.2\n"
          ],
          "name": "stdout"
        }
      ]
    },
    {
      "cell_type": "code",
      "metadata": {
        "id": "EXv8K5Fadka8"
      },
      "source": [
        "seq_preds = []\n",
        "for doc in trim_preds:\n",
        "  seq_preds.append([idx2tag[val] for val in doc])"
      ],
      "execution_count": null,
      "outputs": []
    },
    {
      "cell_type": "code",
      "metadata": {
        "id": "5wFlCFXjeqKA",
        "colab": {
          "base_uri": "https://localhost:8080/"
        },
        "outputId": "8b98d561-a721-431e-ea51-31055dbe20a5"
      },
      "source": [
        "seq_preds[0]"
      ],
      "execution_count": null,
      "outputs": [
        {
          "output_type": "execute_result",
          "data": {
            "text/plain": [
              "['O', 'O', 'O', 'O', 'B-GENRE', 'I-GENRE', 'O', 'O', 'O']"
            ]
          },
          "metadata": {
            "tags": []
          },
          "execution_count": 81
        }
      ]
    },
    {
      "cell_type": "code",
      "metadata": {
        "id": "MzzoJn8NdKSm",
        "colab": {
          "base_uri": "https://localhost:8080/"
        },
        "outputId": "0fd3e904-6730-44ee-9272-5ec68308eda0"
      },
      "source": [
        "from seqeval.metrics import classification_report as classification_report_seqeval\n",
        "\n",
        "f = open(model_dir + model_name  + 'seq_class_report_test.txt', 'w') \n",
        "\n",
        "seq_class_report = classification_report_seqeval(dataset['test_labels'], seq_preds)\n",
        "print(seq_class_report, file=f ) \n",
        "\n",
        "f.close() \n",
        "print(seq_class_report)"
      ],
      "execution_count": null,
      "outputs": [
        {
          "output_type": "stream",
          "text": [
            "                 precision    recall  f1-score   support\n",
            "\n",
            "          ACTOR       0.81      0.87      0.84       812\n",
            "      CHARACTER       0.48      0.49      0.49        90\n",
            "       DIRECTOR       0.77      0.84      0.80       456\n",
            "          GENRE       0.89      0.92      0.91      1117\n",
            "           PLOT       0.63      0.67      0.65       491\n",
            "         RATING       0.94      0.93      0.93       500\n",
            "RATINGS_AVERAGE       0.83      0.84      0.84       451\n",
            "         REVIEW       0.22      0.16      0.19        56\n",
            "           SONG       0.46      0.44      0.45        54\n",
            "          TITLE       0.74      0.76      0.75       562\n",
            "        TRAILER       0.79      0.63      0.70        30\n",
            "           YEAR       0.95      0.94      0.94       720\n",
            "\n",
            "      micro avg       0.82      0.84      0.83      5339\n",
            "      macro avg       0.71      0.71      0.71      5339\n",
            "   weighted avg       0.82      0.84      0.83      5339\n",
            "\n"
          ],
          "name": "stdout"
        }
      ]
    },
    {
      "cell_type": "code",
      "metadata": {
        "id": "Akd0pMuGMuGg"
      },
      "source": [
        ""
      ],
      "execution_count": null,
      "outputs": []
    },
    {
      "cell_type": "markdown",
      "metadata": {
        "id": "LOzevvV5Muiv"
      },
      "source": [
        "### Interpret the Model\n",
        "use eli5 package implementation of LIME algorithm to visualize contributors to the classification of entities\n",
        "Guidance for how to do interpretability with NER was taken from: https://www.depends-on-the-definition.com/interpretable-named-entity-recognition/"
      ]
    },
    {
      "cell_type": "markdown",
      "metadata": {
        "id": "9H05NvoLQprV"
      },
      "source": [
        "Assign the sentence and the word to inspect"
      ]
    },
    {
      "cell_type": "code",
      "metadata": {
        "id": "Sh0iE_kgNqT4"
      },
      "source": [
        "# get sample sentence\n",
        "# eli5 algorithm uses a str as the initial feed\n",
        "sentenceStr =  ' '.join( dataset['train_tokens'][6] ) # assign by index value [#]\n",
        "sentenceStr"
      ],
      "execution_count": null,
      "outputs": []
    },
    {
      "cell_type": "code",
      "metadata": {
        "id": "_HB8FHaSN_qL"
      },
      "source": [
        "# get token number of word to evaluate - 'fiction'\n",
        "word_to_check = 3"
      ],
      "execution_count": null,
      "outputs": []
    },
    {
      "cell_type": "markdown",
      "metadata": {
        "id": "wYR8_RPcOSjT"
      },
      "source": [
        "Define the predicting function.\n",
        "eli5 is expecting a return of the class probabilities for word_to_check (word_to_check is established at program level, not function level"
      ]
    },
    {
      "cell_type": "code",
      "metadata": {
        "id": "cumywR30_OiG"
      },
      "source": [
        "def make_predictions(texts): #eli5 will pass n_samples of str\n",
        "  \n",
        "  textLists = [text.split() for text in texts] # make a list of lists to pass the eli5 str sentences\n",
        "  \n",
        "  #########################################\n",
        "  # pad the sentences as earlier, the model requires padded sentences\n",
        "  new_X = []\n",
        "  for seq in textLists:\n",
        "    new_seq = []\n",
        "    for i in range(max_len):\n",
        "        try:\n",
        "            new_seq.append(seq[i])\n",
        "        except:\n",
        "            new_seq.append(\"__PAD__\")\n",
        "    new_X.append(new_seq)\n",
        "    \n",
        "  x_test = np.array(new_X)\n",
        "\n",
        "  ##########################################\n",
        "  # NOTE: the model is using a batch size of 32, tell eli5 to pass a multiple of 32 n_samples\n",
        "  # to improve future robustness, code to ensure a multiple of batch size by appending repeat sentences\n",
        "\n",
        "  #########################################\n",
        "  # make the predictions\n",
        "\n",
        "  preds = model.predict(x_test, batch_size=batch_size)\n",
        "\n",
        "  return preds[:,word_to_check,:]# return probs only for the word you want\n",
        "  # note: word_to_check is established at higher context level, not passed to the function\n",
        "  # eli5 setup does not pass in supplemental arguments"
      ],
      "execution_count": null,
      "outputs": []
    },
    {
      "cell_type": "code",
      "metadata": {
        "id": "Bi4AucVdLfFG",
        "colab": {
          "base_uri": "https://localhost:8080/"
        },
        "outputId": "b1d44c3d-5ca1-42f7-b53a-ca0a347c52fe"
      },
      "source": [
        "!pip install eli5\n",
        "from eli5.lime import TextExplainer\n",
        "from eli5.lime.samplers import MaskingTextSampler"
      ],
      "execution_count": null,
      "outputs": [
        {
          "output_type": "stream",
          "text": [
            "Collecting eli5\n",
            "\u001b[?25l  Downloading https://files.pythonhosted.org/packages/97/2f/c85c7d8f8548e460829971785347e14e45fa5c6617da374711dec8cb38cc/eli5-0.10.1-py2.py3-none-any.whl (105kB)\n",
            "\r\u001b[K     |███                             | 10kB 21.8MB/s eta 0:00:01\r\u001b[K     |██████▏                         | 20kB 18.5MB/s eta 0:00:01\r\u001b[K     |█████████▎                      | 30kB 14.5MB/s eta 0:00:01\r\u001b[K     |████████████▍                   | 40kB 13.1MB/s eta 0:00:01\r\u001b[K     |███████████████▌                | 51kB 8.1MB/s eta 0:00:01\r\u001b[K     |██████████████████▋             | 61kB 8.8MB/s eta 0:00:01\r\u001b[K     |█████████████████████▊          | 71kB 8.9MB/s eta 0:00:01\r\u001b[K     |████████████████████████▊       | 81kB 9.1MB/s eta 0:00:01\r\u001b[K     |███████████████████████████▉    | 92kB 9.2MB/s eta 0:00:01\r\u001b[K     |███████████████████████████████ | 102kB 7.8MB/s eta 0:00:01\r\u001b[K     |████████████████████████████████| 112kB 7.8MB/s \n",
            "\u001b[?25hRequirement already satisfied: numpy>=1.9.0 in /usr/local/lib/python3.6/dist-packages (from eli5) (1.18.5)\n",
            "Requirement already satisfied: jinja2 in /usr/local/lib/python3.6/dist-packages (from eli5) (2.11.2)\n",
            "Requirement already satisfied: graphviz in /usr/local/lib/python3.6/dist-packages (from eli5) (0.10.1)\n",
            "Requirement already satisfied: tabulate>=0.7.7 in /usr/local/lib/python3.6/dist-packages (from eli5) (0.8.7)\n",
            "Requirement already satisfied: scipy in /usr/local/lib/python3.6/dist-packages (from eli5) (1.4.1)\n",
            "Requirement already satisfied: six in /usr/local/lib/python3.6/dist-packages (from eli5) (1.15.0)\n",
            "Requirement already satisfied: attrs>16.0.0 in /usr/local/lib/python3.6/dist-packages (from eli5) (20.2.0)\n",
            "Requirement already satisfied: scikit-learn>=0.18 in /usr/local/lib/python3.6/dist-packages (from eli5) (0.22.2.post1)\n",
            "Requirement already satisfied: MarkupSafe>=0.23 in /usr/local/lib/python3.6/dist-packages (from jinja2->eli5) (1.1.1)\n",
            "Requirement already satisfied: joblib>=0.11 in /usr/local/lib/python3.6/dist-packages (from scikit-learn>=0.18->eli5) (0.17.0)\n",
            "Installing collected packages: eli5\n",
            "Successfully installed eli5-0.10.1\n"
          ],
          "name": "stdout"
        },
        {
          "output_type": "stream",
          "text": [
            "/usr/local/lib/python3.6/dist-packages/sklearn/utils/deprecation.py:144: FutureWarning: The sklearn.metrics.scorer module is  deprecated in version 0.22 and will be removed in version 0.24. The corresponding classes / functions should instead be imported from sklearn.metrics. Anything that cannot be imported from sklearn.metrics is now part of the private API.\n",
            "  warnings.warn(message, FutureWarning)\n",
            "/usr/local/lib/python3.6/dist-packages/sklearn/utils/deprecation.py:144: FutureWarning: The sklearn.feature_selection.base module is  deprecated in version 0.22 and will be removed in version 0.24. The corresponding classes / functions should instead be imported from sklearn.feature_selection. Anything that cannot be imported from sklearn.feature_selection is now part of the private API.\n",
            "  warnings.warn(message, FutureWarning)\n"
          ],
          "name": "stderr"
        }
      ]
    },
    {
      "cell_type": "code",
      "metadata": {
        "id": "A8aCmO9kLXWn"
      },
      "source": [
        "# define the masking sampler to use in the eli5 text explainer\n",
        "\n",
        "sampler = MaskingTextSampler(\n",
        "    replacement = \"UNK\",\n",
        "    max_replace = 0.7,\n",
        "    bow = False # bag of words means it will test the exclusion of multiple words as well\n",
        ")"
      ],
      "execution_count": null,
      "outputs": []
    },
    {
      "cell_type": "code",
      "metadata": {
        "id": "L5lgGumSc-dQ",
        "colab": {
          "base_uri": "https://localhost:8080/"
        },
        "outputId": "a615df4a-d77f-4370-a58a-822c50c24040"
      },
      "source": [
        "# Define the eli5 Text Explainer\n",
        "# NOTE: the Model uses a batch size of batch_size (32) - set n_samples to a multiple of batch_size (default is 5000)\n",
        "# ALTERNATE TO IMPROVE ROBUSTNESS - modify the make_predictions function to account for any variation\n",
        "\n",
        "te = TextExplainer(n_samples=4096, sampler=sampler, position_dependent = True, random_state=53)\n",
        "te.fit(doc=sentenceStr, predict_proba=make_predictions)\n"
      ],
      "execution_count": null,
      "outputs": [
        {
          "output_type": "stream",
          "text": [
            "/usr/local/lib/python3.6/dist-packages/sklearn/base.py:197: FutureWarning: From version 0.24, get_params will raise an AttributeError if a parameter cannot be retrieved as an instance attribute. Previously it would return None.\n",
            "  FutureWarning)\n"
          ],
          "name": "stderr"
        },
        {
          "output_type": "execute_result",
          "data": {
            "text/plain": [
              "TextExplainer(char_based=False,\n",
              "              clf=SGDClassifier(alpha=0.001, average=False, class_weight=None,\n",
              "                                early_stopping=False, epsilon=0.1, eta0=0.0,\n",
              "                                fit_intercept=True, l1_ratio=0.15,\n",
              "                                learning_rate='optimal', loss='log',\n",
              "                                max_iter=1000, n_iter_no_change=5, n_jobs=None,\n",
              "                                penalty='elasticnet', power_t=0.5,\n",
              "                                random_state=RandomState(MT19937) at 0x7F2E32A6B150,\n",
              "                                shuffle=True, tol=0.001,\n",
              "                                validation_fraction=0.1, verbose=0,\n",
              "                                warm_start=False),\n",
              "              expand_factor=10, n_samples=4096, position_dependent=True,\n",
              "              random_state=53, rbf_sigma=None,\n",
              "              sampler=MaskingTextSampler(bow=False, group_size=1,\n",
              "                                         max_replace=0.7, min_replace=1,\n",
              "                                         random_state=None, replacement='UNK',\n",
              "                                         token_pattern='(?u)\\\\b\\\\w+\\\\b'),\n",
              "              token_pattern='(?u)\\\\b\\\\w+\\\\b', vec=None)"
            ]
          },
          "metadata": {
            "tags": []
          },
          "execution_count": 92
        }
      ]
    },
    {
      "cell_type": "code",
      "metadata": {
        "id": "xx2w5uHmdInA"
      },
      "source": [
        "# get classification labels\n",
        "eli5_labels=np.unique(labels_stretched).tolist()"
      ],
      "execution_count": null,
      "outputs": []
    },
    {
      "cell_type": "code",
      "metadata": {
        "id": "upj3RNNoA_p8",
        "colab": {
          "base_uri": "https://localhost:8080/",
          "height": 468
        },
        "outputId": "cd447f22-b671-4dc2-fe4d-f39fa2155a29"
      },
      "source": [
        "te.show_prediction(target_names=eli5_labels, top_targets=3)"
      ],
      "execution_count": null,
      "outputs": [
        {
          "output_type": "execute_result",
          "data": {
            "text/html": [
              "\n",
              "    <style>\n",
              "    table.eli5-weights tr:hover {\n",
              "        filter: brightness(85%);\n",
              "    }\n",
              "</style>\n",
              "\n",
              "\n",
              "\n",
              "    \n",
              "\n",
              "    \n",
              "\n",
              "    \n",
              "\n",
              "    \n",
              "\n",
              "    \n",
              "\n",
              "    \n",
              "\n",
              "\n",
              "    \n",
              "\n",
              "    \n",
              "\n",
              "    \n",
              "\n",
              "    \n",
              "        \n",
              "\n",
              "    \n",
              "\n",
              "    \n",
              "        \n",
              "    \n",
              "        \n",
              "        \n",
              "    \n",
              "        <p style=\"margin-bottom: 0.5em; margin-top: 0em\">\n",
              "            <b>\n",
              "    \n",
              "        y=I-GENRE\n",
              "    \n",
              "</b>\n",
              "\n",
              "    \n",
              "    (probability <b>0.897</b>, score <b>3.576</b>)\n",
              "\n",
              "top features\n",
              "        </p>\n",
              "    \n",
              "    <table class=\"eli5-weights\"\n",
              "           style=\"border-collapse: collapse; border: none; margin-top: 0em; table-layout: auto; margin-bottom: 2em;\">\n",
              "        <thead>\n",
              "        <tr style=\"border: none;\">\n",
              "            \n",
              "                <th style=\"padding: 0 1em 0 0.5em; text-align: right; border: none;\" title=\"Feature contribution already accounts for the feature value (for linear models, contribution = weight * feature value), and the sum of feature contributions is equal to the score or, for some classifiers, to the probability. Feature values are shown if &quot;show_feature_values&quot; is True.\">\n",
              "                    Contribution<sup>?</sup>\n",
              "                </th>\n",
              "            \n",
              "            <th style=\"padding: 0 0.5em 0 0.5em; text-align: left; border: none;\">Feature</th>\n",
              "            \n",
              "        </tr>\n",
              "        </thead>\n",
              "        <tbody>\n",
              "        \n",
              "            <tr style=\"background-color: hsl(120, 100.00%, 80.00%); border: none;\">\n",
              "    <td style=\"padding: 0 1em 0 0.5em; text-align: right; border: none;\">\n",
              "        +9.358\n",
              "    </td>\n",
              "    <td style=\"padding: 0 0.5em 0 0.5em; text-align: left; border: none;\">\n",
              "        Highlighted in text (sum)\n",
              "    </td>\n",
              "    \n",
              "</tr>\n",
              "        \n",
              "        \n",
              "\n",
              "        \n",
              "        \n",
              "            <tr style=\"background-color: hsl(0, 100.00%, 85.72%); border: none;\">\n",
              "    <td style=\"padding: 0 1em 0 0.5em; text-align: right; border: none;\">\n",
              "        -5.782\n",
              "    </td>\n",
              "    <td style=\"padding: 0 0.5em 0 0.5em; text-align: left; border: none;\">\n",
              "        &lt;BIAS&gt;\n",
              "    </td>\n",
              "    \n",
              "</tr>\n",
              "        \n",
              "\n",
              "        </tbody>\n",
              "    </table>\n",
              "\n",
              "    \n",
              "\n",
              "\n",
              "\n",
              "    <p style=\"margin-bottom: 2.5em; margin-top:-0.5em;\">\n",
              "        <span style=\"background-color: hsl(120, 100.00%, 95.32%); opacity: 0.81\" title=\"0.283\">show</span><span style=\"opacity: 0.80\"> </span><span style=\"background-color: hsl(120, 100.00%, 92.54%); opacity: 0.82\" title=\"0.549\">me</span><span style=\"opacity: 0.80\"> </span><span style=\"background-color: hsl(120, 100.00%, 76.63%); opacity: 0.89\" title=\"2.807\">science</span><span style=\"opacity: 0.80\"> </span><span style=\"background-color: hsl(120, 100.00%, 60.00%); opacity: 1.00\" title=\"6.050\">fiction</span><span style=\"opacity: 0.80\"> </span><span style=\"background-color: hsl(0, 100.00%, 99.33%); opacity: 0.80\" title=\"-0.018\">films</span><span style=\"opacity: 0.80\"> </span><span style=\"background-color: hsl(0, 100.00%, 93.11%); opacity: 0.82\" title=\"-0.490\">directed</span><span style=\"opacity: 0.80\"> </span><span style=\"background-color: hsl(120, 100.00%, 97.57%); opacity: 0.80\" title=\"0.111\">by</span><span style=\"opacity: 0.80\"> </span><span style=\"background-color: hsl(0, 100.00%, 98.54%); opacity: 0.80\" title=\"-0.054\">steven</span><span style=\"opacity: 0.80\"> </span><span style=\"background-color: hsl(120, 100.00%, 97.43%); opacity: 0.80\" title=\"0.120\">spielberg</span>\n",
              "    </p>\n",
              "\n",
              "    \n",
              "        \n",
              "    \n",
              "        \n",
              "        \n",
              "    \n",
              "        <p style=\"margin-bottom: 0.5em; margin-top: 0em\">\n",
              "            <b>\n",
              "    \n",
              "        y=I-DIRECTOR\n",
              "    \n",
              "</b>\n",
              "\n",
              "    \n",
              "    (probability <b>0.030</b>, score <b>-3.389</b>)\n",
              "\n",
              "top features\n",
              "        </p>\n",
              "    \n",
              "    <table class=\"eli5-weights\"\n",
              "           style=\"border-collapse: collapse; border: none; margin-top: 0em; table-layout: auto; margin-bottom: 2em;\">\n",
              "        <thead>\n",
              "        <tr style=\"border: none;\">\n",
              "            \n",
              "                <th style=\"padding: 0 1em 0 0.5em; text-align: right; border: none;\" title=\"Feature contribution already accounts for the feature value (for linear models, contribution = weight * feature value), and the sum of feature contributions is equal to the score or, for some classifiers, to the probability. Feature values are shown if &quot;show_feature_values&quot; is True.\">\n",
              "                    Contribution<sup>?</sup>\n",
              "                </th>\n",
              "            \n",
              "            <th style=\"padding: 0 0.5em 0 0.5em; text-align: left; border: none;\">Feature</th>\n",
              "            \n",
              "        </tr>\n",
              "        </thead>\n",
              "        <tbody>\n",
              "        \n",
              "            <tr style=\"background-color: hsl(120, 100.00%, 90.91%); border: none;\">\n",
              "    <td style=\"padding: 0 1em 0 0.5em; text-align: right; border: none;\">\n",
              "        +3.034\n",
              "    </td>\n",
              "    <td style=\"padding: 0 0.5em 0 0.5em; text-align: left; border: none;\">\n",
              "        Highlighted in text (sum)\n",
              "    </td>\n",
              "    \n",
              "</tr>\n",
              "        \n",
              "        \n",
              "\n",
              "        \n",
              "        \n",
              "            <tr style=\"background-color: hsl(0, 100.00%, 84.63%); border: none;\">\n",
              "    <td style=\"padding: 0 1em 0 0.5em; text-align: right; border: none;\">\n",
              "        -6.423\n",
              "    </td>\n",
              "    <td style=\"padding: 0 0.5em 0 0.5em; text-align: left; border: none;\">\n",
              "        &lt;BIAS&gt;\n",
              "    </td>\n",
              "    \n",
              "</tr>\n",
              "        \n",
              "\n",
              "        </tbody>\n",
              "    </table>\n",
              "\n",
              "    \n",
              "\n",
              "\n",
              "\n",
              "    <p style=\"margin-bottom: 2.5em; margin-top:-0.5em;\">\n",
              "        <span style=\"background-color: hsl(120, 100.00%, 87.95%); opacity: 0.84\" title=\"1.090\">show</span><span style=\"opacity: 0.80\"> </span><span style=\"background-color: hsl(120, 100.00%, 89.06%); opacity: 0.83\" title=\"0.950\">me</span><span style=\"opacity: 0.80\"> </span><span style=\"background-color: hsl(120, 100.00%, 84.13%); opacity: 0.85\" title=\"1.615\">science</span><span style=\"opacity: 0.80\"> </span><span style=\"background-color: hsl(0, 100.00%, 74.27%); opacity: 0.91\" title=\"-3.220\">fiction</span><span style=\"opacity: 0.80\"> </span><span style=\"background-color: hsl(120, 100.00%, 89.85%); opacity: 0.83\" title=\"0.853\">films</span><span style=\"opacity: 0.80\"> </span><span style=\"background-color: hsl(120, 100.00%, 83.72%); opacity: 0.86\" title=\"1.676\">directed</span><span style=\"opacity: 0.80\"> </span><span style=\"background-color: hsl(0, 100.00%, 91.94%); opacity: 0.82\" title=\"-0.614\">by</span><span style=\"opacity: 0.80\"> </span><span style=\"background-color: hsl(120, 100.00%, 94.73%); opacity: 0.81\" title=\"0.335\">steven</span><span style=\"opacity: 0.80\"> </span><span style=\"background-color: hsl(120, 100.00%, 94.56%); opacity: 0.81\" title=\"0.350\">spielberg</span>\n",
              "    </p>\n",
              "\n",
              "    \n",
              "        \n",
              "    \n",
              "        \n",
              "        \n",
              "    \n",
              "        <p style=\"margin-bottom: 0.5em; margin-top: 0em\">\n",
              "            <b>\n",
              "    \n",
              "        y=B-GENRE\n",
              "    \n",
              "</b>\n",
              "\n",
              "    \n",
              "    (probability <b>0.015</b>, score <b>-4.111</b>)\n",
              "\n",
              "top features\n",
              "        </p>\n",
              "    \n",
              "    <table class=\"eli5-weights\"\n",
              "           style=\"border-collapse: collapse; border: none; margin-top: 0em; table-layout: auto; margin-bottom: 2em;\">\n",
              "        <thead>\n",
              "        <tr style=\"border: none;\">\n",
              "            \n",
              "                <th style=\"padding: 0 1em 0 0.5em; text-align: right; border: none;\" title=\"Feature contribution already accounts for the feature value (for linear models, contribution = weight * feature value), and the sum of feature contributions is equal to the score or, for some classifiers, to the probability. Feature values are shown if &quot;show_feature_values&quot; is True.\">\n",
              "                    Contribution<sup>?</sup>\n",
              "                </th>\n",
              "            \n",
              "            <th style=\"padding: 0 0.5em 0 0.5em; text-align: left; border: none;\">Feature</th>\n",
              "            \n",
              "        </tr>\n",
              "        </thead>\n",
              "        <tbody>\n",
              "        \n",
              "            <tr style=\"background-color: hsl(120, 100.00%, 94.55%); border: none;\">\n",
              "    <td style=\"padding: 0 1em 0 0.5em; text-align: right; border: none;\">\n",
              "        +1.460\n",
              "    </td>\n",
              "    <td style=\"padding: 0 0.5em 0 0.5em; text-align: left; border: none;\">\n",
              "        Highlighted in text (sum)\n",
              "    </td>\n",
              "    \n",
              "</tr>\n",
              "        \n",
              "        \n",
              "\n",
              "        \n",
              "        \n",
              "            <tr style=\"background-color: hsl(0, 100.00%, 86.09%); border: none;\">\n",
              "    <td style=\"padding: 0 1em 0 0.5em; text-align: right; border: none;\">\n",
              "        -5.571\n",
              "    </td>\n",
              "    <td style=\"padding: 0 0.5em 0 0.5em; text-align: left; border: none;\">\n",
              "        &lt;BIAS&gt;\n",
              "    </td>\n",
              "    \n",
              "</tr>\n",
              "        \n",
              "\n",
              "        </tbody>\n",
              "    </table>\n",
              "\n",
              "    \n",
              "\n",
              "\n",
              "\n",
              "    <p style=\"margin-bottom: 2.5em; margin-top:-0.5em;\">\n",
              "        <span style=\"background-color: hsl(120, 100.00%, 96.17%); opacity: 0.81\" title=\"0.212\">show</span><span style=\"opacity: 0.80\"> </span><span style=\"background-color: hsl(0, 100.00%, 90.91%); opacity: 0.82\" title=\"-0.729\">me</span><span style=\"opacity: 0.80\"> </span><span style=\"background-color: hsl(0, 100.00%, 73.27%); opacity: 0.91\" title=\"-3.402\">science</span><span style=\"opacity: 0.80\"> </span><span style=\"background-color: hsl(120, 100.00%, 78.00%); opacity: 0.89\" title=\"2.576\">fiction</span><span style=\"opacity: 0.80\"> </span><span style=\"background-color: hsl(120, 100.00%, 85.78%); opacity: 0.85\" title=\"1.381\">films</span><span style=\"opacity: 0.80\"> </span><span style=\"background-color: hsl(120, 100.00%, 87.47%); opacity: 0.84\" title=\"1.153\">directed</span><span style=\"opacity: 0.80\"> </span><span style=\"background-color: hsl(120, 100.00%, 96.79%); opacity: 0.81\" title=\"0.165\">by</span><span style=\"opacity: 0.80\"> </span><span style=\"background-color: hsl(120, 100.00%, 97.66%); opacity: 0.80\" title=\"0.105\">steven</span><span style=\"opacity: 0.80\"> spielberg</span>\n",
              "    </p>\n",
              "\n",
              "    \n",
              "\n",
              "\n",
              "    \n",
              "\n",
              "    \n",
              "\n",
              "    \n",
              "\n",
              "\n",
              "    \n",
              "\n",
              "    \n",
              "\n",
              "    \n",
              "\n",
              "    \n",
              "\n",
              "    \n",
              "\n",
              "    \n",
              "\n",
              "\n",
              "    \n",
              "\n",
              "    \n",
              "\n",
              "    \n",
              "\n",
              "    \n",
              "\n",
              "    \n",
              "\n",
              "    \n",
              "\n",
              "\n",
              "\n"
            ],
            "text/plain": [
              "<IPython.core.display.HTML object>"
            ]
          },
          "metadata": {
            "tags": []
          },
          "execution_count": 93
        }
      ]
    },
    {
      "cell_type": "code",
      "metadata": {
        "id": "XCVtSEmEOepy"
      },
      "source": [
        ""
      ],
      "execution_count": null,
      "outputs": []
    },
    {
      "cell_type": "code",
      "metadata": {
        "id": "wonssgZGQbLT"
      },
      "source": [
        ""
      ],
      "execution_count": null,
      "outputs": []
    },
    {
      "cell_type": "markdown",
      "metadata": {
        "id": "fSVcGj_V3o-A"
      },
      "source": [
        "## Elmo + BiLSTM + CRF"
      ]
    },
    {
      "cell_type": "code",
      "metadata": {
        "id": "tEn0q76K3o-G"
      },
      "source": [
        "import tensorflow_hub as hub\n",
        "from keras import backend as K"
      ],
      "execution_count": null,
      "outputs": []
    },
    {
      "cell_type": "code",
      "metadata": {
        "id": "FCR-W3h63o-N"
      },
      "source": [
        "K.clear_session()\n",
        "\n",
        "sess = tf.Session()\n",
        "K.set_session(sess)"
      ],
      "execution_count": null,
      "outputs": []
    },
    {
      "cell_type": "code",
      "metadata": {
        "id": "fURAd_vQ3o-R",
        "colab": {
          "base_uri": "https://localhost:8080/"
        },
        "outputId": "6a393e08-ee8e-410a-8ee6-64571dfd43b5"
      },
      "source": [
        "batch_size = 32\n",
        "num_labels = len(tag2idx.keys())\n",
        "num_labels"
      ],
      "execution_count": null,
      "outputs": [
        {
          "output_type": "execute_result",
          "data": {
            "text/plain": [
              "25"
            ]
          },
          "metadata": {
            "tags": []
          },
          "execution_count": 87
        }
      ]
    },
    {
      "cell_type": "code",
      "metadata": {
        "id": "a8O4uYo63o-W",
        "colab": {
          "base_uri": "https://localhost:8080/"
        },
        "outputId": "58033bbf-19e6-4920-8d49-8a0e0cb62c10"
      },
      "source": [
        "# trim train set to be divisible by batch_size\n",
        "remainder = y_train.shape[0] % batch_size\n",
        "cutoff = y_train.shape[0] - remainder\n",
        "\n",
        "#train_limit = cutoff - batch_size*10 # take 10 batches to validate on\n",
        "\n",
        "x_final_train = x_train[0:cutoff]\n",
        "y_final_train = y_train[0:cutoff]\n",
        "\n",
        "#x_val = x_train[train_limit:cutoff]\n",
        "#y_val = y_train[train_limit:cutoff]\n",
        "\n",
        "\n",
        "len(x_final_train), y_final_train.shape # , len(x_val), y_val.shape"
      ],
      "execution_count": null,
      "outputs": [
        {
          "output_type": "execute_result",
          "data": {
            "text/plain": [
              "(9760, (9760, 50, 1))"
            ]
          },
          "metadata": {
            "tags": []
          },
          "execution_count": 76
        }
      ]
    },
    {
      "cell_type": "code",
      "metadata": {
        "id": "F9Y5RiJQ9pdd"
      },
      "source": [
        "from keras.utils import to_categorical\n",
        "\n",
        "# must go back and rerun begining steps but skip reshaping y\n",
        "y = [to_categorical(i, num_classes = num_labels + 1) for i in y_train]"
      ],
      "execution_count": null,
      "outputs": []
    },
    {
      "cell_type": "markdown",
      "metadata": {
        "id": "BLPzgekG3o-Z"
      },
      "source": [
        "### Train the model"
      ]
    },
    {
      "cell_type": "code",
      "metadata": {
        "id": "9srXA1qr7quI",
        "colab": {
          "base_uri": "https://localhost:8080/"
        },
        "outputId": "613c88c0-89cd-413c-b9d9-0f92f66fc578"
      },
      "source": [
        "!pip install git+https://www.github.com/keras-team/keras-contrib.git"
      ],
      "execution_count": null,
      "outputs": [
        {
          "output_type": "stream",
          "text": [
            "Collecting git+https://www.github.com/keras-team/keras-contrib.git\n",
            "  Cloning https://www.github.com/keras-team/keras-contrib.git to /tmp/pip-req-build-bmbuz505\n",
            "  Running command git clone -q https://www.github.com/keras-team/keras-contrib.git /tmp/pip-req-build-bmbuz505\n",
            "Requirement already satisfied: keras in /tensorflow-1.15.2/python3.6 (from keras-contrib==2.0.8) (2.3.1)\n",
            "Requirement already satisfied: pyyaml in /usr/local/lib/python3.6/dist-packages (from keras->keras-contrib==2.0.8) (3.13)\n",
            "Requirement already satisfied: h5py in /usr/local/lib/python3.6/dist-packages (from keras->keras-contrib==2.0.8) (2.10.0)\n",
            "Requirement already satisfied: six>=1.9.0 in /usr/local/lib/python3.6/dist-packages (from keras->keras-contrib==2.0.8) (1.15.0)\n",
            "Requirement already satisfied: numpy>=1.9.1 in /usr/local/lib/python3.6/dist-packages (from keras->keras-contrib==2.0.8) (1.18.5)\n",
            "Requirement already satisfied: keras-preprocessing>=1.0.5 in /usr/local/lib/python3.6/dist-packages (from keras->keras-contrib==2.0.8) (1.1.2)\n",
            "Requirement already satisfied: scipy>=0.14 in /usr/local/lib/python3.6/dist-packages (from keras->keras-contrib==2.0.8) (1.4.1)\n",
            "Requirement already satisfied: keras-applications>=1.0.6 in /tensorflow-1.15.2/python3.6 (from keras->keras-contrib==2.0.8) (1.0.8)\n",
            "Building wheels for collected packages: keras-contrib\n",
            "  Building wheel for keras-contrib (setup.py) ... \u001b[?25l\u001b[?25hdone\n",
            "  Created wheel for keras-contrib: filename=keras_contrib-2.0.8-cp36-none-any.whl size=101066 sha256=5643cc4cc2309f990cab152e0d3a1fd941c286bac8d326f19d31e8a928c04c5c\n",
            "  Stored in directory: /tmp/pip-ephem-wheel-cache-tjmieknt/wheels/11/27/c8/4ed56de7b55f4f61244e2dc6ef3cdbaff2692527a2ce6502ba\n",
            "Successfully built keras-contrib\n",
            "Installing collected packages: keras-contrib\n",
            "Successfully installed keras-contrib-2.0.8\n"
          ],
          "name": "stdout"
        }
      ]
    },
    {
      "cell_type": "code",
      "metadata": {
        "id": "OrHcHcRF3o-Z"
      },
      "source": [
        "model_name = 'mitmovie_elmo/elmo_biLSTM_CRF_5epochs'"
      ],
      "execution_count": null,
      "outputs": []
    },
    {
      "cell_type": "code",
      "metadata": {
        "id": "2lD5qJDj3o-c"
      },
      "source": [
        "# retrieve elmo word embeddings\n",
        "# https://tfhub.dev/google/elmo/3\n",
        "\n",
        "elmo_model = hub.Module(\"https://tfhub.dev/google/elmo/3\", trainable=True)\n",
        "sess.run(tf.global_variables_initializer())\n",
        "sess.run(tf.tables_initializer())"
      ],
      "execution_count": null,
      "outputs": []
    },
    {
      "cell_type": "code",
      "metadata": {
        "id": "h_OtcXW-3o-e"
      },
      "source": [
        "def ElmoEmbedding(x):\n",
        "    return elmo_model(inputs={\n",
        "                            \"tokens\": tf.squeeze(tf.cast(x, tf.string)), # passing the pretokenized words to the model\n",
        "                            \"sequence_len\": tf.constant(batch_size*[max_len])\n",
        "                      },\n",
        "                      signature=\"tokens\",\n",
        "                      as_dict=True)[\"elmo\"]"
      ],
      "execution_count": null,
      "outputs": []
    },
    {
      "cell_type": "code",
      "metadata": {
        "id": "GLlhKP2sxOJs",
        "colab": {
          "base_uri": "https://localhost:8080/"
        },
        "outputId": "43d52363-db1e-4aa4-9754-b94c3c154cbe"
      },
      "source": [
        "num_labels"
      ],
      "execution_count": null,
      "outputs": [
        {
          "output_type": "execute_result",
          "data": {
            "text/plain": [
              "25"
            ]
          },
          "metadata": {
            "tags": []
          },
          "execution_count": 86
        }
      ]
    },
    {
      "cell_type": "code",
      "metadata": {
        "id": "v_ZMXMF-3o-g"
      },
      "source": [
        "from keras.models import Model, Input\n",
        "from keras.layers.merge import add\n",
        "from keras.layers import LSTM, Dropout, Embedding, Dense, TimeDistributed, Dropout, Bidirectional, Lambda\n",
        "from keras_contrib.layers import CRF\n",
        "import keras.layers as layers\n",
        "from keras.engine import Layer\n",
        "\n",
        "\n",
        "# Function to build model\n",
        "def build_model():\n",
        "\n",
        "  input_text = Input(shape=(max_len,), dtype=tf.string)\n",
        "\n",
        "  embedding = Lambda(ElmoEmbedding, output_shape=(None, 1024))(input_text)\n",
        "\n",
        "  # x = Bidirectional(LSTM(units=512, return_sequences=True,\n",
        "  #                     recurrent_dropout=0.2, dropout=0.2))(embedding)\n",
        "\n",
        "  # x_rnn = Bidirectional(LSTM(units=512, return_sequences=True,\n",
        "  #                         recurrent_dropout=0.2, dropout=0.2))(x)\n",
        "\n",
        "  # x = add([x, x_rnn])  # residual connection to the first biLSTM\n",
        "\n",
        "  # out = TimeDistributed(Dense(num_labels, activation=\"softmax\"))(x)\n",
        "\n",
        "\n",
        "  bi = Bidirectional(LSTM(units = 50, return_sequences=True, \n",
        "                             recurrent_dropout=0.2))(embedding)\n",
        "\n",
        "#  tdist = TimeDistributed(Dense(50, activation=\"relu\"))(bi)\n",
        "  tdist = TimeDistributed(Dense(num_labels, activation=\"relu\"))(bi)\n",
        "\n",
        "#  out = TimeDistributed(Dense(num_labels, activation=\"softmax\"))(x)\n",
        "  crf = CRF(num_labels)  # CRF layer\n",
        "#  crf = CRF(num_labels+1)  # CRF layer\n",
        "  out = crf(tdist)  # output    \n",
        "\n",
        "  model = Model(input_text, out)\n",
        "\n",
        "  model.compile(optimizer=\"rmsprop\", \n",
        "              loss=crf.loss_function, \n",
        "              metrics=[crf.accuracy])\n",
        "  \n",
        "  model.summary() # print model summary\n",
        "\n",
        "  return model"
      ],
      "execution_count": null,
      "outputs": []
    },
    {
      "cell_type": "code",
      "metadata": {
        "id": "8MZseCef3o-j",
        "colab": {
          "base_uri": "https://localhost:8080/"
        },
        "outputId": "0fc76bfb-8b18-4cb6-fac4-3ec573eb3bb9"
      },
      "source": [
        "model = build_model()"
      ],
      "execution_count": null,
      "outputs": [
        {
          "output_type": "stream",
          "text": [
            "INFO:tensorflow:Saver not created because there are no variables in the graph to restore\n"
          ],
          "name": "stdout"
        },
        {
          "output_type": "stream",
          "text": [
            "INFO:tensorflow:Saver not created because there are no variables in the graph to restore\n",
            "/usr/local/lib/python3.6/dist-packages/keras_contrib/layers/crf.py:346: UserWarning: CRF.loss_function is deprecated and it might be removed in the future. Please use losses.crf_loss instead.\n",
            "  warnings.warn('CRF.loss_function is deprecated '\n",
            "/usr/local/lib/python3.6/dist-packages/keras_contrib/layers/crf.py:353: UserWarning: CRF.accuracy is deprecated and it might be removed in the future. Please use metrics.crf_accuracy\n",
            "  warnings.warn('CRF.accuracy is deprecated and it '\n"
          ],
          "name": "stderr"
        },
        {
          "output_type": "stream",
          "text": [
            "Model: \"model_3\"\n",
            "_________________________________________________________________\n",
            "Layer (type)                 Output Shape              Param #   \n",
            "=================================================================\n",
            "input_3 (InputLayer)         (None, 50)                0         \n",
            "_________________________________________________________________\n",
            "lambda_3 (Lambda)            (None, None, 1024)        0         \n",
            "_________________________________________________________________\n",
            "bidirectional_3 (Bidirection (None, None, 100)         430000    \n",
            "_________________________________________________________________\n",
            "time_distributed_3 (TimeDist (None, None, 25)          2525      \n",
            "_________________________________________________________________\n",
            "crf_3 (CRF)                  (None, None, 25)          1325      \n",
            "=================================================================\n",
            "Total params: 433,850\n",
            "Trainable params: 433,850\n",
            "Non-trainable params: 0\n",
            "_________________________________________________________________\n"
          ],
          "name": "stdout"
        }
      ]
    },
    {
      "cell_type": "code",
      "metadata": {
        "id": "M2J_VwpvxDVD"
      },
      "source": [
        ""
      ],
      "execution_count": null,
      "outputs": []
    },
    {
      "cell_type": "code",
      "metadata": {
        "id": "RmYpo3nK3o-l",
        "colab": {
          "base_uri": "https://localhost:8080/",
          "height": 475
        },
        "outputId": "0275a4cb-ff65-4ee8-9787-b9f7a544b9bf"
      },
      "source": [
        "history = model.fit(x_final_train, y_final_train, \n",
        "                    #validation_data = (x_val, y_val), \n",
        "                    batch_size = batch_size, \n",
        "                    epochs = 5)"
      ],
      "execution_count": null,
      "outputs": [
        {
          "output_type": "stream",
          "text": [
            "Epoch 1/5\n"
          ],
          "name": "stdout"
        },
        {
          "output_type": "error",
          "ename": "InvalidArgumentError",
          "evalue": "ignored",
          "traceback": [
            "\u001b[0;31m---------------------------------------------------------------------------\u001b[0m",
            "\u001b[0;31mInvalidArgumentError\u001b[0m                      Traceback (most recent call last)",
            "\u001b[0;32m<ipython-input-95-7cc283e6c248>\u001b[0m in \u001b[0;36m<module>\u001b[0;34m()\u001b[0m\n\u001b[1;32m      2\u001b[0m                     \u001b[0;31m#validation_data = (x_val, y_val),\u001b[0m\u001b[0;34m\u001b[0m\u001b[0;34m\u001b[0m\u001b[0;34m\u001b[0m\u001b[0m\n\u001b[1;32m      3\u001b[0m                     \u001b[0mbatch_size\u001b[0m \u001b[0;34m=\u001b[0m \u001b[0mbatch_size\u001b[0m\u001b[0;34m,\u001b[0m\u001b[0;34m\u001b[0m\u001b[0;34m\u001b[0m\u001b[0m\n\u001b[0;32m----> 4\u001b[0;31m                     epochs = 5)\n\u001b[0m",
            "\u001b[0;32m/tensorflow-1.15.2/python3.6/keras/engine/training.py\u001b[0m in \u001b[0;36mfit\u001b[0;34m(self, x, y, batch_size, epochs, verbose, callbacks, validation_split, validation_data, shuffle, class_weight, sample_weight, initial_epoch, steps_per_epoch, validation_steps, validation_freq, max_queue_size, workers, use_multiprocessing, **kwargs)\u001b[0m\n\u001b[1;32m   1237\u001b[0m                                         \u001b[0msteps_per_epoch\u001b[0m\u001b[0;34m=\u001b[0m\u001b[0msteps_per_epoch\u001b[0m\u001b[0;34m,\u001b[0m\u001b[0;34m\u001b[0m\u001b[0;34m\u001b[0m\u001b[0m\n\u001b[1;32m   1238\u001b[0m                                         \u001b[0mvalidation_steps\u001b[0m\u001b[0;34m=\u001b[0m\u001b[0mvalidation_steps\u001b[0m\u001b[0;34m,\u001b[0m\u001b[0;34m\u001b[0m\u001b[0;34m\u001b[0m\u001b[0m\n\u001b[0;32m-> 1239\u001b[0;31m                                         validation_freq=validation_freq)\n\u001b[0m\u001b[1;32m   1240\u001b[0m \u001b[0;34m\u001b[0m\u001b[0m\n\u001b[1;32m   1241\u001b[0m     def evaluate(self,\n",
            "\u001b[0;32m/tensorflow-1.15.2/python3.6/keras/engine/training_arrays.py\u001b[0m in \u001b[0;36mfit_loop\u001b[0;34m(model, fit_function, fit_inputs, out_labels, batch_size, epochs, verbose, callbacks, val_function, val_inputs, shuffle, initial_epoch, steps_per_epoch, validation_steps, validation_freq)\u001b[0m\n\u001b[1;32m    194\u001b[0m                     \u001b[0mins_batch\u001b[0m\u001b[0;34m[\u001b[0m\u001b[0mi\u001b[0m\u001b[0;34m]\u001b[0m \u001b[0;34m=\u001b[0m \u001b[0mins_batch\u001b[0m\u001b[0;34m[\u001b[0m\u001b[0mi\u001b[0m\u001b[0;34m]\u001b[0m\u001b[0;34m.\u001b[0m\u001b[0mtoarray\u001b[0m\u001b[0;34m(\u001b[0m\u001b[0;34m)\u001b[0m\u001b[0;34m\u001b[0m\u001b[0;34m\u001b[0m\u001b[0m\n\u001b[1;32m    195\u001b[0m \u001b[0;34m\u001b[0m\u001b[0m\n\u001b[0;32m--> 196\u001b[0;31m                 \u001b[0mouts\u001b[0m \u001b[0;34m=\u001b[0m \u001b[0mfit_function\u001b[0m\u001b[0;34m(\u001b[0m\u001b[0mins_batch\u001b[0m\u001b[0;34m)\u001b[0m\u001b[0;34m\u001b[0m\u001b[0;34m\u001b[0m\u001b[0m\n\u001b[0m\u001b[1;32m    197\u001b[0m                 \u001b[0mouts\u001b[0m \u001b[0;34m=\u001b[0m \u001b[0mto_list\u001b[0m\u001b[0;34m(\u001b[0m\u001b[0mouts\u001b[0m\u001b[0;34m)\u001b[0m\u001b[0;34m\u001b[0m\u001b[0;34m\u001b[0m\u001b[0m\n\u001b[1;32m    198\u001b[0m                 \u001b[0;32mfor\u001b[0m \u001b[0ml\u001b[0m\u001b[0;34m,\u001b[0m \u001b[0mo\u001b[0m \u001b[0;32min\u001b[0m \u001b[0mzip\u001b[0m\u001b[0;34m(\u001b[0m\u001b[0mout_labels\u001b[0m\u001b[0;34m,\u001b[0m \u001b[0mouts\u001b[0m\u001b[0;34m)\u001b[0m\u001b[0;34m:\u001b[0m\u001b[0;34m\u001b[0m\u001b[0;34m\u001b[0m\u001b[0m\n",
            "\u001b[0;32m/tensorflow-1.15.2/python3.6/tensorflow_core/python/keras/backend.py\u001b[0m in \u001b[0;36m__call__\u001b[0;34m(self, inputs)\u001b[0m\n\u001b[1;32m   3474\u001b[0m \u001b[0;34m\u001b[0m\u001b[0m\n\u001b[1;32m   3475\u001b[0m     fetched = self._callable_fn(*array_vals,\n\u001b[0;32m-> 3476\u001b[0;31m                                 run_metadata=self.run_metadata)\n\u001b[0m\u001b[1;32m   3477\u001b[0m     \u001b[0mself\u001b[0m\u001b[0;34m.\u001b[0m\u001b[0m_call_fetch_callbacks\u001b[0m\u001b[0;34m(\u001b[0m\u001b[0mfetched\u001b[0m\u001b[0;34m[\u001b[0m\u001b[0;34m-\u001b[0m\u001b[0mlen\u001b[0m\u001b[0;34m(\u001b[0m\u001b[0mself\u001b[0m\u001b[0;34m.\u001b[0m\u001b[0m_fetches\u001b[0m\u001b[0;34m)\u001b[0m\u001b[0;34m:\u001b[0m\u001b[0;34m]\u001b[0m\u001b[0;34m)\u001b[0m\u001b[0;34m\u001b[0m\u001b[0;34m\u001b[0m\u001b[0m\n\u001b[1;32m   3478\u001b[0m     output_structure = nest.pack_sequence_as(\n",
            "\u001b[0;32m/tensorflow-1.15.2/python3.6/tensorflow_core/python/client/session.py\u001b[0m in \u001b[0;36m__call__\u001b[0;34m(self, *args, **kwargs)\u001b[0m\n\u001b[1;32m   1470\u001b[0m         ret = tf_session.TF_SessionRunCallable(self._session._session,\n\u001b[1;32m   1471\u001b[0m                                                \u001b[0mself\u001b[0m\u001b[0;34m.\u001b[0m\u001b[0m_handle\u001b[0m\u001b[0;34m,\u001b[0m \u001b[0margs\u001b[0m\u001b[0;34m,\u001b[0m\u001b[0;34m\u001b[0m\u001b[0;34m\u001b[0m\u001b[0m\n\u001b[0;32m-> 1472\u001b[0;31m                                                run_metadata_ptr)\n\u001b[0m\u001b[1;32m   1473\u001b[0m         \u001b[0;32mif\u001b[0m \u001b[0mrun_metadata\u001b[0m\u001b[0;34m:\u001b[0m\u001b[0;34m\u001b[0m\u001b[0;34m\u001b[0m\u001b[0m\n\u001b[1;32m   1474\u001b[0m           \u001b[0mproto_data\u001b[0m \u001b[0;34m=\u001b[0m \u001b[0mtf_session\u001b[0m\u001b[0;34m.\u001b[0m\u001b[0mTF_GetBuffer\u001b[0m\u001b[0;34m(\u001b[0m\u001b[0mrun_metadata_ptr\u001b[0m\u001b[0;34m)\u001b[0m\u001b[0;34m\u001b[0m\u001b[0;34m\u001b[0m\u001b[0m\n",
            "\u001b[0;31mInvalidArgumentError\u001b[0m: 2 root error(s) found.\n  (0) Invalid argument: Matrix size-incompatible: In[0]: [1568,1], In[1]: [25,25]\n\t [[{{node loss_2/crf_3_loss/crf_loss/MatMul_1}}]]\n\t [[Mean_2/_865]]\n  (1) Invalid argument: Matrix size-incompatible: In[0]: [1568,1], In[1]: [25,25]\n\t [[{{node loss_2/crf_3_loss/crf_loss/MatMul_1}}]]\n0 successful operations.\n0 derived errors ignored."
          ]
        }
      ]
    },
    {
      "cell_type": "code",
      "metadata": {
        "id": "uIyHe1Mc3o-m"
      },
      "source": [
        "model.save_weights(model_dir + model_name + '.h5')"
      ],
      "execution_count": null,
      "outputs": []
    },
    {
      "cell_type": "code",
      "metadata": {
        "id": "rMaQ8F7D3o-o"
      },
      "source": [
        "# plot model fitting results\n",
        "import matplotlib.pyplot as plt\n",
        "#%matplotlib inline\n",
        "\n",
        "fig = plt.figure(figsize = (10,3))\n",
        "\n",
        "acc = history.history['accuracy']\n",
        "#val_acc = history.history['val_accuracy']\n",
        "\n",
        "epochs = range(1, len(acc) + 1)\n",
        "\n",
        "plt.subplot(1,2,1)\n",
        "plt.plot(epochs, acc, 'bo', label='Training acc')\n",
        "#plt.plot(epochs, val_acc, 'b', label='Validation acc')\n",
        "plt.xlabel('Epochs')\n",
        "plt.ylabel('Acc')\n",
        "plt.legend()\n",
        "\n",
        "plt.subplot(1,2,2)\n",
        "loss = history.history['loss']\n",
        "#val_loss = history.history['val_loss']\n",
        "plt.plot(epochs, loss, 'ro', label='Training loss')\n",
        "#plt.plot(epochs, val_loss, 'r', label='Validation loss')\n",
        "plt.xlabel('Epochs')\n",
        "#plt.ylabel('Loss')\n",
        "plt.legend()\n",
        "\n",
        "plt.show()\n",
        "fig.savefig(model_dir + model_name + '.png', dpi=400, bbox_inches='tight')"
      ],
      "execution_count": null,
      "outputs": []
    },
    {
      "cell_type": "markdown",
      "metadata": {
        "id": "BFAMcU6U3o-q"
      },
      "source": [
        "### Evaluate the model"
      ]
    },
    {
      "cell_type": "code",
      "metadata": {
        "id": "W_zkC8463o-q"
      },
      "source": [
        "print('Original test set shape:', x_test.shape)\n",
        "# how many rows we need extra so that model is divisible by 32\n",
        "additional_rows = batch_size - x_test.shape[0] % batch_size\n",
        "x_eval = np.append(x_test, x_test[0:additional_rows], axis=0)\n",
        "print('Eval test set shape:', x_eval.shape)"
      ],
      "execution_count": null,
      "outputs": []
    },
    {
      "cell_type": "code",
      "metadata": {
        "id": "rv5GB6YK3o-s"
      },
      "source": [
        "model = build_model()\n",
        "\n",
        "# must initialize the model first, then load the weights\n",
        "model.load_weights(model_dir + model_name + '.h5')"
      ],
      "execution_count": null,
      "outputs": []
    },
    {
      "cell_type": "code",
      "metadata": {
        "id": "vB2Nx7Qk3o-v"
      },
      "source": [
        "preds = model.predict(x_eval, batch_size=batch_size)\n",
        "preds = np.argmax(preds, axis=-1)"
      ],
      "execution_count": null,
      "outputs": []
    },
    {
      "cell_type": "code",
      "metadata": {
        "id": "wzTLURLK3o-w"
      },
      "source": [
        "print('Initial preds shape:', preds.shape)\n",
        "preds = preds[0:x_test.shape[0]]\n",
        "print('Trimmed to original preds shape:', preds.shape)"
      ],
      "execution_count": null,
      "outputs": []
    },
    {
      "cell_type": "code",
      "metadata": {
        "id": "k2dVe5TV3o-y"
      },
      "source": [
        "# trim the length of docs back to the number of words to predict\n",
        "trim_preds = []\n",
        "for i, doc in enumerate(dataset['test_tokens']):\n",
        "  trim_preds.append(preds[i][0:len(doc)])  "
      ],
      "execution_count": null,
      "outputs": []
    },
    {
      "cell_type": "code",
      "metadata": {
        "id": "n4LfFroW3o-z"
      },
      "source": [
        "preds_stretched = [idx2tag[label] for doc in trim_preds for label in doc]\n",
        "trues_stretched = [label for doc in dataset['test_labels'] for label in doc]\n",
        "\n",
        "len(preds_stretched), len(trues_stretched)"
      ],
      "execution_count": null,
      "outputs": []
    },
    {
      "cell_type": "code",
      "metadata": {
        "id": "G3hmn9gM3o-1"
      },
      "source": [
        "from sklearn.metrics import classification_report\n",
        "\n",
        "\n",
        "#f = open(model_dir + model_name  + '_class_report_test.txt', 'w') \n",
        "\n",
        "class_report = classification_report(trues_stretched, preds_stretched)\n",
        "#print(class_report, file=f ) \n",
        "\n",
        "#f.close() \n",
        "\n",
        "\n",
        "print(class_report)"
      ],
      "execution_count": null,
      "outputs": []
    }
  ]
}