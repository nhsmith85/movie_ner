{
  "nbformat": 4,
  "nbformat_minor": 0,
  "metadata": {
    "colab": {
      "name": "MIT Movie - 1 - data retrieval.ipynb",
      "provenance": [],
      "collapsed_sections": [],
      "toc_visible": true,
      "include_colab_link": true
    },
    "kernelspec": {
      "name": "python3",
      "display_name": "Python 3"
    }
  },
  "cells": [
    {
      "cell_type": "markdown",
      "metadata": {
        "id": "view-in-github",
        "colab_type": "text"
      },
      "source": [
        "<a href=\"https://colab.research.google.com/github/nhsmith85/movie_ner/blob/main/MIT_Movie_1_data_retrieval.ipynb\" target=\"_parent\"><img src=\"https://colab.research.google.com/assets/colab-badge.svg\" alt=\"Open In Colab\"/></a>"
      ]
    },
    {
      "cell_type": "markdown",
      "metadata": {
        "id": "T_mgB-d_lZbA"
      },
      "source": [
        "## MIT Movie Dataset\n"
      ]
    },
    {
      "cell_type": "code",
      "metadata": {
        "id": "_ZEdlOzWhtya",
        "colab": {
          "base_uri": "https://localhost:8080/",
          "height": 34
        },
        "outputId": "1f8bfad7-0af2-4128-ffc9-ca756a4dfe94"
      },
      "source": [
        "import pandas as pd\n",
        "import numpy as np\n",
        "\n",
        "# Run this cell to mount your Google Drive.\n",
        "from google.colab import drive\n",
        "drive.mount('/content/drive')"
      ],
      "execution_count": null,
      "outputs": [
        {
          "output_type": "stream",
          "text": [
            "Mounted at /content/drive\n"
          ],
          "name": "stdout"
        }
      ]
    },
    {
      "cell_type": "code",
      "metadata": {
        "id": "zqV6VZt4iMcU",
        "colab": {
          "base_uri": "https://localhost:8080/",
          "height": 35
        },
        "outputId": "857e8593-2933-4041-aafe-75807565d9f2"
      },
      "source": [
        "import os\n",
        "\n",
        "#os.chdir('/content/drive/My Drive/Colab Notebooks/DAAN888/data')\n",
        "os.chdir('/content/drive/My Drive/DAAN888/data')\n",
        "os.getcwd()"
      ],
      "execution_count": null,
      "outputs": [
        {
          "output_type": "execute_result",
          "data": {
            "application/vnd.google.colaboratory.intrinsic+json": {
              "type": "string"
            },
            "text/plain": [
              "'/content/drive/.shortcut-targets-by-id/1tuCnSXHVzIUUyCjMTEqmKbY7JxKZ-5eU/DAAN888/data'"
            ]
          },
          "metadata": {
            "tags": []
          },
          "execution_count": 3
        }
      ]
    },
    {
      "cell_type": "markdown",
      "metadata": {
        "id": "ESorTjJflQOu"
      },
      "source": [
        "### Retrieve Data from Web"
      ]
    },
    {
      "cell_type": "code",
      "metadata": {
        "id": "o_gJRl14ih06"
      },
      "source": [
        "!wget https://groups.csail.mit.edu/sls/downloads/movie/engtrain.bio"
      ],
      "execution_count": null,
      "outputs": []
    },
    {
      "cell_type": "code",
      "metadata": {
        "id": "uyNjnFNmk5gs",
        "colab": {
          "base_uri": "https://localhost:8080/",
          "height": 204
        },
        "outputId": "2d8b65c1-bf87-4bdf-f4ae-93bb94b1ebfc"
      },
      "source": [
        "!wget https://groups.csail.mit.edu/sls/downloads/movie/engtest.bio"
      ],
      "execution_count": null,
      "outputs": [
        {
          "output_type": "stream",
          "text": [
            "--2020-10-15 01:41:09--  https://groups.csail.mit.edu/sls/downloads/movie/engtest.bio\n",
            "Resolving groups.csail.mit.edu (groups.csail.mit.edu)... 128.30.2.44\n",
            "Connecting to groups.csail.mit.edu (groups.csail.mit.edu)|128.30.2.44|:443... connected.\n",
            "HTTP request sent, awaiting response... 200 OK\n",
            "Length: 252636 (247K)\n",
            "Saving to: ‘engtest.bio.1’\n",
            "\n",
            "engtest.bio.1       100%[===================>] 246.71K   749KB/s    in 0.3s    \n",
            "\n",
            "2020-10-15 01:41:10 (749 KB/s) - ‘engtest.bio.1’ saved [252636/252636]\n",
            "\n"
          ],
          "name": "stdout"
        }
      ]
    },
    {
      "cell_type": "code",
      "metadata": {
        "id": "TkaOBirD6yFE"
      },
      "source": [
        ""
      ],
      "execution_count": null,
      "outputs": []
    },
    {
      "cell_type": "code",
      "metadata": {
        "id": "CcYGFj8e8vZb"
      },
      "source": [
        ""
      ],
      "execution_count": null,
      "outputs": []
    },
    {
      "cell_type": "code",
      "metadata": {
        "id": "IRoJEvc2lNdZ",
        "colab": {
          "base_uri": "https://localhost:8080/",
          "height": 187
        },
        "outputId": "497e42e5-1cf2-41d4-e1ac-30f66a73a215"
      },
      "source": [
        "!head -10 engtrain.bio"
      ],
      "execution_count": null,
      "outputs": [
        {
          "output_type": "stream",
          "text": [
            "O\twhat\n",
            "O\tmovies\n",
            "O\tstar\n",
            "B-ACTOR\tbruce\n",
            "I-ACTOR\twillis\n",
            "\n",
            "O\tshow\n",
            "O\tme\n",
            "O\tfilms\n",
            "O\twith\n"
          ],
          "name": "stdout"
        }
      ]
    },
    {
      "cell_type": "code",
      "metadata": {
        "id": "uCCZiLyp0ert",
        "colab": {
          "base_uri": "https://localhost:8080/",
          "height": 187
        },
        "outputId": "6a584ec3-f65d-4f3d-ac7e-9ac6408d1948"
      },
      "source": [
        "!head -10 engtest.bio"
      ],
      "execution_count": null,
      "outputs": [
        {
          "output_type": "stream",
          "text": [
            "O\tare\n",
            "O\tthere\n",
            "O\tany\n",
            "O\tgood\n",
            "B-GENRE\tromantic\n",
            "I-GENRE\tcomedies\n",
            "O\tout\n",
            "B-YEAR\tright\n",
            "I-YEAR\tnow\n",
            "\n"
          ],
          "name": "stdout"
        }
      ]
    },
    {
      "cell_type": "markdown",
      "metadata": {
        "id": "CzplpR8klm16"
      },
      "source": [
        "### Tokenize the docs in text file\n"
      ]
    },
    {
      "cell_type": "code",
      "metadata": {
        "id": "HlBbIGXVojRW",
        "colab": {
          "base_uri": "https://localhost:8080/",
          "height": 35
        },
        "outputId": "dee2104d-f6c0-4626-89c0-3f0f2ed9e0bb"
      },
      "source": [
        "from pathlib import Path\n",
        "\n",
        "p = Path('engtrain.bio')\n",
        "\n",
        "raw = p.read_text().strip()\n",
        "\n",
        "raw[0:100]"
      ],
      "execution_count": null,
      "outputs": [
        {
          "output_type": "execute_result",
          "data": {
            "application/vnd.google.colaboratory.intrinsic+json": {
              "type": "string"
            },
            "text/plain": [
              "'O\\twhat\\nO\\tmovies\\nO\\tstar\\nB-ACTOR\\tbruce\\nI-ACTOR\\twillis\\n\\nO\\tshow\\nO\\tme\\nO\\tfilms\\nO\\twith\\nB-ACTOR\\tdrew\\nI-ACTOR'"
            ]
          },
          "metadata": {
            "tags": []
          },
          "execution_count": 3
        }
      ]
    },
    {
      "cell_type": "code",
      "metadata": {
        "id": "_rU9nFF-1dgO",
        "colab": {
          "base_uri": "https://localhost:8080/",
          "height": 51
        },
        "outputId": "a56fd091-a273-4f33-e5be-6b7eff9e9d15"
      },
      "source": [
        "import re \n",
        "\n",
        "# find how many document breaks there are first doc doesn't need a line break\n",
        "for p in Path('engtrain.bio'), Path('engtest.bio'):\n",
        "\n",
        "  raw = p.read_text().strip()\n",
        "  rx = r'\\n\\n'\n",
        "\n",
        "  breaks = re.findall(rx, raw)\n",
        "  print(p, len(breaks) )"
      ],
      "execution_count": null,
      "outputs": [
        {
          "output_type": "stream",
          "text": [
            "engtrain.bio 9774\n",
            "engtest.bio 2442\n"
          ],
          "name": "stdout"
        }
      ]
    },
    {
      "cell_type": "code",
      "metadata": {
        "id": "k8eey9U0yLbr"
      },
      "source": [
        "def read_bio_files(filepath):\n",
        "  '''this function will break up the text file into each sentence using the\n",
        "  extra line \\n as a breakpoint between docs and return a list of the individual\n",
        "  words and a separate list of their corresponding labels '''\n",
        "\n",
        "  text = Path(filepath).read_text().strip()\n",
        "  each_doc = re.split(r'\\n\\t?\\n', text)\n",
        "\n",
        "  tokenized_docs = []\n",
        "  labels = []\n",
        "\n",
        "  for doc in each_doc:\n",
        "    tokens = []\n",
        "    tags = []\n",
        "    for line in doc.split('\\n'):\n",
        "      tag, word = line.split('\\t')\n",
        "      tags.append(tag)\n",
        "      tokens.append(word)\n",
        "\n",
        "    tokenized_docs.append(tokens)\n",
        "    labels.append(tags)\n",
        "\n",
        "  return tokenized_docs, labels"
      ],
      "execution_count": null,
      "outputs": []
    },
    {
      "cell_type": "code",
      "metadata": {
        "id": "JSG6AJ3QsufB"
      },
      "source": [
        "train_tokens, train_labels = read_bio_files('engtrain.bio')\n",
        "test_tokens, test_labels = read_bio_files('engtest.bio')"
      ],
      "execution_count": null,
      "outputs": []
    },
    {
      "cell_type": "code",
      "metadata": {
        "id": "KzDAA_i0z7x4",
        "colab": {
          "base_uri": "https://localhost:8080/",
          "height": 34
        },
        "outputId": "1e8a0ee5-f584-430b-f54b-089d57224395"
      },
      "source": [
        "len(train_tokens), len(train_labels), len(test_tokens), len(test_labels)"
      ],
      "execution_count": null,
      "outputs": [
        {
          "output_type": "execute_result",
          "data": {
            "text/plain": [
              "(9775, 9775, 2443, 2443)"
            ]
          },
          "metadata": {
            "tags": []
          },
          "execution_count": 7
        }
      ]
    },
    {
      "cell_type": "code",
      "metadata": {
        "id": "JnCY8lpWTuoe",
        "colab": {
          "base_uri": "https://localhost:8080/",
          "height": 34
        },
        "outputId": "c8eb21c4-696c-4905-f853-f6343ee554f0"
      },
      "source": [
        "len(train_tokens), len(train_labels), len(test_tokens), len(test_labels)"
      ],
      "execution_count": null,
      "outputs": [
        {
          "output_type": "execute_result",
          "data": {
            "text/plain": [
              "(9775, 9775, 2443, 2443)"
            ]
          },
          "metadata": {
            "tags": []
          },
          "execution_count": 8
        }
      ]
    },
    {
      "cell_type": "code",
      "metadata": {
        "id": "OJvwP87Fsw5-",
        "colab": {
          "base_uri": "https://localhost:8080/",
          "height": 102
        },
        "outputId": "2a8da086-987e-45f3-ce90-ad14624d5af9"
      },
      "source": [
        "list(zip(train_tokens[0], train_labels[0]))"
      ],
      "execution_count": null,
      "outputs": [
        {
          "output_type": "execute_result",
          "data": {
            "text/plain": [
              "[('what', 'O'),\n",
              " ('movies', 'O'),\n",
              " ('star', 'O'),\n",
              " ('bruce', 'B-ACTOR'),\n",
              " ('willis', 'I-ACTOR')]"
            ]
          },
          "metadata": {
            "tags": []
          },
          "execution_count": 9
        }
      ]
    },
    {
      "cell_type": "code",
      "metadata": {
        "id": "e7Lru_vm3Tds",
        "colab": {
          "base_uri": "https://localhost:8080/",
          "height": 170
        },
        "outputId": "df855486-f833-4c2b-ce9c-f8712e560d3a"
      },
      "source": [
        "list(zip(test_tokens[0], test_labels[0]))"
      ],
      "execution_count": null,
      "outputs": [
        {
          "output_type": "execute_result",
          "data": {
            "text/plain": [
              "[('are', 'O'),\n",
              " ('there', 'O'),\n",
              " ('any', 'O'),\n",
              " ('good', 'O'),\n",
              " ('romantic', 'B-GENRE'),\n",
              " ('comedies', 'I-GENRE'),\n",
              " ('out', 'O'),\n",
              " ('right', 'B-YEAR'),\n",
              " ('now', 'I-YEAR')]"
            ]
          },
          "metadata": {
            "tags": []
          },
          "execution_count": 10
        }
      ]
    },
    {
      "cell_type": "code",
      "metadata": {
        "id": "fiHIqD7T3Xin"
      },
      "source": [
        "dataset = {'train_tokens': train_tokens, \n",
        "           'train_labels': train_labels,\n",
        "           'test_tokens': test_tokens,\n",
        "           'test_labels': test_labels}"
      ],
      "execution_count": null,
      "outputs": []
    },
    {
      "cell_type": "code",
      "metadata": {
        "id": "2iuQHPuZ4kk2"
      },
      "source": [
        "import pickle\n",
        "\n",
        "with open('mitmovie.pickle', 'wb') as handle:\n",
        "    pickle.dump(dataset, handle, protocol=pickle.HIGHEST_PROTOCOL)"
      ],
      "execution_count": null,
      "outputs": []
    }
  ]
}