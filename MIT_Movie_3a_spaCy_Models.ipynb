{
  "nbformat": 4,
  "nbformat_minor": 0,
  "metadata": {
    "colab": {
      "name": "MIT Movie - 3a - spaCy Models.ipynb",
      "provenance": [],
      "collapsed_sections": [
        "K48pzqsxXwJx"
      ],
      "toc_visible": true
    },
    "kernelspec": {
      "name": "python3",
      "display_name": "Python 3"
    },
    "accelerator": "GPU",
    "widgets": {
      "application/vnd.jupyter.widget-state+json": {
        "85c4472b1c32442b8a96db4d2714ffc5": {
          "model_module": "@jupyter-widgets/controls",
          "model_name": "HBoxModel",
          "state": {
            "_view_name": "HBoxView",
            "_dom_classes": [],
            "_model_name": "HBoxModel",
            "_view_module": "@jupyter-widgets/controls",
            "_model_module_version": "1.5.0",
            "_view_count": null,
            "_view_module_version": "1.5.0",
            "box_style": "",
            "layout": "IPY_MODEL_988347d04e8f4ec58c437f6a1d78842a",
            "_model_module": "@jupyter-widgets/controls",
            "children": [
              "IPY_MODEL_53c0c0ff7b28419197cd3ead7272f274",
              "IPY_MODEL_78b8caaaf3034fea8a3b66da0ef18ff5"
            ]
          }
        },
        "988347d04e8f4ec58c437f6a1d78842a": {
          "model_module": "@jupyter-widgets/base",
          "model_name": "LayoutModel",
          "state": {
            "_view_name": "LayoutView",
            "grid_template_rows": null,
            "right": null,
            "justify_content": null,
            "_view_module": "@jupyter-widgets/base",
            "overflow": null,
            "_model_module_version": "1.2.0",
            "_view_count": null,
            "flex_flow": null,
            "width": null,
            "min_width": null,
            "border": null,
            "align_items": null,
            "bottom": null,
            "_model_module": "@jupyter-widgets/base",
            "top": null,
            "grid_column": null,
            "overflow_y": null,
            "overflow_x": null,
            "grid_auto_flow": null,
            "grid_area": null,
            "grid_template_columns": null,
            "flex": null,
            "_model_name": "LayoutModel",
            "justify_items": null,
            "grid_row": null,
            "max_height": null,
            "align_content": null,
            "visibility": null,
            "align_self": null,
            "height": null,
            "min_height": null,
            "padding": null,
            "grid_auto_rows": null,
            "grid_gap": null,
            "max_width": null,
            "order": null,
            "_view_module_version": "1.2.0",
            "grid_template_areas": null,
            "object_position": null,
            "object_fit": null,
            "grid_auto_columns": null,
            "margin": null,
            "display": null,
            "left": null
          }
        },
        "53c0c0ff7b28419197cd3ead7272f274": {
          "model_module": "@jupyter-widgets/controls",
          "model_name": "FloatProgressModel",
          "state": {
            "_view_name": "ProgressView",
            "style": "IPY_MODEL_15ad5a63385c463e8ad9c87e1363e98f",
            "_dom_classes": [],
            "description": "Downloading: ",
            "_model_name": "FloatProgressModel",
            "bar_style": "success",
            "max": 1902,
            "_view_module": "@jupyter-widgets/controls",
            "_model_module_version": "1.5.0",
            "value": 1902,
            "_view_count": null,
            "_view_module_version": "1.5.0",
            "orientation": "horizontal",
            "min": 0,
            "description_tooltip": null,
            "_model_module": "@jupyter-widgets/controls",
            "layout": "IPY_MODEL_1dd0f07870ba4deb8b01bfd40905f23b"
          }
        },
        "78b8caaaf3034fea8a3b66da0ef18ff5": {
          "model_module": "@jupyter-widgets/controls",
          "model_name": "HTMLModel",
          "state": {
            "_view_name": "HTMLView",
            "style": "IPY_MODEL_fdb52a8b99d546628a9fb658582f1e9e",
            "_dom_classes": [],
            "description": "",
            "_model_name": "HTMLModel",
            "placeholder": "​",
            "_view_module": "@jupyter-widgets/controls",
            "_model_module_version": "1.5.0",
            "value": " 4.67k/? [00:00&lt;00:00, 11.1kB/s]",
            "_view_count": null,
            "_view_module_version": "1.5.0",
            "description_tooltip": null,
            "_model_module": "@jupyter-widgets/controls",
            "layout": "IPY_MODEL_885f4e73b6f4453aab392d911d2d9c28"
          }
        },
        "15ad5a63385c463e8ad9c87e1363e98f": {
          "model_module": "@jupyter-widgets/controls",
          "model_name": "ProgressStyleModel",
          "state": {
            "_view_name": "StyleView",
            "_model_name": "ProgressStyleModel",
            "description_width": "initial",
            "_view_module": "@jupyter-widgets/base",
            "_model_module_version": "1.5.0",
            "_view_count": null,
            "_view_module_version": "1.2.0",
            "bar_color": null,
            "_model_module": "@jupyter-widgets/controls"
          }
        },
        "1dd0f07870ba4deb8b01bfd40905f23b": {
          "model_module": "@jupyter-widgets/base",
          "model_name": "LayoutModel",
          "state": {
            "_view_name": "LayoutView",
            "grid_template_rows": null,
            "right": null,
            "justify_content": null,
            "_view_module": "@jupyter-widgets/base",
            "overflow": null,
            "_model_module_version": "1.2.0",
            "_view_count": null,
            "flex_flow": null,
            "width": null,
            "min_width": null,
            "border": null,
            "align_items": null,
            "bottom": null,
            "_model_module": "@jupyter-widgets/base",
            "top": null,
            "grid_column": null,
            "overflow_y": null,
            "overflow_x": null,
            "grid_auto_flow": null,
            "grid_area": null,
            "grid_template_columns": null,
            "flex": null,
            "_model_name": "LayoutModel",
            "justify_items": null,
            "grid_row": null,
            "max_height": null,
            "align_content": null,
            "visibility": null,
            "align_self": null,
            "height": null,
            "min_height": null,
            "padding": null,
            "grid_auto_rows": null,
            "grid_gap": null,
            "max_width": null,
            "order": null,
            "_view_module_version": "1.2.0",
            "grid_template_areas": null,
            "object_position": null,
            "object_fit": null,
            "grid_auto_columns": null,
            "margin": null,
            "display": null,
            "left": null
          }
        },
        "fdb52a8b99d546628a9fb658582f1e9e": {
          "model_module": "@jupyter-widgets/controls",
          "model_name": "DescriptionStyleModel",
          "state": {
            "_view_name": "StyleView",
            "_model_name": "DescriptionStyleModel",
            "description_width": "",
            "_view_module": "@jupyter-widgets/base",
            "_model_module_version": "1.5.0",
            "_view_count": null,
            "_view_module_version": "1.2.0",
            "_model_module": "@jupyter-widgets/controls"
          }
        },
        "885f4e73b6f4453aab392d911d2d9c28": {
          "model_module": "@jupyter-widgets/base",
          "model_name": "LayoutModel",
          "state": {
            "_view_name": "LayoutView",
            "grid_template_rows": null,
            "right": null,
            "justify_content": null,
            "_view_module": "@jupyter-widgets/base",
            "overflow": null,
            "_model_module_version": "1.2.0",
            "_view_count": null,
            "flex_flow": null,
            "width": null,
            "min_width": null,
            "border": null,
            "align_items": null,
            "bottom": null,
            "_model_module": "@jupyter-widgets/base",
            "top": null,
            "grid_column": null,
            "overflow_y": null,
            "overflow_x": null,
            "grid_auto_flow": null,
            "grid_area": null,
            "grid_template_columns": null,
            "flex": null,
            "_model_name": "LayoutModel",
            "justify_items": null,
            "grid_row": null,
            "max_height": null,
            "align_content": null,
            "visibility": null,
            "align_self": null,
            "height": null,
            "min_height": null,
            "padding": null,
            "grid_auto_rows": null,
            "grid_gap": null,
            "max_width": null,
            "order": null,
            "_view_module_version": "1.2.0",
            "grid_template_areas": null,
            "object_position": null,
            "object_fit": null,
            "grid_auto_columns": null,
            "margin": null,
            "display": null,
            "left": null
          }
        },
        "f546bf77fe1b4ba5a5fd52ab093e0b6a": {
          "model_module": "@jupyter-widgets/controls",
          "model_name": "HBoxModel",
          "state": {
            "_view_name": "HBoxView",
            "_dom_classes": [],
            "_model_name": "HBoxModel",
            "_view_module": "@jupyter-widgets/controls",
            "_model_module_version": "1.5.0",
            "_view_count": null,
            "_view_module_version": "1.5.0",
            "box_style": "",
            "layout": "IPY_MODEL_4152716701bd4f8f96d050876f2a935e",
            "_model_module": "@jupyter-widgets/controls",
            "children": [
              "IPY_MODEL_ba2e65e7df7c4d159207ada4dcda3e6a",
              "IPY_MODEL_07aa46d2765048178562b66b0d384898"
            ]
          }
        },
        "4152716701bd4f8f96d050876f2a935e": {
          "model_module": "@jupyter-widgets/base",
          "model_name": "LayoutModel",
          "state": {
            "_view_name": "LayoutView",
            "grid_template_rows": null,
            "right": null,
            "justify_content": null,
            "_view_module": "@jupyter-widgets/base",
            "overflow": null,
            "_model_module_version": "1.2.0",
            "_view_count": null,
            "flex_flow": null,
            "width": null,
            "min_width": null,
            "border": null,
            "align_items": null,
            "bottom": null,
            "_model_module": "@jupyter-widgets/base",
            "top": null,
            "grid_column": null,
            "overflow_y": null,
            "overflow_x": null,
            "grid_auto_flow": null,
            "grid_area": null,
            "grid_template_columns": null,
            "flex": null,
            "_model_name": "LayoutModel",
            "justify_items": null,
            "grid_row": null,
            "max_height": null,
            "align_content": null,
            "visibility": null,
            "align_self": null,
            "height": null,
            "min_height": null,
            "padding": null,
            "grid_auto_rows": null,
            "grid_gap": null,
            "max_width": null,
            "order": null,
            "_view_module_version": "1.2.0",
            "grid_template_areas": null,
            "object_position": null,
            "object_fit": null,
            "grid_auto_columns": null,
            "margin": null,
            "display": null,
            "left": null
          }
        },
        "ba2e65e7df7c4d159207ada4dcda3e6a": {
          "model_module": "@jupyter-widgets/controls",
          "model_name": "FloatProgressModel",
          "state": {
            "_view_name": "ProgressView",
            "style": "IPY_MODEL_28948958528244e6842ef51b87ce89b8",
            "_dom_classes": [],
            "description": "Downloading: ",
            "_model_name": "FloatProgressModel",
            "bar_style": "success",
            "max": 1004,
            "_view_module": "@jupyter-widgets/controls",
            "_model_module_version": "1.5.0",
            "value": 1004,
            "_view_count": null,
            "_view_module_version": "1.5.0",
            "orientation": "horizontal",
            "min": 0,
            "description_tooltip": null,
            "_model_module": "@jupyter-widgets/controls",
            "layout": "IPY_MODEL_299a570752494e51ab6823bae349ef18"
          }
        },
        "07aa46d2765048178562b66b0d384898": {
          "model_module": "@jupyter-widgets/controls",
          "model_name": "HTMLModel",
          "state": {
            "_view_name": "HTMLView",
            "style": "IPY_MODEL_c019aea2fe234802a04138d1122ccaba",
            "_dom_classes": [],
            "description": "",
            "_model_name": "HTMLModel",
            "placeholder": "​",
            "_view_module": "@jupyter-widgets/controls",
            "_model_module_version": "1.5.0",
            "value": " 2.02k/? [00:00&lt;00:00, 2.30kB/s]",
            "_view_count": null,
            "_view_module_version": "1.5.0",
            "description_tooltip": null,
            "_model_module": "@jupyter-widgets/controls",
            "layout": "IPY_MODEL_55fa52e54b3b4876a4fb11fcb38cdba2"
          }
        },
        "28948958528244e6842ef51b87ce89b8": {
          "model_module": "@jupyter-widgets/controls",
          "model_name": "ProgressStyleModel",
          "state": {
            "_view_name": "StyleView",
            "_model_name": "ProgressStyleModel",
            "description_width": "initial",
            "_view_module": "@jupyter-widgets/base",
            "_model_module_version": "1.5.0",
            "_view_count": null,
            "_view_module_version": "1.2.0",
            "bar_color": null,
            "_model_module": "@jupyter-widgets/controls"
          }
        },
        "299a570752494e51ab6823bae349ef18": {
          "model_module": "@jupyter-widgets/base",
          "model_name": "LayoutModel",
          "state": {
            "_view_name": "LayoutView",
            "grid_template_rows": null,
            "right": null,
            "justify_content": null,
            "_view_module": "@jupyter-widgets/base",
            "overflow": null,
            "_model_module_version": "1.2.0",
            "_view_count": null,
            "flex_flow": null,
            "width": null,
            "min_width": null,
            "border": null,
            "align_items": null,
            "bottom": null,
            "_model_module": "@jupyter-widgets/base",
            "top": null,
            "grid_column": null,
            "overflow_y": null,
            "overflow_x": null,
            "grid_auto_flow": null,
            "grid_area": null,
            "grid_template_columns": null,
            "flex": null,
            "_model_name": "LayoutModel",
            "justify_items": null,
            "grid_row": null,
            "max_height": null,
            "align_content": null,
            "visibility": null,
            "align_self": null,
            "height": null,
            "min_height": null,
            "padding": null,
            "grid_auto_rows": null,
            "grid_gap": null,
            "max_width": null,
            "order": null,
            "_view_module_version": "1.2.0",
            "grid_template_areas": null,
            "object_position": null,
            "object_fit": null,
            "grid_auto_columns": null,
            "margin": null,
            "display": null,
            "left": null
          }
        },
        "c019aea2fe234802a04138d1122ccaba": {
          "model_module": "@jupyter-widgets/controls",
          "model_name": "DescriptionStyleModel",
          "state": {
            "_view_name": "StyleView",
            "_model_name": "DescriptionStyleModel",
            "description_width": "",
            "_view_module": "@jupyter-widgets/base",
            "_model_module_version": "1.5.0",
            "_view_count": null,
            "_view_module_version": "1.2.0",
            "_model_module": "@jupyter-widgets/controls"
          }
        },
        "55fa52e54b3b4876a4fb11fcb38cdba2": {
          "model_module": "@jupyter-widgets/base",
          "model_name": "LayoutModel",
          "state": {
            "_view_name": "LayoutView",
            "grid_template_rows": null,
            "right": null,
            "justify_content": null,
            "_view_module": "@jupyter-widgets/base",
            "overflow": null,
            "_model_module_version": "1.2.0",
            "_view_count": null,
            "flex_flow": null,
            "width": null,
            "min_width": null,
            "border": null,
            "align_items": null,
            "bottom": null,
            "_model_module": "@jupyter-widgets/base",
            "top": null,
            "grid_column": null,
            "overflow_y": null,
            "overflow_x": null,
            "grid_auto_flow": null,
            "grid_area": null,
            "grid_template_columns": null,
            "flex": null,
            "_model_name": "LayoutModel",
            "justify_items": null,
            "grid_row": null,
            "max_height": null,
            "align_content": null,
            "visibility": null,
            "align_self": null,
            "height": null,
            "min_height": null,
            "padding": null,
            "grid_auto_rows": null,
            "grid_gap": null,
            "max_width": null,
            "order": null,
            "_view_module_version": "1.2.0",
            "grid_template_areas": null,
            "object_position": null,
            "object_fit": null,
            "grid_auto_columns": null,
            "margin": null,
            "display": null,
            "left": null
          }
        },
        "e7658b6e29c841688aecec11195f76bb": {
          "model_module": "@jupyter-widgets/controls",
          "model_name": "HBoxModel",
          "state": {
            "_view_name": "HBoxView",
            "_dom_classes": [],
            "_model_name": "HBoxModel",
            "_view_module": "@jupyter-widgets/controls",
            "_model_module_version": "1.5.0",
            "_view_count": null,
            "_view_module_version": "1.5.0",
            "box_style": "",
            "layout": "IPY_MODEL_25ed264a998a434ca92d56cccf4eb6c1",
            "_model_module": "@jupyter-widgets/controls",
            "children": [
              "IPY_MODEL_b107fa9643eb4ab9909f9a1042bf8640",
              "IPY_MODEL_852c9232f75c40e09bec91aab5965807"
            ]
          }
        },
        "25ed264a998a434ca92d56cccf4eb6c1": {
          "model_module": "@jupyter-widgets/base",
          "model_name": "LayoutModel",
          "state": {
            "_view_name": "LayoutView",
            "grid_template_rows": null,
            "right": null,
            "justify_content": null,
            "_view_module": "@jupyter-widgets/base",
            "overflow": null,
            "_model_module_version": "1.2.0",
            "_view_count": null,
            "flex_flow": null,
            "width": null,
            "min_width": null,
            "border": null,
            "align_items": null,
            "bottom": null,
            "_model_module": "@jupyter-widgets/base",
            "top": null,
            "grid_column": null,
            "overflow_y": null,
            "overflow_x": null,
            "grid_auto_flow": null,
            "grid_area": null,
            "grid_template_columns": null,
            "flex": null,
            "_model_name": "LayoutModel",
            "justify_items": null,
            "grid_row": null,
            "max_height": null,
            "align_content": null,
            "visibility": null,
            "align_self": null,
            "height": null,
            "min_height": null,
            "padding": null,
            "grid_auto_rows": null,
            "grid_gap": null,
            "max_width": null,
            "order": null,
            "_view_module_version": "1.2.0",
            "grid_template_areas": null,
            "object_position": null,
            "object_fit": null,
            "grid_auto_columns": null,
            "margin": null,
            "display": null,
            "left": null
          }
        },
        "b107fa9643eb4ab9909f9a1042bf8640": {
          "model_module": "@jupyter-widgets/controls",
          "model_name": "FloatProgressModel",
          "state": {
            "_view_name": "ProgressView",
            "style": "IPY_MODEL_46cdd7c7d3dc4af2bc5fab6fd73ddf34",
            "_dom_classes": [],
            "description": "Downloading: 100%",
            "_model_name": "FloatProgressModel",
            "bar_style": "success",
            "max": 84125825,
            "_view_module": "@jupyter-widgets/controls",
            "_model_module_version": "1.5.0",
            "value": 84125825,
            "_view_count": null,
            "_view_module_version": "1.5.0",
            "orientation": "horizontal",
            "min": 0,
            "description_tooltip": null,
            "_model_module": "@jupyter-widgets/controls",
            "layout": "IPY_MODEL_9d8be64308e44e1faa401afa229d232e"
          }
        },
        "852c9232f75c40e09bec91aab5965807": {
          "model_module": "@jupyter-widgets/controls",
          "model_name": "HTMLModel",
          "state": {
            "_view_name": "HTMLView",
            "style": "IPY_MODEL_ad119cbc63604c44aeb5bb86a278e550",
            "_dom_classes": [],
            "description": "",
            "_model_name": "HTMLModel",
            "placeholder": "​",
            "_view_module": "@jupyter-widgets/controls",
            "_model_module_version": "1.5.0",
            "value": " 84.1M/84.1M [00:09&lt;00:00, 8.67MB/s]",
            "_view_count": null,
            "_view_module_version": "1.5.0",
            "description_tooltip": null,
            "_model_module": "@jupyter-widgets/controls",
            "layout": "IPY_MODEL_3225dc7a0f7642e38834fe63e5af0654"
          }
        },
        "46cdd7c7d3dc4af2bc5fab6fd73ddf34": {
          "model_module": "@jupyter-widgets/controls",
          "model_name": "ProgressStyleModel",
          "state": {
            "_view_name": "StyleView",
            "_model_name": "ProgressStyleModel",
            "description_width": "initial",
            "_view_module": "@jupyter-widgets/base",
            "_model_module_version": "1.5.0",
            "_view_count": null,
            "_view_module_version": "1.2.0",
            "bar_color": null,
            "_model_module": "@jupyter-widgets/controls"
          }
        },
        "9d8be64308e44e1faa401afa229d232e": {
          "model_module": "@jupyter-widgets/base",
          "model_name": "LayoutModel",
          "state": {
            "_view_name": "LayoutView",
            "grid_template_rows": null,
            "right": null,
            "justify_content": null,
            "_view_module": "@jupyter-widgets/base",
            "overflow": null,
            "_model_module_version": "1.2.0",
            "_view_count": null,
            "flex_flow": null,
            "width": null,
            "min_width": null,
            "border": null,
            "align_items": null,
            "bottom": null,
            "_model_module": "@jupyter-widgets/base",
            "top": null,
            "grid_column": null,
            "overflow_y": null,
            "overflow_x": null,
            "grid_auto_flow": null,
            "grid_area": null,
            "grid_template_columns": null,
            "flex": null,
            "_model_name": "LayoutModel",
            "justify_items": null,
            "grid_row": null,
            "max_height": null,
            "align_content": null,
            "visibility": null,
            "align_self": null,
            "height": null,
            "min_height": null,
            "padding": null,
            "grid_auto_rows": null,
            "grid_gap": null,
            "max_width": null,
            "order": null,
            "_view_module_version": "1.2.0",
            "grid_template_areas": null,
            "object_position": null,
            "object_fit": null,
            "grid_auto_columns": null,
            "margin": null,
            "display": null,
            "left": null
          }
        },
        "ad119cbc63604c44aeb5bb86a278e550": {
          "model_module": "@jupyter-widgets/controls",
          "model_name": "DescriptionStyleModel",
          "state": {
            "_view_name": "StyleView",
            "_model_name": "DescriptionStyleModel",
            "description_width": "",
            "_view_module": "@jupyter-widgets/base",
            "_model_module_version": "1.5.0",
            "_view_count": null,
            "_view_module_version": "1.2.0",
            "_model_module": "@jupyter-widgets/controls"
          }
        },
        "3225dc7a0f7642e38834fe63e5af0654": {
          "model_module": "@jupyter-widgets/base",
          "model_name": "LayoutModel",
          "state": {
            "_view_name": "LayoutView",
            "grid_template_rows": null,
            "right": null,
            "justify_content": null,
            "_view_module": "@jupyter-widgets/base",
            "overflow": null,
            "_model_module_version": "1.2.0",
            "_view_count": null,
            "flex_flow": null,
            "width": null,
            "min_width": null,
            "border": null,
            "align_items": null,
            "bottom": null,
            "_model_module": "@jupyter-widgets/base",
            "top": null,
            "grid_column": null,
            "overflow_y": null,
            "overflow_x": null,
            "grid_auto_flow": null,
            "grid_area": null,
            "grid_template_columns": null,
            "flex": null,
            "_model_name": "LayoutModel",
            "justify_items": null,
            "grid_row": null,
            "max_height": null,
            "align_content": null,
            "visibility": null,
            "align_self": null,
            "height": null,
            "min_height": null,
            "padding": null,
            "grid_auto_rows": null,
            "grid_gap": null,
            "max_width": null,
            "order": null,
            "_view_module_version": "1.2.0",
            "grid_template_areas": null,
            "object_position": null,
            "object_fit": null,
            "grid_auto_columns": null,
            "margin": null,
            "display": null,
            "left": null
          }
        },
        "7ad6851f82b2480aa76de16cbaa21f94": {
          "model_module": "@jupyter-widgets/controls",
          "model_name": "HBoxModel",
          "state": {
            "_view_name": "HBoxView",
            "_dom_classes": [],
            "_model_name": "HBoxModel",
            "_view_module": "@jupyter-widgets/controls",
            "_model_module_version": "1.5.0",
            "_view_count": null,
            "_view_module_version": "1.5.0",
            "box_style": "",
            "layout": "IPY_MODEL_a13f7e7fc1994ad08dae5deff0f4feb4",
            "_model_module": "@jupyter-widgets/controls",
            "children": [
              "IPY_MODEL_c4e0e1db163d4eef9af78300b78a029f",
              "IPY_MODEL_9578f4bd68de4b33bc94d468532ac047"
            ]
          }
        },
        "a13f7e7fc1994ad08dae5deff0f4feb4": {
          "model_module": "@jupyter-widgets/base",
          "model_name": "LayoutModel",
          "state": {
            "_view_name": "LayoutView",
            "grid_template_rows": null,
            "right": null,
            "justify_content": null,
            "_view_module": "@jupyter-widgets/base",
            "overflow": null,
            "_model_module_version": "1.2.0",
            "_view_count": null,
            "flex_flow": null,
            "width": null,
            "min_width": null,
            "border": null,
            "align_items": null,
            "bottom": null,
            "_model_module": "@jupyter-widgets/base",
            "top": null,
            "grid_column": null,
            "overflow_y": null,
            "overflow_x": null,
            "grid_auto_flow": null,
            "grid_area": null,
            "grid_template_columns": null,
            "flex": null,
            "_model_name": "LayoutModel",
            "justify_items": null,
            "grid_row": null,
            "max_height": null,
            "align_content": null,
            "visibility": null,
            "align_self": null,
            "height": null,
            "min_height": null,
            "padding": null,
            "grid_auto_rows": null,
            "grid_gap": null,
            "max_width": null,
            "order": null,
            "_view_module_version": "1.2.0",
            "grid_template_areas": null,
            "object_position": null,
            "object_fit": null,
            "grid_auto_columns": null,
            "margin": null,
            "display": null,
            "left": null
          }
        },
        "c4e0e1db163d4eef9af78300b78a029f": {
          "model_module": "@jupyter-widgets/controls",
          "model_name": "FloatProgressModel",
          "state": {
            "_view_name": "ProgressView",
            "style": "IPY_MODEL_601794c86b854d53b513ad1db0a0d147",
            "_dom_classes": [],
            "description": "",
            "_model_name": "FloatProgressModel",
            "bar_style": "info",
            "max": 1,
            "_view_module": "@jupyter-widgets/controls",
            "_model_module_version": "1.5.0",
            "value": 1,
            "_view_count": null,
            "_view_module_version": "1.5.0",
            "orientation": "horizontal",
            "min": 0,
            "description_tooltip": null,
            "_model_module": "@jupyter-widgets/controls",
            "layout": "IPY_MODEL_44f4e626e1994fa7bfb047d30f528b33"
          }
        },
        "9578f4bd68de4b33bc94d468532ac047": {
          "model_module": "@jupyter-widgets/controls",
          "model_name": "HTMLModel",
          "state": {
            "_view_name": "HTMLView",
            "style": "IPY_MODEL_3bb08eb80e2a4946a62cc6c659778497",
            "_dom_classes": [],
            "description": "",
            "_model_name": "HTMLModel",
            "placeholder": "​",
            "_view_module": "@jupyter-widgets/controls",
            "_model_module_version": "1.5.0",
            "value": " 25000/0 [00:01&lt;00:00, 18090.96 examples/s]",
            "_view_count": null,
            "_view_module_version": "1.5.0",
            "description_tooltip": null,
            "_model_module": "@jupyter-widgets/controls",
            "layout": "IPY_MODEL_763b68789b2149058e5ece44c638ba21"
          }
        },
        "601794c86b854d53b513ad1db0a0d147": {
          "model_module": "@jupyter-widgets/controls",
          "model_name": "ProgressStyleModel",
          "state": {
            "_view_name": "StyleView",
            "_model_name": "ProgressStyleModel",
            "description_width": "initial",
            "_view_module": "@jupyter-widgets/base",
            "_model_module_version": "1.5.0",
            "_view_count": null,
            "_view_module_version": "1.2.0",
            "bar_color": null,
            "_model_module": "@jupyter-widgets/controls"
          }
        },
        "44f4e626e1994fa7bfb047d30f528b33": {
          "model_module": "@jupyter-widgets/base",
          "model_name": "LayoutModel",
          "state": {
            "_view_name": "LayoutView",
            "grid_template_rows": null,
            "right": null,
            "justify_content": null,
            "_view_module": "@jupyter-widgets/base",
            "overflow": null,
            "_model_module_version": "1.2.0",
            "_view_count": null,
            "flex_flow": null,
            "width": null,
            "min_width": null,
            "border": null,
            "align_items": null,
            "bottom": null,
            "_model_module": "@jupyter-widgets/base",
            "top": null,
            "grid_column": null,
            "overflow_y": null,
            "overflow_x": null,
            "grid_auto_flow": null,
            "grid_area": null,
            "grid_template_columns": null,
            "flex": null,
            "_model_name": "LayoutModel",
            "justify_items": null,
            "grid_row": null,
            "max_height": null,
            "align_content": null,
            "visibility": null,
            "align_self": null,
            "height": null,
            "min_height": null,
            "padding": null,
            "grid_auto_rows": null,
            "grid_gap": null,
            "max_width": null,
            "order": null,
            "_view_module_version": "1.2.0",
            "grid_template_areas": null,
            "object_position": null,
            "object_fit": null,
            "grid_auto_columns": null,
            "margin": null,
            "display": null,
            "left": null
          }
        },
        "3bb08eb80e2a4946a62cc6c659778497": {
          "model_module": "@jupyter-widgets/controls",
          "model_name": "DescriptionStyleModel",
          "state": {
            "_view_name": "StyleView",
            "_model_name": "DescriptionStyleModel",
            "description_width": "",
            "_view_module": "@jupyter-widgets/base",
            "_model_module_version": "1.5.0",
            "_view_count": null,
            "_view_module_version": "1.2.0",
            "_model_module": "@jupyter-widgets/controls"
          }
        },
        "763b68789b2149058e5ece44c638ba21": {
          "model_module": "@jupyter-widgets/base",
          "model_name": "LayoutModel",
          "state": {
            "_view_name": "LayoutView",
            "grid_template_rows": null,
            "right": null,
            "justify_content": null,
            "_view_module": "@jupyter-widgets/base",
            "overflow": null,
            "_model_module_version": "1.2.0",
            "_view_count": null,
            "flex_flow": null,
            "width": null,
            "min_width": null,
            "border": null,
            "align_items": null,
            "bottom": null,
            "_model_module": "@jupyter-widgets/base",
            "top": null,
            "grid_column": null,
            "overflow_y": null,
            "overflow_x": null,
            "grid_auto_flow": null,
            "grid_area": null,
            "grid_template_columns": null,
            "flex": null,
            "_model_name": "LayoutModel",
            "justify_items": null,
            "grid_row": null,
            "max_height": null,
            "align_content": null,
            "visibility": null,
            "align_self": null,
            "height": null,
            "min_height": null,
            "padding": null,
            "grid_auto_rows": null,
            "grid_gap": null,
            "max_width": null,
            "order": null,
            "_view_module_version": "1.2.0",
            "grid_template_areas": null,
            "object_position": null,
            "object_fit": null,
            "grid_auto_columns": null,
            "margin": null,
            "display": null,
            "left": null
          }
        },
        "b1b69d2c6fbc4a0e849d40847c002ae8": {
          "model_module": "@jupyter-widgets/controls",
          "model_name": "HBoxModel",
          "state": {
            "_view_name": "HBoxView",
            "_dom_classes": [],
            "_model_name": "HBoxModel",
            "_view_module": "@jupyter-widgets/controls",
            "_model_module_version": "1.5.0",
            "_view_count": null,
            "_view_module_version": "1.5.0",
            "box_style": "",
            "layout": "IPY_MODEL_91460c16aa8045aa8d973ae1ce321984",
            "_model_module": "@jupyter-widgets/controls",
            "children": [
              "IPY_MODEL_4fb2c77841524c5fb74c5b3d9a378e69",
              "IPY_MODEL_b87f1d68f31f49d1b459ac618393bb3f"
            ]
          }
        },
        "91460c16aa8045aa8d973ae1ce321984": {
          "model_module": "@jupyter-widgets/base",
          "model_name": "LayoutModel",
          "state": {
            "_view_name": "LayoutView",
            "grid_template_rows": null,
            "right": null,
            "justify_content": null,
            "_view_module": "@jupyter-widgets/base",
            "overflow": null,
            "_model_module_version": "1.2.0",
            "_view_count": null,
            "flex_flow": null,
            "width": null,
            "min_width": null,
            "border": null,
            "align_items": null,
            "bottom": null,
            "_model_module": "@jupyter-widgets/base",
            "top": null,
            "grid_column": null,
            "overflow_y": null,
            "overflow_x": null,
            "grid_auto_flow": null,
            "grid_area": null,
            "grid_template_columns": null,
            "flex": null,
            "_model_name": "LayoutModel",
            "justify_items": null,
            "grid_row": null,
            "max_height": null,
            "align_content": null,
            "visibility": null,
            "align_self": null,
            "height": null,
            "min_height": null,
            "padding": null,
            "grid_auto_rows": null,
            "grid_gap": null,
            "max_width": null,
            "order": null,
            "_view_module_version": "1.2.0",
            "grid_template_areas": null,
            "object_position": null,
            "object_fit": null,
            "grid_auto_columns": null,
            "margin": null,
            "display": null,
            "left": null
          }
        },
        "4fb2c77841524c5fb74c5b3d9a378e69": {
          "model_module": "@jupyter-widgets/controls",
          "model_name": "FloatProgressModel",
          "state": {
            "_view_name": "ProgressView",
            "style": "IPY_MODEL_7332a0cc8ddf4449a422e5e925310dd5",
            "_dom_classes": [],
            "description": "",
            "_model_name": "FloatProgressModel",
            "bar_style": "info",
            "max": 1,
            "_view_module": "@jupyter-widgets/controls",
            "_model_module_version": "1.5.0",
            "value": 1,
            "_view_count": null,
            "_view_module_version": "1.5.0",
            "orientation": "horizontal",
            "min": 0,
            "description_tooltip": null,
            "_model_module": "@jupyter-widgets/controls",
            "layout": "IPY_MODEL_c76291e3e2f04f239d6e8d73b82b6574"
          }
        },
        "b87f1d68f31f49d1b459ac618393bb3f": {
          "model_module": "@jupyter-widgets/controls",
          "model_name": "HTMLModel",
          "state": {
            "_view_name": "HTMLView",
            "style": "IPY_MODEL_c96b1d4066d74f19858b2959f15e85d5",
            "_dom_classes": [],
            "description": "",
            "_model_name": "HTMLModel",
            "placeholder": "​",
            "_view_module": "@jupyter-widgets/controls",
            "_model_module_version": "1.5.0",
            "value": " 25000/0 [00:01&lt;00:00, 18353.79 examples/s]",
            "_view_count": null,
            "_view_module_version": "1.5.0",
            "description_tooltip": null,
            "_model_module": "@jupyter-widgets/controls",
            "layout": "IPY_MODEL_1951266826f2439ebd928d6b403295f5"
          }
        },
        "7332a0cc8ddf4449a422e5e925310dd5": {
          "model_module": "@jupyter-widgets/controls",
          "model_name": "ProgressStyleModel",
          "state": {
            "_view_name": "StyleView",
            "_model_name": "ProgressStyleModel",
            "description_width": "initial",
            "_view_module": "@jupyter-widgets/base",
            "_model_module_version": "1.5.0",
            "_view_count": null,
            "_view_module_version": "1.2.0",
            "bar_color": null,
            "_model_module": "@jupyter-widgets/controls"
          }
        },
        "c76291e3e2f04f239d6e8d73b82b6574": {
          "model_module": "@jupyter-widgets/base",
          "model_name": "LayoutModel",
          "state": {
            "_view_name": "LayoutView",
            "grid_template_rows": null,
            "right": null,
            "justify_content": null,
            "_view_module": "@jupyter-widgets/base",
            "overflow": null,
            "_model_module_version": "1.2.0",
            "_view_count": null,
            "flex_flow": null,
            "width": null,
            "min_width": null,
            "border": null,
            "align_items": null,
            "bottom": null,
            "_model_module": "@jupyter-widgets/base",
            "top": null,
            "grid_column": null,
            "overflow_y": null,
            "overflow_x": null,
            "grid_auto_flow": null,
            "grid_area": null,
            "grid_template_columns": null,
            "flex": null,
            "_model_name": "LayoutModel",
            "justify_items": null,
            "grid_row": null,
            "max_height": null,
            "align_content": null,
            "visibility": null,
            "align_self": null,
            "height": null,
            "min_height": null,
            "padding": null,
            "grid_auto_rows": null,
            "grid_gap": null,
            "max_width": null,
            "order": null,
            "_view_module_version": "1.2.0",
            "grid_template_areas": null,
            "object_position": null,
            "object_fit": null,
            "grid_auto_columns": null,
            "margin": null,
            "display": null,
            "left": null
          }
        },
        "c96b1d4066d74f19858b2959f15e85d5": {
          "model_module": "@jupyter-widgets/controls",
          "model_name": "DescriptionStyleModel",
          "state": {
            "_view_name": "StyleView",
            "_model_name": "DescriptionStyleModel",
            "description_width": "",
            "_view_module": "@jupyter-widgets/base",
            "_model_module_version": "1.5.0",
            "_view_count": null,
            "_view_module_version": "1.2.0",
            "_model_module": "@jupyter-widgets/controls"
          }
        },
        "1951266826f2439ebd928d6b403295f5": {
          "model_module": "@jupyter-widgets/base",
          "model_name": "LayoutModel",
          "state": {
            "_view_name": "LayoutView",
            "grid_template_rows": null,
            "right": null,
            "justify_content": null,
            "_view_module": "@jupyter-widgets/base",
            "overflow": null,
            "_model_module_version": "1.2.0",
            "_view_count": null,
            "flex_flow": null,
            "width": null,
            "min_width": null,
            "border": null,
            "align_items": null,
            "bottom": null,
            "_model_module": "@jupyter-widgets/base",
            "top": null,
            "grid_column": null,
            "overflow_y": null,
            "overflow_x": null,
            "grid_auto_flow": null,
            "grid_area": null,
            "grid_template_columns": null,
            "flex": null,
            "_model_name": "LayoutModel",
            "justify_items": null,
            "grid_row": null,
            "max_height": null,
            "align_content": null,
            "visibility": null,
            "align_self": null,
            "height": null,
            "min_height": null,
            "padding": null,
            "grid_auto_rows": null,
            "grid_gap": null,
            "max_width": null,
            "order": null,
            "_view_module_version": "1.2.0",
            "grid_template_areas": null,
            "object_position": null,
            "object_fit": null,
            "grid_auto_columns": null,
            "margin": null,
            "display": null,
            "left": null
          }
        },
        "9954a8b1e0e24130bfd22136fb4145e7": {
          "model_module": "@jupyter-widgets/controls",
          "model_name": "HBoxModel",
          "state": {
            "_view_name": "HBoxView",
            "_dom_classes": [],
            "_model_name": "HBoxModel",
            "_view_module": "@jupyter-widgets/controls",
            "_model_module_version": "1.5.0",
            "_view_count": null,
            "_view_module_version": "1.5.0",
            "box_style": "",
            "layout": "IPY_MODEL_be999db4d25c441db842fe8c40b4365c",
            "_model_module": "@jupyter-widgets/controls",
            "children": [
              "IPY_MODEL_d2a71ed295464d989f4c1105e3861cd4",
              "IPY_MODEL_02f465b804e4482d8ba63c88c464fac4"
            ]
          }
        },
        "be999db4d25c441db842fe8c40b4365c": {
          "model_module": "@jupyter-widgets/base",
          "model_name": "LayoutModel",
          "state": {
            "_view_name": "LayoutView",
            "grid_template_rows": null,
            "right": null,
            "justify_content": null,
            "_view_module": "@jupyter-widgets/base",
            "overflow": null,
            "_model_module_version": "1.2.0",
            "_view_count": null,
            "flex_flow": null,
            "width": null,
            "min_width": null,
            "border": null,
            "align_items": null,
            "bottom": null,
            "_model_module": "@jupyter-widgets/base",
            "top": null,
            "grid_column": null,
            "overflow_y": null,
            "overflow_x": null,
            "grid_auto_flow": null,
            "grid_area": null,
            "grid_template_columns": null,
            "flex": null,
            "_model_name": "LayoutModel",
            "justify_items": null,
            "grid_row": null,
            "max_height": null,
            "align_content": null,
            "visibility": null,
            "align_self": null,
            "height": null,
            "min_height": null,
            "padding": null,
            "grid_auto_rows": null,
            "grid_gap": null,
            "max_width": null,
            "order": null,
            "_view_module_version": "1.2.0",
            "grid_template_areas": null,
            "object_position": null,
            "object_fit": null,
            "grid_auto_columns": null,
            "margin": null,
            "display": null,
            "left": null
          }
        },
        "d2a71ed295464d989f4c1105e3861cd4": {
          "model_module": "@jupyter-widgets/controls",
          "model_name": "FloatProgressModel",
          "state": {
            "_view_name": "ProgressView",
            "style": "IPY_MODEL_dd6c596bc37c4cf0b17a58af3870da3b",
            "_dom_classes": [],
            "description": "",
            "_model_name": "FloatProgressModel",
            "bar_style": "info",
            "max": 1,
            "_view_module": "@jupyter-widgets/controls",
            "_model_module_version": "1.5.0",
            "value": 1,
            "_view_count": null,
            "_view_module_version": "1.5.0",
            "orientation": "horizontal",
            "min": 0,
            "description_tooltip": null,
            "_model_module": "@jupyter-widgets/controls",
            "layout": "IPY_MODEL_8dee83818b434ba6bdba1961bec5204c"
          }
        },
        "02f465b804e4482d8ba63c88c464fac4": {
          "model_module": "@jupyter-widgets/controls",
          "model_name": "HTMLModel",
          "state": {
            "_view_name": "HTMLView",
            "style": "IPY_MODEL_ef07a14b0dc84997b315af702787c528",
            "_dom_classes": [],
            "description": "",
            "_model_name": "HTMLModel",
            "placeholder": "​",
            "_view_module": "@jupyter-widgets/controls",
            "_model_module_version": "1.5.0",
            "value": " 50000/0 [00:02&lt;00:00, 14968.38 examples/s]",
            "_view_count": null,
            "_view_module_version": "1.5.0",
            "description_tooltip": null,
            "_model_module": "@jupyter-widgets/controls",
            "layout": "IPY_MODEL_d7504d2ac38b40afa1088bed696f63d3"
          }
        },
        "dd6c596bc37c4cf0b17a58af3870da3b": {
          "model_module": "@jupyter-widgets/controls",
          "model_name": "ProgressStyleModel",
          "state": {
            "_view_name": "StyleView",
            "_model_name": "ProgressStyleModel",
            "description_width": "initial",
            "_view_module": "@jupyter-widgets/base",
            "_model_module_version": "1.5.0",
            "_view_count": null,
            "_view_module_version": "1.2.0",
            "bar_color": null,
            "_model_module": "@jupyter-widgets/controls"
          }
        },
        "8dee83818b434ba6bdba1961bec5204c": {
          "model_module": "@jupyter-widgets/base",
          "model_name": "LayoutModel",
          "state": {
            "_view_name": "LayoutView",
            "grid_template_rows": null,
            "right": null,
            "justify_content": null,
            "_view_module": "@jupyter-widgets/base",
            "overflow": null,
            "_model_module_version": "1.2.0",
            "_view_count": null,
            "flex_flow": null,
            "width": null,
            "min_width": null,
            "border": null,
            "align_items": null,
            "bottom": null,
            "_model_module": "@jupyter-widgets/base",
            "top": null,
            "grid_column": null,
            "overflow_y": null,
            "overflow_x": null,
            "grid_auto_flow": null,
            "grid_area": null,
            "grid_template_columns": null,
            "flex": null,
            "_model_name": "LayoutModel",
            "justify_items": null,
            "grid_row": null,
            "max_height": null,
            "align_content": null,
            "visibility": null,
            "align_self": null,
            "height": null,
            "min_height": null,
            "padding": null,
            "grid_auto_rows": null,
            "grid_gap": null,
            "max_width": null,
            "order": null,
            "_view_module_version": "1.2.0",
            "grid_template_areas": null,
            "object_position": null,
            "object_fit": null,
            "grid_auto_columns": null,
            "margin": null,
            "display": null,
            "left": null
          }
        },
        "ef07a14b0dc84997b315af702787c528": {
          "model_module": "@jupyter-widgets/controls",
          "model_name": "DescriptionStyleModel",
          "state": {
            "_view_name": "StyleView",
            "_model_name": "DescriptionStyleModel",
            "description_width": "",
            "_view_module": "@jupyter-widgets/base",
            "_model_module_version": "1.5.0",
            "_view_count": null,
            "_view_module_version": "1.2.0",
            "_model_module": "@jupyter-widgets/controls"
          }
        },
        "d7504d2ac38b40afa1088bed696f63d3": {
          "model_module": "@jupyter-widgets/base",
          "model_name": "LayoutModel",
          "state": {
            "_view_name": "LayoutView",
            "grid_template_rows": null,
            "right": null,
            "justify_content": null,
            "_view_module": "@jupyter-widgets/base",
            "overflow": null,
            "_model_module_version": "1.2.0",
            "_view_count": null,
            "flex_flow": null,
            "width": null,
            "min_width": null,
            "border": null,
            "align_items": null,
            "bottom": null,
            "_model_module": "@jupyter-widgets/base",
            "top": null,
            "grid_column": null,
            "overflow_y": null,
            "overflow_x": null,
            "grid_auto_flow": null,
            "grid_area": null,
            "grid_template_columns": null,
            "flex": null,
            "_model_name": "LayoutModel",
            "justify_items": null,
            "grid_row": null,
            "max_height": null,
            "align_content": null,
            "visibility": null,
            "align_self": null,
            "height": null,
            "min_height": null,
            "padding": null,
            "grid_auto_rows": null,
            "grid_gap": null,
            "max_width": null,
            "order": null,
            "_view_module_version": "1.2.0",
            "grid_template_areas": null,
            "object_position": null,
            "object_fit": null,
            "grid_auto_columns": null,
            "margin": null,
            "display": null,
            "left": null
          }
        }
      }
    }
  },
  "cells": [
    {
      "cell_type": "markdown",
      "metadata": {
        "id": "vujgdbCx_e1B"
      },
      "source": [
        "# MIT Movie Dataset - spaCy Models"
      ]
    },
    {
      "cell_type": "markdown",
      "metadata": {
        "id": "ZZHGS4xdG8uf"
      },
      "source": [
        "## Directions: \n",
        "\n",
        "First, run the \"Load Spacy Formatted Data\" section. \n",
        "\n",
        "Secondly, to check the performance of models that have been trained in this notebook jump to the \"Evaluate Model\" section of each model. There is no need to rerun all the training of the models - it will just write over the previous model.\n"
      ]
    },
    {
      "cell_type": "code",
      "metadata": {
        "id": "yk8fvsn4CwPB",
        "colab": {
          "base_uri": "https://localhost:8080/"
        },
        "outputId": "37875c00-1ce4-4ed2-b446-80234286fb87"
      },
      "source": [
        "import pandas as pd\n",
        "import numpy as np\n",
        "\n",
        "# Run this cell to mount your Google Drive.\n",
        "from google.colab import drive\n",
        "drive.mount('/content/drive')"
      ],
      "execution_count": null,
      "outputs": [
        {
          "output_type": "stream",
          "text": [
            "Mounted at /content/drive\n"
          ],
          "name": "stdout"
        }
      ]
    },
    {
      "cell_type": "code",
      "metadata": {
        "id": "54ekd9shC7_0",
        "colab": {
          "base_uri": "https://localhost:8080/",
          "height": 35
        },
        "outputId": "df012b7d-32fb-45f8-d9ca-bb55e08b8f9e"
      },
      "source": [
        "import os\n",
        "\n",
        "os.chdir('/content/drive/My Drive/Colab Notebooks/DAAN888/data')\n",
        "#os.chdir('/content/drive/My Drive/DAAN888/data')\n",
        "os.getcwd()"
      ],
      "execution_count": null,
      "outputs": [
        {
          "output_type": "execute_result",
          "data": {
            "application/vnd.google.colaboratory.intrinsic+json": {
              "type": "string"
            },
            "text/plain": [
              "'/content/drive/My Drive/Colab Notebooks/DAAN888/data'"
            ]
          },
          "metadata": {
            "tags": []
          },
          "execution_count": 2
        }
      ]
    },
    {
      "cell_type": "code",
      "metadata": {
        "id": "C0YEAMrGI_WA"
      },
      "source": [
        "model_dir = '/content/drive/My Drive/Colab Notebooks/DAAN888/models/'\n",
        "data_dir = '/content/drive/My Drive/Colab Notebooks/DAAN888/data/'"
      ],
      "execution_count": null,
      "outputs": []
    },
    {
      "cell_type": "markdown",
      "metadata": {
        "id": "PzVEDuT6QEWp"
      },
      "source": [
        "## Load Spacy Formatted Data\n"
      ]
    },
    {
      "cell_type": "code",
      "metadata": {
        "id": "fI-N0a1ScAVL",
        "colab": {
          "base_uri": "https://localhost:8080/"
        },
        "outputId": "342d5b66-766e-486b-9af2-bd8bed5c840d"
      },
      "source": [
        "!nvcc --version"
      ],
      "execution_count": null,
      "outputs": [
        {
          "output_type": "stream",
          "text": [
            "nvcc: NVIDIA (R) Cuda compiler driver\n",
            "Copyright (c) 2005-2019 NVIDIA Corporation\n",
            "Built on Sun_Jul_28_19:07:16_PDT_2019\n",
            "Cuda compilation tools, release 10.1, V10.1.243\n"
          ],
          "name": "stdout"
        }
      ]
    },
    {
      "cell_type": "code",
      "metadata": {
        "id": "pnXuzN_aaz23",
        "colab": {
          "base_uri": "https://localhost:8080/"
        },
        "outputId": "558664b1-5294-4483-a714-08c1533bd9cd"
      },
      "source": [
        "!pip install -U spacy[cuda101] # change your version based on above 10.1 = 101"
      ],
      "execution_count": null,
      "outputs": [
        {
          "output_type": "stream",
          "text": [
            "Collecting spacy[cuda101]\n",
            "\u001b[?25l  Downloading https://files.pythonhosted.org/packages/50/b2/12466d3018bb84b039139ef76436ea7a01e98125c2aee6a81e527eb4ebe1/spacy-2.3.4-cp36-cp36m-manylinux2014_x86_64.whl (10.4MB)\n",
            "\u001b[K     |████████████████████████████████| 10.4MB 9.9MB/s \n",
            "\u001b[?25hRequirement already satisfied, skipping upgrade: wasabi<1.1.0,>=0.4.0 in /usr/local/lib/python3.6/dist-packages (from spacy[cuda101]) (0.8.0)\n",
            "Requirement already satisfied, skipping upgrade: plac<1.2.0,>=0.9.6 in /usr/local/lib/python3.6/dist-packages (from spacy[cuda101]) (1.1.3)\n",
            "Requirement already satisfied, skipping upgrade: preshed<3.1.0,>=3.0.2 in /usr/local/lib/python3.6/dist-packages (from spacy[cuda101]) (3.0.4)\n",
            "Requirement already satisfied, skipping upgrade: setuptools in /usr/local/lib/python3.6/dist-packages (from spacy[cuda101]) (50.3.2)\n",
            "Requirement already satisfied, skipping upgrade: catalogue<1.1.0,>=0.0.7 in /usr/local/lib/python3.6/dist-packages (from spacy[cuda101]) (1.0.0)\n",
            "Requirement already satisfied, skipping upgrade: requests<3.0.0,>=2.13.0 in /usr/local/lib/python3.6/dist-packages (from spacy[cuda101]) (2.23.0)\n",
            "Requirement already satisfied, skipping upgrade: srsly<1.1.0,>=1.0.2 in /usr/local/lib/python3.6/dist-packages (from spacy[cuda101]) (1.0.4)\n",
            "Requirement already satisfied, skipping upgrade: murmurhash<1.1.0,>=0.28.0 in /usr/local/lib/python3.6/dist-packages (from spacy[cuda101]) (1.0.4)\n",
            "Requirement already satisfied, skipping upgrade: cymem<2.1.0,>=2.0.2 in /usr/local/lib/python3.6/dist-packages (from spacy[cuda101]) (2.0.4)\n",
            "Requirement already satisfied, skipping upgrade: numpy>=1.15.0 in /usr/local/lib/python3.6/dist-packages (from spacy[cuda101]) (1.18.5)\n",
            "Requirement already satisfied, skipping upgrade: tqdm<5.0.0,>=4.38.0 in /usr/local/lib/python3.6/dist-packages (from spacy[cuda101]) (4.41.1)\n",
            "Collecting thinc<7.5.0,>=7.4.1\n",
            "\u001b[?25l  Downloading https://files.pythonhosted.org/packages/1b/c9/ce2e03720a5647fd90da575325376ff258653a05f357aa970fd87e6c1a55/thinc-7.4.3-cp36-cp36m-manylinux2014_x86_64.whl (1.1MB)\n",
            "\u001b[K     |████████████████████████████████| 1.1MB 40.5MB/s \n",
            "\u001b[?25hRequirement already satisfied, skipping upgrade: blis<0.8.0,>=0.4.0; python_version >= \"3.6\" in /usr/local/lib/python3.6/dist-packages (from spacy[cuda101]) (0.4.1)\n",
            "Requirement already satisfied, skipping upgrade: cupy-cuda101<8.0.0,>=5.0.0b4; extra == \"cuda101\" in /usr/local/lib/python3.6/dist-packages (from spacy[cuda101]) (7.4.0)\n",
            "Requirement already satisfied, skipping upgrade: importlib-metadata>=0.20; python_version < \"3.8\" in /usr/local/lib/python3.6/dist-packages (from catalogue<1.1.0,>=0.0.7->spacy[cuda101]) (2.0.0)\n",
            "Requirement already satisfied, skipping upgrade: idna<3,>=2.5 in /usr/local/lib/python3.6/dist-packages (from requests<3.0.0,>=2.13.0->spacy[cuda101]) (2.10)\n",
            "Requirement already satisfied, skipping upgrade: urllib3!=1.25.0,!=1.25.1,<1.26,>=1.21.1 in /usr/local/lib/python3.6/dist-packages (from requests<3.0.0,>=2.13.0->spacy[cuda101]) (1.24.3)\n",
            "Requirement already satisfied, skipping upgrade: chardet<4,>=3.0.2 in /usr/local/lib/python3.6/dist-packages (from requests<3.0.0,>=2.13.0->spacy[cuda101]) (3.0.4)\n",
            "Requirement already satisfied, skipping upgrade: certifi>=2017.4.17 in /usr/local/lib/python3.6/dist-packages (from requests<3.0.0,>=2.13.0->spacy[cuda101]) (2020.11.8)\n",
            "Requirement already satisfied, skipping upgrade: fastrlock>=0.3 in /usr/local/lib/python3.6/dist-packages (from cupy-cuda101<8.0.0,>=5.0.0b4; extra == \"cuda101\"->spacy[cuda101]) (0.5)\n",
            "Requirement already satisfied, skipping upgrade: six>=1.9.0 in /usr/local/lib/python3.6/dist-packages (from cupy-cuda101<8.0.0,>=5.0.0b4; extra == \"cuda101\"->spacy[cuda101]) (1.15.0)\n",
            "Requirement already satisfied, skipping upgrade: zipp>=0.5 in /usr/local/lib/python3.6/dist-packages (from importlib-metadata>=0.20; python_version < \"3.8\"->catalogue<1.1.0,>=0.0.7->spacy[cuda101]) (3.4.0)\n",
            "Installing collected packages: thinc, spacy\n",
            "  Found existing installation: thinc 7.4.0\n",
            "    Uninstalling thinc-7.4.0:\n",
            "      Successfully uninstalled thinc-7.4.0\n",
            "  Found existing installation: spacy 2.2.4\n",
            "    Uninstalling spacy-2.2.4:\n",
            "      Successfully uninstalled spacy-2.2.4\n",
            "Successfully installed spacy-2.3.4 thinc-7.4.3\n"
          ],
          "name": "stdout"
        }
      ]
    },
    {
      "cell_type": "code",
      "metadata": {
        "id": "zXtBHfJVm1dh",
        "colab": {
          "base_uri": "https://localhost:8080/"
        },
        "outputId": "2270359c-5cd4-4372-973f-653b319ad240"
      },
      "source": [
        "!pip install spacy-lookups-data"
      ],
      "execution_count": null,
      "outputs": [
        {
          "output_type": "stream",
          "text": [
            "Collecting spacy-lookups-data\n",
            "\u001b[?25l  Downloading https://files.pythonhosted.org/packages/41/b7/d5c635e51718c874606fb08249c0fab710286240d54847dc60bad3dfceac/spacy_lookups_data-0.3.2.tar.gz (93.8MB)\n",
            "\u001b[K     |████████████████████████████████| 93.8MB 110kB/s \n",
            "\u001b[?25hRequirement already satisfied: setuptools in /usr/local/lib/python3.6/dist-packages (from spacy-lookups-data) (50.3.2)\n",
            "Building wheels for collected packages: spacy-lookups-data\n",
            "  Building wheel for spacy-lookups-data (setup.py) ... \u001b[?25l\u001b[?25hdone\n",
            "  Created wheel for spacy-lookups-data: filename=spacy_lookups_data-0.3.2-py2.py3-none-any.whl size=93807573 sha256=fbed1e8e68d2474b499f46cfe536441ba30e7fa356293fb4fbdb2e1310d76a13\n",
            "  Stored in directory: /root/.cache/pip/wheels/5b/f4/d0/bf720a06127c95d9be2a81d197a3f1998ee5fc63410944e28f\n",
            "Successfully built spacy-lookups-data\n",
            "Installing collected packages: spacy-lookups-data\n",
            "Successfully installed spacy-lookups-data-0.3.2\n"
          ],
          "name": "stdout"
        }
      ]
    },
    {
      "cell_type": "code",
      "metadata": {
        "id": "IsgSy-0IMzp7",
        "colab": {
          "base_uri": "https://localhost:8080/"
        },
        "outputId": "5b935b2c-e563-4e9a-8254-b47c831c3a0b"
      },
      "source": [
        "import spacy\n",
        "activated = spacy.prefer_gpu()\n",
        "print('GPU: ', activated)"
      ],
      "execution_count": null,
      "outputs": [
        {
          "output_type": "stream",
          "text": [
            "GPU:  True\n"
          ],
          "name": "stdout"
        }
      ]
    },
    {
      "cell_type": "code",
      "metadata": {
        "id": "2upZXaOvQHev"
      },
      "source": [
        "import json\n",
        "\n",
        "with open('spacy_mitmovie_train.json', 'rb') as handle: \n",
        "  train = json.load(handle)"
      ],
      "execution_count": null,
      "outputs": []
    },
    {
      "cell_type": "code",
      "metadata": {
        "id": "khEGXX_2AdCS"
      },
      "source": [
        "with open('spacy_mitmovie_test.json', 'rb') as handle: \n",
        "  test = json.load(handle)"
      ],
      "execution_count": null,
      "outputs": []
    },
    {
      "cell_type": "code",
      "metadata": {
        "id": "JYG2RSEiQUaY",
        "colab": {
          "base_uri": "https://localhost:8080/"
        },
        "outputId": "afdcc915-bb5a-4349-c208-b55d16517104"
      },
      "source": [
        "train[0:2]"
      ],
      "execution_count": null,
      "outputs": [
        {
          "output_type": "execute_result",
          "data": {
            "text/plain": [
              "[['what movies star bruce willis', {'entities': [[17, 29, 'ACTOR']]}],\n",
              " ['show me films with drew barrymore from the 1980s',\n",
              "  {'entities': [[19, 33, 'ACTOR'], [43, 48, 'YEAR']]}]]"
            ]
          },
          "metadata": {
            "tags": []
          },
          "execution_count": 10
        }
      ]
    },
    {
      "cell_type": "code",
      "metadata": {
        "id": "C04BryiGBv84"
      },
      "source": [
        "#len(train)"
      ],
      "execution_count": null,
      "outputs": []
    },
    {
      "cell_type": "code",
      "metadata": {
        "id": "247S6BvmAhms"
      },
      "source": [
        "#test[0]"
      ],
      "execution_count": null,
      "outputs": []
    },
    {
      "cell_type": "code",
      "metadata": {
        "id": "3_dsilFHHhF9"
      },
      "source": [
        "movie_labels = ['ACTOR',\n",
        "  'YEAR',\n",
        "  'TITLE',\n",
        "  'GENRE',\n",
        "  'DIRECTOR',\n",
        "  'SONG',\n",
        "  'PLOT',\n",
        "  'REVIEW',\n",
        "  'CHARACTER',\n",
        "  'RATING',\n",
        "  'RATINGS_AVERAGE',\n",
        "  'TRAILER']"
      ],
      "execution_count": null,
      "outputs": []
    },
    {
      "cell_type": "code",
      "metadata": {
        "id": "vSYYUGHWBZS3",
        "colab": {
          "base_uri": "https://localhost:8080/"
        },
        "outputId": "0a6ae91c-c60b-46fe-921b-93a6dd2fe861"
      },
      "source": [
        "len(movie_labels)"
      ],
      "execution_count": null,
      "outputs": [
        {
          "output_type": "execute_result",
          "data": {
            "text/plain": [
              "12"
            ]
          },
          "metadata": {
            "tags": []
          },
          "execution_count": 14
        }
      ]
    },
    {
      "cell_type": "code",
      "metadata": {
        "id": "U_Hw8e_2GmzW"
      },
      "source": [
        "# custom tokenizer so that we can override Spacy's sophisticated one\n",
        "\n",
        "from spacy.tokens import Doc\n",
        "\n",
        "def custom_tokenizer(text):\n",
        "\n",
        "    # override tokenizer so that it only splits on space\n",
        "    tokens = text.split()\n",
        "\n",
        "    return Doc(nlp.vocab, words=tokens)"
      ],
      "execution_count": null,
      "outputs": []
    },
    {
      "cell_type": "markdown",
      "metadata": {
        "id": "mftVJYOS7Atg"
      },
      "source": [
        "\n",
        "\n",
        "---\n",
        "\n"
      ]
    },
    {
      "cell_type": "markdown",
      "metadata": {
        "id": "_-is4itX_0Qp"
      },
      "source": [
        "### Model 1: Blank spaCy Model"
      ]
    },
    {
      "cell_type": "code",
      "metadata": {
        "id": "rfrs6-qJP_qL"
      },
      "source": [
        "# https://s3.amazonaws.com/assets.datacamp.com/production/course_8392/slides/chapter4.pdf\n",
        "\n",
        "# Start with blank English model\n",
        "nlp = spacy.blank('en', disable=['tagger', 'parser'])\n",
        "\n",
        "nlp.tokenizer = custom_tokenizer\n",
        "\n",
        "# Create blank entity recognizer and add it to the pipeline\n",
        "ner = nlp.create_pipe('ner')\n",
        "nlp.add_pipe(ner)\n",
        "\n",
        "# Add all new labels\n",
        "for label in movie_labels:\n",
        "  ner.add_label(label)"
      ],
      "execution_count": null,
      "outputs": []
    },
    {
      "cell_type": "code",
      "metadata": {
        "id": "oVNDtrkYQugR"
      },
      "source": [
        "ner.labels"
      ],
      "execution_count": null,
      "outputs": []
    },
    {
      "cell_type": "markdown",
      "metadata": {
        "id": "1gSSCUcBisJ2"
      },
      "source": [
        "#### Train Model"
      ]
    },
    {
      "cell_type": "code",
      "metadata": {
        "id": "3h0hc9EfRWZV"
      },
      "source": [
        "#train_count = 38000\n",
        "epochs = 10"
      ],
      "execution_count": null,
      "outputs": []
    },
    {
      "cell_type": "code",
      "metadata": {
        "id": "c9PUzlj2RUPG"
      },
      "source": [
        "import random\n",
        "from datetime import datetime\n",
        "from spacy.util import minibatch, compounding\n",
        "from spacy.gold import GoldParse\n",
        "\n",
        "# https://spacy.io/usage/training#ner\n",
        "\n",
        "start = datetime.now()\n",
        "\n",
        "# Start the training\n",
        "optimizer = nlp.begin_training()\n",
        "\n",
        "# Train for n epochs\n",
        "for itn in range(epochs):\n",
        "\n",
        "    random.shuffle(train) # shuffle the examples each time through\n",
        "    losses = {} # initialize empty dictionary to get losses\n",
        "\n",
        "    # batch up the examples using spaCy's minibatch\n",
        "    batches = minibatch(train, size=compounding(4.0, 32.0, 1.001))\n",
        "    for batch in batches:\n",
        "      texts, annotations = zip(*batch)\n",
        "      # Update the model\n",
        "      nlp.update(texts, annotations, drop=0.30, losses=losses )\n",
        "\n",
        "    print(\"Losses\", losses)\n",
        "\n",
        "print('Time to train: ', datetime.now() - start)"
      ],
      "execution_count": null,
      "outputs": []
    },
    {
      "cell_type": "code",
      "metadata": {
        "id": "GXuydTIFR3X8"
      },
      "source": [
        "nlp.meta['name'] = 'mitmovie_spacy_blank_drpt30'"
      ],
      "execution_count": null,
      "outputs": []
    },
    {
      "cell_type": "code",
      "metadata": {
        "id": "aKyRTkNzTKEq"
      },
      "source": [
        "nlp.to_disk(model_dir + nlp.meta['name'], exclude='tokenizer')"
      ],
      "execution_count": null,
      "outputs": []
    },
    {
      "cell_type": "markdown",
      "metadata": {
        "id": "R5ZEPHRS4FCH"
      },
      "source": [
        "#### Evaluate Model"
      ]
    },
    {
      "cell_type": "code",
      "metadata": {
        "id": "uiARsesDGGrV"
      },
      "source": [
        "# load the model trained above\n",
        "nlp = spacy.load(model_dir + 'mitmovie_spacy_blank_drpt30')\n",
        "nlp.tokenizer = custom_tokenizer"
      ],
      "execution_count": null,
      "outputs": []
    },
    {
      "cell_type": "code",
      "metadata": {
        "id": "eG5MYzB910Na"
      },
      "source": [
        "# quick test on the trained model\n",
        "for text, orig_ents in test[0:3]:\n",
        "  doc = nlp(text)\n",
        "  print(\"Extracted Entities:\", [(ent.text, ent.label_) for ent in doc.ents])\n",
        "  #print(\"Tokens\", [(t.text, t.ent_type_, t.ent_iob) for t in doc])\n",
        "  print(\"Original Entities:\", orig_ents)\n",
        "  print('Original Sentence:', text)\n",
        "  print()"
      ],
      "execution_count": null,
      "outputs": []
    },
    {
      "cell_type": "code",
      "metadata": {
        "id": "WU_u3IDafjbF"
      },
      "source": [
        "scorer = nlp.evaluate(test, verbose=False)"
      ],
      "execution_count": null,
      "outputs": []
    },
    {
      "cell_type": "code",
      "metadata": {
        "id": "GR1HdiUeQTt6"
      },
      "source": [
        "scorer.ents_per_type"
      ],
      "execution_count": null,
      "outputs": []
    },
    {
      "cell_type": "code",
      "metadata": {
        "id": "XPAySHumcqE5"
      },
      "source": [
        "scorer.ents_p, scorer.ents_r, scorer.ents_f\n",
        " # (86.23627413858387, 85.31560217269151, 85.77346765841259) for 10 epochs\n",
        " # (85.22388059701493, 85.55909346319535, 85.39115805215441) for 30 epochs"
      ],
      "execution_count": null,
      "outputs": []
    },
    {
      "cell_type": "markdown",
      "metadata": {
        "id": "qvlco_HG7Eub"
      },
      "source": [
        "\n",
        "\n",
        "---\n",
        "\n"
      ]
    },
    {
      "cell_type": "markdown",
      "metadata": {
        "id": "zFpnenur-3R1"
      },
      "source": [
        "### Model 2: MIT Movie Word Embedding"
      ]
    },
    {
      "cell_type": "markdown",
      "metadata": {
        "id": "RbtrqoAlCVbq"
      },
      "source": [
        "#### Train Embedding"
      ]
    },
    {
      "cell_type": "markdown",
      "metadata": {
        "id": "ngCXEEy_CZYU"
      },
      "source": [
        "This embedding is on the training data of the MIT Movie dataset."
      ]
    },
    {
      "cell_type": "code",
      "metadata": {
        "id": "ZE0qr64__EQI"
      },
      "source": [
        "import pickle \n",
        "\n",
        "with open('mitmovie.pickle', 'rb') as handle:\n",
        "    dataset = pickle.load(handle)"
      ],
      "execution_count": null,
      "outputs": []
    },
    {
      "cell_type": "code",
      "metadata": {
        "id": "ahDgUhoh-7hF",
        "colab": {
          "base_uri": "https://localhost:8080/"
        },
        "outputId": "5a70f622-2452-423e-c941-c02545fe2639"
      },
      "source": [
        "import gensim\n",
        "from datetime import datetime\n",
        "\n",
        "# choose desired word embedding depth\n",
        "embedding_dim = 200\n",
        "\n",
        "# choose minimum occurrences of a word in order for an embedding to be made\n",
        "min_word_count = 1\n",
        "\n",
        "start = datetime.now()\n",
        "embedding = gensim.models.Word2Vec(sentences = dataset['train_tokens'], \n",
        "                                   size = embedding_dim, \n",
        "                                   window = 5, \n",
        "                                   workers = 4,\n",
        "                                   min_count = min_word_count)\n",
        "words = list(embedding.wv.vocab)\n",
        "print('Vocabulary size in Word2Vec %d' % len(words))\n",
        "print('\\n')\n",
        "\n",
        "print('Time to complete:', datetime.now() - start )"
      ],
      "execution_count": null,
      "outputs": [
        {
          "output_type": "stream",
          "text": [
            "Vocabulary size in Word2Vec 6710\n",
            "\n",
            "\n",
            "Time to complete: 0:00:02.303673\n"
          ],
          "name": "stdout"
        }
      ]
    },
    {
      "cell_type": "code",
      "metadata": {
        "id": "ejwx7H1kHYfm"
      },
      "source": [
        "# save the embedding\n",
        "filename = model_dir + 'MITMovie/embeddings/' + 'trainset_embedding_word2vec.txt'\n",
        "embedding.wv.save_word2vec_format(filename, binary=False)"
      ],
      "execution_count": null,
      "outputs": []
    },
    {
      "cell_type": "code",
      "metadata": {
        "id": "kCRcPXtU57Ez"
      },
      "source": [
        "#import gensim\n",
        "#from datetime import datetime\n",
        "\n",
        "##embedding = gensim.models.Word2Vec.load(model_dir + 'MITMovie/embeddings/' + 'trainset_embedding_word2vec.txt.gz')"
      ],
      "execution_count": null,
      "outputs": []
    },
    {
      "cell_type": "code",
      "metadata": {
        "id": "gPvempvBAt4i",
        "colab": {
          "base_uri": "https://localhost:8080/"
        },
        "outputId": "32c98086-404a-4283-c409-ef289a43d689"
      },
      "source": [
        "[word for (word, score) in embedding.wv.most_similar('starred')]"
      ],
      "execution_count": null,
      "outputs": [
        {
          "output_type": "execute_result",
          "data": {
            "text/plain": [
              "['during',\n",
              " 'filmed',\n",
              " 'star',\n",
              " 'over',\n",
              " 'this',\n",
              " 'main',\n",
              " 'it',\n",
              " 'played',\n",
              " 'co',\n",
              " 'role']"
            ]
          },
          "metadata": {
            "tags": []
          },
          "execution_count": 29
        }
      ]
    },
    {
      "cell_type": "code",
      "metadata": {
        "id": "FD0PFwwxAmAk"
      },
      "source": [
        "os.chdir(model_dir + 'MITMovie/embeddings/')"
      ],
      "execution_count": null,
      "outputs": []
    },
    {
      "cell_type": "code",
      "metadata": {
        "id": "tfz-UFi6BD9U"
      },
      "source": [
        "# https://info.cambridgespark.com/latest/word-embeddings-in-python\n",
        "!gzip trainset_embedding_word2vec.txt"
      ],
      "execution_count": null,
      "outputs": []
    },
    {
      "cell_type": "code",
      "metadata": {
        "id": "P-j9pTLBBRtE"
      },
      "source": [
        "!python -m spacy init-model en ./spacy.word2vec.model --vectors-loc trainset_embedding_word2vec.txt.gz"
      ],
      "execution_count": null,
      "outputs": []
    },
    {
      "cell_type": "markdown",
      "metadata": {
        "id": "ynpugKiuCuu2"
      },
      "source": [
        "#### Train Model"
      ]
    },
    {
      "cell_type": "code",
      "metadata": {
        "id": "Dyzv3lt2C5Xh"
      },
      "source": [
        "os.chdir(model_dir + 'MITMovie/embeddings/')"
      ],
      "execution_count": null,
      "outputs": []
    },
    {
      "cell_type": "code",
      "metadata": {
        "id": "KeHkbPIHC5Xi"
      },
      "source": [
        "nlp = spacy.load('./spacy.word2vec.model/')\n",
        "nlp.tokenizer = custom_tokenizer"
      ],
      "execution_count": null,
      "outputs": []
    },
    {
      "cell_type": "code",
      "metadata": {
        "id": "RGLpxC9tC5Xj"
      },
      "source": [
        "tokens = nlp(u'what actor starred in a film about jerry lee lewis')"
      ],
      "execution_count": null,
      "outputs": []
    },
    {
      "cell_type": "code",
      "metadata": {
        "id": "azDqZ7lnC5Xl"
      },
      "source": [
        "for token in tokens:\n",
        "  print(token.text, token.has_vector, token.vector_norm, token.is_oov) # oov is does the word have a vector"
      ],
      "execution_count": null,
      "outputs": []
    },
    {
      "cell_type": "code",
      "metadata": {
        "id": "yGLiGIGiC5Xm"
      },
      "source": [
        "# Create blank entity recognizer and add it to the pipeline\n",
        "ner = nlp.create_pipe('ner')\n",
        "nlp.add_pipe(ner)"
      ],
      "execution_count": null,
      "outputs": []
    },
    {
      "cell_type": "code",
      "metadata": {
        "id": "R778jo1EC5Xo"
      },
      "source": [
        "# Add all new labels\n",
        "for label in movie_labels:\n",
        "  ner.add_label(label)"
      ],
      "execution_count": null,
      "outputs": []
    },
    {
      "cell_type": "code",
      "metadata": {
        "id": "r59uJjEWC5Xp"
      },
      "source": [
        "epochs = 10"
      ],
      "execution_count": null,
      "outputs": []
    },
    {
      "cell_type": "code",
      "metadata": {
        "id": "Y1xXYHVjC5Xr"
      },
      "source": [
        "import random\n",
        "from datetime import datetime\n",
        "from spacy.util import minibatch, compounding\n",
        "from spacy.gold import GoldParse\n",
        "\n",
        "\n",
        "start = datetime.now()\n",
        "\n",
        "# Start the training\n",
        "optimizer = nlp.begin_training()\n",
        "\n",
        "# Train for n epochs\n",
        "for itn in range(epochs):\n",
        "\n",
        "    random.shuffle(train) # shuffle the examples each time through\n",
        "\n",
        "    losses = {} # initialize empty dictionary to get losses\n",
        "\n",
        "    # batch up the examples using spaCy's minibatch\n",
        "    batches = minibatch(train, size=compounding(4.0, 32.0, 1.001))\n",
        "    for batch in batches:\n",
        "      texts, annotations = zip(*batch)\n",
        "      # Update the model\n",
        "      nlp.update(texts, annotations, drop=0.30, losses=losses )\n",
        "\n",
        "    print(\"Losses\", losses)\n",
        "\n",
        "print('Time to train: ', datetime.now() - start)"
      ],
      "execution_count": null,
      "outputs": []
    },
    {
      "cell_type": "code",
      "metadata": {
        "id": "wrbRd68BC5Xs"
      },
      "source": [
        "custom_spacy.meta['name'] = 'mitmovie_spacy_customembed_drpt30'"
      ],
      "execution_count": null,
      "outputs": []
    },
    {
      "cell_type": "code",
      "metadata": {
        "id": "AnO38okdC5Xt"
      },
      "source": [
        "from pathlib import Path\n",
        "\n",
        "output_dir = Path(model_dir + custom_spacy.meta['name'])\n",
        "\n",
        "if not output_dir.exists():\n",
        "  output_dir.mkdir()\n",
        "  custom_spacy.to_disk(output_dir)"
      ],
      "execution_count": null,
      "outputs": []
    },
    {
      "cell_type": "markdown",
      "metadata": {
        "id": "JVA3jbp1DTG4"
      },
      "source": [
        "#### Evaluate Model"
      ]
    },
    {
      "cell_type": "code",
      "metadata": {
        "id": "36qp1yTKHsbs"
      },
      "source": [
        "custom_spacy = spacy.load(model_dir + 'mitmovie_spacy_customembed_drpt30')"
      ],
      "execution_count": null,
      "outputs": []
    },
    {
      "cell_type": "code",
      "metadata": {
        "id": "gsIDdmF7DTG9"
      },
      "source": [
        "# quick test on the trained model\n",
        "for text, orig_ents in train[0:3]:\n",
        "  doc = custom_spacy(text)\n",
        "  print(\"Extracted Entities:\", [(ent.text, ent.label_) for ent in doc.ents])\n",
        "  #print(\"Tokens\", [(t.text, t.ent_type_, t.ent_iob) for t in doc])\n",
        "  print(\"Original Entities:\", orig_ents)\n",
        "  print('Original Sentence:', text)\n",
        "  print()"
      ],
      "execution_count": null,
      "outputs": []
    },
    {
      "cell_type": "code",
      "metadata": {
        "id": "pXl8K6A5DTG_"
      },
      "source": [
        "# test on remaining samples\n",
        "scorer = custom_spacy.evaluate(test, verbose=False)"
      ],
      "execution_count": null,
      "outputs": []
    },
    {
      "cell_type": "code",
      "metadata": {
        "id": "qlQN_YYADTHB"
      },
      "source": [
        "scorer.ents_per_type"
      ],
      "execution_count": null,
      "outputs": []
    },
    {
      "cell_type": "code",
      "metadata": {
        "id": "RkGQfN_fDTHD"
      },
      "source": [
        "scorer.ents_p, scorer.ents_r, scorer.ents_f"
      ],
      "execution_count": null,
      "outputs": []
    },
    {
      "cell_type": "markdown",
      "metadata": {
        "id": "TcOYVtnf7HuE"
      },
      "source": [
        "\n",
        "\n",
        "---\n",
        "\n"
      ]
    },
    {
      "cell_type": "markdown",
      "metadata": {
        "id": "5zmyT0etPbPz"
      },
      "source": [
        "### Model 3: IMDB Word Embedding"
      ]
    },
    {
      "cell_type": "code",
      "metadata": {
        "id": "prunYnTBnSRl"
      },
      "source": [
        "# retrieve large corpus of IMDB review for pre-training a word embedding\n",
        "# http://ai.stanford.edu/~amaas/data/sentiment/\n",
        "# http://ai.stanford.edu/~amaas/papers/wvSent_acl2011.bib\n",
        "\n",
        "\n",
        "# don't rerun this code it will re-download the file\n",
        "#!wget http://ai.stanford.edu/~amaas/data/sentiment/aclImdb_v1.tar.gz"
      ],
      "execution_count": null,
      "outputs": []
    },
    {
      "cell_type": "markdown",
      "metadata": {
        "id": "5h40oIT0u3mQ"
      },
      "source": [
        "#### Train Embedding"
      ]
    },
    {
      "cell_type": "markdown",
      "metadata": {
        "id": "XBFwC-QH8H8h"
      },
      "source": [
        "Don't rerun this section of training of word embedding because it's lengthy run-time. Jump straight \"Evaluate Model\" and run. "
      ]
    },
    {
      "cell_type": "code",
      "metadata": {
        "id": "1_aMQQopq7bR",
        "colab": {
          "base_uri": "https://localhost:8080/"
        },
        "outputId": "eb87083d-6148-4bb1-c0cc-baf2d992b421"
      },
      "source": [
        "!pip install nlp"
      ],
      "execution_count": null,
      "outputs": [
        {
          "output_type": "stream",
          "text": [
            "Requirement already satisfied: nlp in /usr/local/lib/python3.6/dist-packages (0.4.0)\n",
            "Requirement already satisfied: tqdm>=4.27 in /usr/local/lib/python3.6/dist-packages (from nlp) (4.41.1)\n",
            "Requirement already satisfied: requests>=2.19.0 in /usr/local/lib/python3.6/dist-packages (from nlp) (2.23.0)\n",
            "Requirement already satisfied: filelock in /usr/local/lib/python3.6/dist-packages (from nlp) (3.0.12)\n",
            "Requirement already satisfied: xxhash in /usr/local/lib/python3.6/dist-packages (from nlp) (2.0.0)\n",
            "Requirement already satisfied: numpy in /usr/local/lib/python3.6/dist-packages (from nlp) (1.18.5)\n",
            "Requirement already satisfied: pyarrow>=0.16.0 in /usr/local/lib/python3.6/dist-packages (from nlp) (2.0.0)\n",
            "Requirement already satisfied: dill in /usr/local/lib/python3.6/dist-packages (from nlp) (0.3.2)\n",
            "Requirement already satisfied: dataclasses; python_version < \"3.7\" in /usr/local/lib/python3.6/dist-packages (from nlp) (0.7)\n",
            "Requirement already satisfied: pandas in /usr/local/lib/python3.6/dist-packages (from nlp) (1.1.3)\n",
            "Requirement already satisfied: chardet<4,>=3.0.2 in /usr/local/lib/python3.6/dist-packages (from requests>=2.19.0->nlp) (3.0.4)\n",
            "Requirement already satisfied: certifi>=2017.4.17 in /usr/local/lib/python3.6/dist-packages (from requests>=2.19.0->nlp) (2020.6.20)\n",
            "Requirement already satisfied: urllib3!=1.25.0,!=1.25.1,<1.26,>=1.21.1 in /usr/local/lib/python3.6/dist-packages (from requests>=2.19.0->nlp) (1.24.3)\n",
            "Requirement already satisfied: idna<3,>=2.5 in /usr/local/lib/python3.6/dist-packages (from requests>=2.19.0->nlp) (2.10)\n",
            "Requirement already satisfied: pytz>=2017.2 in /usr/local/lib/python3.6/dist-packages (from pandas->nlp) (2018.9)\n",
            "Requirement already satisfied: python-dateutil>=2.7.3 in /usr/local/lib/python3.6/dist-packages (from pandas->nlp) (2.8.1)\n",
            "Requirement already satisfied: six>=1.5 in /usr/local/lib/python3.6/dist-packages (from python-dateutil>=2.7.3->pandas->nlp) (1.15.0)\n"
          ],
          "name": "stdout"
        }
      ]
    },
    {
      "cell_type": "code",
      "metadata": {
        "id": "imrhWjS2tnyU",
        "colab": {
          "base_uri": "https://localhost:8080/"
        },
        "outputId": "645009fa-b235-4a68-e718-43b69d95c038"
      },
      "source": [
        "!pip install datasets"
      ],
      "execution_count": null,
      "outputs": [
        {
          "output_type": "stream",
          "text": [
            "Requirement already satisfied: datasets in /usr/local/lib/python3.6/dist-packages (1.1.2)\n",
            "Requirement already satisfied: multiprocess in /usr/local/lib/python3.6/dist-packages (from datasets) (0.70.10)\n",
            "Requirement already satisfied: numpy>=1.17 in /usr/local/lib/python3.6/dist-packages (from datasets) (1.18.5)\n",
            "Requirement already satisfied: pandas in /usr/local/lib/python3.6/dist-packages (from datasets) (1.1.3)\n",
            "Requirement already satisfied: dataclasses; python_version < \"3.7\" in /usr/local/lib/python3.6/dist-packages (from datasets) (0.7)\n",
            "Requirement already satisfied: tqdm<4.50.0,>=4.27 in /usr/local/lib/python3.6/dist-packages (from datasets) (4.41.1)\n",
            "Requirement already satisfied: filelock in /usr/local/lib/python3.6/dist-packages (from datasets) (3.0.12)\n",
            "Requirement already satisfied: xxhash in /usr/local/lib/python3.6/dist-packages (from datasets) (2.0.0)\n",
            "Requirement already satisfied: requests>=2.19.0 in /usr/local/lib/python3.6/dist-packages (from datasets) (2.23.0)\n",
            "Requirement already satisfied: dill in /usr/local/lib/python3.6/dist-packages (from datasets) (0.3.2)\n",
            "Requirement already satisfied: pyarrow>=0.17.1 in /usr/local/lib/python3.6/dist-packages (from datasets) (2.0.0)\n",
            "Requirement already satisfied: pytz>=2017.2 in /usr/local/lib/python3.6/dist-packages (from pandas->datasets) (2018.9)\n",
            "Requirement already satisfied: python-dateutil>=2.7.3 in /usr/local/lib/python3.6/dist-packages (from pandas->datasets) (2.8.1)\n",
            "Requirement already satisfied: idna<3,>=2.5 in /usr/local/lib/python3.6/dist-packages (from requests>=2.19.0->datasets) (2.10)\n",
            "Requirement already satisfied: certifi>=2017.4.17 in /usr/local/lib/python3.6/dist-packages (from requests>=2.19.0->datasets) (2020.6.20)\n",
            "Requirement already satisfied: urllib3!=1.25.0,!=1.25.1,<1.26,>=1.21.1 in /usr/local/lib/python3.6/dist-packages (from requests>=2.19.0->datasets) (1.24.3)\n",
            "Requirement already satisfied: chardet<4,>=3.0.2 in /usr/local/lib/python3.6/dist-packages (from requests>=2.19.0->datasets) (3.0.4)\n",
            "Requirement already satisfied: six>=1.5 in /usr/local/lib/python3.6/dist-packages (from python-dateutil>=2.7.3->pandas->datasets) (1.15.0)\n"
          ],
          "name": "stdout"
        }
      ]
    },
    {
      "cell_type": "code",
      "metadata": {
        "id": "mw7TGdVptOzk",
        "colab": {
          "base_uri": "https://localhost:8080/",
          "height": 222,
          "referenced_widgets": [
            "85c4472b1c32442b8a96db4d2714ffc5",
            "988347d04e8f4ec58c437f6a1d78842a",
            "53c0c0ff7b28419197cd3ead7272f274",
            "78b8caaaf3034fea8a3b66da0ef18ff5",
            "15ad5a63385c463e8ad9c87e1363e98f",
            "1dd0f07870ba4deb8b01bfd40905f23b",
            "fdb52a8b99d546628a9fb658582f1e9e",
            "885f4e73b6f4453aab392d911d2d9c28",
            "f546bf77fe1b4ba5a5fd52ab093e0b6a",
            "4152716701bd4f8f96d050876f2a935e",
            "ba2e65e7df7c4d159207ada4dcda3e6a",
            "07aa46d2765048178562b66b0d384898",
            "28948958528244e6842ef51b87ce89b8",
            "299a570752494e51ab6823bae349ef18",
            "c019aea2fe234802a04138d1122ccaba",
            "55fa52e54b3b4876a4fb11fcb38cdba2",
            "e7658b6e29c841688aecec11195f76bb",
            "25ed264a998a434ca92d56cccf4eb6c1",
            "b107fa9643eb4ab9909f9a1042bf8640",
            "852c9232f75c40e09bec91aab5965807",
            "46cdd7c7d3dc4af2bc5fab6fd73ddf34",
            "9d8be64308e44e1faa401afa229d232e",
            "ad119cbc63604c44aeb5bb86a278e550",
            "3225dc7a0f7642e38834fe63e5af0654",
            "7ad6851f82b2480aa76de16cbaa21f94",
            "a13f7e7fc1994ad08dae5deff0f4feb4",
            "c4e0e1db163d4eef9af78300b78a029f",
            "9578f4bd68de4b33bc94d468532ac047",
            "601794c86b854d53b513ad1db0a0d147",
            "44f4e626e1994fa7bfb047d30f528b33",
            "3bb08eb80e2a4946a62cc6c659778497",
            "763b68789b2149058e5ece44c638ba21",
            "b1b69d2c6fbc4a0e849d40847c002ae8",
            "91460c16aa8045aa8d973ae1ce321984",
            "4fb2c77841524c5fb74c5b3d9a378e69",
            "b87f1d68f31f49d1b459ac618393bb3f",
            "7332a0cc8ddf4449a422e5e925310dd5",
            "c76291e3e2f04f239d6e8d73b82b6574",
            "c96b1d4066d74f19858b2959f15e85d5",
            "1951266826f2439ebd928d6b403295f5",
            "9954a8b1e0e24130bfd22136fb4145e7",
            "be999db4d25c441db842fe8c40b4365c",
            "d2a71ed295464d989f4c1105e3861cd4",
            "02f465b804e4482d8ba63c88c464fac4",
            "dd6c596bc37c4cf0b17a58af3870da3b",
            "8dee83818b434ba6bdba1961bec5204c",
            "ef07a14b0dc84997b315af702787c528",
            "d7504d2ac38b40afa1088bed696f63d3"
          ]
        },
        "outputId": "14129019-397a-40ef-9066-b4583da17201"
      },
      "source": [
        "from datasets import load_dataset\n",
        "\n",
        "#don't rerun this code it will re-download the file\n",
        "# #https://huggingface.co/datasets/imdb\n",
        "dataset = load_dataset(\"imdb\")"
      ],
      "execution_count": null,
      "outputs": [
        {
          "output_type": "display_data",
          "data": {
            "application/vnd.jupyter.widget-view+json": {
              "model_id": "85c4472b1c32442b8a96db4d2714ffc5",
              "version_minor": 0,
              "version_major": 2
            },
            "text/plain": [
              "HBox(children=(FloatProgress(value=0.0, description='Downloading', max=1902.0, style=ProgressStyle(description…"
            ]
          },
          "metadata": {
            "tags": []
          }
        },
        {
          "output_type": "stream",
          "text": [
            "\n"
          ],
          "name": "stdout"
        },
        {
          "output_type": "display_data",
          "data": {
            "application/vnd.jupyter.widget-view+json": {
              "model_id": "f546bf77fe1b4ba5a5fd52ab093e0b6a",
              "version_minor": 0,
              "version_major": 2
            },
            "text/plain": [
              "HBox(children=(FloatProgress(value=0.0, description='Downloading', max=1004.0, style=ProgressStyle(description…"
            ]
          },
          "metadata": {
            "tags": []
          }
        },
        {
          "output_type": "stream",
          "text": [
            "\n",
            "Downloading and preparing dataset imdb/plain_text (download: 80.23 MiB, generated: 127.06 MiB, post-processed: Unknown size, total: 207.28 MiB) to /root/.cache/huggingface/datasets/imdb/plain_text/1.0.0/90099cb476936b753383ba2ae6ab2eae419b2e87f71cd5189cb9c8e5814d12a3...\n"
          ],
          "name": "stdout"
        },
        {
          "output_type": "display_data",
          "data": {
            "application/vnd.jupyter.widget-view+json": {
              "model_id": "e7658b6e29c841688aecec11195f76bb",
              "version_minor": 0,
              "version_major": 2
            },
            "text/plain": [
              "HBox(children=(FloatProgress(value=0.0, description='Downloading', max=84125825.0, style=ProgressStyle(descrip…"
            ]
          },
          "metadata": {
            "tags": []
          }
        },
        {
          "output_type": "stream",
          "text": [
            "\n"
          ],
          "name": "stdout"
        },
        {
          "output_type": "display_data",
          "data": {
            "application/vnd.jupyter.widget-view+json": {
              "model_id": "7ad6851f82b2480aa76de16cbaa21f94",
              "version_minor": 0,
              "version_major": 2
            },
            "text/plain": [
              "HBox(children=(FloatProgress(value=1.0, bar_style='info', max=1.0), HTML(value='')))"
            ]
          },
          "metadata": {
            "tags": []
          }
        },
        {
          "output_type": "stream",
          "text": [
            "\r"
          ],
          "name": "stdout"
        },
        {
          "output_type": "display_data",
          "data": {
            "application/vnd.jupyter.widget-view+json": {
              "model_id": "b1b69d2c6fbc4a0e849d40847c002ae8",
              "version_minor": 0,
              "version_major": 2
            },
            "text/plain": [
              "HBox(children=(FloatProgress(value=1.0, bar_style='info', max=1.0), HTML(value='')))"
            ]
          },
          "metadata": {
            "tags": []
          }
        },
        {
          "output_type": "stream",
          "text": [
            "\r"
          ],
          "name": "stdout"
        },
        {
          "output_type": "display_data",
          "data": {
            "application/vnd.jupyter.widget-view+json": {
              "model_id": "9954a8b1e0e24130bfd22136fb4145e7",
              "version_minor": 0,
              "version_major": 2
            },
            "text/plain": [
              "HBox(children=(FloatProgress(value=1.0, bar_style='info', max=1.0), HTML(value='')))"
            ]
          },
          "metadata": {
            "tags": []
          }
        },
        {
          "output_type": "stream",
          "text": [
            "\rDataset imdb downloaded and prepared to /root/.cache/huggingface/datasets/imdb/plain_text/1.0.0/90099cb476936b753383ba2ae6ab2eae419b2e87f71cd5189cb9c8e5814d12a3. Subsequent calls will reuse this data.\n"
          ],
          "name": "stdout"
        }
      ]
    },
    {
      "cell_type": "code",
      "metadata": {
        "id": "A-kwL28OQQJP"
      },
      "source": [
        "# import pickle\n",
        "\n",
        "# with open(data_dir + 'imdb.pickle', 'wb') as handle:\n",
        "#     pickle.dump(dataset, handle, protocol=pickle.HIGHEST_PROTOCOL)"
      ],
      "execution_count": null,
      "outputs": []
    },
    {
      "cell_type": "code",
      "metadata": {
        "id": "rwOU3vG8t0rS"
      },
      "source": [
        "# import pickle\n",
        "\n",
        "# with open(data_dir + 'imdb.pickle', 'r') as handle:\n",
        "#   dataset = pickle.load(handle)"
      ],
      "execution_count": null,
      "outputs": []
    },
    {
      "cell_type": "code",
      "metadata": {
        "id": "e3Wxv_lFRAVR"
      },
      "source": [
        "dataset.keys()"
      ],
      "execution_count": null,
      "outputs": []
    },
    {
      "cell_type": "code",
      "metadata": {
        "id": "rnDtSr_MvDCK"
      },
      "source": [
        "dataset['train']['text'][0]"
      ],
      "execution_count": null,
      "outputs": []
    },
    {
      "cell_type": "code",
      "metadata": {
        "id": "hZnOyrxmvWQ5"
      },
      "source": [
        "dataset['test']['text'][0]"
      ],
      "execution_count": null,
      "outputs": []
    },
    {
      "cell_type": "code",
      "metadata": {
        "id": "fsaw2Ln6vYTn"
      },
      "source": [
        "dataset['unsupervised']['text'][0]"
      ],
      "execution_count": null,
      "outputs": []
    },
    {
      "cell_type": "code",
      "metadata": {
        "id": "zUKMX1WBwurz",
        "colab": {
          "base_uri": "https://localhost:8080/"
        },
        "outputId": "bedc76d1-817b-4ab9-90ce-0cd045d4fbbf"
      },
      "source": [
        "import re\n",
        "\n",
        "# combine all texts\n",
        "imdb_all = []\n",
        "for ds in ['train', 'test', 'unsupervised']:\n",
        "  for t in dataset[ds]['text']:\n",
        "    imdb_all.append(re.sub('[^A-Za-z0-9]+', ' ', t.lower()))\n",
        "\n",
        "len(imdb_all)"
      ],
      "execution_count": null,
      "outputs": [
        {
          "output_type": "execute_result",
          "data": {
            "text/plain": [
              "100000"
            ]
          },
          "metadata": {
            "tags": []
          },
          "execution_count": 11
        }
      ]
    },
    {
      "cell_type": "code",
      "metadata": {
        "id": "FvEyyZRHA5DU"
      },
      "source": [
        "imdb_all = [sent.split() for sent in imdb_all]"
      ],
      "execution_count": null,
      "outputs": []
    },
    {
      "cell_type": "code",
      "metadata": {
        "id": "2OV-bkp2xKxH",
        "colab": {
          "base_uri": "https://localhost:8080/"
        },
        "outputId": "32aebf62-f770-4c50-c6cd-31485f4a63ff"
      },
      "source": [
        "imdb_all[0][0:10]"
      ],
      "execution_count": null,
      "outputs": [
        {
          "output_type": "execute_result",
          "data": {
            "text/plain": [
              "['bromwell', 'high', 'is', 'a', 'cartoon', 'comedy', 'it', 'ran', 'at', 'the']"
            ]
          },
          "metadata": {
            "tags": []
          },
          "execution_count": 13
        }
      ]
    },
    {
      "cell_type": "code",
      "metadata": {
        "id": "7mofuahm5ru7",
        "colab": {
          "base_uri": "https://localhost:8080/"
        },
        "outputId": "71d67913-e003-415e-e5af-5983986854cb"
      },
      "source": [
        "import gensim\n",
        "from datetime import datetime\n",
        "\n",
        "# choose desired word embedding depth\n",
        "embedding_dim = 200\n",
        "\n",
        "# choose minimum occurrences of a word in order for an embedding to be made\n",
        "min_word_count = 3\n",
        "\n",
        "start = datetime.now()\n",
        "embedding = gensim.models.Word2Vec(sentences = imdb_all, \n",
        "                                   size=embedding_dim, \n",
        "                                   window = 5, \n",
        "                                   workers = 4, \n",
        "                                   min_count= min_word_count,\n",
        "                                   )\n",
        "words = list(embedding.wv.vocab)\n",
        "print('Vocabulary size in Word2Vec %d' % len(words))\n",
        "print('\\n')\n",
        "\n",
        "print('Time to complete:', datetime.now() - start )"
      ],
      "execution_count": null,
      "outputs": [
        {
          "output_type": "stream",
          "text": [
            "Vocabulary size in Word2Vec 68608\n",
            "\n",
            "\n",
            "Time to complete: 0:03:36.920461\n"
          ],
          "name": "stdout"
        }
      ]
    },
    {
      "cell_type": "code",
      "metadata": {
        "id": "DE742jGvJdpV"
      },
      "source": [
        "filename = model_dir + 'MITMovie/embeddings/' + 'imdb_embedding_word2vec.txt'\n",
        "embedding.wv.save_word2vec_format(filename, binary=False)"
      ],
      "execution_count": null,
      "outputs": []
    },
    {
      "cell_type": "code",
      "metadata": {
        "id": "Hd5qx4lsR83d",
        "colab": {
          "base_uri": "https://localhost:8080/"
        },
        "outputId": "fad5fe93-9514-48ec-8964-cc573e57083d"
      },
      "source": [
        "import warnings\n",
        "warnings.filterwarnings(\"ignore\")\n",
        "\n",
        "[word for (word, score) in embedding.wv.most_similar('starred')]"
      ],
      "execution_count": null,
      "outputs": [
        {
          "output_type": "execute_result",
          "data": {
            "text/plain": [
              "['starring',\n",
              " 'appeared',\n",
              " 'featured',\n",
              " 'sang',\n",
              " 'helmed',\n",
              " 'outshines',\n",
              " 'boasted',\n",
              " 'participated',\n",
              " 'collaborated',\n",
              " 'wrote']"
            ]
          },
          "metadata": {
            "tags": []
          },
          "execution_count": 23
        }
      ]
    },
    {
      "cell_type": "code",
      "metadata": {
        "id": "OQ1x_-42Ub60"
      },
      "source": [
        "os.chdir(model_dir + 'MITMovie/embeddings/')"
      ],
      "execution_count": null,
      "outputs": []
    },
    {
      "cell_type": "code",
      "metadata": {
        "id": "tNfG9BFIgX55"
      },
      "source": [
        "# https://info.cambridgespark.com/latest/word-embeddings-in-python\n",
        "!gzip imdb_embedding_word2vec.txt"
      ],
      "execution_count": null,
      "outputs": []
    },
    {
      "cell_type": "code",
      "metadata": {
        "id": "cfwCOOghgh0O"
      },
      "source": [
        "!python -m spacy init-model en ./spacy.word2vec.imdb.model --vectors-loc imdb_embedding_word2vec.txt.gz"
      ],
      "execution_count": null,
      "outputs": []
    },
    {
      "cell_type": "markdown",
      "metadata": {
        "id": "w8Yx8H_Qie7L"
      },
      "source": [
        "#### Train Model"
      ]
    },
    {
      "cell_type": "code",
      "metadata": {
        "id": "D3YXRTwSEi5L"
      },
      "source": [
        "os.chdir(model_dir + 'MITMovie/embeddings/')"
      ],
      "execution_count": null,
      "outputs": []
    },
    {
      "cell_type": "code",
      "metadata": {
        "id": "ubHsX5GbhHGA"
      },
      "source": [
        "nlp = spacy.load('./spacy.word2vec.imdb.model/')\n",
        "nlp.tokenizer = custom_tokenizer"
      ],
      "execution_count": null,
      "outputs": []
    },
    {
      "cell_type": "code",
      "metadata": {
        "id": "Y_RMd-cEhR1T"
      },
      "source": [
        "tokens = nlp(u'what actor starred in a film about jerry lee lewis')"
      ],
      "execution_count": null,
      "outputs": []
    },
    {
      "cell_type": "code",
      "metadata": {
        "id": "GciVNZ2shiON"
      },
      "source": [
        "for token in tokens:\n",
        "  print(token.text, token.has_vector, token.vector_norm, token.is_oov) # oov is does the word have a vector"
      ],
      "execution_count": null,
      "outputs": []
    },
    {
      "cell_type": "code",
      "metadata": {
        "id": "3ue_VhD7U19K"
      },
      "source": [
        "# Create blank entity recognizer and add it to the pipeline\n",
        "ner = nlp.create_pipe('ner')\n",
        "nlp.add_pipe(ner)"
      ],
      "execution_count": null,
      "outputs": []
    },
    {
      "cell_type": "code",
      "metadata": {
        "id": "M80tgi2EDqL7"
      },
      "source": [
        "# Add all new labels\n",
        "for label in movie_labels:\n",
        "  ner.add_label(label)"
      ],
      "execution_count": null,
      "outputs": []
    },
    {
      "cell_type": "code",
      "metadata": {
        "id": "uIIszdYFi_W-"
      },
      "source": [
        "epochs = 10"
      ],
      "execution_count": null,
      "outputs": []
    },
    {
      "cell_type": "code",
      "metadata": {
        "id": "CAEKdQhBjLBl"
      },
      "source": [
        "import random\n",
        "from datetime import datetime\n",
        "from spacy.util import minibatch, compounding\n",
        "from spacy.gold import GoldParse\n",
        "\n",
        "\n",
        "start = datetime.now()\n",
        "\n",
        "# Start the training\n",
        "optimizer = nlp.begin_training()\n",
        "\n",
        "# Train for n epochs\n",
        "for itn in range(epochs):\n",
        "\n",
        "    random.shuffle(train) # shuffle the examples each time through\n",
        "\n",
        "    losses = {} # initialize empty dictionary to get losses\n",
        "\n",
        "    # batch up the examples using spaCy's minibatch\n",
        "    batches = minibatch(train, size=compounding(4.0, 32.0, 1.001))\n",
        "    for batch in batches:\n",
        "      texts, annotations = zip(*batch)\n",
        "      # Update the model\n",
        "      nlp.update(texts, annotations, drop=0.30, losses=losses )\n",
        "\n",
        "    print(\"Losses\", losses)\n",
        "\n",
        "print('Time to train: ', datetime.now() - start)"
      ],
      "execution_count": null,
      "outputs": []
    },
    {
      "cell_type": "code",
      "metadata": {
        "id": "Mk0o32vojSny"
      },
      "source": [
        "nlp.meta['name'] = 'mitmovie_spacy_customembed_imdb_drpt30'"
      ],
      "execution_count": null,
      "outputs": []
    },
    {
      "cell_type": "code",
      "metadata": {
        "id": "pWbGgu8_jc1j"
      },
      "source": [
        "nlp.to_disk(model_dir + nlp.meta['name'], exclude='tokenizer')"
      ],
      "execution_count": null,
      "outputs": []
    },
    {
      "cell_type": "markdown",
      "metadata": {
        "id": "T8bC4Nb9jh3C"
      },
      "source": [
        "#### Evaluate Model"
      ]
    },
    {
      "cell_type": "code",
      "metadata": {
        "id": "HvV_wkvPTFjB"
      },
      "source": [
        "# load the model trained above\n",
        "nlp = spacy.load(model_dir + 'mitmovie_spacy_customembed_imdb_drpt30')\n",
        "nlp.tokenizer = custom_tokenizer "
      ],
      "execution_count": null,
      "outputs": []
    },
    {
      "cell_type": "code",
      "metadata": {
        "id": "J7JLfcqvjjNa"
      },
      "source": [
        "# quick test on the trained model\n",
        "for text, orig_ents in test[0:3]:\n",
        "  doc = nlp(text)\n",
        "  print(\"Extracted Entities:\", [(ent.text, ent.label_) for ent in doc.ents])\n",
        "  #print(\"Tokens\", [(t.text, t.ent_type_, t.ent_iob) for t in doc])\n",
        "  print(\"Original Entities:\", orig_ents)\n",
        "  print('Original Sentence:', text)\n",
        "  print()"
      ],
      "execution_count": null,
      "outputs": []
    },
    {
      "cell_type": "code",
      "metadata": {
        "id": "WOvJnQ1QjmXs"
      },
      "source": [
        "# test on remaining samples\n",
        "scorer = nlp.evaluate(test, verbose=False)"
      ],
      "execution_count": null,
      "outputs": []
    },
    {
      "cell_type": "code",
      "metadata": {
        "id": "mLYGKI2Pjq1a"
      },
      "source": [
        "scorer.ents_per_type"
      ],
      "execution_count": null,
      "outputs": []
    },
    {
      "cell_type": "code",
      "metadata": {
        "id": "PUc6mubYjtaU"
      },
      "source": [
        "scorer.ents_p, scorer.ents_r, scorer.ents_f"
      ],
      "execution_count": null,
      "outputs": []
    },
    {
      "cell_type": "markdown",
      "metadata": {
        "id": "RbodlKE7BJsJ"
      },
      "source": [
        "\n",
        "\n",
        "---\n",
        "\n",
        "\n",
        "\n",
        "---\n",
        "\n"
      ]
    },
    {
      "cell_type": "markdown",
      "metadata": {
        "id": "IN_hEAO4BCL0"
      },
      "source": [
        "## Evaluate Any spaCy Model with BIO format"
      ]
    },
    {
      "cell_type": "markdown",
      "metadata": {
        "id": "PI8SS3ZuBPzK"
      },
      "source": [
        "### Load BIO Format Test Data"
      ]
    },
    {
      "cell_type": "code",
      "metadata": {
        "id": "zSfSTuATe4wV"
      },
      "source": [
        "os.chdir('/content/drive/My Drive/Colab Notebooks/DAAN888/data')"
      ],
      "execution_count": null,
      "outputs": []
    },
    {
      "cell_type": "code",
      "metadata": {
        "id": "kzQx3AkkBTft"
      },
      "source": [
        "import pickle \n",
        "\n",
        "with open('mitmovie.pickle', 'rb') as handle:\n",
        "    dataset = pickle.load(handle)"
      ],
      "execution_count": null,
      "outputs": []
    },
    {
      "cell_type": "code",
      "metadata": {
        "id": "_z0w_QmwBXYy",
        "colab": {
          "base_uri": "https://localhost:8080/"
        },
        "outputId": "f633a555-3550-4886-db94-4f291c0b4db7"
      },
      "source": [
        "dataset['test_labels'][0]"
      ],
      "execution_count": null,
      "outputs": [
        {
          "output_type": "execute_result",
          "data": {
            "text/plain": [
              "['O', 'O', 'O', 'O', 'B-GENRE', 'I-GENRE', 'O', 'B-YEAR', 'I-YEAR']"
            ]
          },
          "metadata": {
            "tags": []
          },
          "execution_count": 14
        }
      ]
    },
    {
      "cell_type": "markdown",
      "metadata": {
        "id": "Fq_9UUgEBimV"
      },
      "source": [
        "### Load Chosen spaCy Model\n"
      ]
    },
    {
      "cell_type": "code",
      "metadata": {
        "id": "OHjuylKabZbw"
      },
      "source": [
        "#model = 'mitmovie_spacy_blank_drpt30'\n",
        "#model = 'mitmovie_spacy_customembed_drpt30'\n",
        "model = 'mitmovie_spacy_customembed_imdb_drpt30'"
      ],
      "execution_count": null,
      "outputs": []
    },
    {
      "cell_type": "code",
      "metadata": {
        "id": "PtAD-ipLBIRe"
      },
      "source": [
        "nlp = spacy.load(model_dir + model)\n",
        "\n",
        "# force spacy to accept the tokenization we give it\n",
        "nlp.tokenizer = custom_tokenizer "
      ],
      "execution_count": null,
      "outputs": []
    },
    {
      "cell_type": "markdown",
      "metadata": {
        "id": "L4-R8r7lB5vv"
      },
      "source": [
        "### Get Predictions"
      ]
    },
    {
      "cell_type": "code",
      "metadata": {
        "id": "Ml2FpkuhF7Bd"
      },
      "source": [
        "# https://stackoverflow.com/questions/59200123/converting-spacy-training-data-format-to-spacy-cli-format-for-blank-ner/59209377#59209377\n",
        "# https://towardsdatascience.com/extend-named-entity-recogniser-ner-to-label-new-entities-with-spacy-339ee5979044\n",
        "\n",
        "import spacy\n",
        "from spacy.gold import biluo_tags_from_offsets\n",
        "\n",
        "docs = []\n",
        "pred_tags = []\n",
        "for text, annot in test:\n",
        "\n",
        "    doc = nlp(text)\n",
        "    offsets = [(ent.start_char, ent.end_char, ent.label_) for ent in doc.ents]\n",
        "\n",
        "    preds = biluo_tags_from_offsets(doc, offsets)\n",
        "    preds = [tag.replace('L-', 'I-') for tag in preds]\n",
        "    preds = [tag.replace('U-', 'B-') for tag in preds]\n",
        "    pred_tags.append(preds)\n",
        "    #print(tags)\n",
        "    #entities = spans_from_biluo_tags(doc, tags)\n",
        "    #doc.ents = entities\n",
        "    #docs.append(doc)"
      ],
      "execution_count": null,
      "outputs": []
    },
    {
      "cell_type": "code",
      "metadata": {
        "id": "ls0aZcaAosUb",
        "colab": {
          "base_uri": "https://localhost:8080/"
        },
        "outputId": "a25f3c46-3dcb-4a76-fbf2-9a0ac2af70ca"
      },
      "source": [
        "pred_tags[0:5]"
      ],
      "execution_count": null,
      "outputs": [
        {
          "output_type": "execute_result",
          "data": {
            "text/plain": [
              "[['O', 'O', 'O', 'O', 'B-GENRE', 'I-GENRE', 'O', 'O', 'O'],\n",
              " ['O', 'O', 'O', 'O', 'O', 'B-PLOT', 'O', 'O'],\n",
              " ['O', 'O', 'B-RATINGS_AVERAGE', 'O', 'O', 'O', 'O', 'B-ACTOR', 'I-ACTOR'],\n",
              " ['O', 'B-GENRE', 'I-GENRE', 'O', 'O', 'O', 'O', 'O'],\n",
              " ['O', 'O', 'O', 'O', 'O', 'O', 'O', 'O', 'B-TITLE', 'I-TITLE', 'O']]"
            ]
          },
          "metadata": {
            "tags": []
          },
          "execution_count": 18
        }
      ]
    },
    {
      "cell_type": "code",
      "metadata": {
        "id": "5iDIOR3ZWPtO",
        "colab": {
          "base_uri": "https://localhost:8080/"
        },
        "outputId": "3df42f33-2dd0-4788-9764-1837a905d77f"
      },
      "source": [
        "dataset['test_labels'][0:5]"
      ],
      "execution_count": null,
      "outputs": [
        {
          "output_type": "execute_result",
          "data": {
            "text/plain": [
              "[['O', 'O', 'O', 'O', 'B-GENRE', 'I-GENRE', 'O', 'B-YEAR', 'I-YEAR'],\n",
              " ['O', 'O', 'O', 'O', 'O', 'B-PLOT', 'I-PLOT', 'I-PLOT'],\n",
              " ['O',\n",
              "  'O',\n",
              "  'B-RATINGS_AVERAGE',\n",
              "  'I-RATINGS_AVERAGE',\n",
              "  'O',\n",
              "  'O',\n",
              "  'O',\n",
              "  'B-ACTOR',\n",
              "  'I-ACTOR'],\n",
              " ['O', 'B-GENRE', 'I-GENRE', 'O', 'O', 'O', 'O', 'B-YEAR'],\n",
              " ['O', 'O', 'O', 'O', 'O', 'O', 'O', 'O', 'B-TITLE', 'I-TITLE', 'O']]"
            ]
          },
          "metadata": {
            "tags": []
          },
          "execution_count": 19
        }
      ]
    },
    {
      "cell_type": "code",
      "metadata": {
        "id": "aiQCB2nmSMkS",
        "colab": {
          "base_uri": "https://localhost:8080/"
        },
        "outputId": "0bd309f5-119c-4e45-eabb-bb0da25145bf"
      },
      "source": [
        "# confirm same number of docs in predicted and actual\n",
        "len(pred_tags), len(dataset['test_labels'])"
      ],
      "execution_count": null,
      "outputs": [
        {
          "output_type": "execute_result",
          "data": {
            "text/plain": [
              "(2443, 2443)"
            ]
          },
          "metadata": {
            "tags": []
          },
          "execution_count": 21
        }
      ]
    },
    {
      "cell_type": "code",
      "metadata": {
        "id": "ZfVynMPiSe8_"
      },
      "source": [
        "# get index if lengths don't match\n",
        "not_match = []\n",
        "for idx, pair in enumerate(zip(pred_tags, dataset['test_labels'])):\n",
        "  #adj_test = [tag for tag in pair[1] if tag != 'O']\n",
        "  if len(pair[0]) != len(pair[1]):\n",
        "    not_match.append(idx)"
      ],
      "execution_count": null,
      "outputs": []
    },
    {
      "cell_type": "code",
      "metadata": {
        "id": "pde0O9Q-WmXY",
        "colab": {
          "base_uri": "https://localhost:8080/"
        },
        "outputId": "d5ca7bdf-470a-4c30-8db4-f3142bd605f0"
      },
      "source": [
        "not_match"
      ],
      "execution_count": null,
      "outputs": [
        {
          "output_type": "execute_result",
          "data": {
            "text/plain": [
              "[]"
            ]
          },
          "metadata": {
            "tags": []
          },
          "execution_count": 23
        }
      ]
    },
    {
      "cell_type": "code",
      "metadata": {
        "id": "8vmDtaaLPusO"
      },
      "source": [
        "# since tags are in list of list, stretch them out into one continuous list\n",
        "preds_stretched = [label for doc in pred_tags for label in doc]\n",
        "trues_stretched = [label for doc in dataset['test_labels'] for label in doc]"
      ],
      "execution_count": null,
      "outputs": []
    },
    {
      "cell_type": "code",
      "metadata": {
        "id": "Kf6XfEmkGklp",
        "colab": {
          "base_uri": "https://localhost:8080/"
        },
        "outputId": "cddbccd5-239f-406f-c4fa-33260fce076f"
      },
      "source": [
        "from sklearn.metrics import classification_report\n",
        "\n",
        "\n",
        "f = open(model_dir + model  + '/class_report_test.txt', 'w') \n",
        "\n",
        "class_report = classification_report(trues_stretched, preds_stretched)\n",
        "print(class_report, file=f ) \n",
        "\n",
        "f.close() \n",
        "\n",
        "\n",
        "print(class_report)"
      ],
      "execution_count": null,
      "outputs": [
        {
          "output_type": "stream",
          "text": [
            "/usr/local/lib/python3.6/dist-packages/sklearn/metrics/_classification.py:1272: UndefinedMetricWarning: Precision and F-score are ill-defined and being set to 0.0 in labels with no predicted samples. Use `zero_division` parameter to control this behavior.\n",
            "  _warn_prf(average, modifier, msg_start, len(result))\n"
          ],
          "name": "stderr"
        },
        {
          "output_type": "stream",
          "text": [
            "                   precision    recall  f1-score   support\n",
            "\n",
            "          B-ACTOR       0.88      0.95      0.91       812\n",
            "      B-CHARACTER       0.63      0.59      0.61        90\n",
            "       B-DIRECTOR       0.94      0.81      0.87       456\n",
            "          B-GENRE       0.94      0.96      0.95      1117\n",
            "           B-PLOT       0.72      0.73      0.72       491\n",
            "         B-RATING       0.97      0.97      0.97       500\n",
            "B-RATINGS_AVERAGE       0.93      0.91      0.92       451\n",
            "         B-REVIEW       0.33      0.09      0.14        56\n",
            "           B-SONG       0.84      0.59      0.70        54\n",
            "          B-TITLE       0.82      0.83      0.82       562\n",
            "        B-TRAILER       0.81      0.87      0.84        30\n",
            "           B-YEAR       0.95      0.95      0.95       720\n",
            "          I-ACTOR       0.88      0.95      0.91       862\n",
            "      I-CHARACTER       0.57      0.51      0.54        75\n",
            "       I-DIRECTOR       0.94      0.80      0.86       496\n",
            "          I-GENRE       0.94      0.70      0.80       222\n",
            "           I-PLOT       0.75      0.49      0.59       496\n",
            "         I-RATING       0.96      0.89      0.92       226\n",
            "I-RATINGS_AVERAGE       0.90      0.90      0.90       403\n",
            "         I-REVIEW       0.67      0.04      0.08        45\n",
            "           I-SONG       0.90      0.66      0.76       119\n",
            "          I-TITLE       0.85      0.88      0.87       856\n",
            "        I-TRAILER       0.00      0.00      0.00         8\n",
            "           I-YEAR       0.97      0.97      0.97       610\n",
            "                O       0.95      0.98      0.96     14929\n",
            "\n",
            "         accuracy                           0.93     24686\n",
            "        macro avg       0.80      0.72      0.74     24686\n",
            "     weighted avg       0.93      0.93      0.93     24686\n",
            "\n"
          ],
          "name": "stdout"
        }
      ]
    },
    {
      "cell_type": "code",
      "metadata": {
        "id": "DycQQ7xXbayr",
        "colab": {
          "base_uri": "https://localhost:8080/"
        },
        "outputId": "c01fe0da-06f3-4742-fa6c-a89723d0cbcd"
      },
      "source": [
        "!pip install seqeval"
      ],
      "execution_count": null,
      "outputs": [
        {
          "output_type": "stream",
          "text": [
            "Requirement already satisfied: seqeval in /usr/local/lib/python3.6/dist-packages (1.2.2)\n",
            "Requirement already satisfied: numpy>=1.14.0 in /usr/local/lib/python3.6/dist-packages (from seqeval) (1.18.5)\n",
            "Requirement already satisfied: scikit-learn>=0.21.3 in /usr/local/lib/python3.6/dist-packages (from seqeval) (0.22.2.post1)\n",
            "Requirement already satisfied: joblib>=0.11 in /usr/local/lib/python3.6/dist-packages (from scikit-learn>=0.21.3->seqeval) (0.17.0)\n",
            "Requirement already satisfied: scipy>=0.17.0 in /usr/local/lib/python3.6/dist-packages (from scikit-learn>=0.21.3->seqeval) (1.4.1)\n"
          ],
          "name": "stdout"
        }
      ]
    },
    {
      "cell_type": "code",
      "metadata": {
        "id": "PLuGTvq1B7GN",
        "colab": {
          "base_uri": "https://localhost:8080/"
        },
        "outputId": "3f60077f-4369-48ad-f0ee-87681da47889"
      },
      "source": [
        "from seqeval.metrics import classification_report as classification_report_seqeval\n",
        "\n",
        "f = open(model_dir + model  + '/seq_class_report_test.txt', 'w') \n",
        "\n",
        "seq_class_report = classification_report_seqeval(dataset['test_labels'], pred_tags)\n",
        "print(seq_class_report, file=f ) \n",
        "\n",
        "f.close() \n",
        "print(seq_class_report)"
      ],
      "execution_count": null,
      "outputs": [
        {
          "output_type": "stream",
          "text": [
            "                 precision    recall  f1-score   support\n",
            "\n",
            "          ACTOR       0.87      0.94      0.90       812\n",
            "      CHARACTER       0.61      0.57      0.59        90\n",
            "       DIRECTOR       0.93      0.80      0.86       456\n",
            "          GENRE       0.91      0.93      0.92      1117\n",
            "           PLOT       0.67      0.68      0.67       491\n",
            "         RATING       0.93      0.93      0.93       500\n",
            "RATINGS_AVERAGE       0.87      0.86      0.86       451\n",
            "         REVIEW       0.33      0.09      0.14        56\n",
            "           SONG       0.61      0.43      0.50        54\n",
            "          TITLE       0.80      0.80      0.80       562\n",
            "        TRAILER       0.81      0.87      0.84        30\n",
            "           YEAR       0.95      0.94      0.95       720\n",
            "\n",
            "      micro avg       0.87      0.86      0.86      5339\n",
            "      macro avg       0.77      0.74      0.75      5339\n",
            "   weighted avg       0.86      0.86      0.86      5339\n",
            "\n"
          ],
          "name": "stdout"
        }
      ]
    },
    {
      "cell_type": "markdown",
      "metadata": {
        "id": "tITt3ILbd_GZ"
      },
      "source": [
        "## Visualize Predictions"
      ]
    },
    {
      "cell_type": "code",
      "metadata": {
        "colab": {
          "base_uri": "https://localhost:8080/"
        },
        "id": "MF7cCKDlehoZ",
        "outputId": "fd1de1fb-7b2d-4d2b-c9ef-e3e6ad93d053"
      },
      "source": [
        "sample = [text for i, (text, offsets) in enumerate(test[80:89])]\n",
        "sample.extend( [text for text,offsets in test[90:91] ])\n",
        "sample"
      ],
      "execution_count": null,
      "outputs": [
        {
          "output_type": "execute_result",
          "data": {
            "text/plain": [
              "['what was channing tatums first movie',\n",
              " 'i would like a list of movies about dancing from the past 10 years',\n",
              " 'who stars in project x',\n",
              " 'find action movies featuring comic book characters',\n",
              " 'what are some g rated movies with fairies',\n",
              " 'name a movie starring britney spears',\n",
              " 'what movie did rod serling write',\n",
              " 'is there an animated adult fantasy movie',\n",
              " 'the song sunshine on my shoulders was the soundtrack for what movie',\n",
              " 'find me the name of the actor that played v in v for vendetta']"
            ]
          },
          "metadata": {
            "tags": []
          },
          "execution_count": 24
        }
      ]
    },
    {
      "cell_type": "code",
      "metadata": {
        "id": "C1cJpg85pIom"
      },
      "source": [
        "color = \"linear-gradient(90deg, #aa9cfc, #fc9ce7)\"\n",
        "color_list = ['aquamarine', 'cyan', 'lightblue', 'lavender', 'teal', 'coral', 'turquoise', 'beige', 'salmon', 'lightgreen', 'azure', 'silver']\n",
        "colors = {label: color for color, label in zip(color_list,movie_labels)}\n",
        "options = {\"ents\": movie_labels, \"colors\": colors}"
      ],
      "execution_count": null,
      "outputs": []
    },
    {
      "cell_type": "code",
      "metadata": {
        "colab": {
          "base_uri": "https://localhost:8080/",
          "height": 361
        },
        "id": "pM7DO7xOeFHY",
        "outputId": "f44c43fc-3f10-46f6-d147-b13400a6d67f"
      },
      "source": [
        "from spacy import displacy\n",
        "\n",
        "for text in sample:\n",
        "  doc = nlp(text)\n",
        "  displacy.render(doc, style=\"ent\", jupyter=True, options=options)"
      ],
      "execution_count": null,
      "outputs": [
        {
          "output_type": "display_data",
          "data": {
            "text/html": [
              "<span class=\"tex2jax_ignore\"><div class=\"entities\" style=\"line-height: 2.5; direction: ltr\">what was \n",
              "<mark class=\"entity\" style=\"background: aquamarine; padding: 0.45em 0.6em; margin: 0 0.25em; line-height: 1; border-radius: 0.35em;\">\n",
              "    channing tatums\n",
              "    <span style=\"font-size: 0.8em; font-weight: bold; line-height: 1; border-radius: 0.35em; text-transform: uppercase; vertical-align: middle; margin-left: 0.5rem\">ACTOR</span>\n",
              "</mark>\n",
              " first movie </div></span>"
            ],
            "text/plain": [
              "<IPython.core.display.HTML object>"
            ]
          },
          "metadata": {
            "tags": []
          }
        },
        {
          "output_type": "display_data",
          "data": {
            "text/html": [
              "<span class=\"tex2jax_ignore\"><div class=\"entities\" style=\"line-height: 2.5; direction: ltr\">i would like a list of movies about \n",
              "<mark class=\"entity\" style=\"background: turquoise; padding: 0.45em 0.6em; margin: 0 0.25em; line-height: 1; border-radius: 0.35em;\">\n",
              "    dancing\n",
              "    <span style=\"font-size: 0.8em; font-weight: bold; line-height: 1; border-radius: 0.35em; text-transform: uppercase; vertical-align: middle; margin-left: 0.5rem\">PLOT</span>\n",
              "</mark>\n",
              " from the \n",
              "<mark class=\"entity\" style=\"background: cyan; padding: 0.45em 0.6em; margin: 0 0.25em; line-height: 1; border-radius: 0.35em;\">\n",
              "    past 10 years\n",
              "    <span style=\"font-size: 0.8em; font-weight: bold; line-height: 1; border-radius: 0.35em; text-transform: uppercase; vertical-align: middle; margin-left: 0.5rem\">YEAR</span>\n",
              "</mark>\n",
              " </div></span>"
            ],
            "text/plain": [
              "<IPython.core.display.HTML object>"
            ]
          },
          "metadata": {
            "tags": []
          }
        },
        {
          "output_type": "display_data",
          "data": {
            "text/html": [
              "<span class=\"tex2jax_ignore\"><div class=\"entities\" style=\"line-height: 2.5; direction: ltr\">who stars in \n",
              "<mark class=\"entity\" style=\"background: lightblue; padding: 0.45em 0.6em; margin: 0 0.25em; line-height: 1; border-radius: 0.35em;\">\n",
              "    project x\n",
              "    <span style=\"font-size: 0.8em; font-weight: bold; line-height: 1; border-radius: 0.35em; text-transform: uppercase; vertical-align: middle; margin-left: 0.5rem\">TITLE</span>\n",
              "</mark>\n",
              " </div></span>"
            ],
            "text/plain": [
              "<IPython.core.display.HTML object>"
            ]
          },
          "metadata": {
            "tags": []
          }
        },
        {
          "output_type": "display_data",
          "data": {
            "text/html": [
              "<span class=\"tex2jax_ignore\"><div class=\"entities\" style=\"line-height: 2.5; direction: ltr\">find \n",
              "<mark class=\"entity\" style=\"background: lavender; padding: 0.45em 0.6em; margin: 0 0.25em; line-height: 1; border-radius: 0.35em;\">\n",
              "    action\n",
              "    <span style=\"font-size: 0.8em; font-weight: bold; line-height: 1; border-radius: 0.35em; text-transform: uppercase; vertical-align: middle; margin-left: 0.5rem\">GENRE</span>\n",
              "</mark>\n",
              " movies featuring \n",
              "<mark class=\"entity\" style=\"background: turquoise; padding: 0.45em 0.6em; margin: 0 0.25em; line-height: 1; border-radius: 0.35em;\">\n",
              "    comic book\n",
              "    <span style=\"font-size: 0.8em; font-weight: bold; line-height: 1; border-radius: 0.35em; text-transform: uppercase; vertical-align: middle; margin-left: 0.5rem\">PLOT</span>\n",
              "</mark>\n",
              " characters </div></span>"
            ],
            "text/plain": [
              "<IPython.core.display.HTML object>"
            ]
          },
          "metadata": {
            "tags": []
          }
        },
        {
          "output_type": "display_data",
          "data": {
            "text/html": [
              "<span class=\"tex2jax_ignore\"><div class=\"entities\" style=\"line-height: 2.5; direction: ltr\">what are some \n",
              "<mark class=\"entity\" style=\"background: lightgreen; padding: 0.45em 0.6em; margin: 0 0.25em; line-height: 1; border-radius: 0.35em;\">\n",
              "    g\n",
              "    <span style=\"font-size: 0.8em; font-weight: bold; line-height: 1; border-radius: 0.35em; text-transform: uppercase; vertical-align: middle; margin-left: 0.5rem\">RATING</span>\n",
              "</mark>\n",
              " rated movies with \n",
              "<mark class=\"entity\" style=\"background: turquoise; padding: 0.45em 0.6em; margin: 0 0.25em; line-height: 1; border-radius: 0.35em;\">\n",
              "    fairies\n",
              "    <span style=\"font-size: 0.8em; font-weight: bold; line-height: 1; border-radius: 0.35em; text-transform: uppercase; vertical-align: middle; margin-left: 0.5rem\">PLOT</span>\n",
              "</mark>\n",
              " </div></span>"
            ],
            "text/plain": [
              "<IPython.core.display.HTML object>"
            ]
          },
          "metadata": {
            "tags": []
          }
        },
        {
          "output_type": "display_data",
          "data": {
            "text/html": [
              "<span class=\"tex2jax_ignore\"><div class=\"entities\" style=\"line-height: 2.5; direction: ltr\">name a movie starring \n",
              "<mark class=\"entity\" style=\"background: aquamarine; padding: 0.45em 0.6em; margin: 0 0.25em; line-height: 1; border-radius: 0.35em;\">\n",
              "    britney spears\n",
              "    <span style=\"font-size: 0.8em; font-weight: bold; line-height: 1; border-radius: 0.35em; text-transform: uppercase; vertical-align: middle; margin-left: 0.5rem\">ACTOR</span>\n",
              "</mark>\n",
              " </div></span>"
            ],
            "text/plain": [
              "<IPython.core.display.HTML object>"
            ]
          },
          "metadata": {
            "tags": []
          }
        },
        {
          "output_type": "display_data",
          "data": {
            "text/html": [
              "<span class=\"tex2jax_ignore\"><div class=\"entities\" style=\"line-height: 2.5; direction: ltr\">what movie did \n",
              "<mark class=\"entity\" style=\"background: aquamarine; padding: 0.45em 0.6em; margin: 0 0.25em; line-height: 1; border-radius: 0.35em;\">\n",
              "    rod serling\n",
              "    <span style=\"font-size: 0.8em; font-weight: bold; line-height: 1; border-radius: 0.35em; text-transform: uppercase; vertical-align: middle; margin-left: 0.5rem\">ACTOR</span>\n",
              "</mark>\n",
              " write </div></span>"
            ],
            "text/plain": [
              "<IPython.core.display.HTML object>"
            ]
          },
          "metadata": {
            "tags": []
          }
        },
        {
          "output_type": "display_data",
          "data": {
            "text/html": [
              "<span class=\"tex2jax_ignore\"><div class=\"entities\" style=\"line-height: 2.5; direction: ltr\">is there an \n",
              "<mark class=\"entity\" style=\"background: lavender; padding: 0.45em 0.6em; margin: 0 0.25em; line-height: 1; border-radius: 0.35em;\">\n",
              "    animated\n",
              "    <span style=\"font-size: 0.8em; font-weight: bold; line-height: 1; border-radius: 0.35em; text-transform: uppercase; vertical-align: middle; margin-left: 0.5rem\">GENRE</span>\n",
              "</mark>\n",
              " \n",
              "<mark class=\"entity\" style=\"background: lavender; padding: 0.45em 0.6em; margin: 0 0.25em; line-height: 1; border-radius: 0.35em;\">\n",
              "    adult fantasy\n",
              "    <span style=\"font-size: 0.8em; font-weight: bold; line-height: 1; border-radius: 0.35em; text-transform: uppercase; vertical-align: middle; margin-left: 0.5rem\">GENRE</span>\n",
              "</mark>\n",
              " movie </div></span>"
            ],
            "text/plain": [
              "<IPython.core.display.HTML object>"
            ]
          },
          "metadata": {
            "tags": []
          }
        },
        {
          "output_type": "display_data",
          "data": {
            "text/html": [
              "<span class=\"tex2jax_ignore\"><div class=\"entities\" style=\"line-height: 2.5; direction: ltr\">the song \n",
              "<mark class=\"entity\" style=\"background: coral; padding: 0.45em 0.6em; margin: 0 0.25em; line-height: 1; border-radius: 0.35em;\">\n",
              "    sunshine on my shoulders\n",
              "    <span style=\"font-size: 0.8em; font-weight: bold; line-height: 1; border-radius: 0.35em; text-transform: uppercase; vertical-align: middle; margin-left: 0.5rem\">SONG</span>\n",
              "</mark>\n",
              " was the \n",
              "<mark class=\"entity\" style=\"background: coral; padding: 0.45em 0.6em; margin: 0 0.25em; line-height: 1; border-radius: 0.35em;\">\n",
              "    soundtrack\n",
              "    <span style=\"font-size: 0.8em; font-weight: bold; line-height: 1; border-radius: 0.35em; text-transform: uppercase; vertical-align: middle; margin-left: 0.5rem\">SONG</span>\n",
              "</mark>\n",
              " for what movie </div></span>"
            ],
            "text/plain": [
              "<IPython.core.display.HTML object>"
            ]
          },
          "metadata": {
            "tags": []
          }
        },
        {
          "output_type": "display_data",
          "data": {
            "text/html": [
              "<span class=\"tex2jax_ignore\"><div class=\"entities\" style=\"line-height: 2.5; direction: ltr\">find me the name of the actor that played \n",
              "<mark class=\"entity\" style=\"background: salmon; padding: 0.45em 0.6em; margin: 0 0.25em; line-height: 1; border-radius: 0.35em;\">\n",
              "    v\n",
              "    <span style=\"font-size: 0.8em; font-weight: bold; line-height: 1; border-radius: 0.35em; text-transform: uppercase; vertical-align: middle; margin-left: 0.5rem\">CHARACTER</span>\n",
              "</mark>\n",
              " in \n",
              "<mark class=\"entity\" style=\"background: lightblue; padding: 0.45em 0.6em; margin: 0 0.25em; line-height: 1; border-radius: 0.35em;\">\n",
              "    v for vendetta\n",
              "    <span style=\"font-size: 0.8em; font-weight: bold; line-height: 1; border-radius: 0.35em; text-transform: uppercase; vertical-align: middle; margin-left: 0.5rem\">TITLE</span>\n",
              "</mark>\n",
              " </div></span>"
            ],
            "text/plain": [
              "<IPython.core.display.HTML object>"
            ]
          },
          "metadata": {
            "tags": []
          }
        }
      ]
    },
    {
      "cell_type": "code",
      "metadata": {
        "colab": {
          "base_uri": "https://localhost:8080/"
        },
        "id": "TeDGr8UgoFGY",
        "outputId": "f0c3dd52-e65f-4315-fce0-eda6e559acb5"
      },
      "source": [
        "colors"
      ],
      "execution_count": null,
      "outputs": [
        {
          "output_type": "execute_result",
          "data": {
            "text/plain": [
              "{'ACTOR': 'aquamarine',\n",
              " 'CHARACTER': 'azure',\n",
              " 'DIRECTOR': 'teal',\n",
              " 'GENRE': 'biege',\n",
              " 'PLOT': 'turquoise',\n",
              " 'RATING': 'lightgreen',\n",
              " 'RATINGS_AVERAGE': 'salmon',\n",
              " 'REVIEW': 'lavender',\n",
              " 'SONG': 'coral',\n",
              " 'TITLE': 'lightblue',\n",
              " 'TRAILER': 'silver',\n",
              " 'YEAR': 'cyan'}"
            ]
          },
          "metadata": {
            "tags": []
          },
          "execution_count": 27
        }
      ]
    },
    {
      "cell_type": "code",
      "metadata": {
        "colab": {
          "base_uri": "https://localhost:8080/"
        },
        "id": "-cMj9U9S0Y31",
        "outputId": "d811c66c-34a0-4d16-d9b6-a478fe4711c9"
      },
      "source": [
        "movie_labels"
      ],
      "execution_count": null,
      "outputs": [
        {
          "output_type": "execute_result",
          "data": {
            "text/plain": [
              "['ACTOR',\n",
              " 'YEAR',\n",
              " 'TITLE',\n",
              " 'GENRE',\n",
              " 'DIRECTOR',\n",
              " 'SONG',\n",
              " 'PLOT',\n",
              " 'REVIEW',\n",
              " 'CHARACTER',\n",
              " 'RATING',\n",
              " 'RATINGS_AVERAGE',\n",
              " 'TRAILER']"
            ]
          },
          "metadata": {
            "tags": []
          },
          "execution_count": 32
        }
      ]
    },
    {
      "cell_type": "markdown",
      "metadata": {
        "id": "K48pzqsxXwJx"
      },
      "source": [
        "# Unused Code"
      ]
    },
    {
      "cell_type": "code",
      "metadata": {
        "id": "XxkW_fLdX3_7"
      },
      "source": [
        ""
      ],
      "execution_count": null,
      "outputs": []
    },
    {
      "cell_type": "code",
      "metadata": {
        "id": "2Y2cLpbEPPQg"
      },
      "source": [
        "from spacy.gold import GoldParse\n",
        "from spacy.gold import biluo_tags_from_offsets, iob_to_biluo, offsets_from_biluo_tags\n",
        "from spacy.tokens import Doc\n",
        "\n",
        "def docs_golds( data):\n",
        "  #docs = [nlp.make_doc(tokens) for tokens, labels in data]\n",
        "  docs = [Doc(nlp.vocab, words=tokens) for tokens, labels in data]\n",
        "  tags = [tags for tokens, tags in data]\n",
        "  biluos = [iob_to_biluo(ls) for ls in tags] # convert to bilou format\n",
        "\n",
        "  golds = [GoldParse(doc, entities=tag) for doc, tag in zip(docs, biluos)]\n",
        "\n",
        "  return docs, golds"
      ],
      "execution_count": null,
      "outputs": []
    }
  ]
}