{
  "nbformat": 4,
  "nbformat_minor": 0,
  "metadata": {
    "accelerator": "GPU",
    "colab": {
      "name": "MIT Movie - 5 - Explainability.ipynb",
      "provenance": [],
      "collapsed_sections": [],
      "toc_visible": true,
      "machine_shape": "hm"
    },
    "kernelspec": {
      "display_name": "Python 3",
      "name": "python3"
    },
    "widgets": {
      "application/vnd.jupyter.widget-state+json": {
        "34a7ae42fc8c4b67803f900ab24714b8": {
          "model_module": "@jupyter-widgets/controls",
          "model_name": "HBoxModel",
          "state": {
            "_view_name": "HBoxView",
            "_dom_classes": [],
            "_model_name": "HBoxModel",
            "_view_module": "@jupyter-widgets/controls",
            "_model_module_version": "1.5.0",
            "_view_count": null,
            "_view_module_version": "1.5.0",
            "box_style": "",
            "layout": "IPY_MODEL_05187d461ab8491fb9b2164b5d33e948",
            "_model_module": "@jupyter-widgets/controls",
            "children": [
              "IPY_MODEL_60d3eceb86744bab9249e322860727bc",
              "IPY_MODEL_708d214afe3f4b60a3ccf307392fd541"
            ]
          }
        },
        "05187d461ab8491fb9b2164b5d33e948": {
          "model_module": "@jupyter-widgets/base",
          "model_name": "LayoutModel",
          "state": {
            "_view_name": "LayoutView",
            "grid_template_rows": null,
            "right": null,
            "justify_content": null,
            "_view_module": "@jupyter-widgets/base",
            "overflow": null,
            "_model_module_version": "1.2.0",
            "_view_count": null,
            "flex_flow": null,
            "width": null,
            "min_width": null,
            "border": null,
            "align_items": null,
            "bottom": null,
            "_model_module": "@jupyter-widgets/base",
            "top": null,
            "grid_column": null,
            "overflow_y": null,
            "overflow_x": null,
            "grid_auto_flow": null,
            "grid_area": null,
            "grid_template_columns": null,
            "flex": null,
            "_model_name": "LayoutModel",
            "justify_items": null,
            "grid_row": null,
            "max_height": null,
            "align_content": null,
            "visibility": null,
            "align_self": null,
            "height": null,
            "min_height": null,
            "padding": null,
            "grid_auto_rows": null,
            "grid_gap": null,
            "max_width": null,
            "order": null,
            "_view_module_version": "1.2.0",
            "grid_template_areas": null,
            "object_position": null,
            "object_fit": null,
            "grid_auto_columns": null,
            "margin": null,
            "display": null,
            "left": null
          }
        },
        "60d3eceb86744bab9249e322860727bc": {
          "model_module": "@jupyter-widgets/controls",
          "model_name": "FloatProgressModel",
          "state": {
            "_view_name": "ProgressView",
            "style": "IPY_MODEL_9cc2202d61af4a0e874b8a068a576898",
            "_dom_classes": [],
            "description": "Downloading: 100%",
            "_model_name": "FloatProgressModel",
            "bar_style": "success",
            "max": 231508,
            "_view_module": "@jupyter-widgets/controls",
            "_model_module_version": "1.5.0",
            "value": 231508,
            "_view_count": null,
            "_view_module_version": "1.5.0",
            "orientation": "horizontal",
            "min": 0,
            "description_tooltip": null,
            "_model_module": "@jupyter-widgets/controls",
            "layout": "IPY_MODEL_e53ac7a697004a1e916ea43c5259c6a4"
          }
        },
        "708d214afe3f4b60a3ccf307392fd541": {
          "model_module": "@jupyter-widgets/controls",
          "model_name": "HTMLModel",
          "state": {
            "_view_name": "HTMLView",
            "style": "IPY_MODEL_0a86505251564ad38f0a03d23bd5f36a",
            "_dom_classes": [],
            "description": "",
            "_model_name": "HTMLModel",
            "placeholder": "​",
            "_view_module": "@jupyter-widgets/controls",
            "_model_module_version": "1.5.0",
            "value": " 232k/232k [00:01&lt;00:00, 118kB/s]",
            "_view_count": null,
            "_view_module_version": "1.5.0",
            "description_tooltip": null,
            "_model_module": "@jupyter-widgets/controls",
            "layout": "IPY_MODEL_cec2bb04ab584e8e9472d7ddded2d2fd"
          }
        },
        "9cc2202d61af4a0e874b8a068a576898": {
          "model_module": "@jupyter-widgets/controls",
          "model_name": "ProgressStyleModel",
          "state": {
            "_view_name": "StyleView",
            "_model_name": "ProgressStyleModel",
            "description_width": "initial",
            "_view_module": "@jupyter-widgets/base",
            "_model_module_version": "1.5.0",
            "_view_count": null,
            "_view_module_version": "1.2.0",
            "bar_color": null,
            "_model_module": "@jupyter-widgets/controls"
          }
        },
        "e53ac7a697004a1e916ea43c5259c6a4": {
          "model_module": "@jupyter-widgets/base",
          "model_name": "LayoutModel",
          "state": {
            "_view_name": "LayoutView",
            "grid_template_rows": null,
            "right": null,
            "justify_content": null,
            "_view_module": "@jupyter-widgets/base",
            "overflow": null,
            "_model_module_version": "1.2.0",
            "_view_count": null,
            "flex_flow": null,
            "width": null,
            "min_width": null,
            "border": null,
            "align_items": null,
            "bottom": null,
            "_model_module": "@jupyter-widgets/base",
            "top": null,
            "grid_column": null,
            "overflow_y": null,
            "overflow_x": null,
            "grid_auto_flow": null,
            "grid_area": null,
            "grid_template_columns": null,
            "flex": null,
            "_model_name": "LayoutModel",
            "justify_items": null,
            "grid_row": null,
            "max_height": null,
            "align_content": null,
            "visibility": null,
            "align_self": null,
            "height": null,
            "min_height": null,
            "padding": null,
            "grid_auto_rows": null,
            "grid_gap": null,
            "max_width": null,
            "order": null,
            "_view_module_version": "1.2.0",
            "grid_template_areas": null,
            "object_position": null,
            "object_fit": null,
            "grid_auto_columns": null,
            "margin": null,
            "display": null,
            "left": null
          }
        },
        "0a86505251564ad38f0a03d23bd5f36a": {
          "model_module": "@jupyter-widgets/controls",
          "model_name": "DescriptionStyleModel",
          "state": {
            "_view_name": "StyleView",
            "_model_name": "DescriptionStyleModel",
            "description_width": "",
            "_view_module": "@jupyter-widgets/base",
            "_model_module_version": "1.5.0",
            "_view_count": null,
            "_view_module_version": "1.2.0",
            "_model_module": "@jupyter-widgets/controls"
          }
        },
        "cec2bb04ab584e8e9472d7ddded2d2fd": {
          "model_module": "@jupyter-widgets/base",
          "model_name": "LayoutModel",
          "state": {
            "_view_name": "LayoutView",
            "grid_template_rows": null,
            "right": null,
            "justify_content": null,
            "_view_module": "@jupyter-widgets/base",
            "overflow": null,
            "_model_module_version": "1.2.0",
            "_view_count": null,
            "flex_flow": null,
            "width": null,
            "min_width": null,
            "border": null,
            "align_items": null,
            "bottom": null,
            "_model_module": "@jupyter-widgets/base",
            "top": null,
            "grid_column": null,
            "overflow_y": null,
            "overflow_x": null,
            "grid_auto_flow": null,
            "grid_area": null,
            "grid_template_columns": null,
            "flex": null,
            "_model_name": "LayoutModel",
            "justify_items": null,
            "grid_row": null,
            "max_height": null,
            "align_content": null,
            "visibility": null,
            "align_self": null,
            "height": null,
            "min_height": null,
            "padding": null,
            "grid_auto_rows": null,
            "grid_gap": null,
            "max_width": null,
            "order": null,
            "_view_module_version": "1.2.0",
            "grid_template_areas": null,
            "object_position": null,
            "object_fit": null,
            "grid_auto_columns": null,
            "margin": null,
            "display": null,
            "left": null
          }
        },
        "529f81453b174e5b947c82059a64b606": {
          "model_module": "@jupyter-widgets/controls",
          "model_name": "HBoxModel",
          "state": {
            "_view_name": "HBoxView",
            "_dom_classes": [],
            "_model_name": "HBoxModel",
            "_view_module": "@jupyter-widgets/controls",
            "_model_module_version": "1.5.0",
            "_view_count": null,
            "_view_module_version": "1.5.0",
            "box_style": "",
            "layout": "IPY_MODEL_fb631b41321549879c03a8628b098d20",
            "_model_module": "@jupyter-widgets/controls",
            "children": [
              "IPY_MODEL_8fca08915cb04e899202545482aa423d",
              "IPY_MODEL_50b0cbacc1ca438490f9a3bef695c52c"
            ]
          }
        },
        "fb631b41321549879c03a8628b098d20": {
          "model_module": "@jupyter-widgets/base",
          "model_name": "LayoutModel",
          "state": {
            "_view_name": "LayoutView",
            "grid_template_rows": null,
            "right": null,
            "justify_content": null,
            "_view_module": "@jupyter-widgets/base",
            "overflow": null,
            "_model_module_version": "1.2.0",
            "_view_count": null,
            "flex_flow": null,
            "width": null,
            "min_width": null,
            "border": null,
            "align_items": null,
            "bottom": null,
            "_model_module": "@jupyter-widgets/base",
            "top": null,
            "grid_column": null,
            "overflow_y": null,
            "overflow_x": null,
            "grid_auto_flow": null,
            "grid_area": null,
            "grid_template_columns": null,
            "flex": null,
            "_model_name": "LayoutModel",
            "justify_items": null,
            "grid_row": null,
            "max_height": null,
            "align_content": null,
            "visibility": null,
            "align_self": null,
            "height": null,
            "min_height": null,
            "padding": null,
            "grid_auto_rows": null,
            "grid_gap": null,
            "max_width": null,
            "order": null,
            "_view_module_version": "1.2.0",
            "grid_template_areas": null,
            "object_position": null,
            "object_fit": null,
            "grid_auto_columns": null,
            "margin": null,
            "display": null,
            "left": null
          }
        },
        "8fca08915cb04e899202545482aa423d": {
          "model_module": "@jupyter-widgets/controls",
          "model_name": "FloatProgressModel",
          "state": {
            "_view_name": "ProgressView",
            "style": "IPY_MODEL_8daf80e854ed4b3c966c8744b32ad7b5",
            "_dom_classes": [],
            "description": "Downloading: 100%",
            "_model_name": "FloatProgressModel",
            "bar_style": "success",
            "max": 466062,
            "_view_module": "@jupyter-widgets/controls",
            "_model_module_version": "1.5.0",
            "value": 466062,
            "_view_count": null,
            "_view_module_version": "1.5.0",
            "orientation": "horizontal",
            "min": 0,
            "description_tooltip": null,
            "_model_module": "@jupyter-widgets/controls",
            "layout": "IPY_MODEL_46c1928e131e42348c577fae6ca600c3"
          }
        },
        "50b0cbacc1ca438490f9a3bef695c52c": {
          "model_module": "@jupyter-widgets/controls",
          "model_name": "HTMLModel",
          "state": {
            "_view_name": "HTMLView",
            "style": "IPY_MODEL_64f3ca5fac414a58a2c9953b321572ce",
            "_dom_classes": [],
            "description": "",
            "_model_name": "HTMLModel",
            "placeholder": "​",
            "_view_module": "@jupyter-widgets/controls",
            "_model_module_version": "1.5.0",
            "value": " 466k/466k [00:00&lt;00:00, 564kB/s]",
            "_view_count": null,
            "_view_module_version": "1.5.0",
            "description_tooltip": null,
            "_model_module": "@jupyter-widgets/controls",
            "layout": "IPY_MODEL_fab3ba6991be4efdace979b4525239ed"
          }
        },
        "8daf80e854ed4b3c966c8744b32ad7b5": {
          "model_module": "@jupyter-widgets/controls",
          "model_name": "ProgressStyleModel",
          "state": {
            "_view_name": "StyleView",
            "_model_name": "ProgressStyleModel",
            "description_width": "initial",
            "_view_module": "@jupyter-widgets/base",
            "_model_module_version": "1.5.0",
            "_view_count": null,
            "_view_module_version": "1.2.0",
            "bar_color": null,
            "_model_module": "@jupyter-widgets/controls"
          }
        },
        "46c1928e131e42348c577fae6ca600c3": {
          "model_module": "@jupyter-widgets/base",
          "model_name": "LayoutModel",
          "state": {
            "_view_name": "LayoutView",
            "grid_template_rows": null,
            "right": null,
            "justify_content": null,
            "_view_module": "@jupyter-widgets/base",
            "overflow": null,
            "_model_module_version": "1.2.0",
            "_view_count": null,
            "flex_flow": null,
            "width": null,
            "min_width": null,
            "border": null,
            "align_items": null,
            "bottom": null,
            "_model_module": "@jupyter-widgets/base",
            "top": null,
            "grid_column": null,
            "overflow_y": null,
            "overflow_x": null,
            "grid_auto_flow": null,
            "grid_area": null,
            "grid_template_columns": null,
            "flex": null,
            "_model_name": "LayoutModel",
            "justify_items": null,
            "grid_row": null,
            "max_height": null,
            "align_content": null,
            "visibility": null,
            "align_self": null,
            "height": null,
            "min_height": null,
            "padding": null,
            "grid_auto_rows": null,
            "grid_gap": null,
            "max_width": null,
            "order": null,
            "_view_module_version": "1.2.0",
            "grid_template_areas": null,
            "object_position": null,
            "object_fit": null,
            "grid_auto_columns": null,
            "margin": null,
            "display": null,
            "left": null
          }
        },
        "64f3ca5fac414a58a2c9953b321572ce": {
          "model_module": "@jupyter-widgets/controls",
          "model_name": "DescriptionStyleModel",
          "state": {
            "_view_name": "StyleView",
            "_model_name": "DescriptionStyleModel",
            "description_width": "",
            "_view_module": "@jupyter-widgets/base",
            "_model_module_version": "1.5.0",
            "_view_count": null,
            "_view_module_version": "1.2.0",
            "_model_module": "@jupyter-widgets/controls"
          }
        },
        "fab3ba6991be4efdace979b4525239ed": {
          "model_module": "@jupyter-widgets/base",
          "model_name": "LayoutModel",
          "state": {
            "_view_name": "LayoutView",
            "grid_template_rows": null,
            "right": null,
            "justify_content": null,
            "_view_module": "@jupyter-widgets/base",
            "overflow": null,
            "_model_module_version": "1.2.0",
            "_view_count": null,
            "flex_flow": null,
            "width": null,
            "min_width": null,
            "border": null,
            "align_items": null,
            "bottom": null,
            "_model_module": "@jupyter-widgets/base",
            "top": null,
            "grid_column": null,
            "overflow_y": null,
            "overflow_x": null,
            "grid_auto_flow": null,
            "grid_area": null,
            "grid_template_columns": null,
            "flex": null,
            "_model_name": "LayoutModel",
            "justify_items": null,
            "grid_row": null,
            "max_height": null,
            "align_content": null,
            "visibility": null,
            "align_self": null,
            "height": null,
            "min_height": null,
            "padding": null,
            "grid_auto_rows": null,
            "grid_gap": null,
            "max_width": null,
            "order": null,
            "_view_module_version": "1.2.0",
            "grid_template_areas": null,
            "object_position": null,
            "object_fit": null,
            "grid_auto_columns": null,
            "margin": null,
            "display": null,
            "left": null
          }
        },
        "ef704199b2014bb382b95512b365f3b1": {
          "model_module": "@jupyter-widgets/controls",
          "model_name": "HBoxModel",
          "state": {
            "_view_name": "HBoxView",
            "_dom_classes": [],
            "_model_name": "HBoxModel",
            "_view_module": "@jupyter-widgets/controls",
            "_model_module_version": "1.5.0",
            "_view_count": null,
            "_view_module_version": "1.5.0",
            "box_style": "",
            "layout": "IPY_MODEL_fd3462b4daf241778e97cfe79bc3b273",
            "_model_module": "@jupyter-widgets/controls",
            "children": [
              "IPY_MODEL_25f2a1eedfb04526a15dfcf7f5733bd1",
              "IPY_MODEL_d822654403b24e809277bb67d78474fc"
            ]
          }
        },
        "fd3462b4daf241778e97cfe79bc3b273": {
          "model_module": "@jupyter-widgets/base",
          "model_name": "LayoutModel",
          "state": {
            "_view_name": "LayoutView",
            "grid_template_rows": null,
            "right": null,
            "justify_content": null,
            "_view_module": "@jupyter-widgets/base",
            "overflow": null,
            "_model_module_version": "1.2.0",
            "_view_count": null,
            "flex_flow": null,
            "width": null,
            "min_width": null,
            "border": null,
            "align_items": null,
            "bottom": null,
            "_model_module": "@jupyter-widgets/base",
            "top": null,
            "grid_column": null,
            "overflow_y": null,
            "overflow_x": null,
            "grid_auto_flow": null,
            "grid_area": null,
            "grid_template_columns": null,
            "flex": null,
            "_model_name": "LayoutModel",
            "justify_items": null,
            "grid_row": null,
            "max_height": null,
            "align_content": null,
            "visibility": null,
            "align_self": null,
            "height": null,
            "min_height": null,
            "padding": null,
            "grid_auto_rows": null,
            "grid_gap": null,
            "max_width": null,
            "order": null,
            "_view_module_version": "1.2.0",
            "grid_template_areas": null,
            "object_position": null,
            "object_fit": null,
            "grid_auto_columns": null,
            "margin": null,
            "display": null,
            "left": null
          }
        },
        "25f2a1eedfb04526a15dfcf7f5733bd1": {
          "model_module": "@jupyter-widgets/controls",
          "model_name": "FloatProgressModel",
          "state": {
            "_view_name": "ProgressView",
            "style": "IPY_MODEL_13cbec1f5b4d4f16950b2c37fa3bc5f1",
            "_dom_classes": [],
            "description": "Downloading: 100%",
            "_model_name": "FloatProgressModel",
            "bar_style": "success",
            "max": 434,
            "_view_module": "@jupyter-widgets/controls",
            "_model_module_version": "1.5.0",
            "value": 434,
            "_view_count": null,
            "_view_module_version": "1.5.0",
            "orientation": "horizontal",
            "min": 0,
            "description_tooltip": null,
            "_model_module": "@jupyter-widgets/controls",
            "layout": "IPY_MODEL_c23e7114dedd46c691f3a53a436ccf95"
          }
        },
        "d822654403b24e809277bb67d78474fc": {
          "model_module": "@jupyter-widgets/controls",
          "model_name": "HTMLModel",
          "state": {
            "_view_name": "HTMLView",
            "style": "IPY_MODEL_0e18f8694f6e4b17a6f46e2760258d0e",
            "_dom_classes": [],
            "description": "",
            "_model_name": "HTMLModel",
            "placeholder": "​",
            "_view_module": "@jupyter-widgets/controls",
            "_model_module_version": "1.5.0",
            "value": " 434/434 [00:00&lt;00:00, 3.38kB/s]",
            "_view_count": null,
            "_view_module_version": "1.5.0",
            "description_tooltip": null,
            "_model_module": "@jupyter-widgets/controls",
            "layout": "IPY_MODEL_51ba73fad9d9456f9cb0c2e2421e5702"
          }
        },
        "13cbec1f5b4d4f16950b2c37fa3bc5f1": {
          "model_module": "@jupyter-widgets/controls",
          "model_name": "ProgressStyleModel",
          "state": {
            "_view_name": "StyleView",
            "_model_name": "ProgressStyleModel",
            "description_width": "initial",
            "_view_module": "@jupyter-widgets/base",
            "_model_module_version": "1.5.0",
            "_view_count": null,
            "_view_module_version": "1.2.0",
            "bar_color": null,
            "_model_module": "@jupyter-widgets/controls"
          }
        },
        "c23e7114dedd46c691f3a53a436ccf95": {
          "model_module": "@jupyter-widgets/base",
          "model_name": "LayoutModel",
          "state": {
            "_view_name": "LayoutView",
            "grid_template_rows": null,
            "right": null,
            "justify_content": null,
            "_view_module": "@jupyter-widgets/base",
            "overflow": null,
            "_model_module_version": "1.2.0",
            "_view_count": null,
            "flex_flow": null,
            "width": null,
            "min_width": null,
            "border": null,
            "align_items": null,
            "bottom": null,
            "_model_module": "@jupyter-widgets/base",
            "top": null,
            "grid_column": null,
            "overflow_y": null,
            "overflow_x": null,
            "grid_auto_flow": null,
            "grid_area": null,
            "grid_template_columns": null,
            "flex": null,
            "_model_name": "LayoutModel",
            "justify_items": null,
            "grid_row": null,
            "max_height": null,
            "align_content": null,
            "visibility": null,
            "align_self": null,
            "height": null,
            "min_height": null,
            "padding": null,
            "grid_auto_rows": null,
            "grid_gap": null,
            "max_width": null,
            "order": null,
            "_view_module_version": "1.2.0",
            "grid_template_areas": null,
            "object_position": null,
            "object_fit": null,
            "grid_auto_columns": null,
            "margin": null,
            "display": null,
            "left": null
          }
        },
        "0e18f8694f6e4b17a6f46e2760258d0e": {
          "model_module": "@jupyter-widgets/controls",
          "model_name": "DescriptionStyleModel",
          "state": {
            "_view_name": "StyleView",
            "_model_name": "DescriptionStyleModel",
            "description_width": "",
            "_view_module": "@jupyter-widgets/base",
            "_model_module_version": "1.5.0",
            "_view_count": null,
            "_view_module_version": "1.2.0",
            "_model_module": "@jupyter-widgets/controls"
          }
        },
        "51ba73fad9d9456f9cb0c2e2421e5702": {
          "model_module": "@jupyter-widgets/base",
          "model_name": "LayoutModel",
          "state": {
            "_view_name": "LayoutView",
            "grid_template_rows": null,
            "right": null,
            "justify_content": null,
            "_view_module": "@jupyter-widgets/base",
            "overflow": null,
            "_model_module_version": "1.2.0",
            "_view_count": null,
            "flex_flow": null,
            "width": null,
            "min_width": null,
            "border": null,
            "align_items": null,
            "bottom": null,
            "_model_module": "@jupyter-widgets/base",
            "top": null,
            "grid_column": null,
            "overflow_y": null,
            "overflow_x": null,
            "grid_auto_flow": null,
            "grid_area": null,
            "grid_template_columns": null,
            "flex": null,
            "_model_name": "LayoutModel",
            "justify_items": null,
            "grid_row": null,
            "max_height": null,
            "align_content": null,
            "visibility": null,
            "align_self": null,
            "height": null,
            "min_height": null,
            "padding": null,
            "grid_auto_rows": null,
            "grid_gap": null,
            "max_width": null,
            "order": null,
            "_view_module_version": "1.2.0",
            "grid_template_areas": null,
            "object_position": null,
            "object_fit": null,
            "grid_auto_columns": null,
            "margin": null,
            "display": null,
            "left": null
          }
        },
        "45225d13ad98472ea43bfc06510381b0": {
          "model_module": "@jupyter-widgets/controls",
          "model_name": "HBoxModel",
          "state": {
            "_view_name": "HBoxView",
            "_dom_classes": [],
            "_model_name": "HBoxModel",
            "_view_module": "@jupyter-widgets/controls",
            "_model_module_version": "1.5.0",
            "_view_count": null,
            "_view_module_version": "1.5.0",
            "box_style": "",
            "layout": "IPY_MODEL_39a4c9c527924893be39489791144bcb",
            "_model_module": "@jupyter-widgets/controls",
            "children": [
              "IPY_MODEL_8326b2051ff84774847715e4a1f58879",
              "IPY_MODEL_44e8cded0aa849f38be9588328ad31d8"
            ]
          }
        },
        "39a4c9c527924893be39489791144bcb": {
          "model_module": "@jupyter-widgets/base",
          "model_name": "LayoutModel",
          "state": {
            "_view_name": "LayoutView",
            "grid_template_rows": null,
            "right": null,
            "justify_content": null,
            "_view_module": "@jupyter-widgets/base",
            "overflow": null,
            "_model_module_version": "1.2.0",
            "_view_count": null,
            "flex_flow": null,
            "width": null,
            "min_width": null,
            "border": null,
            "align_items": null,
            "bottom": null,
            "_model_module": "@jupyter-widgets/base",
            "top": null,
            "grid_column": null,
            "overflow_y": null,
            "overflow_x": null,
            "grid_auto_flow": null,
            "grid_area": null,
            "grid_template_columns": null,
            "flex": null,
            "_model_name": "LayoutModel",
            "justify_items": null,
            "grid_row": null,
            "max_height": null,
            "align_content": null,
            "visibility": null,
            "align_self": null,
            "height": null,
            "min_height": null,
            "padding": null,
            "grid_auto_rows": null,
            "grid_gap": null,
            "max_width": null,
            "order": null,
            "_view_module_version": "1.2.0",
            "grid_template_areas": null,
            "object_position": null,
            "object_fit": null,
            "grid_auto_columns": null,
            "margin": null,
            "display": null,
            "left": null
          }
        },
        "8326b2051ff84774847715e4a1f58879": {
          "model_module": "@jupyter-widgets/controls",
          "model_name": "FloatProgressModel",
          "state": {
            "_view_name": "ProgressView",
            "style": "IPY_MODEL_5da4bc9b6d124f57b4df3edf7e87e771",
            "_dom_classes": [],
            "description": "Downloading: 100%",
            "_model_name": "FloatProgressModel",
            "bar_style": "success",
            "max": 1344997306,
            "_view_module": "@jupyter-widgets/controls",
            "_model_module_version": "1.5.0",
            "value": 1344997306,
            "_view_count": null,
            "_view_module_version": "1.5.0",
            "orientation": "horizontal",
            "min": 0,
            "description_tooltip": null,
            "_model_module": "@jupyter-widgets/controls",
            "layout": "IPY_MODEL_97fc5241baa849cd894a1336466a0e5f"
          }
        },
        "44e8cded0aa849f38be9588328ad31d8": {
          "model_module": "@jupyter-widgets/controls",
          "model_name": "HTMLModel",
          "state": {
            "_view_name": "HTMLView",
            "style": "IPY_MODEL_3708c1ba3aec49b2aaf1d0b3a6d14a68",
            "_dom_classes": [],
            "description": "",
            "_model_name": "HTMLModel",
            "placeholder": "​",
            "_view_module": "@jupyter-widgets/controls",
            "_model_module_version": "1.5.0",
            "value": " 1.34G/1.34G [00:26&lt;00:00, 51.3MB/s]",
            "_view_count": null,
            "_view_module_version": "1.5.0",
            "description_tooltip": null,
            "_model_module": "@jupyter-widgets/controls",
            "layout": "IPY_MODEL_6ce86222d1bc436d83668e9e07d93e1d"
          }
        },
        "5da4bc9b6d124f57b4df3edf7e87e771": {
          "model_module": "@jupyter-widgets/controls",
          "model_name": "ProgressStyleModel",
          "state": {
            "_view_name": "StyleView",
            "_model_name": "ProgressStyleModel",
            "description_width": "initial",
            "_view_module": "@jupyter-widgets/base",
            "_model_module_version": "1.5.0",
            "_view_count": null,
            "_view_module_version": "1.2.0",
            "bar_color": null,
            "_model_module": "@jupyter-widgets/controls"
          }
        },
        "97fc5241baa849cd894a1336466a0e5f": {
          "model_module": "@jupyter-widgets/base",
          "model_name": "LayoutModel",
          "state": {
            "_view_name": "LayoutView",
            "grid_template_rows": null,
            "right": null,
            "justify_content": null,
            "_view_module": "@jupyter-widgets/base",
            "overflow": null,
            "_model_module_version": "1.2.0",
            "_view_count": null,
            "flex_flow": null,
            "width": null,
            "min_width": null,
            "border": null,
            "align_items": null,
            "bottom": null,
            "_model_module": "@jupyter-widgets/base",
            "top": null,
            "grid_column": null,
            "overflow_y": null,
            "overflow_x": null,
            "grid_auto_flow": null,
            "grid_area": null,
            "grid_template_columns": null,
            "flex": null,
            "_model_name": "LayoutModel",
            "justify_items": null,
            "grid_row": null,
            "max_height": null,
            "align_content": null,
            "visibility": null,
            "align_self": null,
            "height": null,
            "min_height": null,
            "padding": null,
            "grid_auto_rows": null,
            "grid_gap": null,
            "max_width": null,
            "order": null,
            "_view_module_version": "1.2.0",
            "grid_template_areas": null,
            "object_position": null,
            "object_fit": null,
            "grid_auto_columns": null,
            "margin": null,
            "display": null,
            "left": null
          }
        },
        "3708c1ba3aec49b2aaf1d0b3a6d14a68": {
          "model_module": "@jupyter-widgets/controls",
          "model_name": "DescriptionStyleModel",
          "state": {
            "_view_name": "StyleView",
            "_model_name": "DescriptionStyleModel",
            "description_width": "",
            "_view_module": "@jupyter-widgets/base",
            "_model_module_version": "1.5.0",
            "_view_count": null,
            "_view_module_version": "1.2.0",
            "_model_module": "@jupyter-widgets/controls"
          }
        },
        "6ce86222d1bc436d83668e9e07d93e1d": {
          "model_module": "@jupyter-widgets/base",
          "model_name": "LayoutModel",
          "state": {
            "_view_name": "LayoutView",
            "grid_template_rows": null,
            "right": null,
            "justify_content": null,
            "_view_module": "@jupyter-widgets/base",
            "overflow": null,
            "_model_module_version": "1.2.0",
            "_view_count": null,
            "flex_flow": null,
            "width": null,
            "min_width": null,
            "border": null,
            "align_items": null,
            "bottom": null,
            "_model_module": "@jupyter-widgets/base",
            "top": null,
            "grid_column": null,
            "overflow_y": null,
            "overflow_x": null,
            "grid_auto_flow": null,
            "grid_area": null,
            "grid_template_columns": null,
            "flex": null,
            "_model_name": "LayoutModel",
            "justify_items": null,
            "grid_row": null,
            "max_height": null,
            "align_content": null,
            "visibility": null,
            "align_self": null,
            "height": null,
            "min_height": null,
            "padding": null,
            "grid_auto_rows": null,
            "grid_gap": null,
            "max_width": null,
            "order": null,
            "_view_module_version": "1.2.0",
            "grid_template_areas": null,
            "object_position": null,
            "object_fit": null,
            "grid_auto_columns": null,
            "margin": null,
            "display": null,
            "left": null
          }
        }
      }
    }
  },
  "cells": [
    {
      "cell_type": "markdown",
      "metadata": {
        "id": "06OQKN0T59bd"
      },
      "source": [
        "# MIT Movie Dataset - Explainability\n",
        "\n"
      ]
    },
    {
      "cell_type": "code",
      "metadata": {
        "id": "L_FKvy6O56zK",
        "colab": {
          "base_uri": "https://localhost:8080/"
        },
        "outputId": "e55d9f31-f990-418f-9e33-b67cc66fc596"
      },
      "source": [
        "import pandas as pd\n",
        "import numpy as np\n",
        "\n",
        "# Run this cell to mount your Google Drive.\n",
        "from google.colab import drive\n",
        "drive.mount('/content/drive')"
      ],
      "execution_count": null,
      "outputs": [
        {
          "output_type": "stream",
          "text": [
            "Mounted at /content/drive\n"
          ],
          "name": "stdout"
        }
      ]
    },
    {
      "cell_type": "code",
      "metadata": {
        "id": "0xnaOpm66evY",
        "colab": {
          "base_uri": "https://localhost:8080/",
          "height": 35
        },
        "outputId": "844b916b-1a69-43ad-dbe0-6de1db26fea9"
      },
      "source": [
        "import os\n",
        "\n",
        "os.chdir('/content/drive/My Drive/Colab Notebooks/DAAN888/data')\n",
        "#os.chdir('/content/drive/My Drive/DAAN888/data')\n",
        "os.getcwd()"
      ],
      "execution_count": null,
      "outputs": [
        {
          "output_type": "execute_result",
          "data": {
            "application/vnd.google.colaboratory.intrinsic+json": {
              "type": "string"
            },
            "text/plain": [
              "'/content/drive/My Drive/Colab Notebooks/DAAN888/data'"
            ]
          },
          "metadata": {
            "tags": []
          },
          "execution_count": 3
        }
      ]
    },
    {
      "cell_type": "code",
      "metadata": {
        "id": "ZBk2FvdZ6kaL"
      },
      "source": [
        "model_dir = '/content/drive/My Drive/Colab Notebooks/DAAN888/models/'"
      ],
      "execution_count": null,
      "outputs": []
    },
    {
      "cell_type": "code",
      "metadata": {
        "id": "3x15kBwH6n2k"
      },
      "source": [
        "data_dir = '/content/drive/My Drive/Colab Notebooks/DAAN888/data/'"
      ],
      "execution_count": null,
      "outputs": []
    },
    {
      "cell_type": "code",
      "metadata": {
        "id": "J9eIgn0O7Rov",
        "colab": {
          "base_uri": "https://localhost:8080/"
        },
        "outputId": "1be61661-e24d-4394-c28d-d506ec51642d"
      },
      "source": [
        "gpu_info = !nvidia-smi\n",
        "gpu_info = '\\n'.join(gpu_info)\n",
        "if gpu_info.find('failed') >= 0:\n",
        "  print('Select the Runtime > \"Change runtime type\" menu to enable a GPU accelerator, ')\n",
        "  print('and then re-execute this cell.')\n",
        "else:\n",
        "  print(gpu_info)"
      ],
      "execution_count": null,
      "outputs": [
        {
          "output_type": "stream",
          "text": [
            "Mon Nov  9 02:08:49 2020       \n",
            "+-----------------------------------------------------------------------------+\n",
            "| NVIDIA-SMI 455.32.00    Driver Version: 418.67       CUDA Version: 10.1     |\n",
            "|-------------------------------+----------------------+----------------------+\n",
            "| GPU  Name        Persistence-M| Bus-Id        Disp.A | Volatile Uncorr. ECC |\n",
            "| Fan  Temp  Perf  Pwr:Usage/Cap|         Memory-Usage | GPU-Util  Compute M. |\n",
            "|                               |                      |               MIG M. |\n",
            "|===============================+======================+======================|\n",
            "|   0  Tesla P100-PCIE...  Off  | 00000000:00:04.0 Off |                    0 |\n",
            "| N/A   37C    P0    28W / 250W |      0MiB / 16280MiB |      0%      Default |\n",
            "|                               |                      |                 ERR! |\n",
            "+-------------------------------+----------------------+----------------------+\n",
            "                                                                               \n",
            "+-----------------------------------------------------------------------------+\n",
            "| Processes:                                                                  |\n",
            "|  GPU   GI   CI        PID   Type   Process name                  GPU Memory |\n",
            "|        ID   ID                                                   Usage      |\n",
            "|=============================================================================|\n",
            "|  No running processes found                                                 |\n",
            "+-----------------------------------------------------------------------------+\n"
          ],
          "name": "stdout"
        }
      ]
    },
    {
      "cell_type": "markdown",
      "metadata": {
        "id": "gpFOjZxX67Zy"
      },
      "source": [
        "\n",
        "\n",
        "---\n",
        "\n"
      ]
    },
    {
      "cell_type": "markdown",
      "metadata": {
        "id": "rpF_iemN8M01"
      },
      "source": [
        "## Load Dataset"
      ]
    },
    {
      "cell_type": "code",
      "metadata": {
        "id": "xMVdD22r8PgJ"
      },
      "source": [
        "import pickle \n",
        "\n",
        "with open('mitmovie.pickle', 'rb') as handle:\n",
        "    dataset = pickle.load(handle)"
      ],
      "execution_count": null,
      "outputs": []
    },
    {
      "cell_type": "code",
      "metadata": {
        "id": "7yLepx_H9Hau",
        "colab": {
          "base_uri": "https://localhost:8080/"
        },
        "outputId": "d205930b-8939-4833-8343-9b6bc55281c4"
      },
      "source": [
        "# first row in train set\n",
        "list(zip(dataset['train_tokens'][0], dataset['train_labels'][0]))"
      ],
      "execution_count": null,
      "outputs": [
        {
          "output_type": "execute_result",
          "data": {
            "text/plain": [
              "[('what', 'O'),\n",
              " ('movies', 'O'),\n",
              " ('star', 'O'),\n",
              " ('bruce', 'B-ACTOR'),\n",
              " ('willis', 'I-ACTOR')]"
            ]
          },
          "metadata": {
            "tags": []
          },
          "execution_count": 8
        }
      ]
    },
    {
      "cell_type": "markdown",
      "metadata": {
        "id": "cc20HA4OQd9h"
      },
      "source": [
        "## Bert Model\n",
        "\n",
        "Documentation for this model can be found: \n",
        "https://huggingface.co/transformers/model_doc/bert.html#overview\n",
        "\n",
        "Following HuggingFace distilbert tutorial: https://huggingface.co/transformers/custom_datasets.html#tok-ner\n"
      ]
    },
    {
      "cell_type": "code",
      "metadata": {
        "id": "JMWbvrtoQd9s",
        "colab": {
          "base_uri": "https://localhost:8080/"
        },
        "outputId": "b03f6025-6316-47f8-e61e-9f9adc934c22"
      },
      "source": [
        "!pip install transformers"
      ],
      "execution_count": null,
      "outputs": [
        {
          "output_type": "stream",
          "text": [
            "Collecting transformers\n",
            "\u001b[?25l  Downloading https://files.pythonhosted.org/packages/2c/4e/4f1ede0fd7a36278844a277f8d53c21f88f37f3754abf76a5d6224f76d4a/transformers-3.4.0-py3-none-any.whl (1.3MB)\n",
            "\r\u001b[K     |▎                               | 10kB 19.7MB/s eta 0:00:01\r\u001b[K     |▌                               | 20kB 6.2MB/s eta 0:00:01\r\u001b[K     |▉                               | 30kB 7.6MB/s eta 0:00:01\r\u001b[K     |█                               | 40kB 8.1MB/s eta 0:00:01\r\u001b[K     |█▎                              | 51kB 6.6MB/s eta 0:00:01\r\u001b[K     |█▋                              | 61kB 7.3MB/s eta 0:00:01\r\u001b[K     |█▉                              | 71kB 8.3MB/s eta 0:00:01\r\u001b[K     |██                              | 81kB 8.5MB/s eta 0:00:01\r\u001b[K     |██▍                             | 92kB 8.3MB/s eta 0:00:01\r\u001b[K     |██▋                             | 102kB 8.8MB/s eta 0:00:01\r\u001b[K     |██▉                             | 112kB 8.8MB/s eta 0:00:01\r\u001b[K     |███▏                            | 122kB 8.8MB/s eta 0:00:01\r\u001b[K     |███▍                            | 133kB 8.8MB/s eta 0:00:01\r\u001b[K     |███▋                            | 143kB 8.8MB/s eta 0:00:01\r\u001b[K     |████                            | 153kB 8.8MB/s eta 0:00:01\r\u001b[K     |████▏                           | 163kB 8.8MB/s eta 0:00:01\r\u001b[K     |████▍                           | 174kB 8.8MB/s eta 0:00:01\r\u001b[K     |████▊                           | 184kB 8.8MB/s eta 0:00:01\r\u001b[K     |█████                           | 194kB 8.8MB/s eta 0:00:01\r\u001b[K     |█████▏                          | 204kB 8.8MB/s eta 0:00:01\r\u001b[K     |█████▌                          | 215kB 8.8MB/s eta 0:00:01\r\u001b[K     |█████▊                          | 225kB 8.8MB/s eta 0:00:01\r\u001b[K     |██████                          | 235kB 8.8MB/s eta 0:00:01\r\u001b[K     |██████▎                         | 245kB 8.8MB/s eta 0:00:01\r\u001b[K     |██████▌                         | 256kB 8.8MB/s eta 0:00:01\r\u001b[K     |██████▊                         | 266kB 8.8MB/s eta 0:00:01\r\u001b[K     |███████                         | 276kB 8.8MB/s eta 0:00:01\r\u001b[K     |███████▎                        | 286kB 8.8MB/s eta 0:00:01\r\u001b[K     |███████▋                        | 296kB 8.8MB/s eta 0:00:01\r\u001b[K     |███████▉                        | 307kB 8.8MB/s eta 0:00:01\r\u001b[K     |████████                        | 317kB 8.8MB/s eta 0:00:01\r\u001b[K     |████████▍                       | 327kB 8.8MB/s eta 0:00:01\r\u001b[K     |████████▋                       | 337kB 8.8MB/s eta 0:00:01\r\u001b[K     |████████▉                       | 348kB 8.8MB/s eta 0:00:01\r\u001b[K     |█████████▏                      | 358kB 8.8MB/s eta 0:00:01\r\u001b[K     |█████████▍                      | 368kB 8.8MB/s eta 0:00:01\r\u001b[K     |█████████▋                      | 378kB 8.8MB/s eta 0:00:01\r\u001b[K     |██████████                      | 389kB 8.8MB/s eta 0:00:01\r\u001b[K     |██████████▏                     | 399kB 8.8MB/s eta 0:00:01\r\u001b[K     |██████████▍                     | 409kB 8.8MB/s eta 0:00:01\r\u001b[K     |██████████▊                     | 419kB 8.8MB/s eta 0:00:01\r\u001b[K     |███████████                     | 430kB 8.8MB/s eta 0:00:01\r\u001b[K     |███████████▏                    | 440kB 8.8MB/s eta 0:00:01\r\u001b[K     |███████████▌                    | 450kB 8.8MB/s eta 0:00:01\r\u001b[K     |███████████▊                    | 460kB 8.8MB/s eta 0:00:01\r\u001b[K     |████████████                    | 471kB 8.8MB/s eta 0:00:01\r\u001b[K     |████████████▎                   | 481kB 8.8MB/s eta 0:00:01\r\u001b[K     |████████████▌                   | 491kB 8.8MB/s eta 0:00:01\r\u001b[K     |████████████▊                   | 501kB 8.8MB/s eta 0:00:01\r\u001b[K     |█████████████                   | 512kB 8.8MB/s eta 0:00:01\r\u001b[K     |█████████████▎                  | 522kB 8.8MB/s eta 0:00:01\r\u001b[K     |█████████████▌                  | 532kB 8.8MB/s eta 0:00:01\r\u001b[K     |█████████████▉                  | 542kB 8.8MB/s eta 0:00:01\r\u001b[K     |██████████████                  | 552kB 8.8MB/s eta 0:00:01\r\u001b[K     |██████████████▍                 | 563kB 8.8MB/s eta 0:00:01\r\u001b[K     |██████████████▋                 | 573kB 8.8MB/s eta 0:00:01\r\u001b[K     |██████████████▉                 | 583kB 8.8MB/s eta 0:00:01\r\u001b[K     |███████████████▏                | 593kB 8.8MB/s eta 0:00:01\r\u001b[K     |███████████████▍                | 604kB 8.8MB/s eta 0:00:01\r\u001b[K     |███████████████▋                | 614kB 8.8MB/s eta 0:00:01\r\u001b[K     |████████████████                | 624kB 8.8MB/s eta 0:00:01\r\u001b[K     |████████████████▏               | 634kB 8.8MB/s eta 0:00:01\r\u001b[K     |████████████████▍               | 645kB 8.8MB/s eta 0:00:01\r\u001b[K     |████████████████▊               | 655kB 8.8MB/s eta 0:00:01\r\u001b[K     |█████████████████               | 665kB 8.8MB/s eta 0:00:01\r\u001b[K     |█████████████████▏              | 675kB 8.8MB/s eta 0:00:01\r\u001b[K     |█████████████████▌              | 686kB 8.8MB/s eta 0:00:01\r\u001b[K     |█████████████████▊              | 696kB 8.8MB/s eta 0:00:01\r\u001b[K     |██████████████████              | 706kB 8.8MB/s eta 0:00:01\r\u001b[K     |██████████████████▎             | 716kB 8.8MB/s eta 0:00:01\r\u001b[K     |██████████████████▌             | 727kB 8.8MB/s eta 0:00:01\r\u001b[K     |██████████████████▊             | 737kB 8.8MB/s eta 0:00:01\r\u001b[K     |███████████████████             | 747kB 8.8MB/s eta 0:00:01\r\u001b[K     |███████████████████▎            | 757kB 8.8MB/s eta 0:00:01\r\u001b[K     |███████████████████▌            | 768kB 8.8MB/s eta 0:00:01\r\u001b[K     |███████████████████▉            | 778kB 8.8MB/s eta 0:00:01\r\u001b[K     |████████████████████            | 788kB 8.8MB/s eta 0:00:01\r\u001b[K     |████████████████████▎           | 798kB 8.8MB/s eta 0:00:01\r\u001b[K     |████████████████████▋           | 808kB 8.8MB/s eta 0:00:01\r\u001b[K     |████████████████████▉           | 819kB 8.8MB/s eta 0:00:01\r\u001b[K     |█████████████████████           | 829kB 8.8MB/s eta 0:00:01\r\u001b[K     |█████████████████████▍          | 839kB 8.8MB/s eta 0:00:01\r\u001b[K     |█████████████████████▋          | 849kB 8.8MB/s eta 0:00:01\r\u001b[K     |██████████████████████          | 860kB 8.8MB/s eta 0:00:01\r\u001b[K     |██████████████████████▏         | 870kB 8.8MB/s eta 0:00:01\r\u001b[K     |██████████████████████▍         | 880kB 8.8MB/s eta 0:00:01\r\u001b[K     |██████████████████████▊         | 890kB 8.8MB/s eta 0:00:01\r\u001b[K     |███████████████████████         | 901kB 8.8MB/s eta 0:00:01\r\u001b[K     |███████████████████████▏        | 911kB 8.8MB/s eta 0:00:01\r\u001b[K     |███████████████████████▌        | 921kB 8.8MB/s eta 0:00:01\r\u001b[K     |███████████████████████▊        | 931kB 8.8MB/s eta 0:00:01\r\u001b[K     |████████████████████████        | 942kB 8.8MB/s eta 0:00:01\r\u001b[K     |████████████████████████▎       | 952kB 8.8MB/s eta 0:00:01\r\u001b[K     |████████████████████████▌       | 962kB 8.8MB/s eta 0:00:01\r\u001b[K     |████████████████████████▊       | 972kB 8.8MB/s eta 0:00:01\r\u001b[K     |█████████████████████████       | 983kB 8.8MB/s eta 0:00:01\r\u001b[K     |█████████████████████████▎      | 993kB 8.8MB/s eta 0:00:01\r\u001b[K     |█████████████████████████▌      | 1.0MB 8.8MB/s eta 0:00:01\r\u001b[K     |█████████████████████████▉      | 1.0MB 8.8MB/s eta 0:00:01\r\u001b[K     |██████████████████████████      | 1.0MB 8.8MB/s eta 0:00:01\r\u001b[K     |██████████████████████████▎     | 1.0MB 8.8MB/s eta 0:00:01\r\u001b[K     |██████████████████████████▋     | 1.0MB 8.8MB/s eta 0:00:01\r\u001b[K     |██████████████████████████▉     | 1.1MB 8.8MB/s eta 0:00:01\r\u001b[K     |███████████████████████████     | 1.1MB 8.8MB/s eta 0:00:01\r\u001b[K     |███████████████████████████▍    | 1.1MB 8.8MB/s eta 0:00:01\r\u001b[K     |███████████████████████████▋    | 1.1MB 8.8MB/s eta 0:00:01\r\u001b[K     |███████████████████████████▉    | 1.1MB 8.8MB/s eta 0:00:01\r\u001b[K     |████████████████████████████▏   | 1.1MB 8.8MB/s eta 0:00:01\r\u001b[K     |████████████████████████████▍   | 1.1MB 8.8MB/s eta 0:00:01\r\u001b[K     |████████████████████████████▊   | 1.1MB 8.8MB/s eta 0:00:01\r\u001b[K     |█████████████████████████████   | 1.1MB 8.8MB/s eta 0:00:01\r\u001b[K     |█████████████████████████████▏  | 1.1MB 8.8MB/s eta 0:00:01\r\u001b[K     |█████████████████████████████▌  | 1.2MB 8.8MB/s eta 0:00:01\r\u001b[K     |█████████████████████████████▊  | 1.2MB 8.8MB/s eta 0:00:01\r\u001b[K     |██████████████████████████████  | 1.2MB 8.8MB/s eta 0:00:01\r\u001b[K     |██████████████████████████████▎ | 1.2MB 8.8MB/s eta 0:00:01\r\u001b[K     |██████████████████████████████▌ | 1.2MB 8.8MB/s eta 0:00:01\r\u001b[K     |██████████████████████████████▊ | 1.2MB 8.8MB/s eta 0:00:01\r\u001b[K     |███████████████████████████████ | 1.2MB 8.8MB/s eta 0:00:01\r\u001b[K     |███████████████████████████████▎| 1.2MB 8.8MB/s eta 0:00:01\r\u001b[K     |███████████████████████████████▌| 1.2MB 8.8MB/s eta 0:00:01\r\u001b[K     |███████████████████████████████▉| 1.2MB 8.8MB/s eta 0:00:01\r\u001b[K     |████████████████████████████████| 1.3MB 8.8MB/s \n",
            "\u001b[?25hRequirement already satisfied: dataclasses; python_version < \"3.7\" in /usr/local/lib/python3.6/dist-packages (from transformers) (0.7)\n",
            "Requirement already satisfied: packaging in /usr/local/lib/python3.6/dist-packages (from transformers) (20.4)\n",
            "Requirement already satisfied: tqdm>=4.27 in /usr/local/lib/python3.6/dist-packages (from transformers) (4.41.1)\n",
            "Requirement already satisfied: numpy in /usr/local/lib/python3.6/dist-packages (from transformers) (1.18.5)\n",
            "Requirement already satisfied: regex!=2019.12.17 in /usr/local/lib/python3.6/dist-packages (from transformers) (2019.12.20)\n",
            "Collecting sacremoses\n",
            "\u001b[?25l  Downloading https://files.pythonhosted.org/packages/7d/34/09d19aff26edcc8eb2a01bed8e98f13a1537005d31e95233fd48216eed10/sacremoses-0.0.43.tar.gz (883kB)\n",
            "\u001b[K     |████████████████████████████████| 890kB 30.4MB/s \n",
            "\u001b[?25hCollecting tokenizers==0.9.2\n",
            "\u001b[?25l  Downloading https://files.pythonhosted.org/packages/7c/a5/78be1a55b2ac8d6a956f0a211d372726e2b1dd2666bb537fea9b03abd62c/tokenizers-0.9.2-cp36-cp36m-manylinux1_x86_64.whl (2.9MB)\n",
            "\u001b[K     |████████████████████████████████| 2.9MB 54.2MB/s \n",
            "\u001b[?25hRequirement already satisfied: requests in /usr/local/lib/python3.6/dist-packages (from transformers) (2.23.0)\n",
            "Collecting sentencepiece!=0.1.92\n",
            "\u001b[?25l  Downloading https://files.pythonhosted.org/packages/e5/2d/6d4ca4bef9a67070fa1cac508606328329152b1df10bdf31fb6e4e727894/sentencepiece-0.1.94-cp36-cp36m-manylinux2014_x86_64.whl (1.1MB)\n",
            "\u001b[K     |████████████████████████████████| 1.1MB 48.7MB/s \n",
            "\u001b[?25hRequirement already satisfied: filelock in /usr/local/lib/python3.6/dist-packages (from transformers) (3.0.12)\n",
            "Requirement already satisfied: protobuf in /usr/local/lib/python3.6/dist-packages (from transformers) (3.12.4)\n",
            "Requirement already satisfied: six in /usr/local/lib/python3.6/dist-packages (from packaging->transformers) (1.15.0)\n",
            "Requirement already satisfied: pyparsing>=2.0.2 in /usr/local/lib/python3.6/dist-packages (from packaging->transformers) (2.4.7)\n",
            "Requirement already satisfied: click in /usr/local/lib/python3.6/dist-packages (from sacremoses->transformers) (7.1.2)\n",
            "Requirement already satisfied: joblib in /usr/local/lib/python3.6/dist-packages (from sacremoses->transformers) (0.17.0)\n",
            "Requirement already satisfied: urllib3!=1.25.0,!=1.25.1,<1.26,>=1.21.1 in /usr/local/lib/python3.6/dist-packages (from requests->transformers) (1.24.3)\n",
            "Requirement already satisfied: chardet<4,>=3.0.2 in /usr/local/lib/python3.6/dist-packages (from requests->transformers) (3.0.4)\n",
            "Requirement already satisfied: idna<3,>=2.5 in /usr/local/lib/python3.6/dist-packages (from requests->transformers) (2.10)\n",
            "Requirement already satisfied: certifi>=2017.4.17 in /usr/local/lib/python3.6/dist-packages (from requests->transformers) (2020.6.20)\n",
            "Requirement already satisfied: setuptools in /usr/local/lib/python3.6/dist-packages (from protobuf->transformers) (50.3.2)\n",
            "Building wheels for collected packages: sacremoses\n",
            "  Building wheel for sacremoses (setup.py) ... \u001b[?25l\u001b[?25hdone\n",
            "  Created wheel for sacremoses: filename=sacremoses-0.0.43-cp36-none-any.whl size=893257 sha256=d01d05f455de50a3b748060cd0dbc6af3a7134a10eca25f6367799b934658e35\n",
            "  Stored in directory: /root/.cache/pip/wheels/29/3c/fd/7ce5c3f0666dab31a50123635e6fb5e19ceb42ce38d4e58f45\n",
            "Successfully built sacremoses\n",
            "Installing collected packages: sacremoses, tokenizers, sentencepiece, transformers\n",
            "Successfully installed sacremoses-0.0.43 sentencepiece-0.1.94 tokenizers-0.9.2 transformers-3.4.0\n"
          ],
          "name": "stdout"
        }
      ]
    },
    {
      "cell_type": "markdown",
      "metadata": {
        "id": "za4-_-AEQd9x"
      },
      "source": [
        "### Encode Labels"
      ]
    },
    {
      "cell_type": "code",
      "metadata": {
        "id": "WFqt4gnSQd9y"
      },
      "source": [
        "# get the set of unique labels in the movie dataset\n",
        "uniq_labels = set([label for doc in dataset['train_labels'] for label in doc])"
      ],
      "execution_count": null,
      "outputs": []
    },
    {
      "cell_type": "code",
      "metadata": {
        "id": "-c_nyRO8Qd94",
        "colab": {
          "base_uri": "https://localhost:8080/"
        },
        "outputId": "014da29f-48b9-47ec-bcc5-7c57cfc3dc66"
      },
      "source": [
        "# assign a number to each label\n",
        "label_encoding = {label: id for id, label in enumerate(uniq_labels)}\n",
        "label_encoding"
      ],
      "execution_count": null,
      "outputs": [
        {
          "output_type": "execute_result",
          "data": {
            "text/plain": [
              "{'B-ACTOR': 21,\n",
              " 'B-CHARACTER': 0,\n",
              " 'B-DIRECTOR': 23,\n",
              " 'B-GENRE': 20,\n",
              " 'B-PLOT': 10,\n",
              " 'B-RATING': 12,\n",
              " 'B-RATINGS_AVERAGE': 19,\n",
              " 'B-REVIEW': 11,\n",
              " 'B-SONG': 24,\n",
              " 'B-TITLE': 1,\n",
              " 'B-TRAILER': 14,\n",
              " 'B-YEAR': 5,\n",
              " 'I-ACTOR': 7,\n",
              " 'I-CHARACTER': 22,\n",
              " 'I-DIRECTOR': 8,\n",
              " 'I-GENRE': 9,\n",
              " 'I-PLOT': 15,\n",
              " 'I-RATING': 13,\n",
              " 'I-RATINGS_AVERAGE': 18,\n",
              " 'I-REVIEW': 3,\n",
              " 'I-SONG': 6,\n",
              " 'I-TITLE': 17,\n",
              " 'I-TRAILER': 2,\n",
              " 'I-YEAR': 16,\n",
              " 'O': 4}"
            ]
          },
          "metadata": {
            "tags": []
          },
          "execution_count": 70
        }
      ]
    },
    {
      "cell_type": "markdown",
      "metadata": {
        "id": "-j4Tq1N8Qd99"
      },
      "source": [
        "### Encode Texts"
      ]
    },
    {
      "cell_type": "markdown",
      "metadata": {
        "id": "tym3XvYfQd9-"
      },
      "source": [
        "To encode the texts, we have to use the same Tokenizer that DistilBert was trained on."
      ]
    },
    {
      "cell_type": "code",
      "metadata": {
        "id": "aZ1YS3YJQd9_",
        "colab": {
          "base_uri": "https://localhost:8080/",
          "height": 116,
          "referenced_widgets": [
            "34a7ae42fc8c4b67803f900ab24714b8",
            "05187d461ab8491fb9b2164b5d33e948",
            "60d3eceb86744bab9249e322860727bc",
            "708d214afe3f4b60a3ccf307392fd541",
            "9cc2202d61af4a0e874b8a068a576898",
            "e53ac7a697004a1e916ea43c5259c6a4",
            "0a86505251564ad38f0a03d23bd5f36a",
            "cec2bb04ab584e8e9472d7ddded2d2fd",
            "529f81453b174e5b947c82059a64b606",
            "fb631b41321549879c03a8628b098d20",
            "8fca08915cb04e899202545482aa423d",
            "50b0cbacc1ca438490f9a3bef695c52c",
            "8daf80e854ed4b3c966c8744b32ad7b5",
            "46c1928e131e42348c577fae6ca600c3",
            "64f3ca5fac414a58a2c9953b321572ce",
            "fab3ba6991be4efdace979b4525239ed"
          ]
        },
        "outputId": "735f1427-5326-4c9c-e1f7-0aca13b934c0"
      },
      "source": [
        "from transformers import BertTokenizerFast\n",
        "\n",
        "tokenizer = BertTokenizerFast.from_pretrained('bert-large-uncased')"
      ],
      "execution_count": null,
      "outputs": [
        {
          "output_type": "display_data",
          "data": {
            "application/vnd.jupyter.widget-view+json": {
              "model_id": "34a7ae42fc8c4b67803f900ab24714b8",
              "version_minor": 0,
              "version_major": 2
            },
            "text/plain": [
              "HBox(children=(FloatProgress(value=0.0, description='Downloading', max=231508.0, style=ProgressStyle(descripti…"
            ]
          },
          "metadata": {
            "tags": []
          }
        },
        {
          "output_type": "stream",
          "text": [
            "\n"
          ],
          "name": "stdout"
        },
        {
          "output_type": "display_data",
          "data": {
            "application/vnd.jupyter.widget-view+json": {
              "model_id": "529f81453b174e5b947c82059a64b606",
              "version_minor": 0,
              "version_major": 2
            },
            "text/plain": [
              "HBox(children=(FloatProgress(value=0.0, description='Downloading', max=466062.0, style=ProgressStyle(descripti…"
            ]
          },
          "metadata": {
            "tags": []
          }
        },
        {
          "output_type": "stream",
          "text": [
            "\n"
          ],
          "name": "stdout"
        }
      ]
    },
    {
      "cell_type": "code",
      "metadata": {
        "id": "lsxM2yFzQd-D",
        "colab": {
          "base_uri": "https://localhost:8080/"
        },
        "outputId": "d0396d37-b87b-43bf-ab72-47550c7ded61"
      },
      "source": [
        "print('There are %s words in this tokenizer object' % tokenizer.vocab_size)"
      ],
      "execution_count": null,
      "outputs": [
        {
          "output_type": "stream",
          "text": [
            "There are 30522 words in this tokenizer object\n"
          ],
          "name": "stdout"
        }
      ]
    },
    {
      "cell_type": "code",
      "metadata": {
        "id": "67930r_5Qd-J"
      },
      "source": [
        "# use the tokenizer to encode the texts \n",
        "train_encodings = tokenizer(dataset['train_tokens'], \n",
        "                            is_split_into_words=True, \n",
        "                            return_offsets_mapping=True, \n",
        "                            padding=True, \n",
        "                            truncation=True)\n",
        "\n",
        "test_encodings = tokenizer(dataset['test_tokens'], \n",
        "                           is_split_into_words=True, \n",
        "                           return_offsets_mapping=True, \n",
        "                           padding=True, \n",
        "                           truncation=True)"
      ],
      "execution_count": null,
      "outputs": []
    },
    {
      "cell_type": "code",
      "metadata": {
        "id": "v5kQAJmqQd-O",
        "colab": {
          "base_uri": "https://localhost:8080/"
        },
        "outputId": "f7ef0644-1ec5-4fe8-e358-a9b8c25a9909"
      },
      "source": [
        "train_encodings.keys()"
      ],
      "execution_count": null,
      "outputs": [
        {
          "output_type": "execute_result",
          "data": {
            "text/plain": [
              "dict_keys(['input_ids', 'token_type_ids', 'attention_mask', 'offset_mapping'])"
            ]
          },
          "metadata": {
            "tags": []
          },
          "execution_count": 15
        }
      ]
    },
    {
      "cell_type": "code",
      "metadata": {
        "id": "jD7bpKjfQd-V",
        "colab": {
          "base_uri": "https://localhost:8080/"
        },
        "outputId": "562a4d1c-47e4-4b6e-fb62-804751d506dc"
      },
      "source": [
        "# make sure same number of docs\n",
        "len(train_encodings['input_ids']), len(dataset['train_tokens'])"
      ],
      "execution_count": null,
      "outputs": [
        {
          "output_type": "execute_result",
          "data": {
            "text/plain": [
              "(9775, 9775)"
            ]
          },
          "metadata": {
            "tags": []
          },
          "execution_count": 16
        }
      ]
    },
    {
      "cell_type": "code",
      "metadata": {
        "id": "nqmK7jArQd-a",
        "colab": {
          "base_uri": "https://localhost:8080/"
        },
        "outputId": "8d13b4f0-b5cc-4712-b89e-5505c4b1e19c"
      },
      "source": [
        "dataset['train_tokens'][0]"
      ],
      "execution_count": null,
      "outputs": [
        {
          "output_type": "execute_result",
          "data": {
            "text/plain": [
              "['what', 'movies', 'star', 'bruce', 'willis']"
            ]
          },
          "metadata": {
            "tags": []
          },
          "execution_count": 17
        }
      ]
    },
    {
      "cell_type": "code",
      "metadata": {
        "id": "-ms5wc0hQd-e",
        "colab": {
          "base_uri": "https://localhost:8080/"
        },
        "outputId": "7338f197-e1c9-472d-d149-5cade43279f9"
      },
      "source": [
        "# preview what the encoded result looks like\n",
        "list(zip(train_encodings['input_ids'][0][0:12], train_encodings['attention_mask'][0][0:12], train_encodings['offset_mapping'][0][0:12]))"
      ],
      "execution_count": null,
      "outputs": [
        {
          "output_type": "execute_result",
          "data": {
            "text/plain": [
              "[(101, 1, (0, 0)),\n",
              " (2054, 1, (0, 4)),\n",
              " (5691, 1, (0, 6)),\n",
              " (2732, 1, (0, 4)),\n",
              " (5503, 1, (0, 5)),\n",
              " (12688, 1, (0, 6)),\n",
              " (102, 1, (0, 0)),\n",
              " (0, 0, (0, 0)),\n",
              " (0, 0, (0, 0)),\n",
              " (0, 0, (0, 0)),\n",
              " (0, 0, (0, 0)),\n",
              " (0, 0, (0, 0))]"
            ]
          },
          "metadata": {
            "tags": []
          },
          "execution_count": 18
        }
      ]
    },
    {
      "cell_type": "code",
      "metadata": {
        "id": "rtUHIGPAQd-j",
        "colab": {
          "base_uri": "https://localhost:8080/"
        },
        "outputId": "9a3fec7c-6f55-46d3-b9f0-d34e0f18bfca"
      },
      "source": [
        "# the model expects all docs to be same length (51) \n",
        "# the attention mask will tell the model to ignore the padding with zeros\n",
        "print('Length of sequences is %s ' % len(train_encodings['input_ids'][1]))"
      ],
      "execution_count": null,
      "outputs": [
        {
          "output_type": "stream",
          "text": [
            "Length of sequences is 51 \n"
          ],
          "name": "stdout"
        }
      ]
    },
    {
      "cell_type": "code",
      "metadata": {
        "id": "YZWiPdw6Qd-o",
        "colab": {
          "base_uri": "https://localhost:8080/"
        },
        "outputId": "51e9b379-3f73-4e81-83e1-77c5e33cd87b"
      },
      "source": [
        "# first document in dataset\n",
        "print( dataset['train_tokens'][0] )\n",
        "\n",
        "# check out new tokenization result as words\n",
        "print( tokenizer.convert_ids_to_tokens( train_encodings['input_ids'][0][0:9]) )\n",
        "\n",
        "# check out new tokenization result as ids\n",
        "print( [val for val in train_encodings['input_ids'][0] if val != 0] )"
      ],
      "execution_count": null,
      "outputs": [
        {
          "output_type": "stream",
          "text": [
            "['what', 'movies', 'star', 'bruce', 'willis']\n",
            "['[CLS]', 'what', 'movies', 'star', 'bruce', 'willis', '[SEP]', '[PAD]', '[PAD]']\n",
            "[101, 2054, 5691, 2732, 5503, 12688, 102]\n"
          ],
          "name": "stdout"
        }
      ]
    },
    {
      "cell_type": "code",
      "metadata": {
        "id": "LWUeTlGBQd-t"
      },
      "source": [
        "find_subwords = []\n",
        "for i, offset_list in enumerate(train_encodings['offset_mapping']):\n",
        "  for j, offset_tuple in enumerate(offset_list):\n",
        "    if offset_tuple[0] != 0:\n",
        "      find_subwords.append(i)"
      ],
      "execution_count": null,
      "outputs": []
    },
    {
      "cell_type": "code",
      "metadata": {
        "id": "k17vdwnxQd-1",
        "colab": {
          "base_uri": "https://localhost:8080/"
        },
        "outputId": "f15610fa-c930-4a79-9de7-f8f2072e860e"
      },
      "source": [
        "np.unique(find_subwords)"
      ],
      "execution_count": null,
      "outputs": [
        {
          "output_type": "execute_result",
          "data": {
            "text/plain": [
              "array([   1,    2,    3, ..., 9752, 9767, 9772])"
            ]
          },
          "metadata": {
            "tags": []
          },
          "execution_count": 22
        }
      ]
    },
    {
      "cell_type": "code",
      "metadata": {
        "id": "cPuQ_NjmQd-5",
        "colab": {
          "base_uri": "https://localhost:8080/"
        },
        "outputId": "6e6e5401-b032-4306-d129-9a6ef049d931"
      },
      "source": [
        "dataset['train_tokens'][1]"
      ],
      "execution_count": null,
      "outputs": [
        {
          "output_type": "execute_result",
          "data": {
            "text/plain": [
              "['show', 'me', 'films', 'with', 'drew', 'barrymore', 'from', 'the', '1980s']"
            ]
          },
          "metadata": {
            "tags": []
          },
          "execution_count": 23
        }
      ]
    },
    {
      "cell_type": "code",
      "metadata": {
        "id": "DWYnCn8kQd_F",
        "colab": {
          "base_uri": "https://localhost:8080/"
        },
        "outputId": "053c1d69-3dd5-4c50-f2f0-f1e9b5fb576c"
      },
      "source": [
        "list(zip(train_encodings['input_ids'][1][0:12], train_encodings['attention_mask'][1][0:12], train_encodings['offset_mapping'][1][0:12]))"
      ],
      "execution_count": null,
      "outputs": [
        {
          "output_type": "execute_result",
          "data": {
            "text/plain": [
              "[(101, 1, (0, 0)),\n",
              " (2265, 1, (0, 4)),\n",
              " (2033, 1, (0, 2)),\n",
              " (3152, 1, (0, 5)),\n",
              " (2007, 1, (0, 4)),\n",
              " (3881, 1, (0, 4)),\n",
              " (6287, 1, (0, 5)),\n",
              " (5974, 1, (5, 9)),\n",
              " (2013, 1, (0, 4)),\n",
              " (1996, 1, (0, 3)),\n",
              " (3865, 1, (0, 5)),\n",
              " (102, 1, (0, 0))]"
            ]
          },
          "metadata": {
            "tags": []
          },
          "execution_count": 24
        }
      ]
    },
    {
      "cell_type": "code",
      "metadata": {
        "id": "1WGoEA58RtaE",
        "colab": {
          "base_uri": "https://localhost:8080/"
        },
        "outputId": "28e3b759-8a27-4ffb-ee17-95d0d31220af"
      },
      "source": [
        "[tokenizer.convert_ids_to_tokens(val) for val in train_encodings['input_ids'][1][0:12]]"
      ],
      "execution_count": null,
      "outputs": [
        {
          "output_type": "execute_result",
          "data": {
            "text/plain": [
              "['[CLS]',\n",
              " 'show',\n",
              " 'me',\n",
              " 'films',\n",
              " 'with',\n",
              " 'drew',\n",
              " 'barry',\n",
              " '##more',\n",
              " 'from',\n",
              " 'the',\n",
              " '1980s',\n",
              " '[SEP]']"
            ]
          },
          "metadata": {
            "tags": []
          },
          "execution_count": 25
        }
      ]
    },
    {
      "cell_type": "markdown",
      "metadata": {
        "id": "vryYqZKYQd_P"
      },
      "source": [
        "### Adjust Labels for Vocab Offset\n"
      ]
    },
    {
      "cell_type": "markdown",
      "metadata": {
        "id": "TOmhSye2Qd_Q"
      },
      "source": [
        "In the print out above you can see that \"barrymore\" gets transformed into \"barry\", \"##more\". This is because the name is not in the vocabulary of the model, however, those small subwords \"barry\" and \"##more\" are. So the offsetting notifies the model of this splitting of the word. However, we have to adjust the labels now to account for this separation. \n",
        "\n",
        "Based on https://datascience.stackexchange.com/questions/69640/what-should-be-the-labels-for-subword-tokens-in-bert-for-ner-task we will not drag the label to the new subword feature because that would introduce more instances of that class and change the number of support instances thus making the models difficult to compare. \n",
        "\n",
        "Also some comments to consider for an alternative strategy: https://github.com/google-research/bert/issues/646\n"
      ]
    },
    {
      "cell_type": "code",
      "metadata": {
        "id": "duIlrWmAQd_R"
      },
      "source": [
        "import numpy as np\n",
        "\n",
        "def adjust_labels_for_offset(original_labels, label_dictionary, encodings):\n",
        "\n",
        "    # convert to the numeric encoding of the label\n",
        "    labels = [[label_dictionary[label] for label in doc] for doc in original_labels]\n",
        "\n",
        "    encoded_labels = []\n",
        "    for doc_labels, doc_offset in zip(labels, encodings.offset_mapping):\n",
        "\n",
        "        # create an empty array of -100\n",
        "        doc_enc_labels = np.ones(len(doc_offset),dtype=int) * -100\n",
        "        arr_offset = np.array(doc_offset)\n",
        "\n",
        "        # set labels whose first offset position is 0 and the second is not 0\n",
        "        doc_enc_labels[(arr_offset[:,0] == 0) & (arr_offset[:,1] != 0)] = doc_labels\n",
        "        encoded_labels.append(doc_enc_labels.tolist())\n",
        "\n",
        "    return encoded_labels"
      ],
      "execution_count": null,
      "outputs": []
    },
    {
      "cell_type": "code",
      "metadata": {
        "id": "OZtJLk38Qd_V"
      },
      "source": [
        "train_labels = adjust_labels_for_offset(dataset['train_labels'], \n",
        "                                        label_encoding, \n",
        "                                        train_encodings)\n",
        "\n",
        "test_labels = adjust_labels_for_offset(dataset['test_labels'],\n",
        "                                      label_encoding, \n",
        "                                      test_encodings)"
      ],
      "execution_count": null,
      "outputs": []
    },
    {
      "cell_type": "code",
      "metadata": {
        "id": "6k7kCcnWQd_Z",
        "colab": {
          "base_uri": "https://localhost:8080/"
        },
        "outputId": "ab739611-63bc-413e-8a88-faf67b41ba42"
      },
      "source": [
        "id_to_label = {id: label for (label,id) in label_encoding.items()}\n",
        "id_to_label[-100] = 'X'\n",
        "\n",
        "#print( tokenizer.convert_ids_to_tokens(encoding_example) )\n",
        "#print([id_to_label[id] for id in train_labels[0][0:9]])\n",
        "list(zip( tokenizer.convert_ids_to_tokens(train_encodings['input_ids'][0][0:15]), [id_to_label[id] for id in train_labels[0][0:15]], train_labels[0][0:15] )) "
      ],
      "execution_count": null,
      "outputs": [
        {
          "output_type": "execute_result",
          "data": {
            "text/plain": [
              "[('[CLS]', 'X', -100),\n",
              " ('what', 'O', 4),\n",
              " ('movies', 'O', 4),\n",
              " ('star', 'O', 4),\n",
              " ('bruce', 'B-ACTOR', 21),\n",
              " ('willis', 'I-ACTOR', 7),\n",
              " ('[SEP]', 'X', -100),\n",
              " ('[PAD]', 'X', -100),\n",
              " ('[PAD]', 'X', -100),\n",
              " ('[PAD]', 'X', -100),\n",
              " ('[PAD]', 'X', -100),\n",
              " ('[PAD]', 'X', -100),\n",
              " ('[PAD]', 'X', -100),\n",
              " ('[PAD]', 'X', -100),\n",
              " ('[PAD]', 'X', -100)]"
            ]
          },
          "metadata": {
            "tags": []
          },
          "execution_count": 28
        }
      ]
    },
    {
      "cell_type": "code",
      "metadata": {
        "id": "6cSAvc34Qd_m",
        "colab": {
          "base_uri": "https://localhost:8080/"
        },
        "outputId": "bbd9446f-53d3-428f-c77f-4d162aecd1d6"
      },
      "source": [
        "np.unique(train_labels)"
      ],
      "execution_count": null,
      "outputs": [
        {
          "output_type": "execute_result",
          "data": {
            "text/plain": [
              "array([-100,    0,    1,    2,    3,    4,    5,    6,    7,    8,    9,\n",
              "         10,   11,   12,   13,   14,   15,   16,   17,   18,   19,   20,\n",
              "         21,   22,   23,   24])"
            ]
          },
          "metadata": {
            "tags": []
          },
          "execution_count": 29
        }
      ]
    },
    {
      "cell_type": "markdown",
      "metadata": {
        "id": "x0EIH6mTQd_u"
      },
      "source": [
        "### Prepare Pytorch Datasets\n",
        "\n",
        "https://huggingface.co/transformers/custom_datasets.html#ft-trainer\n"
      ]
    },
    {
      "cell_type": "code",
      "metadata": {
        "id": "iNcRNGstQd_v"
      },
      "source": [
        "import torch\n",
        "\n",
        "# pytorch is expecting a certain type of dataset \n",
        "\n",
        "class pt_dataset(torch.utils.data.Dataset):\n",
        "    def __init__(self, encodings, labels):\n",
        "        self.encodings = encodings\n",
        "        self.labels = labels\n",
        "\n",
        "    def __getitem__(self, idx):\n",
        "        item = {key: torch.tensor(val[idx]) for key, val in self.encodings.items()}\n",
        "        item['labels'] = torch.tensor(self.labels[idx])\n",
        "        return item\n",
        "\n",
        "    def __len__(self):\n",
        "        return len(self.labels)\n",
        "\n",
        "# remove the offset_mapping\n",
        "train_encodings.pop(\"offset_mapping\") \n",
        "test_encodings.pop(\"offset_mapping\")\n",
        "\n",
        "train_dataset = pt_dataset(train_encodings, train_labels)\n",
        "test_dataset = pt_dataset(test_encodings, test_labels)"
      ],
      "execution_count": null,
      "outputs": []
    },
    {
      "cell_type": "markdown",
      "metadata": {
        "id": "cTsbw57CQd_6"
      },
      "source": [
        "### Train Model"
      ]
    },
    {
      "cell_type": "code",
      "metadata": {
        "id": "vVznG5v5Qd_7",
        "colab": {
          "base_uri": "https://localhost:8080/",
          "height": 225,
          "referenced_widgets": [
            "ef704199b2014bb382b95512b365f3b1",
            "fd3462b4daf241778e97cfe79bc3b273",
            "25f2a1eedfb04526a15dfcf7f5733bd1",
            "d822654403b24e809277bb67d78474fc",
            "13cbec1f5b4d4f16950b2c37fa3bc5f1",
            "c23e7114dedd46c691f3a53a436ccf95",
            "0e18f8694f6e4b17a6f46e2760258d0e",
            "51ba73fad9d9456f9cb0c2e2421e5702",
            "45225d13ad98472ea43bfc06510381b0",
            "39a4c9c527924893be39489791144bcb",
            "8326b2051ff84774847715e4a1f58879",
            "44e8cded0aa849f38be9588328ad31d8",
            "5da4bc9b6d124f57b4df3edf7e87e771",
            "97fc5241baa849cd894a1336466a0e5f",
            "3708c1ba3aec49b2aaf1d0b3a6d14a68",
            "6ce86222d1bc436d83668e9e07d93e1d"
          ]
        },
        "outputId": "42e74109-f091-4455-9b26-cd71441cdc5c"
      },
      "source": [
        "from transformers import BertForTokenClassification\n",
        "\n",
        "# load the pretrained model from huggingface\n",
        "model = BertForTokenClassification.from_pretrained('bert-large-uncased', num_labels=len(uniq_labels))"
      ],
      "execution_count": null,
      "outputs": [
        {
          "output_type": "display_data",
          "data": {
            "application/vnd.jupyter.widget-view+json": {
              "model_id": "ef704199b2014bb382b95512b365f3b1",
              "version_minor": 0,
              "version_major": 2
            },
            "text/plain": [
              "HBox(children=(FloatProgress(value=0.0, description='Downloading', max=434.0, style=ProgressStyle(description_…"
            ]
          },
          "metadata": {
            "tags": []
          }
        },
        {
          "output_type": "stream",
          "text": [
            "\n"
          ],
          "name": "stdout"
        },
        {
          "output_type": "display_data",
          "data": {
            "application/vnd.jupyter.widget-view+json": {
              "model_id": "45225d13ad98472ea43bfc06510381b0",
              "version_minor": 0,
              "version_major": 2
            },
            "text/plain": [
              "HBox(children=(FloatProgress(value=0.0, description='Downloading', max=1344997306.0, style=ProgressStyle(descr…"
            ]
          },
          "metadata": {
            "tags": []
          }
        },
        {
          "output_type": "stream",
          "text": [
            "\n"
          ],
          "name": "stdout"
        },
        {
          "output_type": "stream",
          "text": [
            "Some weights of the model checkpoint at bert-large-uncased were not used when initializing BertForTokenClassification: ['cls.predictions.bias', 'cls.predictions.transform.dense.weight', 'cls.predictions.transform.dense.bias', 'cls.predictions.decoder.weight', 'cls.seq_relationship.weight', 'cls.seq_relationship.bias', 'cls.predictions.transform.LayerNorm.weight', 'cls.predictions.transform.LayerNorm.bias']\n",
            "- This IS expected if you are initializing BertForTokenClassification from the checkpoint of a model trained on another task or with another architecture (e.g. initializing a BertForSequenceClassification model from a BertForPretraining model).\n",
            "- This IS NOT expected if you are initializing BertForTokenClassification from the checkpoint of a model that you expect to be exactly identical (initializing a BertForSequenceClassification model from a BertForSequenceClassification model).\n",
            "Some weights of BertForTokenClassification were not initialized from the model checkpoint at bert-large-uncased and are newly initialized: ['classifier.weight', 'classifier.bias']\n",
            "You should probably TRAIN this model on a down-stream task to be able to use it for predictions and inference.\n"
          ],
          "name": "stderr"
        }
      ]
    },
    {
      "cell_type": "code",
      "metadata": {
        "id": "dXO-MSQLQeAD"
      },
      "source": [
        "from transformers import Trainer, TrainingArguments\n",
        "\n",
        "# boiler plate code from huggingface to launch a trainer instance\n",
        "# sets directories and baseline configuration for batch sizes and weight decay\n",
        "\n",
        "training_args = TrainingArguments(\n",
        "    output_dir = model_dir +  'explainability/bert',          # output directory\n",
        "    overwrite_output_dir = True,\n",
        "    num_train_epochs=3,              # total number of training epochs\n",
        "    evaluation_strategy = 'epoch',\n",
        "    per_device_train_batch_size=16,  # batch size per device during training\n",
        "    per_device_eval_batch_size=64,   # batch size for evaluation\n",
        "    warmup_steps=500,                # number of warmup steps for learning rate scheduler\n",
        "    weight_decay=0.01,               # strength of weight decay\n",
        "    logging_dir = model_dir +  'explainability/bert/logs',            # directory for storing logs\n",
        "    logging_steps=10,\n",
        ")\n",
        "\n",
        "trainer = Trainer(\n",
        "    model=model,                         # the instantiated 🤗 Transformers model to be trained\n",
        "    args=training_args,                  # training arguments, defined above\n",
        "    train_dataset = train_dataset,         # training dataset\n",
        "    eval_dataset = test_dataset             # evaluation dataset\n",
        ")"
      ],
      "execution_count": null,
      "outputs": []
    },
    {
      "cell_type": "code",
      "metadata": {
        "id": "6KSI8xCWUKpZ",
        "colab": {
          "base_uri": "https://localhost:8080/",
          "height": 35
        },
        "outputId": "f3d832f5-8760-4d38-c005-f0458e58b8f9"
      },
      "source": [
        "device = torch.device(\"cuda\" if torch.cuda.is_available() else \"cpu\")\n",
        "n_gpu = torch.cuda.device_count()\n",
        "torch.cuda.get_device_name(0)"
      ],
      "execution_count": null,
      "outputs": [
        {
          "output_type": "execute_result",
          "data": {
            "application/vnd.google.colaboratory.intrinsic+json": {
              "type": "string"
            },
            "text/plain": [
              "'Tesla P100-PCIE-16GB'"
            ]
          },
          "metadata": {
            "tags": []
          },
          "execution_count": 33
        }
      ]
    },
    {
      "cell_type": "code",
      "metadata": {
        "id": "jPGRQKOEfMHX"
      },
      "source": [
        "model.to(device);"
      ],
      "execution_count": null,
      "outputs": []
    },
    {
      "cell_type": "code",
      "metadata": {
        "id": "lAhRPVdWQeAJ",
        "colab": {
          "base_uri": "https://localhost:8080/",
          "height": 182
        },
        "outputId": "9e7a541a-2140-422b-cfd1-c97cd24e3c63"
      },
      "source": [
        "from datetime import datetime\n",
        "\n",
        "start = datetime.now()\n",
        "\n",
        "trainer.train()\n",
        "\n",
        "print('Time to train:', datetime.now() - start)"
      ],
      "execution_count": null,
      "outputs": [
        {
          "output_type": "display_data",
          "data": {
            "text/html": [
              "\n",
              "    <div>\n",
              "        <style>\n",
              "            /* Turns off some styling */\n",
              "            progress {\n",
              "                /* gets rid of default border in Firefox and Opera. */\n",
              "                border: none;\n",
              "                /* Needs to be in here for Safari polyfill so background images work as expected. */\n",
              "                background-size: auto;\n",
              "            }\n",
              "        </style>\n",
              "      \n",
              "      <progress value='1833' max='1833' style='width:300px; height:20px; vertical-align: middle;'></progress>\n",
              "      [1833/1833 15:43, Epoch 3/3]\n",
              "    </div>\n",
              "    <table border=\"1\" class=\"dataframe\">\n",
              "  <thead>\n",
              "    <tr style=\"text-align: left;\">\n",
              "      <th>Epoch</th>\n",
              "      <th>Training Loss</th>\n",
              "      <th>Validation Loss</th>\n",
              "    </tr>\n",
              "  </thead>\n",
              "  <tbody>\n",
              "    <tr>\n",
              "      <td>1</td>\n",
              "      <td>0.257758</td>\n",
              "      <td>0.285916</td>\n",
              "    </tr>\n",
              "    <tr>\n",
              "      <td>2</td>\n",
              "      <td>0.220679</td>\n",
              "      <td>0.252612</td>\n",
              "    </tr>\n",
              "    <tr>\n",
              "      <td>3</td>\n",
              "      <td>0.127478</td>\n",
              "      <td>0.241965</td>\n",
              "    </tr>\n",
              "  </tbody>\n",
              "</table><p>"
            ],
            "text/plain": [
              "<IPython.core.display.HTML object>"
            ]
          },
          "metadata": {
            "tags": []
          }
        },
        {
          "output_type": "stream",
          "text": [
            "Time to train: 0:15:44.144982\n"
          ],
          "name": "stdout"
        }
      ]
    },
    {
      "cell_type": "code",
      "metadata": {
        "id": "9mh1M0DQQeAO"
      },
      "source": [
        "#trainer.save_model(model_dir + 'mitmovie_pt_bert_uncased/model')\n",
        "#model.save_pretrained(model_dir + 'mitmovie_pt_bert_uncased/model')"
      ],
      "execution_count": null,
      "outputs": []
    },
    {
      "cell_type": "markdown",
      "metadata": {
        "id": "OLSmNtCEQeAU"
      },
      "source": [
        "### Interpret Predictions\n",
        "\n",
        "Guidance for how to do interpretability with NER was taken from: \n",
        "https://www.depends-on-the-definition.com/interpretable-named-entity-recognition/\n"
      ]
    },
    {
      "cell_type": "code",
      "metadata": {
        "id": "e_jl59LhQeAU"
      },
      "source": [
        "# from transformers import BertForTokenClassification\n",
        "# import torch\n",
        "\n",
        "# # retreive the saved model \n",
        "# model = BertForTokenClassification.from_pretrained(model_dir + 'mitmovie_pt_bert_uncased/model', num_labels=len(uniq_labels))"
      ],
      "execution_count": null,
      "outputs": []
    },
    {
      "cell_type": "code",
      "metadata": {
        "id": "1FIQ64SQu6Dq"
      },
      "source": [
        "# from transformers import BertTokenizerFast\n",
        "\n",
        "# tokenizer = BertTokenizerFast.from_pretrained('bert-large-uncased')"
      ],
      "execution_count": null,
      "outputs": []
    },
    {
      "cell_type": "code",
      "metadata": {
        "id": "Bi4AucVdLfFG"
      },
      "source": [
        "!pip install eli5\n",
        "!pip install lime\n",
        "from eli5.lime import TextExplainer\n",
        "from eli5.lime.samplers import MaskingTextSampler"
      ],
      "execution_count": null,
      "outputs": []
    },
    {
      "cell_type": "code",
      "metadata": {
        "id": "J8IholA-F2Ny"
      },
      "source": [
        "model.to('cpu'); # push model to cpu"
      ],
      "execution_count": null,
      "outputs": []
    },
    {
      "cell_type": "code",
      "metadata": {
        "id": "BNx95MA3PmX0"
      },
      "source": [
        "id_to_label = {id: label for (label,id) in label_encoding.items()}"
      ],
      "execution_count": null,
      "outputs": []
    },
    {
      "cell_type": "markdown",
      "metadata": {
        "id": "4xboVq7gIYrC"
      },
      "source": [
        "The function below will yield probabilities for a specific word in the sentence you want to interpret."
      ]
    },
    {
      "cell_type": "code",
      "metadata": {
        "id": "cumywR30_OiG"
      },
      "source": [
        "def make_prediction(texts):\n",
        "\n",
        "  # if type(text) == str:\n",
        "  #   text = text\n",
        "  # if type(text) == tuple:\n",
        "  #   text = text[0]\n",
        "\n",
        "  texts = [text.split() for text in texts]\n",
        "\n",
        "  encodings = tokenizer(texts,  # [text.split()]\n",
        "            is_split_into_words=True, \n",
        "            return_offsets_mapping=False, \n",
        "            padding=True, \n",
        "            truncation=True)\n",
        "  \n",
        "  with torch.no_grad():\n",
        "      output = model( torch.tensor(encodings['input_ids']) )\n",
        "\n",
        "  preds = output[0]  \n",
        "  preds = torch.softmax(preds, dim = -1) # get probabilities\n",
        "\n",
        "  return preds[:,word_to_check,:].numpy() # return probs only for the word you want"
      ],
      "execution_count": null,
      "outputs": []
    },
    {
      "cell_type": "markdown",
      "metadata": {
        "id": "n8LViLjOCXKt"
      },
      "source": [
        "Assign the sentence and the word to inspect\n"
      ]
    },
    {
      "cell_type": "code",
      "metadata": {
        "id": "BmTXEl79Br8T",
        "colab": {
          "base_uri": "https://localhost:8080/",
          "height": 35
        },
        "outputId": "1685f995-2b72-4244-8d3c-b9fd400104a7"
      },
      "source": [
        "sentence =  ' '.join( dataset['train_tokens'][6] ) # assign by index value [#]\n",
        "sentence"
      ],
      "execution_count": null,
      "outputs": [
        {
          "output_type": "execute_result",
          "data": {
            "application/vnd.google.colaboratory.intrinsic+json": {
              "type": "string"
            },
            "text/plain": [
              "'show me science fiction films directed by steven spielberg'"
            ]
          },
          "metadata": {
            "tags": []
          },
          "execution_count": 154
        }
      ]
    },
    {
      "cell_type": "markdown",
      "metadata": {
        "id": "-rq5FcSVCnp9"
      },
      "source": [
        "Figure out which index the word you want to predict is in. Some tokens get split into subwords making more tokens than original. Also, tokenizer will add a [CLS] at beginning and a [SEP] token at end of every sentence."
      ]
    },
    {
      "cell_type": "code",
      "metadata": {
        "id": "GLTCnid8CnBm",
        "colab": {
          "base_uri": "https://localhost:8080/"
        },
        "outputId": "2a69f8ae-0217-48f8-b2a2-2d7cec523ca6"
      },
      "source": [
        "# encode the sentence\n",
        "encodings = tokenizer([sentence.split()],  # [text.split()]\n",
        "            is_split_into_words=True, \n",
        "            return_offsets_mapping=False, \n",
        "            padding=True, \n",
        "            truncation=True)\n",
        "\n",
        "# get tokenized version\n",
        "tokes = tokenizer.convert_ids_to_tokens(encodings['input_ids'][0])\n",
        "\n",
        "# get predictions\n",
        "with torch.no_grad():\n",
        "    output = model(torch.tensor(encodings['input_ids']))\n",
        "\n",
        "# convert predictions to classes\n",
        "label_indices = np.argmax(output[0].to('cpu').numpy(), axis=2)\n",
        "predicted = [id_to_label[label] for label in label_indices.tolist()[0]]\n",
        "\n",
        "# print the index, token, class                                        \n",
        "for i,t in enumerate(zip(tokes, predicted)) :\n",
        "  print(i, t[0], t[1])"
      ],
      "execution_count": null,
      "outputs": [
        {
          "output_type": "stream",
          "text": [
            "0 [CLS] O\n",
            "1 show O\n",
            "2 me O\n",
            "3 science B-GENRE\n",
            "4 fiction I-GENRE\n",
            "5 films O\n",
            "6 directed O\n",
            "7 by O\n",
            "8 steven B-DIRECTOR\n",
            "9 spielberg I-DIRECTOR\n",
            "10 [SEP] I-DIRECTOR\n"
          ],
          "name": "stdout"
        }
      ]
    },
    {
      "cell_type": "code",
      "metadata": {
        "id": "T0LWXe0JMZEa"
      },
      "source": [
        "# assign the index of the token you want to inspect\n",
        "word_to_check = 4 "
      ],
      "execution_count": null,
      "outputs": []
    },
    {
      "cell_type": "code",
      "metadata": {
        "id": "SZv98udo3GMS",
        "colab": {
          "base_uri": "https://localhost:8080/",
          "height": 35
        },
        "outputId": "ec677524-f6f2-4230-be02-2c34849e7fb2"
      },
      "source": [
        "# checking output of instance to make sure we get back a prediction\n",
        "id_to_label[np.argmax(make_prediction([sentence]), -1)[0]]"
      ],
      "execution_count": null,
      "outputs": [
        {
          "output_type": "execute_result",
          "data": {
            "application/vnd.google.colaboratory.intrinsic+json": {
              "type": "string"
            },
            "text/plain": [
              "'I-GENRE'"
            ]
          },
          "metadata": {
            "tags": []
          },
          "execution_count": 163
        }
      ]
    },
    {
      "cell_type": "code",
      "metadata": {
        "id": "A8aCmO9kLXWn"
      },
      "source": [
        "sampler = MaskingTextSampler(\n",
        "    replacement = \"UNK\",\n",
        "    max_replace = 0.7,\n",
        "    bow = False # bag of words means it will test the exclusion of multiple words as well\n",
        ")"
      ],
      "execution_count": null,
      "outputs": []
    },
    {
      "cell_type": "code",
      "metadata": {
        "id": "YAAG0XG8LoJ0",
        "colab": {
          "base_uri": "https://localhost:8080/"
        },
        "outputId": "3c953872-1938-4830-feb6-834266ae7d35"
      },
      "source": [
        "# illustrations of token removal for testing\n",
        "samples, similarity = sampler.sample_near(sentence, n_samples=4)\n",
        "for sample in samples:\n",
        "  print(sample)\n",
        "  print()\n",
        "print('Similarities:', similarity)"
      ],
      "execution_count": null,
      "outputs": [
        {
          "output_type": "stream",
          "text": [
            "show UNK UNK UNK UNK UNK UNK UNK spielberg\n",
            "\n",
            "UNK me UNK UNK films UNK by UNK UNK\n",
            "\n",
            "show me UNK fiction UNK UNK by UNK UNK\n",
            "\n",
            "show me UNK UNK films directed UNK steven spielberg\n",
            "\n",
            "Similarities: [0.47140438 0.57735014 0.66666655 0.81649647]\n"
          ],
          "name": "stdout"
        }
      ]
    },
    {
      "cell_type": "code",
      "metadata": {
        "id": "H0-xqJYVR5Bq",
        "colab": {
          "base_uri": "https://localhost:8080/"
        },
        "outputId": "a19baabb-9ce1-4a4e-b5df-13c07ce69c4a"
      },
      "source": [
        "text_explainer = TextExplainer(\n",
        "    sampler=sampler,\n",
        "    position_dependent = True,\n",
        "    random_state = 35\n",
        ")\n",
        "\n",
        "text_explainer.fit(sentence, make_prediction)"
      ],
      "execution_count": null,
      "outputs": [
        {
          "output_type": "stream",
          "text": [
            "/usr/local/lib/python3.6/dist-packages/sklearn/base.py:197: FutureWarning: From version 0.24, get_params will raise an AttributeError if a parameter cannot be retrieved as an instance attribute. Previously it would return None.\n",
            "  FutureWarning)\n"
          ],
          "name": "stderr"
        },
        {
          "output_type": "execute_result",
          "data": {
            "text/plain": [
              "TextExplainer(char_based=False,\n",
              "              clf=SGDClassifier(alpha=0.001, average=False, class_weight=None,\n",
              "                                early_stopping=False, epsilon=0.1, eta0=0.0,\n",
              "                                fit_intercept=True, l1_ratio=0.15,\n",
              "                                learning_rate='optimal', loss='log',\n",
              "                                max_iter=1000, n_iter_no_change=5, n_jobs=None,\n",
              "                                penalty='elasticnet', power_t=0.5,\n",
              "                                random_state=RandomState(MT19937) at 0x7F7FE87DC678,\n",
              "                                shuffle=True, tol=0.001,\n",
              "                                validation_fraction=0.1, verbose=0,\n",
              "                                warm_start=False),\n",
              "              expand_factor=10, n_samples=5000, position_dependent=True,\n",
              "              random_state=35, rbf_sigma=None,\n",
              "              sampler=MaskingTextSampler(bow=False, group_size=1,\n",
              "                                         max_replace=0.7, min_replace=1,\n",
              "                                         random_state=None, replacement='UNK',\n",
              "                                         token_pattern='(?u)\\\\b\\\\w+\\\\b'),\n",
              "              token_pattern='(?u)\\\\b\\\\w+\\\\b', vec=None)"
            ]
          },
          "metadata": {
            "tags": []
          },
          "execution_count": 160
        }
      ]
    },
    {
      "cell_type": "code",
      "metadata": {
        "id": "L1R0quF9vXHY",
        "colab": {
          "base_uri": "https://localhost:8080/",
          "height": 468
        },
        "outputId": "56489a9f-e71c-4cfc-f1a2-833b873a8343"
      },
      "source": [
        "text_explainer.explain_prediction(\n",
        "    target_names=list(label_encoding.keys()),\n",
        "    top_targets=3 # will give you result for the 3 most probable\n",
        ")"
      ],
      "execution_count": null,
      "outputs": [
        {
          "output_type": "execute_result",
          "data": {
            "text/html": [
              "\n",
              "    <style>\n",
              "    table.eli5-weights tr:hover {\n",
              "        filter: brightness(85%);\n",
              "    }\n",
              "</style>\n",
              "\n",
              "\n",
              "\n",
              "    \n",
              "\n",
              "    \n",
              "\n",
              "    \n",
              "\n",
              "    \n",
              "\n",
              "    \n",
              "\n",
              "    \n",
              "\n",
              "\n",
              "    \n",
              "\n",
              "    \n",
              "\n",
              "    \n",
              "\n",
              "    \n",
              "        \n",
              "\n",
              "    \n",
              "\n",
              "    \n",
              "        \n",
              "    \n",
              "        \n",
              "        \n",
              "    \n",
              "        <p style=\"margin-bottom: 0.5em; margin-top: 0em\">\n",
              "            <b>\n",
              "    \n",
              "        y=I-GENRE\n",
              "    \n",
              "</b>\n",
              "\n",
              "    \n",
              "    (probability <b>0.569</b>, score <b>1.804</b>)\n",
              "\n",
              "top features\n",
              "        </p>\n",
              "    \n",
              "    <table class=\"eli5-weights\"\n",
              "           style=\"border-collapse: collapse; border: none; margin-top: 0em; table-layout: auto; margin-bottom: 2em;\">\n",
              "        <thead>\n",
              "        <tr style=\"border: none;\">\n",
              "            \n",
              "                <th style=\"padding: 0 1em 0 0.5em; text-align: right; border: none;\" title=\"Feature contribution already accounts for the feature value (for linear models, contribution = weight * feature value), and the sum of feature contributions is equal to the score or, for some classifiers, to the probability. Feature values are shown if &quot;show_feature_values&quot; is True.\">\n",
              "                    Contribution<sup>?</sup>\n",
              "                </th>\n",
              "            \n",
              "            <th style=\"padding: 0 0.5em 0 0.5em; text-align: left; border: none;\">Feature</th>\n",
              "            \n",
              "        </tr>\n",
              "        </thead>\n",
              "        <tbody>\n",
              "        \n",
              "            <tr style=\"background-color: hsl(120, 100.00%, 80.00%); border: none;\">\n",
              "    <td style=\"padding: 0 1em 0 0.5em; text-align: right; border: none;\">\n",
              "        +16.317\n",
              "    </td>\n",
              "    <td style=\"padding: 0 0.5em 0 0.5em; text-align: left; border: none;\">\n",
              "        Highlighted in text (sum)\n",
              "    </td>\n",
              "    \n",
              "</tr>\n",
              "        \n",
              "        \n",
              "\n",
              "        \n",
              "        \n",
              "            <tr style=\"background-color: hsl(0, 100.00%, 81.57%); border: none;\">\n",
              "    <td style=\"padding: 0 1em 0 0.5em; text-align: right; border: none;\">\n",
              "        -14.514\n",
              "    </td>\n",
              "    <td style=\"padding: 0 0.5em 0 0.5em; text-align: left; border: none;\">\n",
              "        &lt;BIAS&gt;\n",
              "    </td>\n",
              "    \n",
              "</tr>\n",
              "        \n",
              "\n",
              "        </tbody>\n",
              "    </table>\n",
              "\n",
              "    \n",
              "\n",
              "\n",
              "\n",
              "    <p style=\"margin-bottom: 2.5em; margin-top:-0.5em;\">\n",
              "        <span style=\"background-color: hsl(120, 100.00%, 61.20%); opacity: 0.99\" title=\"4.277\">show</span><span style=\"opacity: 0.80\"> </span><span style=\"background-color: hsl(120, 100.00%, 60.00%); opacity: 1.00\" title=\"4.467\">me</span><span style=\"opacity: 0.80\"> </span><span style=\"background-color: hsl(120, 100.00%, 64.20%); opacity: 0.97\" title=\"3.813\">science</span><span style=\"opacity: 0.80\"> </span><span style=\"background-color: hsl(120, 100.00%, 64.57%); opacity: 0.97\" title=\"3.756\">fiction</span><span style=\"opacity: 0.80\"> </span><span style=\"background-color: hsl(120, 100.00%, 97.85%); opacity: 0.80\" title=\"0.068\">films</span><span style=\"opacity: 0.80\"> </span><span style=\"background-color: hsl(0, 100.00%, 97.50%); opacity: 0.80\" title=\"-0.085\">directed</span><span style=\"opacity: 0.80\"> </span><span style=\"background-color: hsl(120, 100.00%, 99.04%); opacity: 0.80\" title=\"0.022\">by</span><span style=\"opacity: 0.80\"> steven spielberg</span>\n",
              "    </p>\n",
              "\n",
              "    \n",
              "        \n",
              "    \n",
              "        \n",
              "        \n",
              "    \n",
              "        <p style=\"margin-bottom: 0.5em; margin-top: 0em\">\n",
              "            <b>\n",
              "    \n",
              "        y=B-GENRE\n",
              "    \n",
              "</b>\n",
              "\n",
              "    \n",
              "    (probability <b>0.266</b>, score <b>-0.402</b>)\n",
              "\n",
              "top features\n",
              "        </p>\n",
              "    \n",
              "    <table class=\"eli5-weights\"\n",
              "           style=\"border-collapse: collapse; border: none; margin-top: 0em; table-layout: auto; margin-bottom: 2em;\">\n",
              "        <thead>\n",
              "        <tr style=\"border: none;\">\n",
              "            \n",
              "                <th style=\"padding: 0 1em 0 0.5em; text-align: right; border: none;\" title=\"Feature contribution already accounts for the feature value (for linear models, contribution = weight * feature value), and the sum of feature contributions is equal to the score or, for some classifiers, to the probability. Feature values are shown if &quot;show_feature_values&quot; is True.\">\n",
              "                    Contribution<sup>?</sup>\n",
              "                </th>\n",
              "            \n",
              "            <th style=\"padding: 0 0.5em 0 0.5em; text-align: left; border: none;\">Feature</th>\n",
              "            \n",
              "        </tr>\n",
              "        </thead>\n",
              "        <tbody>\n",
              "        \n",
              "            <tr style=\"background-color: hsl(120, 100.00%, 90.34%); border: none;\">\n",
              "    <td style=\"padding: 0 1em 0 0.5em; text-align: right; border: none;\">\n",
              "        +5.767\n",
              "    </td>\n",
              "    <td style=\"padding: 0 0.5em 0 0.5em; text-align: left; border: none;\">\n",
              "        Highlighted in text (sum)\n",
              "    </td>\n",
              "    \n",
              "</tr>\n",
              "        \n",
              "        \n",
              "\n",
              "        \n",
              "        \n",
              "            <tr style=\"background-color: hsl(0, 100.00%, 89.88%); border: none;\">\n",
              "    <td style=\"padding: 0 1em 0 0.5em; text-align: right; border: none;\">\n",
              "        -6.168\n",
              "    </td>\n",
              "    <td style=\"padding: 0 0.5em 0 0.5em; text-align: left; border: none;\">\n",
              "        &lt;BIAS&gt;\n",
              "    </td>\n",
              "    \n",
              "</tr>\n",
              "        \n",
              "\n",
              "        </tbody>\n",
              "    </table>\n",
              "\n",
              "    \n",
              "\n",
              "\n",
              "\n",
              "    <p style=\"margin-bottom: 2.5em; margin-top:-0.5em;\">\n",
              "        <span style=\"background-color: hsl(0, 100.00%, 88.39%); opacity: 0.83\" title=\"-0.763\">show</span><span style=\"opacity: 0.80\"> </span><span style=\"background-color: hsl(0, 100.00%, 82.50%); opacity: 0.86\" title=\"-1.371\">me</span><span style=\"opacity: 0.80\"> </span><span style=\"background-color: hsl(120, 100.00%, 66.49%); opacity: 0.96\" title=\"3.469\">science</span><span style=\"opacity: 0.80\"> </span><span style=\"background-color: hsl(120, 100.00%, 73.64%); opacity: 0.91\" title=\"2.462\">fiction</span><span style=\"opacity: 0.80\"> </span><span style=\"background-color: hsl(120, 100.00%, 91.16%); opacity: 0.82\" title=\"0.517\">films</span><span style=\"opacity: 0.80\"> </span><span style=\"background-color: hsl(120, 100.00%, 90.60%); opacity: 0.83\" title=\"0.564\">directed</span><span style=\"opacity: 0.80\"> </span><span style=\"background-color: hsl(120, 100.00%, 93.74%); opacity: 0.81\" title=\"0.316\">by</span><span style=\"opacity: 0.80\"> </span><span style=\"background-color: hsl(120, 100.00%, 94.77%); opacity: 0.81\" title=\"0.244\">steven</span><span style=\"opacity: 0.80\"> </span><span style=\"background-color: hsl(120, 100.00%, 93.56%); opacity: 0.81\" title=\"0.329\">spielberg</span>\n",
              "    </p>\n",
              "\n",
              "    \n",
              "        \n",
              "    \n",
              "        \n",
              "        \n",
              "    \n",
              "        <p style=\"margin-bottom: 0.5em; margin-top: 0em\">\n",
              "            <b>\n",
              "    \n",
              "        y=O\n",
              "    \n",
              "</b>\n",
              "\n",
              "    \n",
              "    (probability <b>0.081</b>, score <b>-1.976</b>)\n",
              "\n",
              "top features\n",
              "        </p>\n",
              "    \n",
              "    <table class=\"eli5-weights\"\n",
              "           style=\"border-collapse: collapse; border: none; margin-top: 0em; table-layout: auto; margin-bottom: 2em;\">\n",
              "        <thead>\n",
              "        <tr style=\"border: none;\">\n",
              "            \n",
              "                <th style=\"padding: 0 1em 0 0.5em; text-align: right; border: none;\" title=\"Feature contribution already accounts for the feature value (for linear models, contribution = weight * feature value), and the sum of feature contributions is equal to the score or, for some classifiers, to the probability. Feature values are shown if &quot;show_feature_values&quot; is True.\">\n",
              "                    Contribution<sup>?</sup>\n",
              "                </th>\n",
              "            \n",
              "            <th style=\"padding: 0 0.5em 0 0.5em; text-align: left; border: none;\">Feature</th>\n",
              "            \n",
              "        </tr>\n",
              "        </thead>\n",
              "        <tbody>\n",
              "        \n",
              "        \n",
              "\n",
              "        \n",
              "        \n",
              "            <tr style=\"background-color: hsl(0, 100.00%, 97.38%); border: none;\">\n",
              "    <td style=\"padding: 0 1em 0 0.5em; text-align: right; border: none;\">\n",
              "        -0.893\n",
              "    </td>\n",
              "    <td style=\"padding: 0 0.5em 0 0.5em; text-align: left; border: none;\">\n",
              "        Highlighted in text (sum)\n",
              "    </td>\n",
              "    \n",
              "</tr>\n",
              "        \n",
              "            <tr style=\"background-color: hsl(0, 100.00%, 97.01%); border: none;\">\n",
              "    <td style=\"padding: 0 1em 0 0.5em; text-align: right; border: none;\">\n",
              "        -1.083\n",
              "    </td>\n",
              "    <td style=\"padding: 0 0.5em 0 0.5em; text-align: left; border: none;\">\n",
              "        &lt;BIAS&gt;\n",
              "    </td>\n",
              "    \n",
              "</tr>\n",
              "        \n",
              "\n",
              "        </tbody>\n",
              "    </table>\n",
              "\n",
              "    \n",
              "\n",
              "\n",
              "\n",
              "    <p style=\"margin-bottom: 2.5em; margin-top:-0.5em;\">\n",
              "        <span style=\"background-color: hsl(0, 100.00%, 86.51%); opacity: 0.84\" title=\"-0.946\">show</span><span style=\"opacity: 0.80\"> </span><span style=\"background-color: hsl(0, 100.00%, 97.29%); opacity: 0.80\" title=\"-0.096\">me</span><span style=\"opacity: 0.80\"> </span><span style=\"background-color: hsl(0, 100.00%, 87.92%); opacity: 0.84\" title=\"-0.807\">science</span><span style=\"opacity: 0.80\"> </span><span style=\"background-color: hsl(0, 100.00%, 95.66%); opacity: 0.81\" title=\"-0.187\">fiction</span><span style=\"opacity: 0.80\"> </span><span style=\"background-color: hsl(120, 100.00%, 91.34%); opacity: 0.82\" title=\"0.502\">films</span><span style=\"opacity: 0.80\"> </span><span style=\"background-color: hsl(0, 100.00%, 97.34%); opacity: 0.80\" title=\"-0.093\">directed</span><span style=\"opacity: 0.80\"> </span><span style=\"background-color: hsl(120, 100.00%, 99.77%); opacity: 0.80\" title=\"0.003\">by</span><span style=\"opacity: 0.80\"> </span><span style=\"background-color: hsl(120, 100.00%, 94.21%); opacity: 0.81\" title=\"0.282\">steven</span><span style=\"opacity: 0.80\"> </span><span style=\"background-color: hsl(120, 100.00%, 91.99%); opacity: 0.82\" title=\"0.449\">spielberg</span>\n",
              "    </p>\n",
              "\n",
              "    \n",
              "\n",
              "\n",
              "    \n",
              "\n",
              "    \n",
              "\n",
              "    \n",
              "\n",
              "\n",
              "    \n",
              "\n",
              "    \n",
              "\n",
              "    \n",
              "\n",
              "    \n",
              "\n",
              "    \n",
              "\n",
              "    \n",
              "\n",
              "\n",
              "    \n",
              "\n",
              "    \n",
              "\n",
              "    \n",
              "\n",
              "    \n",
              "\n",
              "    \n",
              "\n",
              "    \n",
              "\n",
              "\n",
              "\n"
            ],
            "text/plain": [
              "Explanation(estimator=\"SGDClassifier(alpha=0.001, average=False, class_weight=None,\\n              early_stopping=False, epsilon=0.1, eta0=0.0, fit_intercept=True,\\n              l1_ratio=0.15, learning_rate='optimal', loss='log', max_iter=1000,\\n              n_iter_no_change=5, n_jobs=None, penalty='elasticnet',\\n              power_t=0.5, random_state=RandomState(MT19937) at 0x7F7FE87DC780,\\n              shuffle=True, tol=0.001, validation_fraction=0.1, verbose=0,\\n              warm_start=False)\", description=None, error=None, method='linear model', is_regression=False, targets=[TargetExplanation(target='I-GENRE', feature_weights=FeatureWeights(pos=[FeatureWeight(feature='[1] me', weight=4.466628009327518, std=None, value=1.0), FeatureWeight(feature='[0] show', weight=4.277139328832432, std=None, value=1.0), FeatureWeight(feature='[2] science', weight=3.8125296594473896, std=None, value=1.0), FeatureWeight(feature='[3] fiction', weight=3.756146119540561, std=None, value=1.0), FeatureWeight(feature='[4] films', weight=0.06843884952954969, std=None, value=1.0), FeatureWeight(feature='[6] by', weight=0.02175256833035516, std=None, value=1.0)], neg=[FeatureWeight(feature='<BIAS>', weight=-14.513802360900472, std=None, value=1.0), FeatureWeight(feature='[5] directed', weight=-0.08531325933340446, std=None, value=1.0)], pos_remaining=0, neg_remaining=0), proba=0.5686191685854517, score=1.80351891477393, weighted_spans=WeightedSpans(docs_weighted_spans=[DocWeightedSpans(document='show me science fiction films directed by steven spielberg', spans=[('show', [(0, 4)], 4.277139328832432), ('me', [(5, 7)], 4.466628009327518), ('science', [(8, 15)], 3.8125296594473896), ('fiction', [(16, 23)], 3.756146119540561), ('films', [(24, 29)], 0.06843884952954969), ('directed', [(30, 38)], -0.08531325933340446), ('by', [(39, 41)], 0.02175256833035516)], preserve_density=False, vec_name=None)], other=FeatureWeights(pos=[FeatureWeight(feature=<FormattedFeatureName 'Highlighted in text (sum)'>, weight=16.317321275674402, std=None, value=None)], neg=[FeatureWeight(feature='<BIAS>', weight=-14.513802360900472, std=None, value=1.0)], pos_remaining=0, neg_remaining=0)), heatmap=None), TargetExplanation(target='B-GENRE', feature_weights=FeatureWeights(pos=[FeatureWeight(feature='[2] science', weight=3.4691134123325673, std=None, value=1.0), FeatureWeight(feature='[3] fiction', weight=2.461717441372714, std=None, value=1.0), FeatureWeight(feature='[5] directed', weight=0.5639145117118358, std=None, value=1.0), FeatureWeight(feature='[4] films', weight=0.5168870479333563, std=None, value=1.0), FeatureWeight(feature='[8] spielberg', weight=0.3290086566021752, std=None, value=1.0), FeatureWeight(feature='[6] by', weight=0.31557493992659524, std=None, value=1.0), FeatureWeight(feature='[7] steven', weight=0.24446416870208648, std=None, value=1.0)], neg=[FeatureWeight(feature='<BIAS>', weight=-6.168066793589745, std=None, value=1.0), FeatureWeight(feature='[1] me', weight=-1.3711706646050992, std=None, value=1.0), FeatureWeight(feature='[0] show', weight=-0.7629604530386646, std=None, value=1.0)], pos_remaining=0, neg_remaining=0), proba=0.26554011867855887, score=-0.40151773265217816, weighted_spans=WeightedSpans(docs_weighted_spans=[DocWeightedSpans(document='show me science fiction films directed by steven spielberg', spans=[('show', [(0, 4)], -0.7629604530386646), ('me', [(5, 7)], -1.3711706646050992), ('science', [(8, 15)], 3.4691134123325673), ('fiction', [(16, 23)], 2.461717441372714), ('films', [(24, 29)], 0.5168870479333563), ('directed', [(30, 38)], 0.5639145117118358), ('by', [(39, 41)], 0.31557493992659524), ('steven', [(42, 48)], 0.24446416870208648), ('spielberg', [(49, 58)], 0.3290086566021752)], preserve_density=False, vec_name=None)], other=FeatureWeights(pos=[FeatureWeight(feature=<FormattedFeatureName 'Highlighted in text (sum)'>, weight=5.766549060937567, std=None, value=None)], neg=[FeatureWeight(feature='<BIAS>', weight=-6.168066793589745, std=None, value=1.0)], pos_remaining=0, neg_remaining=0)), heatmap=None), TargetExplanation(target='O', feature_weights=FeatureWeights(pos=[FeatureWeight(feature='[4] films', weight=0.5018294980713924, std=None, value=1.0), FeatureWeight(feature='[8] spielberg', weight=0.4487424336352876, std=None, value=1.0), FeatureWeight(feature='[7] steven', weight=0.28218192955435745, std=None, value=1.0), FeatureWeight(feature='[6] by', weight=0.0028340174936173773, std=None, value=1.0)], neg=[FeatureWeight(feature='<BIAS>', weight=-1.08287518899073, std=None, value=1.0), FeatureWeight(feature='[0] show', weight=-0.9455810784871139, std=None, value=1.0), FeatureWeight(feature='[2] science', weight=-0.807460270185608, std=None, value=1.0), FeatureWeight(feature='[3] fiction', weight=-0.18702334146035152, std=None, value=1.0), FeatureWeight(feature='[1] me', weight=-0.095605945444661, std=None, value=1.0), FeatureWeight(feature='[5] directed', weight=-0.09299277415869597, std=None, value=1.0)], pos_remaining=0, neg_remaining=0), proba=0.08063349133616764, score=-1.9759507199725057, weighted_spans=WeightedSpans(docs_weighted_spans=[DocWeightedSpans(document='show me science fiction films directed by steven spielberg', spans=[('show', [(0, 4)], -0.9455810784871139), ('me', [(5, 7)], -0.095605945444661), ('science', [(8, 15)], -0.807460270185608), ('fiction', [(16, 23)], -0.18702334146035152), ('films', [(24, 29)], 0.5018294980713924), ('directed', [(30, 38)], -0.09299277415869597), ('by', [(39, 41)], 0.0028340174936173773), ('steven', [(42, 48)], 0.28218192955435745), ('spielberg', [(49, 58)], 0.4487424336352876)], preserve_density=False, vec_name=None)], other=FeatureWeights(pos=[], neg=[FeatureWeight(feature='<BIAS>', weight=-1.08287518899073, std=None, value=1.0), FeatureWeight(feature=<FormattedFeatureName 'Highlighted in text (sum)'>, weight=-0.8930755309817755, std=None, value=None)], pos_remaining=0, neg_remaining=0)), heatmap=None)], feature_importances=None, decision_tree=None, highlight_spaces=None, transition_features=None, image=None)"
            ]
          },
          "metadata": {
            "tags": []
          },
          "execution_count": 161
        }
      ]
    },
    {
      "cell_type": "code",
      "metadata": {
        "id": "CqDl1146wtau"
      },
      "source": [
        "#!pip install git+https://github.com/sofiaherrero/lime-ner"
      ],
      "execution_count": null,
      "outputs": []
    }
  ]
}