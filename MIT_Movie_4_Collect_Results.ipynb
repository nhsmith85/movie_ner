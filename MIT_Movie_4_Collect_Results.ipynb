{
  "nbformat": 4,
  "nbformat_minor": 0,
  "metadata": {
    "colab": {
      "name": "MIT Movie - 4 - Collect Results.ipynb",
      "provenance": [],
      "collapsed_sections": [],
      "toc_visible": true
    },
    "kernelspec": {
      "name": "python3",
      "display_name": "Python 3"
    }
  },
  "cells": [
    {
      "cell_type": "markdown",
      "metadata": {
        "id": "T_mgB-d_lZbA"
      },
      "source": [
        "## MIT Movie Dataset\n"
      ]
    },
    {
      "cell_type": "code",
      "metadata": {
        "id": "_ZEdlOzWhtya",
        "colab": {
          "base_uri": "https://localhost:8080/"
        },
        "outputId": "59bcfad4-5d24-497a-f687-c5771606fa69"
      },
      "source": [
        "import pandas as pd\n",
        "import numpy as np\n",
        "\n",
        "# Run this cell to mount your Google Drive.\n",
        "from google.colab import drive\n",
        "drive.mount('/content/drive')"
      ],
      "execution_count": null,
      "outputs": [
        {
          "output_type": "stream",
          "text": [
            "Mounted at /content/drive\n"
          ],
          "name": "stdout"
        }
      ]
    },
    {
      "cell_type": "code",
      "metadata": {
        "id": "4RruJ5iHldeq"
      },
      "source": [
        "model_dir = '/content/drive/My Drive/Colab Notebooks/DAAN888/models/'\n",
        "data_dir = '/content/drive/My Drive/Colab Notebooks/DAAN888/data/'"
      ],
      "execution_count": null,
      "outputs": []
    },
    {
      "cell_type": "code",
      "metadata": {
        "id": "zqV6VZt4iMcU",
        "colab": {
          "base_uri": "https://localhost:8080/",
          "height": 35
        },
        "outputId": "e908e5b9-e360-426d-e6dc-49348a8d499e"
      },
      "source": [
        "import os\n",
        "\n",
        "os.chdir(model_dir)\n",
        "#s.chdir('/content/drive/My Drive/DAAN888/data')\n",
        "os.getcwd()"
      ],
      "execution_count": null,
      "outputs": [
        {
          "output_type": "execute_result",
          "data": {
            "application/vnd.google.colaboratory.intrinsic+json": {
              "type": "string"
            },
            "text/plain": [
              "'/content/drive/My Drive/Colab Notebooks/DAAN888/models'"
            ]
          },
          "metadata": {
            "tags": []
          },
          "execution_count": 3
        }
      ]
    },
    {
      "cell_type": "markdown",
      "metadata": {
        "id": "AkO11zkHlMZN"
      },
      "source": [
        "## Get Results for each model\n",
        "\n"
      ]
    },
    {
      "cell_type": "code",
      "metadata": {
        "id": "gX6pL-NAlSXP",
        "colab": {
          "base_uri": "https://localhost:8080/"
        },
        "outputId": "0070c90c-2f31-48a1-90b7-fa576d98eb5b"
      },
      "source": [
        "folder_list = os.listdir()\n",
        "folder_list"
      ],
      "execution_count": null,
      "outputs": [
        {
          "output_type": "execute_result",
          "data": {
            "text/plain": [
              "['MITMovie',\n",
              " 'mitmovie_spacy_customembed_drpt30',\n",
              " 'mitmovie_spacy_customembed_imdb_drpt30',\n",
              " 'labels_index.pkl',\n",
              " 'labels_lookup.pkl',\n",
              " 'word_index.pkl',\n",
              " 'mitmovie_spacy_blank_drpt30',\n",
              " 'mitmovie_elmo',\n",
              " 'base_estimator',\n",
              " 'mitmovie_crf',\n",
              " 'mitmovie_pt_bert_uncased',\n",
              " 'mitmovie_pt_roberta_lg',\n",
              " 'mitmovie_xlnet_base_cased',\n",
              " 'mitmovie_bilstm_crf',\n",
              " 'bert_lg_unc_opt',\n",
              " 'explainability',\n",
              " 'intro_to_kt',\n",
              " 'distbert_unc_opt',\n",
              " 'mitmovie_pt_distilbert_base_uncased',\n",
              " 'seq_micro.csv',\n",
              " 'accuracy.csv',\n",
              " 'macro.csv',\n",
              " 'weighted.csv',\n",
              " 'seq_macro.csv']"
            ]
          },
          "metadata": {
            "tags": []
          },
          "execution_count": 4
        }
      ]
    },
    {
      "cell_type": "code",
      "metadata": {
        "id": "TgUNoVV6u4iF"
      },
      "source": [
        "folder_list = [\n",
        " 'mitmovie_spacy_customembed_drpt30',\n",
        " 'mitmovie_spacy_customembed_imdb_drpt30',\n",
        " 'mitmovie_spacy_blank_drpt30',\n",
        " 'mitmovie_elmo',\n",
        " 'mitmovie_bilstm_crf',\n",
        " 'mitmovie_pt_distilbert_base_uncased/model',\n",
        " 'base_estimator',\n",
        " 'mitmovie_crf',\n",
        " 'mitmovie_pt_bert_uncased/model',\n",
        " 'mitmovie_pt_roberta_lg/model']"
      ],
      "execution_count": null,
      "outputs": []
    },
    {
      "cell_type": "code",
      "metadata": {
        "id": "jv-N_ce8xt3e"
      },
      "source": [
        ""
      ],
      "execution_count": null,
      "outputs": []
    },
    {
      "cell_type": "code",
      "metadata": {
        "id": "5-GbI0syvI38"
      },
      "source": [
        "name = 'class_report_test'\n",
        "\n",
        "collector = {}\n",
        "for folder in folder_list:\n",
        "  files = os.listdir(folder)\n",
        "  reports = []\n",
        "  for file in files:\n",
        "    if name in file:\n",
        "        f =  open(folder + '/' + file, 'r') \n",
        "        print('----------------------------------------')\n",
        "        print(folder.upper())\n",
        "        print()\n",
        "        print(f.read())\n",
        "        df = pd.read_fwf(folder + '/' + file, index_col=0)\n",
        "        reports.append(df)\n",
        "  collector[folder] = reports"
      ],
      "execution_count": null,
      "outputs": []
    },
    {
      "cell_type": "code",
      "metadata": {
        "id": "3yvb5aVAzi0g"
      },
      "source": [
        "seq_micro = {}\n",
        "seq_macro = {}\n",
        "weighted = {}\n",
        "macro = {}\n",
        "orig_acc = {}\n",
        "for key in collector.keys():\n",
        "  k = key.replace('mitmovie_', '')\n",
        "  k = k.replace('pt_', '')\n",
        "  k = k.replace('/model', '')\n",
        "  dfs = collector[key]\n",
        "  for df in dfs:\n",
        "    if 'B-ACTOR' in df.index.values:\n",
        "      weighted[k] =  df.loc['weighted avg'].values\n",
        "      macro[k] =  df.loc['macro avg'].values\n",
        "      orig_acc[k] = df.loc['accuracy'].values[2]\n",
        "    if 'B-ACTOR' not in df.index.values:\n",
        "      seq_micro[k] = df.loc['micro avg'].values\n",
        "      seq_macro[k] = df.loc['macro avg'].values\n"
      ],
      "execution_count": null,
      "outputs": []
    },
    {
      "cell_type": "code",
      "metadata": {
        "id": "99ygJSRF1Vwu"
      },
      "source": [
        "weighted = pd.DataFrame.from_dict(data=weighted, orient='index', columns=['precision', 'recall', 'f1-score', 'support'])\n",
        "macro = pd.DataFrame.from_dict(data=macro, orient='index', columns=['precision', 'recall', 'f1-score', 'support'])\n",
        "orig_acc = pd.DataFrame.from_dict(data=orig_acc, orient='index', columns=['accuracy'])\n",
        "\n",
        "seq_micro = pd.DataFrame.from_dict(data=seq_micro, orient='index', columns=['precision', 'recall', 'f1-score', 'support'])\n",
        "seq_macro = pd.DataFrame.from_dict(data=seq_macro, orient='index', columns=['precision', 'recall', 'f1-score', 'support'])"
      ],
      "execution_count": null,
      "outputs": []
    },
    {
      "cell_type": "code",
      "metadata": {
        "id": "veXaP9he47Xk",
        "colab": {
          "base_uri": "https://localhost:8080/",
          "height": 347
        },
        "outputId": "c758537a-5594-47a6-fceb-add736348ea9"
      },
      "source": [
        "orig_acc.sort_values(by='accuracy', ascending=False, inplace=True)\n",
        "orig_acc"
      ],
      "execution_count": null,
      "outputs": [
        {
          "output_type": "execute_result",
          "data": {
            "text/html": [
              "<div>\n",
              "<style scoped>\n",
              "    .dataframe tbody tr th:only-of-type {\n",
              "        vertical-align: middle;\n",
              "    }\n",
              "\n",
              "    .dataframe tbody tr th {\n",
              "        vertical-align: top;\n",
              "    }\n",
              "\n",
              "    .dataframe thead th {\n",
              "        text-align: right;\n",
              "    }\n",
              "</style>\n",
              "<table border=\"1\" class=\"dataframe\">\n",
              "  <thead>\n",
              "    <tr style=\"text-align: right;\">\n",
              "      <th></th>\n",
              "      <th>accuracy</th>\n",
              "    </tr>\n",
              "  </thead>\n",
              "  <tbody>\n",
              "    <tr>\n",
              "      <th>bert_uncased</th>\n",
              "      <td>0.95</td>\n",
              "    </tr>\n",
              "    <tr>\n",
              "      <th>roberta_lg</th>\n",
              "      <td>0.95</td>\n",
              "    </tr>\n",
              "    <tr>\n",
              "      <th>distilbert_base_uncased</th>\n",
              "      <td>0.94</td>\n",
              "    </tr>\n",
              "    <tr>\n",
              "      <th>spacy_customembed_imdb_drpt30</th>\n",
              "      <td>0.93</td>\n",
              "    </tr>\n",
              "    <tr>\n",
              "      <th>elmo</th>\n",
              "      <td>0.93</td>\n",
              "    </tr>\n",
              "    <tr>\n",
              "      <th>spacy_customembed_drpt30</th>\n",
              "      <td>0.92</td>\n",
              "    </tr>\n",
              "    <tr>\n",
              "      <th>spacy_blank_drpt30</th>\n",
              "      <td>0.92</td>\n",
              "    </tr>\n",
              "    <tr>\n",
              "      <th>bilstm_crf</th>\n",
              "      <td>0.92</td>\n",
              "    </tr>\n",
              "    <tr>\n",
              "      <th>crf</th>\n",
              "      <td>0.92</td>\n",
              "    </tr>\n",
              "    <tr>\n",
              "      <th>base_estimator</th>\n",
              "      <td>0.84</td>\n",
              "    </tr>\n",
              "  </tbody>\n",
              "</table>\n",
              "</div>"
            ],
            "text/plain": [
              "                               accuracy\n",
              "bert_uncased                       0.95\n",
              "roberta_lg                         0.95\n",
              "distilbert_base_uncased            0.94\n",
              "spacy_customembed_imdb_drpt30      0.93\n",
              "elmo                               0.93\n",
              "spacy_customembed_drpt30           0.92\n",
              "spacy_blank_drpt30                 0.92\n",
              "bilstm_crf                         0.92\n",
              "crf                                0.92\n",
              "base_estimator                     0.84"
            ]
          },
          "metadata": {
            "tags": []
          },
          "execution_count": 9
        }
      ]
    },
    {
      "cell_type": "code",
      "metadata": {
        "id": "MT4Mq99WOVRm",
        "colab": {
          "base_uri": "https://localhost:8080/",
          "height": 347
        },
        "outputId": "4555277f-7caf-4aec-93d3-a70d0bc14616"
      },
      "source": [
        "weighted.sort_values(by=['f1-score', 'recall', 'precision'], ascending=False, inplace=True)\n",
        "weighted"
      ],
      "execution_count": null,
      "outputs": [
        {
          "output_type": "execute_result",
          "data": {
            "text/html": [
              "<div>\n",
              "<style scoped>\n",
              "    .dataframe tbody tr th:only-of-type {\n",
              "        vertical-align: middle;\n",
              "    }\n",
              "\n",
              "    .dataframe tbody tr th {\n",
              "        vertical-align: top;\n",
              "    }\n",
              "\n",
              "    .dataframe thead th {\n",
              "        text-align: right;\n",
              "    }\n",
              "</style>\n",
              "<table border=\"1\" class=\"dataframe\">\n",
              "  <thead>\n",
              "    <tr style=\"text-align: right;\">\n",
              "      <th></th>\n",
              "      <th>precision</th>\n",
              "      <th>recall</th>\n",
              "      <th>f1-score</th>\n",
              "      <th>support</th>\n",
              "    </tr>\n",
              "  </thead>\n",
              "  <tbody>\n",
              "    <tr>\n",
              "      <th>bert_uncased</th>\n",
              "      <td>0.94</td>\n",
              "      <td>0.95</td>\n",
              "      <td>0.94</td>\n",
              "      <td>24686.0</td>\n",
              "    </tr>\n",
              "    <tr>\n",
              "      <th>roberta_lg</th>\n",
              "      <td>0.94</td>\n",
              "      <td>0.95</td>\n",
              "      <td>0.94</td>\n",
              "      <td>24686.0</td>\n",
              "    </tr>\n",
              "    <tr>\n",
              "      <th>distilbert_base_uncased</th>\n",
              "      <td>0.94</td>\n",
              "      <td>0.94</td>\n",
              "      <td>0.94</td>\n",
              "      <td>24686.0</td>\n",
              "    </tr>\n",
              "    <tr>\n",
              "      <th>spacy_customembed_imdb_drpt30</th>\n",
              "      <td>0.93</td>\n",
              "      <td>0.93</td>\n",
              "      <td>0.93</td>\n",
              "      <td>24686.0</td>\n",
              "    </tr>\n",
              "    <tr>\n",
              "      <th>elmo</th>\n",
              "      <td>0.92</td>\n",
              "      <td>0.93</td>\n",
              "      <td>0.92</td>\n",
              "      <td>24686.0</td>\n",
              "    </tr>\n",
              "    <tr>\n",
              "      <th>spacy_customembed_drpt30</th>\n",
              "      <td>0.92</td>\n",
              "      <td>0.92</td>\n",
              "      <td>0.92</td>\n",
              "      <td>24686.0</td>\n",
              "    </tr>\n",
              "    <tr>\n",
              "      <th>spacy_blank_drpt30</th>\n",
              "      <td>0.92</td>\n",
              "      <td>0.92</td>\n",
              "      <td>0.92</td>\n",
              "      <td>24686.0</td>\n",
              "    </tr>\n",
              "    <tr>\n",
              "      <th>bilstm_crf</th>\n",
              "      <td>0.92</td>\n",
              "      <td>0.92</td>\n",
              "      <td>0.92</td>\n",
              "      <td>24686.0</td>\n",
              "    </tr>\n",
              "    <tr>\n",
              "      <th>crf</th>\n",
              "      <td>0.92</td>\n",
              "      <td>0.92</td>\n",
              "      <td>0.92</td>\n",
              "      <td>24686.0</td>\n",
              "    </tr>\n",
              "    <tr>\n",
              "      <th>base_estimator</th>\n",
              "      <td>0.82</td>\n",
              "      <td>0.84</td>\n",
              "      <td>0.82</td>\n",
              "      <td>24686.0</td>\n",
              "    </tr>\n",
              "  </tbody>\n",
              "</table>\n",
              "</div>"
            ],
            "text/plain": [
              "                               precision  recall  f1-score  support\n",
              "bert_uncased                        0.94    0.95      0.94  24686.0\n",
              "roberta_lg                          0.94    0.95      0.94  24686.0\n",
              "distilbert_base_uncased             0.94    0.94      0.94  24686.0\n",
              "spacy_customembed_imdb_drpt30       0.93    0.93      0.93  24686.0\n",
              "elmo                                0.92    0.93      0.92  24686.0\n",
              "spacy_customembed_drpt30            0.92    0.92      0.92  24686.0\n",
              "spacy_blank_drpt30                  0.92    0.92      0.92  24686.0\n",
              "bilstm_crf                          0.92    0.92      0.92  24686.0\n",
              "crf                                 0.92    0.92      0.92  24686.0\n",
              "base_estimator                      0.82    0.84      0.82  24686.0"
            ]
          },
          "metadata": {
            "tags": []
          },
          "execution_count": 10
        }
      ]
    },
    {
      "cell_type": "code",
      "metadata": {
        "id": "wG-pBTNVOaZ5",
        "colab": {
          "base_uri": "https://localhost:8080/",
          "height": 347
        },
        "outputId": "b5258547-259e-4df6-ec29-ee4abfb11d9d"
      },
      "source": [
        "macro.sort_values(by=['f1-score', 'recall', 'precision'], ascending=False, inplace=True)\n",
        "macro"
      ],
      "execution_count": null,
      "outputs": [
        {
          "output_type": "execute_result",
          "data": {
            "text/html": [
              "<div>\n",
              "<style scoped>\n",
              "    .dataframe tbody tr th:only-of-type {\n",
              "        vertical-align: middle;\n",
              "    }\n",
              "\n",
              "    .dataframe tbody tr th {\n",
              "        vertical-align: top;\n",
              "    }\n",
              "\n",
              "    .dataframe thead th {\n",
              "        text-align: right;\n",
              "    }\n",
              "</style>\n",
              "<table border=\"1\" class=\"dataframe\">\n",
              "  <thead>\n",
              "    <tr style=\"text-align: right;\">\n",
              "      <th></th>\n",
              "      <th>precision</th>\n",
              "      <th>recall</th>\n",
              "      <th>f1-score</th>\n",
              "      <th>support</th>\n",
              "    </tr>\n",
              "  </thead>\n",
              "  <tbody>\n",
              "    <tr>\n",
              "      <th>bert_uncased</th>\n",
              "      <td>0.84</td>\n",
              "      <td>0.79</td>\n",
              "      <td>0.80</td>\n",
              "      <td>24686.0</td>\n",
              "    </tr>\n",
              "    <tr>\n",
              "      <th>roberta_lg</th>\n",
              "      <td>0.81</td>\n",
              "      <td>0.78</td>\n",
              "      <td>0.79</td>\n",
              "      <td>24686.0</td>\n",
              "    </tr>\n",
              "    <tr>\n",
              "      <th>distilbert_base_uncased</th>\n",
              "      <td>0.79</td>\n",
              "      <td>0.76</td>\n",
              "      <td>0.77</td>\n",
              "      <td>24686.0</td>\n",
              "    </tr>\n",
              "    <tr>\n",
              "      <th>spacy_customembed_imdb_drpt30</th>\n",
              "      <td>0.80</td>\n",
              "      <td>0.72</td>\n",
              "      <td>0.74</td>\n",
              "      <td>24686.0</td>\n",
              "    </tr>\n",
              "    <tr>\n",
              "      <th>elmo</th>\n",
              "      <td>0.79</td>\n",
              "      <td>0.71</td>\n",
              "      <td>0.74</td>\n",
              "      <td>24686.0</td>\n",
              "    </tr>\n",
              "    <tr>\n",
              "      <th>crf</th>\n",
              "      <td>0.77</td>\n",
              "      <td>0.71</td>\n",
              "      <td>0.73</td>\n",
              "      <td>24686.0</td>\n",
              "    </tr>\n",
              "    <tr>\n",
              "      <th>spacy_blank_drpt30</th>\n",
              "      <td>0.79</td>\n",
              "      <td>0.70</td>\n",
              "      <td>0.73</td>\n",
              "      <td>24686.0</td>\n",
              "    </tr>\n",
              "    <tr>\n",
              "      <th>spacy_customembed_drpt30</th>\n",
              "      <td>0.76</td>\n",
              "      <td>0.70</td>\n",
              "      <td>0.72</td>\n",
              "      <td>24686.0</td>\n",
              "    </tr>\n",
              "    <tr>\n",
              "      <th>bilstm_crf</th>\n",
              "      <td>0.76</td>\n",
              "      <td>0.70</td>\n",
              "      <td>0.72</td>\n",
              "      <td>24686.0</td>\n",
              "    </tr>\n",
              "    <tr>\n",
              "      <th>base_estimator</th>\n",
              "      <td>0.64</td>\n",
              "      <td>0.50</td>\n",
              "      <td>0.54</td>\n",
              "      <td>24686.0</td>\n",
              "    </tr>\n",
              "  </tbody>\n",
              "</table>\n",
              "</div>"
            ],
            "text/plain": [
              "                               precision  recall  f1-score  support\n",
              "bert_uncased                        0.84    0.79      0.80  24686.0\n",
              "roberta_lg                          0.81    0.78      0.79  24686.0\n",
              "distilbert_base_uncased             0.79    0.76      0.77  24686.0\n",
              "spacy_customembed_imdb_drpt30       0.80    0.72      0.74  24686.0\n",
              "elmo                                0.79    0.71      0.74  24686.0\n",
              "crf                                 0.77    0.71      0.73  24686.0\n",
              "spacy_blank_drpt30                  0.79    0.70      0.73  24686.0\n",
              "spacy_customembed_drpt30            0.76    0.70      0.72  24686.0\n",
              "bilstm_crf                          0.76    0.70      0.72  24686.0\n",
              "base_estimator                      0.64    0.50      0.54  24686.0"
            ]
          },
          "metadata": {
            "tags": []
          },
          "execution_count": 11
        }
      ]
    },
    {
      "cell_type": "code",
      "metadata": {
        "id": "W8M_fTP01VzE",
        "colab": {
          "base_uri": "https://localhost:8080/",
          "height": 347
        },
        "outputId": "779ad3ed-515d-45d9-a0fb-6c98ff22f3dc"
      },
      "source": [
        "seq_micro.sort_values(by=['f1-score', 'recall', 'precision'], ascending=False, inplace=True)\n",
        "seq_micro"
      ],
      "execution_count": null,
      "outputs": [
        {
          "output_type": "execute_result",
          "data": {
            "text/html": [
              "<div>\n",
              "<style scoped>\n",
              "    .dataframe tbody tr th:only-of-type {\n",
              "        vertical-align: middle;\n",
              "    }\n",
              "\n",
              "    .dataframe tbody tr th {\n",
              "        vertical-align: top;\n",
              "    }\n",
              "\n",
              "    .dataframe thead th {\n",
              "        text-align: right;\n",
              "    }\n",
              "</style>\n",
              "<table border=\"1\" class=\"dataframe\">\n",
              "  <thead>\n",
              "    <tr style=\"text-align: right;\">\n",
              "      <th></th>\n",
              "      <th>precision</th>\n",
              "      <th>recall</th>\n",
              "      <th>f1-score</th>\n",
              "      <th>support</th>\n",
              "    </tr>\n",
              "  </thead>\n",
              "  <tbody>\n",
              "    <tr>\n",
              "      <th>roberta_lg</th>\n",
              "      <td>0.88</td>\n",
              "      <td>0.89</td>\n",
              "      <td>0.89</td>\n",
              "      <td>5339.0</td>\n",
              "    </tr>\n",
              "    <tr>\n",
              "      <th>bert_uncased</th>\n",
              "      <td>0.87</td>\n",
              "      <td>0.89</td>\n",
              "      <td>0.88</td>\n",
              "      <td>5339.0</td>\n",
              "    </tr>\n",
              "    <tr>\n",
              "      <th>distilbert_base_uncased</th>\n",
              "      <td>0.87</td>\n",
              "      <td>0.88</td>\n",
              "      <td>0.87</td>\n",
              "      <td>5339.0</td>\n",
              "    </tr>\n",
              "    <tr>\n",
              "      <th>spacy_customembed_imdb_drpt30</th>\n",
              "      <td>0.87</td>\n",
              "      <td>0.86</td>\n",
              "      <td>0.86</td>\n",
              "      <td>5339.0</td>\n",
              "    </tr>\n",
              "    <tr>\n",
              "      <th>spacy_customembed_drpt30</th>\n",
              "      <td>0.87</td>\n",
              "      <td>0.85</td>\n",
              "      <td>0.86</td>\n",
              "      <td>5339.0</td>\n",
              "    </tr>\n",
              "    <tr>\n",
              "      <th>spacy_blank_drpt30</th>\n",
              "      <td>0.86</td>\n",
              "      <td>0.85</td>\n",
              "      <td>0.85</td>\n",
              "      <td>5339.0</td>\n",
              "    </tr>\n",
              "    <tr>\n",
              "      <th>crf</th>\n",
              "      <td>0.86</td>\n",
              "      <td>0.84</td>\n",
              "      <td>0.85</td>\n",
              "      <td>5339.0</td>\n",
              "    </tr>\n",
              "    <tr>\n",
              "      <th>bilstm_crf</th>\n",
              "      <td>0.85</td>\n",
              "      <td>0.84</td>\n",
              "      <td>0.85</td>\n",
              "      <td>5339.0</td>\n",
              "    </tr>\n",
              "    <tr>\n",
              "      <th>elmo</th>\n",
              "      <td>0.81</td>\n",
              "      <td>0.83</td>\n",
              "      <td>0.82</td>\n",
              "      <td>5339.0</td>\n",
              "    </tr>\n",
              "    <tr>\n",
              "      <th>base_estimator</th>\n",
              "      <td>0.53</td>\n",
              "      <td>0.61</td>\n",
              "      <td>0.57</td>\n",
              "      <td>5339.0</td>\n",
              "    </tr>\n",
              "  </tbody>\n",
              "</table>\n",
              "</div>"
            ],
            "text/plain": [
              "                               precision  recall  f1-score  support\n",
              "roberta_lg                          0.88    0.89      0.89   5339.0\n",
              "bert_uncased                        0.87    0.89      0.88   5339.0\n",
              "distilbert_base_uncased             0.87    0.88      0.87   5339.0\n",
              "spacy_customembed_imdb_drpt30       0.87    0.86      0.86   5339.0\n",
              "spacy_customembed_drpt30            0.87    0.85      0.86   5339.0\n",
              "spacy_blank_drpt30                  0.86    0.85      0.85   5339.0\n",
              "crf                                 0.86    0.84      0.85   5339.0\n",
              "bilstm_crf                          0.85    0.84      0.85   5339.0\n",
              "elmo                                0.81    0.83      0.82   5339.0\n",
              "base_estimator                      0.53    0.61      0.57   5339.0"
            ]
          },
          "metadata": {
            "tags": []
          },
          "execution_count": 12
        }
      ]
    },
    {
      "cell_type": "code",
      "metadata": {
        "id": "pNFBn82l1V1M",
        "colab": {
          "base_uri": "https://localhost:8080/",
          "height": 347
        },
        "outputId": "fb430e9c-2c11-41f9-f9fc-424cdc45d773"
      },
      "source": [
        "seq_macro.sort_values(by=['f1-score', 'recall', 'precision'], ascending=False, inplace=True)\n",
        "seq_macro"
      ],
      "execution_count": null,
      "outputs": [
        {
          "output_type": "execute_result",
          "data": {
            "text/html": [
              "<div>\n",
              "<style scoped>\n",
              "    .dataframe tbody tr th:only-of-type {\n",
              "        vertical-align: middle;\n",
              "    }\n",
              "\n",
              "    .dataframe tbody tr th {\n",
              "        vertical-align: top;\n",
              "    }\n",
              "\n",
              "    .dataframe thead th {\n",
              "        text-align: right;\n",
              "    }\n",
              "</style>\n",
              "<table border=\"1\" class=\"dataframe\">\n",
              "  <thead>\n",
              "    <tr style=\"text-align: right;\">\n",
              "      <th></th>\n",
              "      <th>precision</th>\n",
              "      <th>recall</th>\n",
              "      <th>f1-score</th>\n",
              "      <th>support</th>\n",
              "    </tr>\n",
              "  </thead>\n",
              "  <tbody>\n",
              "    <tr>\n",
              "      <th>bert_uncased</th>\n",
              "      <td>0.79</td>\n",
              "      <td>0.82</td>\n",
              "      <td>0.80</td>\n",
              "      <td>5339.0</td>\n",
              "    </tr>\n",
              "    <tr>\n",
              "      <th>roberta_lg</th>\n",
              "      <td>0.78</td>\n",
              "      <td>0.79</td>\n",
              "      <td>0.79</td>\n",
              "      <td>5339.0</td>\n",
              "    </tr>\n",
              "    <tr>\n",
              "      <th>distilbert_base_uncased</th>\n",
              "      <td>0.76</td>\n",
              "      <td>0.77</td>\n",
              "      <td>0.76</td>\n",
              "      <td>5339.0</td>\n",
              "    </tr>\n",
              "    <tr>\n",
              "      <th>spacy_customembed_imdb_drpt30</th>\n",
              "      <td>0.77</td>\n",
              "      <td>0.74</td>\n",
              "      <td>0.75</td>\n",
              "      <td>5339.0</td>\n",
              "    </tr>\n",
              "    <tr>\n",
              "      <th>crf</th>\n",
              "      <td>0.77</td>\n",
              "      <td>0.72</td>\n",
              "      <td>0.74</td>\n",
              "      <td>5339.0</td>\n",
              "    </tr>\n",
              "    <tr>\n",
              "      <th>spacy_blank_drpt30</th>\n",
              "      <td>0.78</td>\n",
              "      <td>0.71</td>\n",
              "      <td>0.73</td>\n",
              "      <td>5339.0</td>\n",
              "    </tr>\n",
              "    <tr>\n",
              "      <th>spacy_customembed_drpt30</th>\n",
              "      <td>0.75</td>\n",
              "      <td>0.71</td>\n",
              "      <td>0.72</td>\n",
              "      <td>5339.0</td>\n",
              "    </tr>\n",
              "    <tr>\n",
              "      <th>bilstm_crf</th>\n",
              "      <td>0.75</td>\n",
              "      <td>0.70</td>\n",
              "      <td>0.72</td>\n",
              "      <td>5339.0</td>\n",
              "    </tr>\n",
              "    <tr>\n",
              "      <th>elmo</th>\n",
              "      <td>0.71</td>\n",
              "      <td>0.70</td>\n",
              "      <td>0.70</td>\n",
              "      <td>5339.0</td>\n",
              "    </tr>\n",
              "    <tr>\n",
              "      <th>base_estimator</th>\n",
              "      <td>0.45</td>\n",
              "      <td>0.48</td>\n",
              "      <td>0.45</td>\n",
              "      <td>5339.0</td>\n",
              "    </tr>\n",
              "  </tbody>\n",
              "</table>\n",
              "</div>"
            ],
            "text/plain": [
              "                               precision  recall  f1-score  support\n",
              "bert_uncased                        0.79    0.82      0.80   5339.0\n",
              "roberta_lg                          0.78    0.79      0.79   5339.0\n",
              "distilbert_base_uncased             0.76    0.77      0.76   5339.0\n",
              "spacy_customembed_imdb_drpt30       0.77    0.74      0.75   5339.0\n",
              "crf                                 0.77    0.72      0.74   5339.0\n",
              "spacy_blank_drpt30                  0.78    0.71      0.73   5339.0\n",
              "spacy_customembed_drpt30            0.75    0.71      0.72   5339.0\n",
              "bilstm_crf                          0.75    0.70      0.72   5339.0\n",
              "elmo                                0.71    0.70      0.70   5339.0\n",
              "base_estimator                      0.45    0.48      0.45   5339.0"
            ]
          },
          "metadata": {
            "tags": []
          },
          "execution_count": 13
        }
      ]
    },
    {
      "cell_type": "code",
      "metadata": {
        "id": "LL3tUNFXOd34"
      },
      "source": [
        "weighted.to_csv('weighted.csv')\n",
        "macro.to_csv('macro.csv')\n",
        "orig_acc.to_csv('accuracy.csv')\n",
        "\n",
        "seq_micro.to_csv('seq_micro.csv')\n",
        "seq_macro.to_csv('seq_macro.csv')\n",
        "\n"
      ],
      "execution_count": null,
      "outputs": []
    },
    {
      "cell_type": "code",
      "metadata": {
        "id": "ugLWkbad1V6G"
      },
      "source": [
        "import matplotlib.pyplot as plt"
      ],
      "execution_count": null,
      "outputs": []
    },
    {
      "cell_type": "code",
      "metadata": {
        "id": "w6qEgMy8-e0n"
      },
      "source": [
        "new_names= ['BERT Lg Uncased',\n",
        "'RoBERTa Lg Cased',\n",
        "'DistilBERT Base Uncased',\n",
        "'Spacy w IMDB Embed',\n",
        "'ELMO embeddings BiLSTM',\n",
        "'Spacy w Movie Embed',\n",
        "'Spacy Blank',\n",
        "'BiLSTM + CRF',\n",
        "'CRF',\n",
        "'Baseline Estimator']\n",
        "\n",
        "orig_names = ['bert_uncased',\n",
        "'roberta_lg',\n",
        "'distilbert_base_uncased',\n",
        "'spacy_customembed_imdb_drpt30',\n",
        "'elmo',\n",
        "'spacy_customembed_drpt30',\n",
        "'spacy_blank_drpt30',\n",
        "'bilstm_crf',\n",
        "'crf',\n",
        "'base_estimator']"
      ],
      "execution_count": null,
      "outputs": []
    },
    {
      "cell_type": "code",
      "metadata": {
        "id": "5_5TcM_uWQLG"
      },
      "source": [
        "macro.index = macro.index.map(dict(zip(orig_names, new_names)))"
      ],
      "execution_count": null,
      "outputs": []
    },
    {
      "cell_type": "code",
      "metadata": {
        "id": "ll_nIocUXFnH",
        "colab": {
          "base_uri": "https://localhost:8080/",
          "height": 347
        },
        "outputId": "7863653a-e8e6-4a72-bcac-eecb51bd7a8f"
      },
      "source": [
        "macro.sort_values(by=['f1-score', 'recall', 'precision'], ascending=True, inplace=True)\n",
        "macro"
      ],
      "execution_count": null,
      "outputs": [
        {
          "output_type": "execute_result",
          "data": {
            "text/html": [
              "<div>\n",
              "<style scoped>\n",
              "    .dataframe tbody tr th:only-of-type {\n",
              "        vertical-align: middle;\n",
              "    }\n",
              "\n",
              "    .dataframe tbody tr th {\n",
              "        vertical-align: top;\n",
              "    }\n",
              "\n",
              "    .dataframe thead th {\n",
              "        text-align: right;\n",
              "    }\n",
              "</style>\n",
              "<table border=\"1\" class=\"dataframe\">\n",
              "  <thead>\n",
              "    <tr style=\"text-align: right;\">\n",
              "      <th></th>\n",
              "      <th>precision</th>\n",
              "      <th>recall</th>\n",
              "      <th>f1-score</th>\n",
              "      <th>support</th>\n",
              "    </tr>\n",
              "  </thead>\n",
              "  <tbody>\n",
              "    <tr>\n",
              "      <th>Baseline Estimator</th>\n",
              "      <td>0.64</td>\n",
              "      <td>0.50</td>\n",
              "      <td>0.54</td>\n",
              "      <td>24686.0</td>\n",
              "    </tr>\n",
              "    <tr>\n",
              "      <th>Spacy w Movie Embed</th>\n",
              "      <td>0.76</td>\n",
              "      <td>0.70</td>\n",
              "      <td>0.72</td>\n",
              "      <td>24686.0</td>\n",
              "    </tr>\n",
              "    <tr>\n",
              "      <th>BiLSTM + CRF</th>\n",
              "      <td>0.76</td>\n",
              "      <td>0.70</td>\n",
              "      <td>0.72</td>\n",
              "      <td>24686.0</td>\n",
              "    </tr>\n",
              "    <tr>\n",
              "      <th>Spacy Blank</th>\n",
              "      <td>0.79</td>\n",
              "      <td>0.70</td>\n",
              "      <td>0.73</td>\n",
              "      <td>24686.0</td>\n",
              "    </tr>\n",
              "    <tr>\n",
              "      <th>CRF</th>\n",
              "      <td>0.77</td>\n",
              "      <td>0.71</td>\n",
              "      <td>0.73</td>\n",
              "      <td>24686.0</td>\n",
              "    </tr>\n",
              "    <tr>\n",
              "      <th>ELMO embeddings BiLSTM</th>\n",
              "      <td>0.79</td>\n",
              "      <td>0.71</td>\n",
              "      <td>0.74</td>\n",
              "      <td>24686.0</td>\n",
              "    </tr>\n",
              "    <tr>\n",
              "      <th>Spacy w IMDB Embed</th>\n",
              "      <td>0.80</td>\n",
              "      <td>0.72</td>\n",
              "      <td>0.74</td>\n",
              "      <td>24686.0</td>\n",
              "    </tr>\n",
              "    <tr>\n",
              "      <th>DistilBERT Base Uncased</th>\n",
              "      <td>0.79</td>\n",
              "      <td>0.76</td>\n",
              "      <td>0.77</td>\n",
              "      <td>24686.0</td>\n",
              "    </tr>\n",
              "    <tr>\n",
              "      <th>RoBERTa Lg Cased</th>\n",
              "      <td>0.81</td>\n",
              "      <td>0.78</td>\n",
              "      <td>0.79</td>\n",
              "      <td>24686.0</td>\n",
              "    </tr>\n",
              "    <tr>\n",
              "      <th>BERT Lg Uncased</th>\n",
              "      <td>0.84</td>\n",
              "      <td>0.79</td>\n",
              "      <td>0.80</td>\n",
              "      <td>24686.0</td>\n",
              "    </tr>\n",
              "  </tbody>\n",
              "</table>\n",
              "</div>"
            ],
            "text/plain": [
              "                         precision  recall  f1-score  support\n",
              "Baseline Estimator            0.64    0.50      0.54  24686.0\n",
              "Spacy w Movie Embed           0.76    0.70      0.72  24686.0\n",
              "BiLSTM + CRF                  0.76    0.70      0.72  24686.0\n",
              "Spacy Blank                   0.79    0.70      0.73  24686.0\n",
              "CRF                           0.77    0.71      0.73  24686.0\n",
              "ELMO embeddings BiLSTM        0.79    0.71      0.74  24686.0\n",
              "Spacy w IMDB Embed            0.80    0.72      0.74  24686.0\n",
              "DistilBERT Base Uncased       0.79    0.76      0.77  24686.0\n",
              "RoBERTa Lg Cased              0.81    0.78      0.79  24686.0\n",
              "BERT Lg Uncased               0.84    0.79      0.80  24686.0"
            ]
          },
          "metadata": {
            "tags": []
          },
          "execution_count": 18
        }
      ]
    },
    {
      "cell_type": "code",
      "metadata": {
        "id": "g6--nC1q81Cy",
        "colab": {
          "base_uri": "https://localhost:8080/",
          "height": 368
        },
        "outputId": "52d216b6-176e-48c7-a9d1-cf8d09f59ddb"
      },
      "source": [
        "import seaborn as sns\n",
        "sns.set_theme(style=\"whitegrid\")\n",
        "\n",
        "ax = sns.barplot(x=weighted.index, y='f1-score', data=macro)\n",
        "ax.set_ylabel('F1-score')\n",
        "ax.set_xticklabels(macro.index, rotation=45, ha='right');"
      ],
      "execution_count": null,
      "outputs": [
        {
          "output_type": "display_data",
          "data": {
            "image/png": "[encoded data removed]",
            "text/plain": [
              "<Figure size 432x288 with 1 Axes>"
            ]
          },
          "metadata": {
            "tags": []
          }
        }
      ]
    },
    {
      "cell_type": "code",
      "metadata": {
        "id": "j7h78U99BK3-"
      },
      "source": [
        ""
      ],
      "execution_count": null,
      "outputs": []
    }
  ]
}